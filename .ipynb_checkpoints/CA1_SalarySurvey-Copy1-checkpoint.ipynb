{
 "cells": [
  {
   "cell_type": "code",
   "execution_count": 1020,
   "id": "1fd3c5f6-fa75-412b-9634-43cb6a99b929",
   "metadata": {},
   "outputs": [],
   "source": [
    "import pandas as pd\n",
    "import numpy as np\n",
    "import seaborn as sns\n",
    "import matplotlib.pyplot as plt\n",
    "from sklearn.feature_selection import SelectKBest\n",
    "from sklearn.feature_selection import chi2"
   ]
  },
  {
   "cell_type": "code",
   "execution_count": 1021,
   "id": "8023e21c-6f1d-45a9-9f85-38313045f386",
   "metadata": {},
   "outputs": [],
   "source": [
    "df=pd.read_csv('Salary_Survey.csv')"
   ]
  },
  {
   "cell_type": "markdown",
   "id": "83fdc673-288d-4162-a35f-5bef0e4fb875",
   "metadata": {},
   "source": [
    "EDA process"
   ]
  },
  {
   "cell_type": "code",
   "execution_count": 1023,
   "id": "dfb3fc63-adaf-4b43-b049-ec37e8f3a413",
   "metadata": {
    "scrolled": true
   },
   "outputs": [
    {
     "data": {
      "text/html": [
       "<div>\n",
       "<style scoped>\n",
       "    .dataframe tbody tr th:only-of-type {\n",
       "        vertical-align: middle;\n",
       "    }\n",
       "\n",
       "    .dataframe tbody tr th {\n",
       "        vertical-align: top;\n",
       "    }\n",
       "\n",
       "    .dataframe thead th {\n",
       "        text-align: right;\n",
       "    }\n",
       "</style>\n",
       "<table border=\"1\" class=\"dataframe\">\n",
       "  <thead>\n",
       "    <tr style=\"text-align: right;\">\n",
       "      <th></th>\n",
       "      <th>Timestamp</th>\n",
       "      <th>How old are you?</th>\n",
       "      <th>What industry do you work in?</th>\n",
       "      <th>Job title</th>\n",
       "      <th>If your job title needs additional context, please clarify here:</th>\n",
       "      <th>What is your annual salary? (You'll indicate the currency in a later question. If you are part-time or hourly, please enter an annualized equivalent -- what you would earn if you worked the job 40 hours a week, 52 weeks a year.)</th>\n",
       "      <th>How much additional monetary compensation do you get, if any (for example, bonuses or overtime in an average year)? Please only include monetary compensation here, not the value of benefits.</th>\n",
       "      <th>Please indicate the currency</th>\n",
       "      <th>If \"Other,\" please indicate the currency here:</th>\n",
       "      <th>If your income needs additional context, please provide it here:</th>\n",
       "      <th>...</th>\n",
       "      <th>How many years of professional work experience do you have overall?</th>\n",
       "      <th>How many years of professional work experience do you have in your field?</th>\n",
       "      <th>What is your highest level of education completed?</th>\n",
       "      <th>What is your gender?</th>\n",
       "      <th>Unnamed: 17</th>\n",
       "      <th>Unnamed: 18</th>\n",
       "      <th>Unnamed: 19</th>\n",
       "      <th>Unnamed: 20</th>\n",
       "      <th>Unnamed: 21</th>\n",
       "      <th>Unnamed: 22</th>\n",
       "    </tr>\n",
       "  </thead>\n",
       "  <tbody>\n",
       "    <tr>\n",
       "      <th>0</th>\n",
       "      <td>4/27/2021 11:02:10</td>\n",
       "      <td>25-34</td>\n",
       "      <td>Education (Higher Education)</td>\n",
       "      <td>Research and Instruction Librarian</td>\n",
       "      <td>NaN</td>\n",
       "      <td>55,000</td>\n",
       "      <td>0.0</td>\n",
       "      <td>USD</td>\n",
       "      <td>NaN</td>\n",
       "      <td>NaN</td>\n",
       "      <td>...</td>\n",
       "      <td>5-7 years</td>\n",
       "      <td>5-7 years</td>\n",
       "      <td>Master's degree</td>\n",
       "      <td>Woman</td>\n",
       "      <td>NaN</td>\n",
       "      <td>NaN</td>\n",
       "      <td>NaN</td>\n",
       "      <td>NaN</td>\n",
       "      <td>NaN</td>\n",
       "      <td>NaN</td>\n",
       "    </tr>\n",
       "    <tr>\n",
       "      <th>1</th>\n",
       "      <td>4/27/2021 11:02:22</td>\n",
       "      <td>25-34</td>\n",
       "      <td>Computing or Tech</td>\n",
       "      <td>Change &amp; Internal Communications Manager</td>\n",
       "      <td>NaN</td>\n",
       "      <td>54,600</td>\n",
       "      <td>4000.0</td>\n",
       "      <td>GBP</td>\n",
       "      <td>NaN</td>\n",
       "      <td>NaN</td>\n",
       "      <td>...</td>\n",
       "      <td>8 - 10 years</td>\n",
       "      <td>5-7 years</td>\n",
       "      <td>College degree</td>\n",
       "      <td>Non-binary</td>\n",
       "      <td>NaN</td>\n",
       "      <td>NaN</td>\n",
       "      <td>NaN</td>\n",
       "      <td>NaN</td>\n",
       "      <td>NaN</td>\n",
       "      <td>NaN</td>\n",
       "    </tr>\n",
       "    <tr>\n",
       "      <th>2</th>\n",
       "      <td>4/27/2021 11:02:38</td>\n",
       "      <td>25-34</td>\n",
       "      <td>Accounting, Banking &amp; Finance</td>\n",
       "      <td>Marketing Specialist</td>\n",
       "      <td>NaN</td>\n",
       "      <td>34,000</td>\n",
       "      <td>NaN</td>\n",
       "      <td>USD</td>\n",
       "      <td>NaN</td>\n",
       "      <td>NaN</td>\n",
       "      <td>...</td>\n",
       "      <td>2 - 4 years</td>\n",
       "      <td>2 - 4 years</td>\n",
       "      <td>College degree</td>\n",
       "      <td>Woman</td>\n",
       "      <td>NaN</td>\n",
       "      <td>NaN</td>\n",
       "      <td>NaN</td>\n",
       "      <td>NaN</td>\n",
       "      <td>NaN</td>\n",
       "      <td>NaN</td>\n",
       "    </tr>\n",
       "    <tr>\n",
       "      <th>3</th>\n",
       "      <td>4/27/2021 11:02:41</td>\n",
       "      <td>25-34</td>\n",
       "      <td>Nonprofits</td>\n",
       "      <td>Program Manager</td>\n",
       "      <td>NaN</td>\n",
       "      <td>62,000</td>\n",
       "      <td>3000.0</td>\n",
       "      <td>USD</td>\n",
       "      <td>NaN</td>\n",
       "      <td>NaN</td>\n",
       "      <td>...</td>\n",
       "      <td>8 - 10 years</td>\n",
       "      <td>5-7 years</td>\n",
       "      <td>College degree</td>\n",
       "      <td>Woman</td>\n",
       "      <td>NaN</td>\n",
       "      <td>NaN</td>\n",
       "      <td>NaN</td>\n",
       "      <td>NaN</td>\n",
       "      <td>NaN</td>\n",
       "      <td>NaN</td>\n",
       "    </tr>\n",
       "    <tr>\n",
       "      <th>4</th>\n",
       "      <td>4/27/2021 11:02:42</td>\n",
       "      <td>25-34</td>\n",
       "      <td>Accounting, Banking &amp; Finance</td>\n",
       "      <td>Accounting Manager</td>\n",
       "      <td>NaN</td>\n",
       "      <td>60,000</td>\n",
       "      <td>7000.0</td>\n",
       "      <td>USD</td>\n",
       "      <td>NaN</td>\n",
       "      <td>NaN</td>\n",
       "      <td>...</td>\n",
       "      <td>8 - 10 years</td>\n",
       "      <td>5-7 years</td>\n",
       "      <td>College degree</td>\n",
       "      <td>Woman</td>\n",
       "      <td>NaN</td>\n",
       "      <td>NaN</td>\n",
       "      <td>NaN</td>\n",
       "      <td>NaN</td>\n",
       "      <td>NaN</td>\n",
       "      <td>NaN</td>\n",
       "    </tr>\n",
       "  </tbody>\n",
       "</table>\n",
       "<p>5 rows × 23 columns</p>\n",
       "</div>"
      ],
      "text/plain": [
       "            Timestamp How old are you?  What industry do you work in?  \\\n",
       "0  4/27/2021 11:02:10            25-34   Education (Higher Education)   \n",
       "1  4/27/2021 11:02:22            25-34              Computing or Tech   \n",
       "2  4/27/2021 11:02:38            25-34  Accounting, Banking & Finance   \n",
       "3  4/27/2021 11:02:41            25-34                     Nonprofits   \n",
       "4  4/27/2021 11:02:42            25-34  Accounting, Banking & Finance   \n",
       "\n",
       "                                  Job title  \\\n",
       "0        Research and Instruction Librarian   \n",
       "1  Change & Internal Communications Manager   \n",
       "2                      Marketing Specialist   \n",
       "3                           Program Manager   \n",
       "4                        Accounting Manager   \n",
       "\n",
       "  If your job title needs additional context, please clarify here:  \\\n",
       "0                                                NaN                 \n",
       "1                                                NaN                 \n",
       "2                                                NaN                 \n",
       "3                                                NaN                 \n",
       "4                                                NaN                 \n",
       "\n",
       "  What is your annual salary? (You'll indicate the currency in a later question. If you are part-time or hourly, please enter an annualized equivalent -- what you would earn if you worked the job 40 hours a week, 52 weeks a year.)  \\\n",
       "0                                             55,000                                                                                                                                                                                     \n",
       "1                                             54,600                                                                                                                                                                                     \n",
       "2                                             34,000                                                                                                                                                                                     \n",
       "3                                             62,000                                                                                                                                                                                     \n",
       "4                                             60,000                                                                                                                                                                                     \n",
       "\n",
       "   How much additional monetary compensation do you get, if any (for example, bonuses or overtime in an average year)? Please only include monetary compensation here, not the value of benefits.  \\\n",
       "0                                                0.0                                                                                                                                                \n",
       "1                                             4000.0                                                                                                                                                \n",
       "2                                                NaN                                                                                                                                                \n",
       "3                                             3000.0                                                                                                                                                \n",
       "4                                             7000.0                                                                                                                                                \n",
       "\n",
       "  Please indicate the currency  \\\n",
       "0                          USD   \n",
       "1                          GBP   \n",
       "2                          USD   \n",
       "3                          USD   \n",
       "4                          USD   \n",
       "\n",
       "  If \"Other,\" please indicate the currency here:   \\\n",
       "0                                             NaN   \n",
       "1                                             NaN   \n",
       "2                                             NaN   \n",
       "3                                             NaN   \n",
       "4                                             NaN   \n",
       "\n",
       "  If your income needs additional context, please provide it here:  ...  \\\n",
       "0                                                NaN                ...   \n",
       "1                                                NaN                ...   \n",
       "2                                                NaN                ...   \n",
       "3                                                NaN                ...   \n",
       "4                                                NaN                ...   \n",
       "\n",
       "  How many years of professional work experience do you have overall?  \\\n",
       "0                                          5-7 years                    \n",
       "1                                       8 - 10 years                    \n",
       "2                                        2 - 4 years                    \n",
       "3                                       8 - 10 years                    \n",
       "4                                       8 - 10 years                    \n",
       "\n",
       "  How many years of professional work experience do you have in your field?  \\\n",
       "0                                          5-7 years                          \n",
       "1                                          5-7 years                          \n",
       "2                                        2 - 4 years                          \n",
       "3                                          5-7 years                          \n",
       "4                                          5-7 years                          \n",
       "\n",
       "  What is your highest level of education completed? What is your gender?  \\\n",
       "0                                    Master's degree                Woman   \n",
       "1                                     College degree           Non-binary   \n",
       "2                                     College degree                Woman   \n",
       "3                                     College degree                Woman   \n",
       "4                                     College degree                Woman   \n",
       "\n",
       "  Unnamed: 17 Unnamed: 18 Unnamed: 19  Unnamed: 20  Unnamed: 21  Unnamed: 22  \n",
       "0         NaN         NaN         NaN          NaN          NaN          NaN  \n",
       "1         NaN         NaN         NaN          NaN          NaN          NaN  \n",
       "2         NaN         NaN         NaN          NaN          NaN          NaN  \n",
       "3         NaN         NaN         NaN          NaN          NaN          NaN  \n",
       "4         NaN         NaN         NaN          NaN          NaN          NaN  \n",
       "\n",
       "[5 rows x 23 columns]"
      ]
     },
     "execution_count": 1023,
     "metadata": {},
     "output_type": "execute_result"
    }
   ],
   "source": [
    "df.head()"
   ]
  },
  {
   "cell_type": "code",
   "execution_count": 1024,
   "id": "7d9e0876-be7b-4361-84d8-b8d4ab2b5c33",
   "metadata": {
    "scrolled": true
   },
   "outputs": [
    {
     "name": "stdout",
     "output_type": "stream",
     "text": [
      "<class 'pandas.core.frame.DataFrame'>\n",
      "RangeIndex: 28178 entries, 0 to 28177\n",
      "Data columns (total 23 columns):\n",
      " #   Column                                                                                                                                                                                                                                Non-Null Count  Dtype  \n",
      "---  ------                                                                                                                                                                                                                                --------------  -----  \n",
      " 0   Timestamp                                                                                                                                                                                                                             28085 non-null  object \n",
      " 1   How old are you?                                                                                                                                                                                                                      28085 non-null  object \n",
      " 2   What industry do you work in?                                                                                                                                                                                                         28011 non-null  object \n",
      " 3   Job title                                                                                                                                                                                                                             28084 non-null  object \n",
      " 4   If your job title needs additional context, please clarify here:                                                                                                                                                                      7267 non-null   object \n",
      " 5   What is your annual salary? (You'll indicate the currency in a later question. If you are part-time or hourly, please enter an annualized equivalent -- what you would earn if you worked the job 40 hours a week, 52 weeks a year.)  28085 non-null  object \n",
      " 6   How much additional monetary compensation do you get, if any (for example, bonuses or overtime in an average year)? Please only include monetary compensation here, not the value of benefits.                                        20780 non-null  float64\n",
      " 7   Please indicate the currency                                                                                                                                                                                                          28085 non-null  object \n",
      " 8   If \"Other,\" please indicate the currency here:                                                                                                                                                                                        207 non-null    object \n",
      " 9   If your income needs additional context, please provide it here:                                                                                                                                                                      3044 non-null   object \n",
      " 10  What country do you work in?                                                                                                                                                                                                          28085 non-null  object \n",
      " 11  If you're in the U.S., what state do you work in?                                                                                                                                                                                     23059 non-null  object \n",
      " 12  What city do you work in?                                                                                                                                                                                                             28003 non-null  object \n",
      " 13  How many years of professional work experience do you have overall?                                                                                                                                                                   28085 non-null  object \n",
      " 14  How many years of professional work experience do you have in your field?                                                                                                                                                             28085 non-null  object \n",
      " 15  What is your highest level of education completed?                                                                                                                                                                                    27863 non-null  object \n",
      " 16  What is your gender?                                                                                                                                                                                                                  27914 non-null  object \n",
      " 17  Unnamed: 17                                                                                                                                                                                                                           0 non-null      float64\n",
      " 18  Unnamed: 18                                                                                                                                                                                                                           0 non-null      float64\n",
      " 19  Unnamed: 19                                                                                                                                                                                                                           0 non-null      float64\n",
      " 20  Unnamed: 20                                                                                                                                                                                                                           0 non-null      float64\n",
      " 21  Unnamed: 21                                                                                                                                                                                                                           0 non-null      float64\n",
      " 22  Unnamed: 22                                                                                                                                                                                                                           0 non-null      float64\n",
      "dtypes: float64(7), object(16)\n",
      "memory usage: 4.9+ MB\n"
     ]
    }
   ],
   "source": [
    "df.info()"
   ]
  },
  {
   "cell_type": "code",
   "execution_count": 1025,
   "id": "4b63d972-3e5c-4709-a7de-36ae2cb7161e",
   "metadata": {},
   "outputs": [],
   "source": [
    "# Dropping the features with no values\n",
    "df=df.drop(columns=['Timestamp', 'Unnamed: 17', 'Unnamed: 18', 'Unnamed: 19', 'Unnamed: 20', 'Unnamed: 21', 'Unnamed: 22'])"
   ]
  },
  {
   "cell_type": "code",
   "execution_count": 1026,
   "id": "03dcf8a0-ca77-4429-9ca2-93be51ed0c38",
   "metadata": {},
   "outputs": [],
   "source": [
    "# Dropping oservations with no values\n",
    "df.dropna(axis=0, how='all', inplace=True)"
   ]
  },
  {
   "cell_type": "code",
   "execution_count": 1027,
   "id": "0ae91192-d394-495f-a4e4-f05b6426b32b",
   "metadata": {},
   "outputs": [],
   "source": [
    "# Simplifying features names\n",
    "df.columns = ['Age','Industry','Job_title','Additional_job_details','Annual_salary','Monetary_compensation','Currency','Other_Currency','Additional_income_details','Country_of_work','U.S._state_of_work','City_of_work','Years_of_experience','Years_of_experience_in_your_field','Level_of_education','Gender']"
   ]
  },
  {
   "cell_type": "code",
   "execution_count": 1028,
   "id": "0f6f95b2-f867-406d-9991-c43c95e79432",
   "metadata": {},
   "outputs": [
    {
     "data": {
      "text/html": [
       "<div>\n",
       "<style scoped>\n",
       "    .dataframe tbody tr th:only-of-type {\n",
       "        vertical-align: middle;\n",
       "    }\n",
       "\n",
       "    .dataframe tbody tr th {\n",
       "        vertical-align: top;\n",
       "    }\n",
       "\n",
       "    .dataframe thead th {\n",
       "        text-align: right;\n",
       "    }\n",
       "</style>\n",
       "<table border=\"1\" class=\"dataframe\">\n",
       "  <thead>\n",
       "    <tr style=\"text-align: right;\">\n",
       "      <th></th>\n",
       "      <th>Age</th>\n",
       "      <th>Industry</th>\n",
       "      <th>Job_title</th>\n",
       "      <th>Additional_job_details</th>\n",
       "      <th>Annual_salary</th>\n",
       "      <th>Monetary_compensation</th>\n",
       "      <th>Currency</th>\n",
       "      <th>Other_Currency</th>\n",
       "      <th>Additional_income_details</th>\n",
       "      <th>Country_of_work</th>\n",
       "      <th>U.S._state_of_work</th>\n",
       "      <th>City_of_work</th>\n",
       "      <th>Years_of_experience</th>\n",
       "      <th>Years_of_experience_in_your_field</th>\n",
       "      <th>Level_of_education</th>\n",
       "      <th>Gender</th>\n",
       "    </tr>\n",
       "  </thead>\n",
       "  <tbody>\n",
       "    <tr>\n",
       "      <th>0</th>\n",
       "      <td>25-34</td>\n",
       "      <td>Education (Higher Education)</td>\n",
       "      <td>Research and Instruction Librarian</td>\n",
       "      <td>NaN</td>\n",
       "      <td>55,000</td>\n",
       "      <td>0.0</td>\n",
       "      <td>USD</td>\n",
       "      <td>NaN</td>\n",
       "      <td>NaN</td>\n",
       "      <td>United States</td>\n",
       "      <td>Massachusetts</td>\n",
       "      <td>Boston</td>\n",
       "      <td>5-7 years</td>\n",
       "      <td>5-7 years</td>\n",
       "      <td>Master's degree</td>\n",
       "      <td>Woman</td>\n",
       "    </tr>\n",
       "    <tr>\n",
       "      <th>1</th>\n",
       "      <td>25-34</td>\n",
       "      <td>Computing or Tech</td>\n",
       "      <td>Change &amp; Internal Communications Manager</td>\n",
       "      <td>NaN</td>\n",
       "      <td>54,600</td>\n",
       "      <td>4000.0</td>\n",
       "      <td>GBP</td>\n",
       "      <td>NaN</td>\n",
       "      <td>NaN</td>\n",
       "      <td>United Kingdom</td>\n",
       "      <td>NaN</td>\n",
       "      <td>Cambridge</td>\n",
       "      <td>8 - 10 years</td>\n",
       "      <td>5-7 years</td>\n",
       "      <td>College degree</td>\n",
       "      <td>Non-binary</td>\n",
       "    </tr>\n",
       "    <tr>\n",
       "      <th>2</th>\n",
       "      <td>25-34</td>\n",
       "      <td>Accounting, Banking &amp; Finance</td>\n",
       "      <td>Marketing Specialist</td>\n",
       "      <td>NaN</td>\n",
       "      <td>34,000</td>\n",
       "      <td>NaN</td>\n",
       "      <td>USD</td>\n",
       "      <td>NaN</td>\n",
       "      <td>NaN</td>\n",
       "      <td>US</td>\n",
       "      <td>Tennessee</td>\n",
       "      <td>Chattanooga</td>\n",
       "      <td>2 - 4 years</td>\n",
       "      <td>2 - 4 years</td>\n",
       "      <td>College degree</td>\n",
       "      <td>Woman</td>\n",
       "    </tr>\n",
       "    <tr>\n",
       "      <th>3</th>\n",
       "      <td>25-34</td>\n",
       "      <td>Nonprofits</td>\n",
       "      <td>Program Manager</td>\n",
       "      <td>NaN</td>\n",
       "      <td>62,000</td>\n",
       "      <td>3000.0</td>\n",
       "      <td>USD</td>\n",
       "      <td>NaN</td>\n",
       "      <td>NaN</td>\n",
       "      <td>USA</td>\n",
       "      <td>Wisconsin</td>\n",
       "      <td>Milwaukee</td>\n",
       "      <td>8 - 10 years</td>\n",
       "      <td>5-7 years</td>\n",
       "      <td>College degree</td>\n",
       "      <td>Woman</td>\n",
       "    </tr>\n",
       "    <tr>\n",
       "      <th>4</th>\n",
       "      <td>25-34</td>\n",
       "      <td>Accounting, Banking &amp; Finance</td>\n",
       "      <td>Accounting Manager</td>\n",
       "      <td>NaN</td>\n",
       "      <td>60,000</td>\n",
       "      <td>7000.0</td>\n",
       "      <td>USD</td>\n",
       "      <td>NaN</td>\n",
       "      <td>NaN</td>\n",
       "      <td>US</td>\n",
       "      <td>South Carolina</td>\n",
       "      <td>Greenville</td>\n",
       "      <td>8 - 10 years</td>\n",
       "      <td>5-7 years</td>\n",
       "      <td>College degree</td>\n",
       "      <td>Woman</td>\n",
       "    </tr>\n",
       "  </tbody>\n",
       "</table>\n",
       "</div>"
      ],
      "text/plain": [
       "     Age                       Industry  \\\n",
       "0  25-34   Education (Higher Education)   \n",
       "1  25-34              Computing or Tech   \n",
       "2  25-34  Accounting, Banking & Finance   \n",
       "3  25-34                     Nonprofits   \n",
       "4  25-34  Accounting, Banking & Finance   \n",
       "\n",
       "                                  Job_title Additional_job_details  \\\n",
       "0        Research and Instruction Librarian                    NaN   \n",
       "1  Change & Internal Communications Manager                    NaN   \n",
       "2                      Marketing Specialist                    NaN   \n",
       "3                           Program Manager                    NaN   \n",
       "4                        Accounting Manager                    NaN   \n",
       "\n",
       "  Annual_salary  Monetary_compensation Currency Other_Currency  \\\n",
       "0        55,000                    0.0      USD            NaN   \n",
       "1        54,600                 4000.0      GBP            NaN   \n",
       "2        34,000                    NaN      USD            NaN   \n",
       "3        62,000                 3000.0      USD            NaN   \n",
       "4        60,000                 7000.0      USD            NaN   \n",
       "\n",
       "  Additional_income_details Country_of_work U.S._state_of_work City_of_work  \\\n",
       "0                       NaN   United States      Massachusetts       Boston   \n",
       "1                       NaN  United Kingdom                NaN    Cambridge   \n",
       "2                       NaN              US          Tennessee  Chattanooga   \n",
       "3                       NaN             USA          Wisconsin    Milwaukee   \n",
       "4                       NaN              US     South Carolina   Greenville   \n",
       "\n",
       "  Years_of_experience Years_of_experience_in_your_field Level_of_education  \\\n",
       "0           5-7 years                         5-7 years    Master's degree   \n",
       "1        8 - 10 years                         5-7 years     College degree   \n",
       "2         2 - 4 years                       2 - 4 years     College degree   \n",
       "3        8 - 10 years                         5-7 years     College degree   \n",
       "4        8 - 10 years                         5-7 years     College degree   \n",
       "\n",
       "       Gender  \n",
       "0       Woman  \n",
       "1  Non-binary  \n",
       "2       Woman  \n",
       "3       Woman  \n",
       "4       Woman  "
      ]
     },
     "execution_count": 1028,
     "metadata": {},
     "output_type": "execute_result"
    }
   ],
   "source": [
    "df.head()"
   ]
  },
  {
   "cell_type": "code",
   "execution_count": 1029,
   "id": "ef15156b-be7a-49bb-a563-e222073e3db8",
   "metadata": {
    "scrolled": true
   },
   "outputs": [
    {
     "name": "stdout",
     "output_type": "stream",
     "text": [
      "<class 'pandas.core.frame.DataFrame'>\n",
      "Index: 28085 entries, 0 to 28084\n",
      "Data columns (total 16 columns):\n",
      " #   Column                             Non-Null Count  Dtype  \n",
      "---  ------                             --------------  -----  \n",
      " 0   Age                                28085 non-null  object \n",
      " 1   Industry                           28011 non-null  object \n",
      " 2   Job_title                          28084 non-null  object \n",
      " 3   Additional_job_details             7267 non-null   object \n",
      " 4   Annual_salary                      28085 non-null  object \n",
      " 5   Monetary_compensation              20780 non-null  float64\n",
      " 6   Currency                           28085 non-null  object \n",
      " 7   Other_Currency                     207 non-null    object \n",
      " 8   Additional_income_details          3044 non-null   object \n",
      " 9   Country_of_work                    28085 non-null  object \n",
      " 10  U.S._state_of_work                 23059 non-null  object \n",
      " 11  City_of_work                       28003 non-null  object \n",
      " 12  Years_of_experience                28085 non-null  object \n",
      " 13  Years_of_experience_in_your_field  28085 non-null  object \n",
      " 14  Level_of_education                 27863 non-null  object \n",
      " 15  Gender                             27914 non-null  object \n",
      "dtypes: float64(1), object(15)\n",
      "memory usage: 3.6+ MB\n"
     ]
    }
   ],
   "source": [
    "df.info()"
   ]
  },
  {
   "cell_type": "code",
   "execution_count": 1030,
   "id": "32c07a0a-f76d-4d75-944f-aebfc854129e",
   "metadata": {},
   "outputs": [],
   "source": [
    "# Dropping features with no relevant data to my final analysis\n",
    "reduced_df = df.drop(columns=['Additional_job_details', 'Monetary_compensation', 'Other_Currency', 'Additional_income_details', 'U.S._state_of_work', 'City_of_work'])"
   ]
  },
  {
   "cell_type": "code",
   "execution_count": 1031,
   "id": "915c3f95-5846-4eaa-967e-7a2643c75aca",
   "metadata": {
    "scrolled": true
   },
   "outputs": [
    {
     "data": {
      "text/plain": [
       "Age                                    0\n",
       "Industry                              74\n",
       "Job_title                              1\n",
       "Annual_salary                          0\n",
       "Currency                               0\n",
       "Country_of_work                        0\n",
       "Years_of_experience                    0\n",
       "Years_of_experience_in_your_field      0\n",
       "Level_of_education                   222\n",
       "Gender                               171\n",
       "dtype: int64"
      ]
     },
     "execution_count": 1031,
     "metadata": {},
     "output_type": "execute_result"
    }
   ],
   "source": [
    "# Count of the missing values\n",
    "reduced_df.isnull().sum()"
   ]
  },
  {
   "cell_type": "markdown",
   "id": "b13292bd-17e0-4947-b5ed-5ec50e4b2326",
   "metadata": {},
   "source": [
    "CLEANING THE DATA"
   ]
  },
  {
   "cell_type": "code",
   "execution_count": 1033,
   "id": "cc03ccd0-03f6-478b-a680-cb7f343c3562",
   "metadata": {},
   "outputs": [
    {
     "data": {
      "text/plain": [
       "Age                                  object\n",
       "Industry                             object\n",
       "Job_title                            object\n",
       "Annual_salary                        object\n",
       "Currency                             object\n",
       "Country_of_work                      object\n",
       "Years_of_experience                  object\n",
       "Years_of_experience_in_your_field    object\n",
       "Level_of_education                   object\n",
       "Gender                               object\n",
       "dtype: object"
      ]
     },
     "execution_count": 1033,
     "metadata": {},
     "output_type": "execute_result"
    }
   ],
   "source": [
    "# Checking data types\n",
    "# Object is categorical data and some features in this dataset should be numerical data\n",
    "reduced_df.dtypes"
   ]
  },
  {
   "cell_type": "code",
   "execution_count": 1034,
   "id": "478dd991-7c03-4233-ae59-42c55ebfbd0e",
   "metadata": {},
   "outputs": [
    {
     "data": {
      "text/plain": [
       "array(['25-34', '45-54', '35-44', '18-24', '65 or over', '55-64',\n",
       "       'under 18'], dtype=object)"
      ]
     },
     "execution_count": 1034,
     "metadata": {},
     "output_type": "execute_result"
    }
   ],
   "source": [
    "# Checking for malformed values in all of the features\n",
    "reduced_df[\"Age\"].unique()"
   ]
  },
  {
   "cell_type": "code",
   "execution_count": 1035,
   "id": "88b143a0-fe2d-489e-8b3a-21e0ab239fd5",
   "metadata": {},
   "outputs": [],
   "source": [
    "# Mapping age groups as midpoint numerical values\n",
    "# Reference; Geeksforgeeks, https://www.geeksforgeeks.org/using-dictionary-to-remap-values-in-pandas-dataframe-columns/\n",
    "age_category_mapping = {\n",
    "    \"under 18\": 17,\n",
    "    \"18-24\": 21,\n",
    "    \"25-34\": 29,\n",
    "    \"35-44\": 39,\n",
    "    \"45-54\": 49,\n",
    "    \"55-64\": 59,\n",
    "    \"65+\": 65\n",
    "}"
   ]
  },
  {
   "cell_type": "code",
   "execution_count": 1036,
   "id": "79899dbd-031e-47ad-a8c4-0ca93c528b11",
   "metadata": {},
   "outputs": [],
   "source": [
    "reduced_df[\"Average_age\"] = reduced_df[\"Age\"].map(age_category_mapping)"
   ]
  },
  {
   "cell_type": "code",
   "execution_count": 1037,
   "id": "f9a6baac-cd4f-4b41-bd41-5ff06ac83f2a",
   "metadata": {},
   "outputs": [],
   "source": [
    "reduced_df.drop(columns=[\"Age\"], inplace=True)"
   ]
  },
  {
   "cell_type": "code",
   "execution_count": 1038,
   "id": "e20666cb-a24d-48e8-9518-910cbce46c27",
   "metadata": {
    "scrolled": true
   },
   "outputs": [
    {
     "name": "stdout",
     "output_type": "stream",
     "text": [
      "                                   Industry  \\\n",
      "0              Education (Higher Education)   \n",
      "1                         Computing or Tech   \n",
      "2             Accounting, Banking & Finance   \n",
      "3                                Nonprofits   \n",
      "4             Accounting, Banking & Finance   \n",
      "...                                     ...   \n",
      "28080         Accounting, Banking & Finance   \n",
      "28081         Education (Primary/Secondary)   \n",
      "28082  Government and Public Administration   \n",
      "28083                     Computing or Tech   \n",
      "28084                       Social networks   \n",
      "\n",
      "                                      Job_title Annual_salary Currency  \\\n",
      "0            Research and Instruction Librarian        55,000      USD   \n",
      "1      Change & Internal Communications Manager        54,600      GBP   \n",
      "2                          Marketing Specialist        34,000      USD   \n",
      "3                               Program Manager        62,000      USD   \n",
      "4                            Accounting Manager        60,000      USD   \n",
      "...                                         ...           ...      ...   \n",
      "28080                      Product Manager Lead        117000      USD   \n",
      "28081                         Curriculum Writer         70000      USD   \n",
      "28082                          Clerical Officer         28600      EUR   \n",
      "28083                Software Engineering Co-Op         56160      USD   \n",
      "28084                           Content creator       2000000      USD   \n",
      "\n",
      "      Country_of_work Years_of_experience Years_of_experience_in_your_field  \\\n",
      "0       United States           5-7 years                         5-7 years   \n",
      "1      United Kingdom        8 - 10 years                         5-7 years   \n",
      "2                  US         2 - 4 years                       2 - 4 years   \n",
      "3                 USA        8 - 10 years                         5-7 years   \n",
      "4                  US        8 - 10 years                         5-7 years   \n",
      "...               ...                 ...                               ...   \n",
      "28080             USA       11 - 20 years                     11 - 20 years   \n",
      "28081   United States       21 - 30 years                     21 - 30 years   \n",
      "28082         Ireland       21 - 30 years                    1 year or less   \n",
      "28083   United States      1 year or less                    1 year or less   \n",
      "28084          Taiwan    41 years or more                       2 - 4 years   \n",
      "\n",
      "                       Level_of_education      Gender  Average_age  \n",
      "0                         Master's degree       Woman         29.0  \n",
      "1                          College degree  Non-binary         29.0  \n",
      "2                          College degree       Woman         29.0  \n",
      "3                          College degree       Woman         29.0  \n",
      "4                          College degree       Woman         29.0  \n",
      "...                                   ...         ...          ...  \n",
      "28080                      College degree       Woman         49.0  \n",
      "28081                     Master's degree       Woman         49.0  \n",
      "28082  Professional degree (MD, JD, etc.)         Man         59.0  \n",
      "28083                      College degree         Man         21.0  \n",
      "28084                                 PhD  Non-binary          NaN  \n",
      "\n",
      "[28085 rows x 10 columns]\n"
     ]
    }
   ],
   "source": [
    "print(reduced_df)"
   ]
  },
  {
   "cell_type": "code",
   "execution_count": 1039,
   "id": "9754efb1-1e5c-4506-b0f4-5ccf898e8432",
   "metadata": {},
   "outputs": [
    {
     "data": {
      "text/plain": [
       "Industry                              object\n",
       "Job_title                             object\n",
       "Annual_salary                         object\n",
       "Currency                              object\n",
       "Country_of_work                       object\n",
       "Years_of_experience                   object\n",
       "Years_of_experience_in_your_field     object\n",
       "Level_of_education                    object\n",
       "Gender                                object\n",
       "Average_age                          float64\n",
       "dtype: object"
      ]
     },
     "execution_count": 1039,
     "metadata": {},
     "output_type": "execute_result"
    }
   ],
   "source": [
    "reduced_df.dtypes"
   ]
  },
  {
   "cell_type": "code",
   "execution_count": 1040,
   "id": "7940fd5f-d121-44d9-9b8c-90a43b5ecc42",
   "metadata": {},
   "outputs": [
    {
     "data": {
      "text/plain": [
       "array(['Woman', 'Non-binary', 'Man', nan, 'Other or prefer not to answer',\n",
       "       'Prefer not to answer'], dtype=object)"
      ]
     },
     "execution_count": 1040,
     "metadata": {},
     "output_type": "execute_result"
    }
   ],
   "source": [
    "reduced_df[\"Gender\"].unique()"
   ]
  },
  {
   "cell_type": "code",
   "execution_count": 1041,
   "id": "9cc333a5-671f-447b-8695-1f1015b7cff1",
   "metadata": {},
   "outputs": [],
   "source": [
    "# Mapping other important features like Gender to get cleaner data for final analysis\n",
    "gender_category_mapping = {\n",
    "    \"Man\": \"Male\",\n",
    "    \"Woman\": \"Female\",\n",
    "    \"Other or prefer not to answer\": \"Prefer not to answer\",\n",
    "    \"Non-binary\": \"Non-binary\",\n",
    "}"
   ]
  },
  {
   "cell_type": "code",
   "execution_count": 1042,
   "id": "46baeb15-7d00-4c30-8ed0-d0dd3bc2a64e",
   "metadata": {},
   "outputs": [],
   "source": [
    "reduced_df[\"Gender_category\"] = reduced_df[\"Gender\"].map(gender_category_mapping)"
   ]
  },
  {
   "cell_type": "code",
   "execution_count": 1043,
   "id": "05e93e01-72b8-49c9-b50e-36dc99354781",
   "metadata": {},
   "outputs": [],
   "source": [
    "reduced_df.drop(columns=[\"Gender\"], inplace=True)"
   ]
  },
  {
   "cell_type": "code",
   "execution_count": 1044,
   "id": "369caeb7-238b-40db-9d85-896cb95663d1",
   "metadata": {
    "scrolled": true
   },
   "outputs": [
    {
     "name": "stdout",
     "output_type": "stream",
     "text": [
      "                                   Industry  \\\n",
      "0              Education (Higher Education)   \n",
      "1                         Computing or Tech   \n",
      "2             Accounting, Banking & Finance   \n",
      "3                                Nonprofits   \n",
      "4             Accounting, Banking & Finance   \n",
      "...                                     ...   \n",
      "28080         Accounting, Banking & Finance   \n",
      "28081         Education (Primary/Secondary)   \n",
      "28082  Government and Public Administration   \n",
      "28083                     Computing or Tech   \n",
      "28084                       Social networks   \n",
      "\n",
      "                                      Job_title Annual_salary Currency  \\\n",
      "0            Research and Instruction Librarian        55,000      USD   \n",
      "1      Change & Internal Communications Manager        54,600      GBP   \n",
      "2                          Marketing Specialist        34,000      USD   \n",
      "3                               Program Manager        62,000      USD   \n",
      "4                            Accounting Manager        60,000      USD   \n",
      "...                                         ...           ...      ...   \n",
      "28080                      Product Manager Lead        117000      USD   \n",
      "28081                         Curriculum Writer         70000      USD   \n",
      "28082                          Clerical Officer         28600      EUR   \n",
      "28083                Software Engineering Co-Op         56160      USD   \n",
      "28084                           Content creator       2000000      USD   \n",
      "\n",
      "      Country_of_work Years_of_experience Years_of_experience_in_your_field  \\\n",
      "0       United States           5-7 years                         5-7 years   \n",
      "1      United Kingdom        8 - 10 years                         5-7 years   \n",
      "2                  US         2 - 4 years                       2 - 4 years   \n",
      "3                 USA        8 - 10 years                         5-7 years   \n",
      "4                  US        8 - 10 years                         5-7 years   \n",
      "...               ...                 ...                               ...   \n",
      "28080             USA       11 - 20 years                     11 - 20 years   \n",
      "28081   United States       21 - 30 years                     21 - 30 years   \n",
      "28082         Ireland       21 - 30 years                    1 year or less   \n",
      "28083   United States      1 year or less                    1 year or less   \n",
      "28084          Taiwan    41 years or more                       2 - 4 years   \n",
      "\n",
      "                       Level_of_education  Average_age Gender_category  \n",
      "0                         Master's degree         29.0          Female  \n",
      "1                          College degree         29.0      Non-binary  \n",
      "2                          College degree         29.0          Female  \n",
      "3                          College degree         29.0          Female  \n",
      "4                          College degree         29.0          Female  \n",
      "...                                   ...          ...             ...  \n",
      "28080                      College degree         49.0          Female  \n",
      "28081                     Master's degree         49.0          Female  \n",
      "28082  Professional degree (MD, JD, etc.)         59.0            Male  \n",
      "28083                      College degree         21.0            Male  \n",
      "28084                                 PhD          NaN      Non-binary  \n",
      "\n",
      "[28085 rows x 10 columns]\n"
     ]
    }
   ],
   "source": [
    "print(reduced_df)"
   ]
  },
  {
   "cell_type": "code",
   "execution_count": 1045,
   "id": "45818a08-06f1-4f56-a6ff-a5ceaf94b987",
   "metadata": {},
   "outputs": [
    {
     "data": {
      "text/plain": [
       "array(['Education (Higher Education)', 'Computing or Tech',\n",
       "       'Accounting, Banking & Finance', ..., 'Student ', 'Wine & Spirits',\n",
       "       'Social networks'], dtype=object)"
      ]
     },
     "execution_count": 1045,
     "metadata": {},
     "output_type": "execute_result"
    }
   ],
   "source": [
    "reduced_df[\"Industry\"].unique()"
   ]
  },
  {
   "cell_type": "code",
   "execution_count": 1046,
   "id": "c457229c-0ee0-4f94-bb2d-cefeda88b862",
   "metadata": {},
   "outputs": [
    {
     "data": {
      "text/plain": [
       "array(['Research and Instruction Librarian',\n",
       "       'Change & Internal Communications Manager', 'Marketing Specialist',\n",
       "       ..., 'Curriculum Writer', 'Software Engineering Co-Op',\n",
       "       'Content creator'], dtype=object)"
      ]
     },
     "execution_count": 1046,
     "metadata": {},
     "output_type": "execute_result"
    }
   ],
   "source": [
    "reduced_df[\"Job_title\"].unique()"
   ]
  },
  {
   "cell_type": "code",
   "execution_count": 1047,
   "id": "e1dfa06b-4a16-4350-b2b9-bd53408f5cbf",
   "metadata": {},
   "outputs": [
    {
     "data": {
      "text/plain": [
       "array(['55,000', '54,600', '34,000', ..., '7000', '37741', '53060'],\n",
       "      dtype=object)"
      ]
     },
     "execution_count": 1047,
     "metadata": {},
     "output_type": "execute_result"
    }
   ],
   "source": [
    "reduced_df[\"Annual_salary\"].unique()"
   ]
  },
  {
   "cell_type": "code",
   "execution_count": 1048,
   "id": "65a6ce13-42c1-46b4-9794-d2aadaa7bc99",
   "metadata": {},
   "outputs": [
    {
     "data": {
      "text/plain": [
       "array(['USD', 'GBP', 'CAD', 'EUR', 'AUD/NZD', 'Other', 'CHF', 'ZAR',\n",
       "       'SEK', 'HKD', 'JPY'], dtype=object)"
      ]
     },
     "execution_count": 1048,
     "metadata": {},
     "output_type": "execute_result"
    }
   ],
   "source": [
    "reduced_df[\"Currency\"].unique()"
   ]
  },
  {
   "cell_type": "code",
   "execution_count": 1049,
   "id": "9287c38c-211c-4de7-b9ae-f40c46fa2bfe",
   "metadata": {
    "scrolled": true
   },
   "outputs": [
    {
     "data": {
      "text/plain": [
       "array(['United States', 'United Kingdom', 'US', 'USA', 'Canada',\n",
       "       'United Kingdom ', 'usa', 'UK', 'Scotland ', 'U.S.',\n",
       "       'United States ', 'The Netherlands', 'Australia ', 'Spain', 'us',\n",
       "       'Usa', 'England', 'finland', 'United States of America', 'France',\n",
       "       'United states', 'Scotland', 'USA ', 'United states ', 'Germany',\n",
       "       'UK ', 'united states', 'Ireland', 'India', 'Australia', 'Uk',\n",
       "       'United States of America ', 'U.S. ', 'canada', 'Canada ', 'U.S>',\n",
       "       'ISA', 'Argentina', 'Great Britain ', 'US ', 'United State',\n",
       "       'U.S.A', 'Denmark', 'U.S.A.', 'America', 'Netherlands',\n",
       "       'netherlands', 'England ', 'united states of america', 'Ireland ',\n",
       "       'Switzerland', 'Netherlands ', 'Bermuda', 'Us',\n",
       "       'The United States', 'United State of America', 'Germany ',\n",
       "       'Malaysia', 'Mexico ', 'United Stated', 'South Africa ', 'Belgium',\n",
       "       'Northern Ireland', 'u.s.', 'South Africa', 'UNITED STATES',\n",
       "       'united States', 'Sweden', 'Hong Kong', 'Kuwait', 'Norway',\n",
       "       'Sri lanka', 'Contracts', 'USA-- Virgin Islands', 'United Statws',\n",
       "       'England/UK', 'U.S',\n",
       "       \"We don't get raises, we get quarterly bonuses, but they periodically asses income in the area you work, so I got a raise because a 3rd party assessment showed I was paid too little for the area we were located\",\n",
       "       'Unites States ', 'Usa ', 'U.S.A. ', 'England, UK.', 'Greece',\n",
       "       'Japan', 'U. S. ', 'Britain ', 'United Sates', 'Japan ', 'Austria',\n",
       "       'Brazil', 'Canada, Ottawa, ontario', 'Global', 'Sweden ',\n",
       "       'United States of American ', 'FRANCE', 'Uniited States',\n",
       "       'United Kingdom (England)',\n",
       "       'Worldwide (based in US but short term trips aroudn the world)',\n",
       "       'CANADA ', 'Canadw', 'Hungary', 'Luxembourg',\n",
       "       'United Sates of America', 'ireland',\n",
       "       'United States (I work from home and my clients are all over the US/Canada/PR',\n",
       "       'Colombia', 'CANADA', 'Unted States', 'germany', 'United Statesp',\n",
       "       'United Stattes', 'United Statea', 'United Kingdom.', 'Mexico',\n",
       "       'New Zealand', 'Trinidad and Tobago', 'Unites States',\n",
       "       'United Statees', 'United kingdom', 'Cayman Islands',\n",
       "       'UNited States', 'Can',\n",
       "       'I am located in Canada but I work for a company in the US',\n",
       "       'United kingdom ', 'Uniyed states', 'Uniyes States',\n",
       "       'United States of Americas', 'U.A.', 'Czech republic', 'Czechia',\n",
       "       'Latvia', 'Finland', 'U. S.', 'Puerto Rico', 'US of A', 'Rwanda',\n",
       "       'United States of america ', 'United Arab Emirates ',\n",
       "       'Bangladesh ', 'Spain ', 'U.K. ', 'Romania', 'U.SA',\n",
       "       'United Kindom', 'United Status', 'New Zealand ',\n",
       "       'Currently finance', ' U.S.', 'Serbia', 'Philippines', 'Russia ',\n",
       "       'Poland', 'UXZ', 'czech republic', 'England, UK', 'Turkey',\n",
       "       'Canda', 'Puerto Rico ', 'Canada and USA', 'Catalonia',\n",
       "       '$2,175.84/year is deducted for benefits', 'uk', 'France ',\n",
       "       'Italy (South)', 'Jersey, Channel islands', 'Uk ', 'China',\n",
       "       'Virginia', 'Afghanistan', 'Israel', 'U.s.', 'Great Britain',\n",
       "       'U.s.a.', 'USS', 'Denmark ', 'Uniteed States',\n",
       "       'New Zealand Aotearoa', 'U.K.', 'Hartford',\n",
       "       'Japan, US Gov position', 'Csnada', 'United Stares', 'New zealand',\n",
       "       'Mainland China', 'I.S.', 'UK (Northern Ireland)',\n",
       "       'UK for U.S. company', ' US', 'Unites states ', 'NZ', 'Us ',\n",
       "       'Hong Kong ', 'Taiwan', 'Canad', 'Unite States', 'australia',\n",
       "       'The US', 'united states ', 'The Netherlands ', 'Cambodia',\n",
       "       'United states of America ', 'Vietnam', 'Remote', 'Singapore',\n",
       "       'South Korea', 'Czech Republic ', 'Thailand', 'Bangladesh',\n",
       "       'Lithuania', 'Eritrea', 'Indonesia', 'Singapore ',\n",
       "       'For the United States government, but posted overseas', 'IS',\n",
       "       'Switzerland ', 'United Kingdomk', 'Italy', ' New Zealand', 'Cuba',\n",
       "       'Slovenia', 'Australi', \"Cote d'Ivoire\", 'united kingdom',\n",
       "       'From Romania, but for an US based company', 'Somalia',\n",
       "       'Wales (United Kingdom)', 'England, Gb', 'Czech Republic',\n",
       "       'UnitedStates', 'Sri Lanka', 'spain', 'Danmark',\n",
       "       'U.K. (northern England)', 'U.K', 'NL', 'the Netherlands',\n",
       "       'Nederland', 'Slovakia', 'United States of america', 'Portugal ',\n",
       "       'England, United Kingdom', 'Sierra Leone', 'Englang',\n",
       "       'United statew', 'UAE', 'Belgium ',\n",
       "       'bonus based on meeting yearly goals set w/ my supervisor',\n",
       "       'International ', 'The Bahamas ', 'Wales',\n",
       "       \"I earn commission on sales. If I meet quota, I'm guaranteed another 16k min. Last year i earned an additional 27k. It's not uncommon for people in my space to earn 100k+ after commission. \",\n",
       "       'Costa Rica', ' United States', 'United Statues', 'Untied States',\n",
       "       'USA (company is based in a US territory, I work remote)', 'Chile',\n",
       "       'denmark', 'UK (England)', 'UK, remote', 'Scotland, UK', 'USAB',\n",
       "       'Unitied States', 'Norway ', 'Qatar', 'United Sttes',\n",
       "       'Remote (philippines)', 'Brazil ', 'Unites kingdom ',\n",
       "       'South africa', 'Portugal', 'united stated',\n",
       "       'United States Of America', 'Nigeria', 'Panamá',\n",
       "       'Northern Ireland ', 'england', 'SWITZERLAND',\n",
       "       'Austria, but I work remotely for a Dutch/British company',\n",
       "       \"I work for an US based company but I'm from Argentina.\",\n",
       "       'I was brought in on this salary to help with the EHR and very quickly was promoted to current position but compensation was not altered. ',\n",
       "       'Uniter Statez', 'U. S ', 'Congo', 'United states of America',\n",
       "       'Uruguay', 'Pakistan', 'Brasil', 'USA tomorrow ', 'United Stateds',\n",
       "       'n/a (remote from wherever I want)', 'singapore',\n",
       "       'US govt employee overseas, country withheld', 'usa ', 'Malaysia ',\n",
       "       'Uganda', 'Malta', 'Saudi Arabia', 'Bulgaria', 'Estonia',\n",
       "       'Morocco', 'new zealand', 'Africa', 'Ecuador', 'Zimbabwe', 'Ghana',\n",
       "       'San Francisco', 'Usat', '🇺🇸 ', 'Luxemburg', 'Unitef Stated', 'UA',\n",
       "       'Wales, UK', 'United Stares ', 'Croatia ',\n",
       "       'England, United Kingdom ', 'United STates', 'USaa', 'uSA',\n",
       "       'South Korea ', 'The netherlands', 'Ukraine ', 'america',\n",
       "       'switzerland', 'United States- Puerto Rico',\n",
       "       'From New Zealand but on projects across APAC', 'Y', 'United y',\n",
       "       'Wales (UK)', 'Isle of Man', 'Northern Ireland, United Kingdom',\n",
       "       'europe', 'California ',\n",
       "       'UK, but for globally fully remote company', 'Australian ',\n",
       "       'México', 'Jamaica', 'uS', 'USD', 'the netherlands',\n",
       "       \"USA, but for foreign gov't\", 'japan', 'Kenya', 'Jordan',\n",
       "       'United Statss', 'ARGENTINA BUT MY ORG IS IN THAILAND',\n",
       "       'United states of america', 'UsA',\n",
       "       'I work for a UAE-based organization, though I am personally in the US.',\n",
       "       'United  States', 'france', 'Aotearoa New Zealand', 'na', 'Policy',\n",
       "       'Cyprus', 'hong konh', 'United States is America', 'Liechtenstein',\n",
       "       'Company in Germany. I work from Pakistan.', 'croatia', 'Canadá',\n",
       "       'ENGLAND', 'United States of American', 'U.S.A ', 'INDIA',\n",
       "       'Bosnia and Herzegovina', 'NIGERIA', 'Poland ', 'pakistan',\n",
       "       'Nigeria ', 'London', 'ss', 'dbfemf', 'ibdia', 'LOUTRELAND',\n",
       "       'philippines', 'ff', 'Myanmar', 'Burma'], dtype=object)"
      ]
     },
     "execution_count": 1049,
     "metadata": {},
     "output_type": "execute_result"
    }
   ],
   "source": [
    "reduced_df[\"Country_of_work\"].unique()"
   ]
  },
  {
   "cell_type": "code",
   "execution_count": 1050,
   "id": "43ade24a-3fc2-4123-a632-fc9832543051",
   "metadata": {},
   "outputs": [
    {
     "data": {
      "text/plain": [
       "array(['5-7 years', '8 - 10 years', '2 - 4 years', '21 - 30 years',\n",
       "       '11 - 20 years', '1 year or less', '41 years or more',\n",
       "       '31 - 40 years'], dtype=object)"
      ]
     },
     "execution_count": 1050,
     "metadata": {},
     "output_type": "execute_result"
    }
   ],
   "source": [
    "reduced_df[\"Years_of_experience\"].unique()"
   ]
  },
  {
   "cell_type": "code",
   "execution_count": 1051,
   "id": "2b4a2814-2a3b-4b56-a1b8-df64deff3249",
   "metadata": {},
   "outputs": [],
   "source": [
    "# Mapping Years_of_experience feature as midpoint values and converting to numerical\n",
    "years_category_mapping = {\n",
    "    \"1 year or less\": \"1\",\n",
    "    \"2 - 4 years\": \"3\",\n",
    "    \"5-7 years\": \"6\",\n",
    "    \"8 - 10 years\": \"9\",\n",
    "    \"11 - 20 years\": \"15\",\n",
    "    \"21 - 30 years\": \"25\",\n",
    "    \"31 - 40 years\": \"35\",\n",
    "    \"41 years or more\": \"41\",\n",
    "}"
   ]
  },
  {
   "cell_type": "code",
   "execution_count": 1052,
   "id": "6a4853cb-6973-42da-842e-1ab82623bf7f",
   "metadata": {},
   "outputs": [],
   "source": [
    "reduced_df[\"Average_Years_of_experience\"] = reduced_df[\"Years_of_experience\"].map(years_category_mapping)"
   ]
  },
  {
   "cell_type": "code",
   "execution_count": 1053,
   "id": "95b759d8-f619-4a68-96e8-e67d599c5285",
   "metadata": {},
   "outputs": [],
   "source": [
    "reduced_df.drop(columns=[\"Years_of_experience\"], inplace=True)"
   ]
  },
  {
   "cell_type": "code",
   "execution_count": 1054,
   "id": "b26948b1-b795-47ca-b671-258baf19c855",
   "metadata": {
    "scrolled": true
   },
   "outputs": [
    {
     "name": "stdout",
     "output_type": "stream",
     "text": [
      "                                   Industry  \\\n",
      "0              Education (Higher Education)   \n",
      "1                         Computing or Tech   \n",
      "2             Accounting, Banking & Finance   \n",
      "3                                Nonprofits   \n",
      "4             Accounting, Banking & Finance   \n",
      "...                                     ...   \n",
      "28080         Accounting, Banking & Finance   \n",
      "28081         Education (Primary/Secondary)   \n",
      "28082  Government and Public Administration   \n",
      "28083                     Computing or Tech   \n",
      "28084                       Social networks   \n",
      "\n",
      "                                      Job_title Annual_salary Currency  \\\n",
      "0            Research and Instruction Librarian        55,000      USD   \n",
      "1      Change & Internal Communications Manager        54,600      GBP   \n",
      "2                          Marketing Specialist        34,000      USD   \n",
      "3                               Program Manager        62,000      USD   \n",
      "4                            Accounting Manager        60,000      USD   \n",
      "...                                         ...           ...      ...   \n",
      "28080                      Product Manager Lead        117000      USD   \n",
      "28081                         Curriculum Writer         70000      USD   \n",
      "28082                          Clerical Officer         28600      EUR   \n",
      "28083                Software Engineering Co-Op         56160      USD   \n",
      "28084                           Content creator       2000000      USD   \n",
      "\n",
      "      Country_of_work Years_of_experience_in_your_field  \\\n",
      "0       United States                         5-7 years   \n",
      "1      United Kingdom                         5-7 years   \n",
      "2                  US                       2 - 4 years   \n",
      "3                 USA                         5-7 years   \n",
      "4                  US                         5-7 years   \n",
      "...               ...                               ...   \n",
      "28080             USA                     11 - 20 years   \n",
      "28081   United States                     21 - 30 years   \n",
      "28082         Ireland                    1 year or less   \n",
      "28083   United States                    1 year or less   \n",
      "28084          Taiwan                       2 - 4 years   \n",
      "\n",
      "                       Level_of_education  Average_age Gender_category  \\\n",
      "0                         Master's degree         29.0          Female   \n",
      "1                          College degree         29.0      Non-binary   \n",
      "2                          College degree         29.0          Female   \n",
      "3                          College degree         29.0          Female   \n",
      "4                          College degree         29.0          Female   \n",
      "...                                   ...          ...             ...   \n",
      "28080                      College degree         49.0          Female   \n",
      "28081                     Master's degree         49.0          Female   \n",
      "28082  Professional degree (MD, JD, etc.)         59.0            Male   \n",
      "28083                      College degree         21.0            Male   \n",
      "28084                                 PhD          NaN      Non-binary   \n",
      "\n",
      "      Average_Years_of_experience  \n",
      "0                               6  \n",
      "1                               9  \n",
      "2                               3  \n",
      "3                               9  \n",
      "4                               9  \n",
      "...                           ...  \n",
      "28080                          15  \n",
      "28081                          25  \n",
      "28082                          25  \n",
      "28083                           1  \n",
      "28084                          41  \n",
      "\n",
      "[28085 rows x 10 columns]\n"
     ]
    }
   ],
   "source": [
    "print(reduced_df)"
   ]
  },
  {
   "cell_type": "code",
   "execution_count": 1055,
   "id": "0cf3150e-c7ce-41e1-8616-159721dc767f",
   "metadata": {},
   "outputs": [
    {
     "data": {
      "text/plain": [
       "Industry                              object\n",
       "Job_title                             object\n",
       "Annual_salary                         object\n",
       "Currency                              object\n",
       "Country_of_work                       object\n",
       "Years_of_experience_in_your_field     object\n",
       "Level_of_education                    object\n",
       "Average_age                          float64\n",
       "Gender_category                       object\n",
       "Average_Years_of_experience           object\n",
       "dtype: object"
      ]
     },
     "execution_count": 1055,
     "metadata": {},
     "output_type": "execute_result"
    }
   ],
   "source": [
    "reduced_df.dtypes"
   ]
  },
  {
   "cell_type": "code",
   "execution_count": 1056,
   "id": "04b26b64-ffa9-4060-9d76-0c1e956d47e4",
   "metadata": {},
   "outputs": [],
   "source": [
    "reduced_df[\"Average_Years_of_experience\"] = reduced_df[\"Average_Years_of_experience\"].astype(float)"
   ]
  },
  {
   "cell_type": "code",
   "execution_count": 1057,
   "id": "974d3d54-ed7f-4557-95f1-dc2da9396993",
   "metadata": {},
   "outputs": [
    {
     "data": {
      "text/plain": [
       "Industry                              object\n",
       "Job_title                             object\n",
       "Annual_salary                         object\n",
       "Currency                              object\n",
       "Country_of_work                       object\n",
       "Years_of_experience_in_your_field     object\n",
       "Level_of_education                    object\n",
       "Average_age                          float64\n",
       "Gender_category                       object\n",
       "Average_Years_of_experience          float64\n",
       "dtype: object"
      ]
     },
     "execution_count": 1057,
     "metadata": {},
     "output_type": "execute_result"
    }
   ],
   "source": [
    "reduced_df.dtypes"
   ]
  },
  {
   "cell_type": "code",
   "execution_count": 1058,
   "id": "5a7edff2-0180-4cd7-a760-86f14020fc89",
   "metadata": {},
   "outputs": [
    {
     "data": {
      "text/plain": [
       "array(['5-7 years', '2 - 4 years', '21 - 30 years', '11 - 20 years',\n",
       "       '1 year or less', '8 - 10 years', '31 - 40 years',\n",
       "       '41 years or more'], dtype=object)"
      ]
     },
     "execution_count": 1058,
     "metadata": {},
     "output_type": "execute_result"
    }
   ],
   "source": [
    "reduced_df[\"Years_of_experience_in_your_field\"].unique()"
   ]
  },
  {
   "cell_type": "code",
   "execution_count": 1059,
   "id": "90c80d3c-d916-4091-8f93-2e53e0b6afc8",
   "metadata": {},
   "outputs": [
    {
     "data": {
      "text/plain": [
       "array([\"Master's degree\", 'College degree', 'PhD', nan, 'Some college',\n",
       "       'High School', 'Professional degree (MD, JD, etc.)'], dtype=object)"
      ]
     },
     "execution_count": 1059,
     "metadata": {},
     "output_type": "execute_result"
    }
   ],
   "source": [
    "reduced_df[\"Level_of_education\"].unique()"
   ]
  },
  {
   "cell_type": "code",
   "execution_count": 1060,
   "id": "a8b85ece-a7e6-4a38-84b9-e474f8dd8383",
   "metadata": {},
   "outputs": [],
   "source": [
    "# Creating a malformed data and typos list and replacing it with coutry names or acronyms to get cleaner data in feauture Country_of_work\n",
    "mvp_us=[\"USA\", \"United States\", \"usa\", \"us\", \"US\", \"US \", \"United States \", \"USA \", \"united states\", \"U.S>\", \"U.S. \",\"United States of America \",\"United State\",\"U.S.A\",\"America\",\"united states of america\",\"Us\",\"The United States\",\"U.S.A.\",'United Stated','United State of America','u.s.','UNITED STATES','united States','USA-- Virgin Islands','United Statws','U.S','Unites States ','Usa ','U.S.A. ','U. S. ','United Sates','United States of American ','Uniited States','Worldwide (based in US but short term trips aroudn the world)','United Sates of America','United States (I work from home and my clients are all over the US/Canada/PR','Unted States','United Statesp','United Stattes','United Statea','Unites States','United Statees','Uniyes States','UNited States','I am located in Canada but I work for a company in the US','Uniyed states','Uniyes States','United States of Americas','U. S.','United States of America','Usa','United states ','United states','US of A','United States of america ','U.SA','United Status',' U.S.','Puerto Rico ','Canada and USA','Virginia','U.s.','U.s.a.','USS','Uniteed States','Japan, US Gov position','United Stares','Us ','Unite States','The US','united states ','United states of America ','UnitedStates','UK for U.S. company','For the United States government, but posted overseas',' United States', 'United Statues', 'Untied States',\n",
    "       'USA (company is based in a US territory, I work remote)','united stated',\n",
    "       'United States Of America','USAB', 'Unitied States',\"I work for an US based company but I'm from Argentina.\",'Uniter Statez', 'U. S ','United Sttes','Unitef Stated','United states of America','San Francisco', 'Usat', '🇺🇸 ','United States of america','From Romania, but for an US based company','USA tomorrow ',\n",
    "       'United Stateds','United states of america', 'UsA','United States of American', 'U.S.A ','USaa', 'uSA','US govt employee overseas, country withheld', 'usa ','uS','United Stares ','United STates','america','California ','United States is America','United States- Puerto Rico','United Statss','United  States','ISA',' US',\n",
    "       'Unites states ','United statew',]\n",
    "clean_reduced_df=reduced_df.replace(mvp_us, \"U.S.\")\n",
    "# Specifying the column for which I want to change USD so it does not affect Currency feature\n",
    "clean_reduced_df[\"Country_of_work\"] = clean_reduced_df[\"Country_of_work\"].replace(\"USD\", \"U.S.\")"
   ]
  },
  {
   "cell_type": "code",
   "execution_count": 1061,
   "id": "c243e660-68d5-420c-9b0c-c6fbde6c752f",
   "metadata": {},
   "outputs": [],
   "source": [
    "mvp_uk=['United Kingdom','United Kingdom ', 'UK', 'Scotland ','England','Scotland','UK ','Uk','Great Britain ','England ','Northern Ireland','England/UK','England, UK.','Britain ','United Kingdom (England)','United Kingdom.','United kingdom','United kingdom ','U.K. ','England, UK','uk','Jersey, Channel islands', 'Uk ','Great Britain','Hartford','UK (Northern Ireland)','United Kindom','Wales (United Kingdom)', 'England, Gb','Wales','Northern Ireland ', 'england','U.K. (northern England)', 'U.K','UK (England)', 'UK, remote',\n",
    "       'Scotland, UK','Unites kingdom ','United Kingdomk','united kingdom','Austria, but I work remotely for a Dutch/British company','Wales, UK','England, United Kingdom','Englang','England, United Kingdom ','United y',\n",
    "       'Wales (UK)', 'Isle of Man', 'Northern Ireland, United Kingdom','ENGLAND','London',]\n",
    "clean_reduced_df=clean_reduced_df.replace(mvp_uk, \"U.K.\")"
   ]
  },
  {
   "cell_type": "code",
   "execution_count": 1062,
   "id": "9a008271-eff6-4129-9675-8531f72a6d12",
   "metadata": {},
   "outputs": [],
   "source": [
    "mvp_ca=['canada', 'Canada ','Canada, Ottawa, ontario','Can','CANADA ', 'Canadw','CANADA','Canda','Csnada','Canad','Canadá',]\n",
    "clean_reduced_df=clean_reduced_df.replace(mvp_ca, \"Canada\")"
   ]
  },
  {
   "cell_type": "code",
   "execution_count": 1063,
   "id": "9a464d97-d828-4cdc-8d72-87256e9b1543",
   "metadata": {},
   "outputs": [],
   "source": [
    "mvp_nz=['New Zealand ','New Zealand Aotearoa', 'New zealand','NZ',' New Zealand','new zealand','Aotearoa New Zealand','New Zealand',]\n",
    "clean_reduced_df=clean_reduced_df.replace(mvp_nz, \"New_Zealand\")  "
   ]
  },
  {
   "cell_type": "code",
   "execution_count": 1064,
   "id": "b4fff846-2054-4390-b2ce-38d3754caab3",
   "metadata": {},
   "outputs": [],
   "source": [
    "mvp_aus=['Australia ','Australia','australia','Australi','Australian ',]\n",
    "clean_reduced_df=clean_reduced_df.replace(mvp_aus, \"Australia\")"
   ]
  },
  {
   "cell_type": "code",
   "execution_count": 1065,
   "id": "384df8bd-da76-424c-9cc1-d5a7d5eb0c4e",
   "metadata": {},
   "outputs": [],
   "source": [
    "mvp_nl=['The Netherlands','netherlands','Netherlands ','The Netherlands ','NL','the Netherlands', 'Nederland','The netherlands','the netherlands',]\n",
    "clean_reduced_df=clean_reduced_df.replace(mvp_nl, \"Netherlands\")"
   ]
  },
  {
   "cell_type": "code",
   "execution_count": 1066,
   "id": "17e2c7ed-ec9c-4fb8-a0d5-b51dfca678f5",
   "metadata": {},
   "outputs": [],
   "source": [
    "mvp_esp=['Spain','Spain ','Catalonia','spain',]\n",
    "clean_reduced_df=clean_reduced_df.replace(mvp_esp, \"Spain\")"
   ]
  },
  {
   "cell_type": "code",
   "execution_count": 1067,
   "id": "50f8fe26-d0e2-4b97-a9a3-6754eaebefa2",
   "metadata": {},
   "outputs": [],
   "source": [
    "mvp_ie=['Ireland','Ireland ','ireland',]\n",
    "clean_reduced_df=clean_reduced_df.replace(mvp_ie, \"Ireland\")"
   ]
  },
  {
   "cell_type": "code",
   "execution_count": 1068,
   "id": "39d4648b-b2db-441c-94d6-aebc70ca54e3",
   "metadata": {},
   "outputs": [],
   "source": [
    "# Creating Other for non defined countries\n",
    "mvp_other=['Contracts',\"We don't get raises, we get quarterly bonuses, but they periodically asses income in the area you work, so I got a raise because a 3rd party assessment showed I was paid too little for the area we were located\",'Global','Currently finance','UXZ','$2,175.84/year is deducted for benefits','IS','Remote','I.S.','bonus based on meeting yearly goals set w/ my supervisor',\n",
    "       'International ',\"I earn commission on sales. If I meet quota, I'm guaranteed another 16k min. Last year i earned an additional 27k. It's not uncommon for people in my space to earn 100k+ after commission. \",'Remote (philippines)','I was brought in on this salary to help with the EHR and very quickly was promoted to current position but compensation was not altered. ','n/a (remote from wherever I want)','From New Zealand but on projects across APAC', 'Y', 'europe',\n",
    "       'UK, but for globally fully remote company',\"USA, but for foreign gov't\",'Policy','ss', 'dbfemf','LOUTRELAND','ff','Other','Africa',]\n",
    "clean_reduced_df=clean_reduced_df.replace(mvp_other, \"Other\")"
   ]
  },
  {
   "cell_type": "code",
   "execution_count": 1069,
   "id": "c6e93907-3f15-46a1-9ab1-a529fa195439",
   "metadata": {},
   "outputs": [],
   "source": [
    "mvp_ger=['Germany','Germany ','germany','Company in Germany. I work from Pakistan.',]\n",
    "clean_reduced_df=clean_reduced_df.replace(mvp_ger, \"Germany\")"
   ]
  },
  {
   "cell_type": "code",
   "execution_count": 1070,
   "id": "b1779e67-1d06-46ba-9407-5ad2e62c5fc5",
   "metadata": {},
   "outputs": [],
   "source": [
    "mvp_jpn=['Japan', 'Japan ','japan',]\n",
    "clean_reduced_df=clean_reduced_df.replace(mvp_jpn, \"Japan\")"
   ]
  },
  {
   "cell_type": "code",
   "execution_count": 1071,
   "id": "46c012a6-3ee1-4e3f-b14d-7efdb150f56e",
   "metadata": {},
   "outputs": [],
   "source": [
    "mvp_ch=['Switzerland','SWITZERLAND','Switzerland ','switzerland',]\n",
    "clean_reduced_df=clean_reduced_df.replace(mvp_ch, \"Switzerland\")"
   ]
  },
  {
   "cell_type": "code",
   "execution_count": 1072,
   "id": "8d1136a8-d0a9-4181-b717-3ac3c4d1b681",
   "metadata": {},
   "outputs": [],
   "source": [
    "mvp_ind=['India','INDIA','ibdia',]\n",
    "clean_reduced_df=clean_reduced_df.replace(mvp_ind, \"India\")"
   ]
  },
  {
   "cell_type": "code",
   "execution_count": 1073,
   "id": "63830c46-cfa7-447c-997e-500c7ea6057b",
   "metadata": {},
   "outputs": [],
   "source": [
    "mvp_fr=['France','FRANCE','France ','france',]\n",
    "clean_reduced_df=clean_reduced_df.replace(mvp_fr, \"France\")"
   ]
  },
  {
   "cell_type": "code",
   "execution_count": 1074,
   "id": "94549ae8-99b9-4614-bdd3-4372e9c4fbc1",
   "metadata": {},
   "outputs": [],
   "source": [
    "mvp_den=['Denmark','Denmark ','Danmark','denmark','Denmark ',]\n",
    "clean_reduced_df=clean_reduced_df.replace(mvp_den, \"Denmark\")"
   ]
  },
  {
   "cell_type": "code",
   "execution_count": 1075,
   "id": "5f4e785c-0513-48b4-bf9d-a2d972e4c782",
   "metadata": {},
   "outputs": [],
   "source": [
    "mvp_rsa=['South Africa ','South Africa','South africa',]\n",
    "clean_reduced_df=clean_reduced_df.replace(mvp_rsa, \"South Africa\")"
   ]
  },
  {
   "cell_type": "code",
   "execution_count": 1076,
   "id": "6e72f1bb-fca2-49d4-90d4-080cca0c9649",
   "metadata": {},
   "outputs": [],
   "source": [
    "mvp_uae=['United Arab Emirates ','I work for a UAE-based organization, though I am personally in the US.',]\n",
    "clean_reduced_df=clean_reduced_df.replace(mvp_uae, \"UAE\")   "
   ]
  },
  {
   "cell_type": "code",
   "execution_count": 1077,
   "id": "c57ce11f-7896-4537-bbb3-8f74c8bc37d2",
   "metadata": {},
   "outputs": [],
   "source": [
    "mvp_mm=['Myanmar', 'Burma',]\n",
    "clean_reduced_df=clean_reduced_df.replace(mvp_mm, \"Myanmar\") "
   ]
  },
  {
   "cell_type": "code",
   "execution_count": 1078,
   "id": "ca15bac7-bac1-47b1-8de2-f17c738091e7",
   "metadata": {},
   "outputs": [],
   "source": [
    "mvp_hkg=['Hong Kong','Hong Kong ','hong konh',]\n",
    "clean_reduced_df=clean_reduced_df.replace(mvp_hkg, \"Hong Kong\")"
   ]
  },
  {
   "cell_type": "code",
   "execution_count": 1079,
   "id": "3c0243ee-aadf-4bf8-8f89-23d97447ae5c",
   "metadata": {},
   "outputs": [],
   "source": [
    "mvp_chn=['China','Mainland China',]\n",
    "clean_reduced_df=clean_reduced_df.replace(mvp_chn, \"China\") "
   ]
  },
  {
   "cell_type": "code",
   "execution_count": 1080,
   "id": "ee48e693-63a9-46de-a231-0e7c57c636ad",
   "metadata": {},
   "outputs": [],
   "source": [
    "mvp_cz=['Czech republic','Czechia','czech republic','Czech Republic ','Czech Republic',]\n",
    "clean_reduced_df=clean_reduced_df.replace(mvp_cz, \"Czech Republic\") "
   ]
  },
  {
   "cell_type": "code",
   "execution_count": 1081,
   "id": "8573049e-152b-46aa-9cbf-d3258ca891fa",
   "metadata": {},
   "outputs": [],
   "source": [
    "mvp_ua=['U.A.','UA','Ukraine ',]\n",
    "clean_reduced_df=clean_reduced_df.replace(mvp_ua, \"Ukraine\")"
   ]
  },
  {
   "cell_type": "code",
   "execution_count": 1082,
   "id": "788cfa8c-c669-43af-a198-c39d6ff0db19",
   "metadata": {},
   "outputs": [],
   "source": [
    "mvp_cro=['Croatia ','croatia',]\n",
    "clean_reduced_df=clean_reduced_df.replace(mvp_cro, \"Croatia\")"
   ]
  },
  {
   "cell_type": "code",
   "execution_count": 1083,
   "id": "3aab05de-3a3b-44c6-ace5-ca30c5aa1554",
   "metadata": {},
   "outputs": [],
   "source": [
    "mvp_sg=['Singapore','Singapore ','singapore',]\n",
    "clean_reduced_df=clean_reduced_df.replace(mvp_sg, \"Singapore\")"
   ]
  },
  {
   "cell_type": "code",
   "execution_count": 1084,
   "id": "2a0b805a-cf02-4e2c-aa36-5ad1ce78414c",
   "metadata": {},
   "outputs": [],
   "source": [
    "mvp_th=['Thailand','ARGENTINA BUT MY ORG IS IN THAILAND',]\n",
    "clean_reduced_df=clean_reduced_df.replace(mvp_th, \"Thailand\")"
   ]
  },
  {
   "cell_type": "code",
   "execution_count": 1085,
   "id": "0dd0497c-8e6c-414c-a23c-a3057b7fe6e9",
   "metadata": {},
   "outputs": [],
   "source": [
    "mvp_se=['Sweden','Sweden ',]\n",
    "clean_reduced_df=clean_reduced_df.replace(mvp_se, \"Sweden\")"
   ]
  },
  {
   "cell_type": "code",
   "execution_count": 1086,
   "id": "d44a88e1-c7a3-4222-bb0d-39dd859a81e7",
   "metadata": {},
   "outputs": [],
   "source": [
    "mvp_mx=['Mexico ','Mexico','México',]\n",
    "clean_reduced_df=clean_reduced_df.replace(mvp_mx, \"Mexico\")"
   ]
  },
  {
   "cell_type": "code",
   "execution_count": 1087,
   "id": "d4ed1927-a65a-47a6-84e3-916e59d45513",
   "metadata": {},
   "outputs": [],
   "source": [
    "mvp_bra=['Brazil','Brazil ','Brasil',]\n",
    "clean_reduced_df=clean_reduced_df.replace(mvp_bra, \"Brazil\")"
   ]
  },
  {
   "cell_type": "code",
   "execution_count": 1088,
   "id": "8662634e-ec1f-4d70-8de2-d8414b522f84",
   "metadata": {},
   "outputs": [],
   "source": [
    "mvp_lux=['Luxembourg','Luxemburg',]\n",
    "clean_reduced_df=clean_reduced_df.replace(mvp_lux, \"Luxemburg\")"
   ]
  },
  {
   "cell_type": "code",
   "execution_count": 1089,
   "id": "cb2259af-4e8e-4cd9-814b-94cc7b249434",
   "metadata": {},
   "outputs": [],
   "source": [
    "mvp_lk=['Sri lanka','Sri Lanka',]\n",
    "clean_reduced_df=clean_reduced_df.replace(mvp_lk, \"Sri Lanka\")"
   ]
  },
  {
   "cell_type": "code",
   "execution_count": 1090,
   "id": "e81ca6f5-fbde-44f1-ad00-b4d2cbda9fac",
   "metadata": {},
   "outputs": [],
   "source": [
    "mvp_fi=['Finland','finland',]\n",
    "clean_reduced_df=clean_reduced_df.replace(mvp_fi, \"Finland\")"
   ]
  },
  {
   "cell_type": "code",
   "execution_count": 1091,
   "id": "caac3182-b237-4772-928f-96d57c3ac23e",
   "metadata": {},
   "outputs": [],
   "source": [
    "mvp_ita=['Italy (South)','Italy',]\n",
    "clean_reduced_df=clean_reduced_df.replace(mvp_ita, \"Italy\")"
   ]
  },
  {
   "cell_type": "code",
   "execution_count": 1092,
   "id": "422fad1a-fef8-4299-8bb2-896f01b52138",
   "metadata": {},
   "outputs": [],
   "source": [
    "mvp_pak=['Pakistan','pakistan',]\n",
    "clean_reduced_df=clean_reduced_df.replace(mvp_pak, \"Pakistan\")"
   ]
  },
  {
   "cell_type": "code",
   "execution_count": 1093,
   "id": "0cac477c-489b-4e1c-a2f0-a6529368bf41",
   "metadata": {},
   "outputs": [],
   "source": [
    "mvp_kr=['South Korea','South Korea ',]\n",
    "clean_reduced_df=clean_reduced_df.replace(mvp_kr, \"South Korea\")"
   ]
  },
  {
   "cell_type": "code",
   "execution_count": 1094,
   "id": "50db4547-dfcc-4b1f-8e1b-75e7e835d441",
   "metadata": {},
   "outputs": [],
   "source": [
    "mvp_bd=['Bangladesh ','Bangladesh',]\n",
    "clean_reduced_df=clean_reduced_df.replace(mvp_bd, \"Bangladesh\")"
   ]
  },
  {
   "cell_type": "code",
   "execution_count": 1095,
   "id": "d29a6035-8bfe-4cf8-8301-a656fdb76de3",
   "metadata": {},
   "outputs": [],
   "source": [
    "mvp_ph=['philippines',]\n",
    "clean_reduced_df=clean_reduced_df.replace(mvp_ph, \"Philippines\")"
   ]
  },
  {
   "cell_type": "code",
   "execution_count": 1096,
   "id": "bcccb08d-d93a-44fc-a115-d4ac2e7d5f0b",
   "metadata": {},
   "outputs": [],
   "source": [
    "mvp_civ=[\"Cote d'Ivoire\",]\n",
    "clean_reduced_df=clean_reduced_df.replace(mvp_civ, \"Ivory Coast\")"
   ]
  },
  {
   "cell_type": "code",
   "execution_count": 1097,
   "id": "da9cc897-b0a7-4062-acff-659008dab687",
   "metadata": {},
   "outputs": [],
   "source": [
    "mvp_bel=['Belgium ',]\n",
    "clean_reduced_df=clean_reduced_df.replace(mvp_bel, \"Belgium\")"
   ]
  },
  {
   "cell_type": "code",
   "execution_count": 1098,
   "id": "5981c997-eda5-42ee-b579-4eb6075bb73a",
   "metadata": {},
   "outputs": [],
   "source": [
    "mvp_bhs=['The Bahamas ',]\n",
    "clean_reduced_df=clean_reduced_df.replace(mvp_bhs, \"The Bahamas\")"
   ]
  },
  {
   "cell_type": "code",
   "execution_count": 1099,
   "id": "5579f58f-ebd6-4fa0-8e17-24d9a4f63dae",
   "metadata": {},
   "outputs": [],
   "source": [
    "mvp_no=['Norway ',]\n",
    "clean_reduced_df=clean_reduced_df.replace(mvp_no, \"Norway\")"
   ]
  },
  {
   "cell_type": "code",
   "execution_count": 1100,
   "id": "ff32c35f-b0ac-4ce8-9d0f-96f0ddcdda54",
   "metadata": {},
   "outputs": [],
   "source": [
    "mvp_my=['Malaysia ',]\n",
    "clean_reduced_df=clean_reduced_df.replace(mvp_my, \"Malaysia\")"
   ]
  },
  {
   "cell_type": "code",
   "execution_count": 1101,
   "id": "637c2e2b-6ff6-462b-b981-444ed4053169",
   "metadata": {},
   "outputs": [],
   "source": [
    "mvp_ru=['Russia ',]\n",
    "clean_reduced_df=clean_reduced_df.replace(mvp_ru, \"Russia\")"
   ]
  },
  {
   "cell_type": "code",
   "execution_count": 1102,
   "id": "9ed3f83a-85d8-4352-84ca-4958be59e30c",
   "metadata": {},
   "outputs": [],
   "source": [
    "mvp_pt=['Portugal ',]\n",
    "clean_reduced_df=clean_reduced_df.replace(mvp_pt, \"Portugal\")"
   ]
  },
  {
   "cell_type": "code",
   "execution_count": 1103,
   "id": "e7ffc2d4-2e6e-4712-8104-c670bf43879a",
   "metadata": {},
   "outputs": [],
   "source": [
    "mvp_pl=['Poland ',]\n",
    "clean_reduced_df=clean_reduced_df.replace(mvp_pl, \"Poland\")"
   ]
  },
  {
   "cell_type": "code",
   "execution_count": 1104,
   "id": "0855fd13-a809-4806-b9f3-615ad4f7ec4e",
   "metadata": {},
   "outputs": [],
   "source": [
    "mvp_pa=['Panamá',]\n",
    "clean_reduced_df=clean_reduced_df.replace(mvp_pa, \"Panama\")"
   ]
  },
  {
   "cell_type": "code",
   "execution_count": 1105,
   "id": "01cfa07e",
   "metadata": {},
   "outputs": [],
   "source": [
    "mvp_ng=['NIGERIA', 'Nigeria ',]\n",
    "clean_reduced_df=clean_reduced_df.replace(mvp_ng, \"Nigeria\")"
   ]
  },
  {
   "cell_type": "code",
   "execution_count": 1106,
   "id": "ab797415-bd01-41c7-87e7-7c48776fc5da",
   "metadata": {},
   "outputs": [
    {
     "data": {
      "text/plain": [
       "array(['U.S.', 'U.K.', 'Canada', 'Netherlands', 'Australia', 'Spain',\n",
       "       'Finland', 'France', 'Germany', 'Ireland', 'India', 'Argentina',\n",
       "       'Denmark', 'Switzerland', 'Bermuda', 'Malaysia', 'Mexico',\n",
       "       'South Africa', 'Belgium', 'Sweden', 'Hong Kong', 'Kuwait',\n",
       "       'Norway', 'Sri Lanka', 'Other', 'Greece', 'Japan', 'Austria',\n",
       "       'Brazil', 'Hungary', 'Luxemburg', 'Colombia', 'New_Zealand',\n",
       "       'Trinidad and Tobago', 'Cayman Islands', 'Ukraine',\n",
       "       'Czech Republic', 'Latvia', 'Puerto Rico', 'Rwanda', 'UAE',\n",
       "       'Bangladesh', 'Romania', 'Serbia', 'Philippines', 'Russia',\n",
       "       'Poland', 'Turkey', 'Italy', 'China', 'Afghanistan', 'Israel',\n",
       "       'Taiwan', 'Cambodia', 'Vietnam', 'Singapore', 'South Korea',\n",
       "       'Thailand', 'Lithuania', 'Eritrea', 'Indonesia', 'Cuba',\n",
       "       'Slovenia', 'Ivory Coast', 'Somalia', 'Slovakia', 'Portugal',\n",
       "       'Sierra Leone', 'The Bahamas', 'Costa Rica', 'Chile', 'Qatar',\n",
       "       'Nigeria', 'Panama', 'Congo', 'Uruguay', 'Pakistan', 'Uganda',\n",
       "       'Malta', 'Saudi Arabia', 'Bulgaria', 'Estonia', 'Morocco',\n",
       "       'Ecuador', 'Zimbabwe', 'Ghana', 'Croatia', 'Jamaica', 'Kenya',\n",
       "       'Jordan', 'na', 'Cyprus', 'Liechtenstein',\n",
       "       'Bosnia and Herzegovina', 'Myanmar'], dtype=object)"
      ]
     },
     "execution_count": 1106,
     "metadata": {},
     "output_type": "execute_result"
    }
   ],
   "source": [
    "clean_reduced_df[\"Country_of_work\"].unique()"
   ]
  },
  {
   "cell_type": "code",
   "execution_count": 1107,
   "id": "76b89dc3-6abb-4888-bbe4-e0d72ba3a8b8",
   "metadata": {},
   "outputs": [
    {
     "data": {
      "text/html": [
       "<div>\n",
       "<style scoped>\n",
       "    .dataframe tbody tr th:only-of-type {\n",
       "        vertical-align: middle;\n",
       "    }\n",
       "\n",
       "    .dataframe tbody tr th {\n",
       "        vertical-align: top;\n",
       "    }\n",
       "\n",
       "    .dataframe thead th {\n",
       "        text-align: right;\n",
       "    }\n",
       "</style>\n",
       "<table border=\"1\" class=\"dataframe\">\n",
       "  <thead>\n",
       "    <tr style=\"text-align: right;\">\n",
       "      <th></th>\n",
       "      <th>Industry</th>\n",
       "      <th>Job_title</th>\n",
       "      <th>Annual_salary</th>\n",
       "      <th>Currency</th>\n",
       "      <th>Country_of_work</th>\n",
       "      <th>Years_of_experience_in_your_field</th>\n",
       "      <th>Level_of_education</th>\n",
       "      <th>Average_age</th>\n",
       "      <th>Gender_category</th>\n",
       "      <th>Average_Years_of_experience</th>\n",
       "    </tr>\n",
       "  </thead>\n",
       "  <tbody>\n",
       "    <tr>\n",
       "      <th>0</th>\n",
       "      <td>Education (Higher Education)</td>\n",
       "      <td>Research and Instruction Librarian</td>\n",
       "      <td>55,000</td>\n",
       "      <td>USD</td>\n",
       "      <td>U.S.</td>\n",
       "      <td>5-7 years</td>\n",
       "      <td>Master's degree</td>\n",
       "      <td>29.0</td>\n",
       "      <td>Female</td>\n",
       "      <td>6.0</td>\n",
       "    </tr>\n",
       "    <tr>\n",
       "      <th>1</th>\n",
       "      <td>Computing or Tech</td>\n",
       "      <td>Change &amp; Internal Communications Manager</td>\n",
       "      <td>54,600</td>\n",
       "      <td>GBP</td>\n",
       "      <td>U.K.</td>\n",
       "      <td>5-7 years</td>\n",
       "      <td>College degree</td>\n",
       "      <td>29.0</td>\n",
       "      <td>Non-binary</td>\n",
       "      <td>9.0</td>\n",
       "    </tr>\n",
       "    <tr>\n",
       "      <th>2</th>\n",
       "      <td>Accounting, Banking &amp; Finance</td>\n",
       "      <td>Marketing Specialist</td>\n",
       "      <td>34,000</td>\n",
       "      <td>USD</td>\n",
       "      <td>U.S.</td>\n",
       "      <td>2 - 4 years</td>\n",
       "      <td>College degree</td>\n",
       "      <td>29.0</td>\n",
       "      <td>Female</td>\n",
       "      <td>3.0</td>\n",
       "    </tr>\n",
       "    <tr>\n",
       "      <th>3</th>\n",
       "      <td>Nonprofits</td>\n",
       "      <td>Program Manager</td>\n",
       "      <td>62,000</td>\n",
       "      <td>USD</td>\n",
       "      <td>U.S.</td>\n",
       "      <td>5-7 years</td>\n",
       "      <td>College degree</td>\n",
       "      <td>29.0</td>\n",
       "      <td>Female</td>\n",
       "      <td>9.0</td>\n",
       "    </tr>\n",
       "    <tr>\n",
       "      <th>4</th>\n",
       "      <td>Accounting, Banking &amp; Finance</td>\n",
       "      <td>Accounting Manager</td>\n",
       "      <td>60,000</td>\n",
       "      <td>USD</td>\n",
       "      <td>U.S.</td>\n",
       "      <td>5-7 years</td>\n",
       "      <td>College degree</td>\n",
       "      <td>29.0</td>\n",
       "      <td>Female</td>\n",
       "      <td>9.0</td>\n",
       "    </tr>\n",
       "  </tbody>\n",
       "</table>\n",
       "</div>"
      ],
      "text/plain": [
       "                        Industry                                 Job_title  \\\n",
       "0   Education (Higher Education)        Research and Instruction Librarian   \n",
       "1              Computing or Tech  Change & Internal Communications Manager   \n",
       "2  Accounting, Banking & Finance                      Marketing Specialist   \n",
       "3                     Nonprofits                           Program Manager   \n",
       "4  Accounting, Banking & Finance                        Accounting Manager   \n",
       "\n",
       "  Annual_salary Currency Country_of_work Years_of_experience_in_your_field  \\\n",
       "0        55,000      USD            U.S.                         5-7 years   \n",
       "1        54,600      GBP            U.K.                         5-7 years   \n",
       "2        34,000      USD            U.S.                       2 - 4 years   \n",
       "3        62,000      USD            U.S.                         5-7 years   \n",
       "4        60,000      USD            U.S.                         5-7 years   \n",
       "\n",
       "  Level_of_education  Average_age Gender_category  Average_Years_of_experience  \n",
       "0    Master's degree         29.0          Female                          6.0  \n",
       "1     College degree         29.0      Non-binary                          9.0  \n",
       "2     College degree         29.0          Female                          3.0  \n",
       "3     College degree         29.0          Female                          9.0  \n",
       "4     College degree         29.0          Female                          9.0  "
      ]
     },
     "execution_count": 1107,
     "metadata": {},
     "output_type": "execute_result"
    }
   ],
   "source": [
    "# Cleaning Annual_salary feature\n",
    "clean_reduced_df.head()"
   ]
  },
  {
   "cell_type": "code",
   "execution_count": 1108,
   "id": "e1bb81c1-8d6e-4812-8d3b-fde6e6637d19",
   "metadata": {},
   "outputs": [
    {
     "data": {
      "text/plain": [
       "array(['55,000', '54,600', '34,000', ..., '7000', '37741', '53060'],\n",
       "      dtype=object)"
      ]
     },
     "execution_count": 1108,
     "metadata": {},
     "output_type": "execute_result"
    }
   ],
   "source": [
    "clean_reduced_df[\"Annual_salary\"].unique()"
   ]
  },
  {
   "cell_type": "code",
   "execution_count": 1109,
   "id": "e14e627b-1f7a-458b-891d-3981cc4d8a44",
   "metadata": {},
   "outputs": [],
   "source": [
    "# Removing commas from the features and converting to numeric values just for the Annual_salary feature\n",
    "clean_reduced_df[\"Annual_salary\"] = clean_reduced_df[\"Annual_salary\"].replace({',': ''}, regex=True)"
   ]
  },
  {
   "cell_type": "code",
   "execution_count": 1110,
   "id": "89fabf50-0c68-49ad-8e11-fb18b127fbcb",
   "metadata": {},
   "outputs": [
    {
     "data": {
      "text/plain": [
       "Industry                              object\n",
       "Job_title                             object\n",
       "Annual_salary                         object\n",
       "Currency                              object\n",
       "Country_of_work                       object\n",
       "Years_of_experience_in_your_field     object\n",
       "Level_of_education                    object\n",
       "Average_age                          float64\n",
       "Gender_category                       object\n",
       "Average_Years_of_experience          float64\n",
       "dtype: object"
      ]
     },
     "execution_count": 1110,
     "metadata": {},
     "output_type": "execute_result"
    }
   ],
   "source": [
    "# Checking what data type is Annual Salary feature now\n",
    "clean_reduced_df.dtypes"
   ]
  },
  {
   "cell_type": "code",
   "execution_count": 1111,
   "id": "c6d70d09-5f25-45ae-b096-a9eb5274b756",
   "metadata": {},
   "outputs": [
    {
     "data": {
      "text/html": [
       "<div>\n",
       "<style scoped>\n",
       "    .dataframe tbody tr th:only-of-type {\n",
       "        vertical-align: middle;\n",
       "    }\n",
       "\n",
       "    .dataframe tbody tr th {\n",
       "        vertical-align: top;\n",
       "    }\n",
       "\n",
       "    .dataframe thead th {\n",
       "        text-align: right;\n",
       "    }\n",
       "</style>\n",
       "<table border=\"1\" class=\"dataframe\">\n",
       "  <thead>\n",
       "    <tr style=\"text-align: right;\">\n",
       "      <th></th>\n",
       "      <th>Industry</th>\n",
       "      <th>Job_title</th>\n",
       "      <th>Annual_salary</th>\n",
       "      <th>Currency</th>\n",
       "      <th>Country_of_work</th>\n",
       "      <th>Years_of_experience_in_your_field</th>\n",
       "      <th>Level_of_education</th>\n",
       "      <th>Average_age</th>\n",
       "      <th>Gender_category</th>\n",
       "      <th>Average_Years_of_experience</th>\n",
       "    </tr>\n",
       "  </thead>\n",
       "  <tbody>\n",
       "    <tr>\n",
       "      <th>0</th>\n",
       "      <td>Education (Higher Education)</td>\n",
       "      <td>Research and Instruction Librarian</td>\n",
       "      <td>55000</td>\n",
       "      <td>USD</td>\n",
       "      <td>U.S.</td>\n",
       "      <td>5-7 years</td>\n",
       "      <td>Master's degree</td>\n",
       "      <td>29.0</td>\n",
       "      <td>Female</td>\n",
       "      <td>6.0</td>\n",
       "    </tr>\n",
       "    <tr>\n",
       "      <th>1</th>\n",
       "      <td>Computing or Tech</td>\n",
       "      <td>Change &amp; Internal Communications Manager</td>\n",
       "      <td>54600</td>\n",
       "      <td>GBP</td>\n",
       "      <td>U.K.</td>\n",
       "      <td>5-7 years</td>\n",
       "      <td>College degree</td>\n",
       "      <td>29.0</td>\n",
       "      <td>Non-binary</td>\n",
       "      <td>9.0</td>\n",
       "    </tr>\n",
       "    <tr>\n",
       "      <th>2</th>\n",
       "      <td>Accounting, Banking &amp; Finance</td>\n",
       "      <td>Marketing Specialist</td>\n",
       "      <td>34000</td>\n",
       "      <td>USD</td>\n",
       "      <td>U.S.</td>\n",
       "      <td>2 - 4 years</td>\n",
       "      <td>College degree</td>\n",
       "      <td>29.0</td>\n",
       "      <td>Female</td>\n",
       "      <td>3.0</td>\n",
       "    </tr>\n",
       "    <tr>\n",
       "      <th>3</th>\n",
       "      <td>Nonprofits</td>\n",
       "      <td>Program Manager</td>\n",
       "      <td>62000</td>\n",
       "      <td>USD</td>\n",
       "      <td>U.S.</td>\n",
       "      <td>5-7 years</td>\n",
       "      <td>College degree</td>\n",
       "      <td>29.0</td>\n",
       "      <td>Female</td>\n",
       "      <td>9.0</td>\n",
       "    </tr>\n",
       "    <tr>\n",
       "      <th>4</th>\n",
       "      <td>Accounting, Banking &amp; Finance</td>\n",
       "      <td>Accounting Manager</td>\n",
       "      <td>60000</td>\n",
       "      <td>USD</td>\n",
       "      <td>U.S.</td>\n",
       "      <td>5-7 years</td>\n",
       "      <td>College degree</td>\n",
       "      <td>29.0</td>\n",
       "      <td>Female</td>\n",
       "      <td>9.0</td>\n",
       "    </tr>\n",
       "  </tbody>\n",
       "</table>\n",
       "</div>"
      ],
      "text/plain": [
       "                        Industry                                 Job_title  \\\n",
       "0   Education (Higher Education)        Research and Instruction Librarian   \n",
       "1              Computing or Tech  Change & Internal Communications Manager   \n",
       "2  Accounting, Banking & Finance                      Marketing Specialist   \n",
       "3                     Nonprofits                           Program Manager   \n",
       "4  Accounting, Banking & Finance                        Accounting Manager   \n",
       "\n",
       "  Annual_salary Currency Country_of_work Years_of_experience_in_your_field  \\\n",
       "0         55000      USD            U.S.                         5-7 years   \n",
       "1         54600      GBP            U.K.                         5-7 years   \n",
       "2         34000      USD            U.S.                       2 - 4 years   \n",
       "3         62000      USD            U.S.                         5-7 years   \n",
       "4         60000      USD            U.S.                         5-7 years   \n",
       "\n",
       "  Level_of_education  Average_age Gender_category  Average_Years_of_experience  \n",
       "0    Master's degree         29.0          Female                          6.0  \n",
       "1     College degree         29.0      Non-binary                          9.0  \n",
       "2     College degree         29.0          Female                          3.0  \n",
       "3     College degree         29.0          Female                          9.0  \n",
       "4     College degree         29.0          Female                          9.0  "
      ]
     },
     "execution_count": 1111,
     "metadata": {},
     "output_type": "execute_result"
    }
   ],
   "source": [
    "clean_reduced_df.head()"
   ]
  },
  {
   "cell_type": "code",
   "execution_count": 1112,
   "id": "9d6b188d-f6b6-4454-8bc9-2a2fd2eb0dcd",
   "metadata": {},
   "outputs": [],
   "source": [
    "# Replacing all of the blanks (nans) with zero values\n",
    "clean_reduced_df = clean_reduced_df.fillna(0)"
   ]
  },
  {
   "cell_type": "code",
   "execution_count": 1113,
   "id": "b612ecb9-a522-4620-89a1-b8cb8bb1150b",
   "metadata": {},
   "outputs": [],
   "source": [
    "# Converting Annual Salary feature into numerical\n",
    "# Reference: Stack Overflow https://stackoverflow.com/questions/48094854/pandas-convert-data-type-from-object-to-float\n",
    "clean_reduced_df[\"Annual_salary\"] = clean_reduced_df[\"Annual_salary\"].astype(float)"
   ]
  },
  {
   "cell_type": "code",
   "execution_count": 1114,
   "id": "16c0362b-edd2-44f0-91b8-5fe3692b0965",
   "metadata": {},
   "outputs": [
    {
     "data": {
      "text/plain": [
       "Industry                              object\n",
       "Job_title                             object\n",
       "Annual_salary                        float64\n",
       "Currency                              object\n",
       "Country_of_work                       object\n",
       "Years_of_experience_in_your_field     object\n",
       "Level_of_education                    object\n",
       "Average_age                          float64\n",
       "Gender_category                       object\n",
       "Average_Years_of_experience          float64\n",
       "dtype: object"
      ]
     },
     "execution_count": 1114,
     "metadata": {},
     "output_type": "execute_result"
    }
   ],
   "source": [
    "# Checking if the data type has changed from object to float64 in the Annual Salary feature\n",
    "clean_reduced_df.dtypes"
   ]
  },
  {
   "cell_type": "code",
   "execution_count": 1115,
   "id": "57de11a4-238f-4776-81da-143869b92a72",
   "metadata": {},
   "outputs": [
    {
     "data": {
      "text/plain": [
       "array(['USD', 'GBP', 'CAD', 'EUR', 'AUD/NZD', 'Other', 'CHF', 'ZAR',\n",
       "       'SEK', 'HKD', 'JPY'], dtype=object)"
      ]
     },
     "execution_count": 1115,
     "metadata": {},
     "output_type": "execute_result"
    }
   ],
   "source": [
    "# Cleaning important feature\n",
    "clean_reduced_df[\"Currency\"].unique()"
   ]
  },
  {
   "cell_type": "code",
   "execution_count": 1116,
   "id": "925c3e7f-70a3-4210-a812-067fcd38018b",
   "metadata": {},
   "outputs": [],
   "source": [
    "# Creating a new dictionary for Currency observation\n",
    "rename_map = {'AUD/NZD':'AUD',\n",
    "              '0':'Other',}"
   ]
  },
  {
   "cell_type": "code",
   "execution_count": 1117,
   "id": "8e0a65ef-ab52-40b1-9c81-ba7574cae2df",
   "metadata": {},
   "outputs": [],
   "source": [
    "# Reference: Stack Overflow, https://stackoverflow.com/questions/46432315/pandas-replace-column-values-by-dictionary-keys-if-they-are-in-dictionary-valu\n",
    "clean_reduced_df[\"Currency\"] = clean_reduced_df[\"Currency\"].replace(rename_map)"
   ]
  },
  {
   "cell_type": "code",
   "execution_count": 1118,
   "id": "88355f4a-284b-4ce5-b759-a0290829c1bd",
   "metadata": {
    "scrolled": true
   },
   "outputs": [
    {
     "name": "stdout",
     "output_type": "stream",
     "text": [
      "0        USD\n",
      "1        GBP\n",
      "2        USD\n",
      "3        USD\n",
      "4        USD\n",
      "        ... \n",
      "28080    USD\n",
      "28081    USD\n",
      "28082    EUR\n",
      "28083    USD\n",
      "28084    USD\n",
      "Name: Currency, Length: 28085, dtype: object\n"
     ]
    }
   ],
   "source": [
    "print(clean_reduced_df[\"Currency\"])"
   ]
  },
  {
   "cell_type": "code",
   "execution_count": 1119,
   "id": "82371f3e-3b8d-45e2-b78e-5b02421f9292",
   "metadata": {},
   "outputs": [],
   "source": [
    "# Converting all of the currencies into EUR, using Central Bank of Irelands daily FX rates, latest available date is 25 October 2024\n",
    "# Reference Central Bank of Ireland https://www.centralbank.ie/statistics/interest-rates-exchange-rates/exchange-rates\n",
    "# Converting to one currency as common practice in finances to analyse discrepancies\n",
    "exchange_rates = {\n",
    "    \"USD\": 1.0915,  # 1 USD = 1.0915 EUR\n",
    "    \"GBP\": 0.83358,  # 1 GBP = 0.83358 EUR\n",
    "    \"EUR\": 1.0,   # EUR is already in EUR\n",
    "    \"JPY\": 164.45, # 1 JPY = 164.45 EUR\n",
    "    \"CAD\": 1.4989, # 1 CAD = 1.4989 EUR\n",
    "    \"AUD\": 1.6311, # 1 AUD = 1.6311 EUR\n",
    "    \"Other\": 1.0, # No need to convert\n",
    "    \"ZAR\": 19.0627, # 1 ZAR = 19.0627 EUR\n",
    "    \"SEK\": 11.4475, # 1 SEK = 11.4475 EUR\n",
    "    \"HKD\": 8.4110 # 1 HKD = 8.4110 EUR\n",
    "}"
   ]
  },
  {
   "cell_type": "code",
   "execution_count": 1120,
   "id": "06b9c017-0a46-4cde-93f3-c1295a0cbdee",
   "metadata": {},
   "outputs": [],
   "source": [
    "# Referencing Practical Business Phyton; https://pbpython.com/currency-cleanup.html by Chris Moffitt 3rd of November 2019\n",
    "clean_reduced_df[\"Annual_Salary_in_EUR\"] = clean_reduced_df.apply(lambda row: row[\"Annual_salary\"] * exchange_rates.get(row[\"Currency\"], 1), axis=1)"
   ]
  },
  {
   "cell_type": "code",
   "execution_count": 1121,
   "id": "7a0112e8-40a7-41fa-bbda-c486790938b1",
   "metadata": {},
   "outputs": [
    {
     "name": "stdout",
     "output_type": "stream",
     "text": [
      "0          60032.500\n",
      "1          45513.468\n",
      "2          37111.000\n",
      "3          67673.000\n",
      "4          65490.000\n",
      "            ...     \n",
      "28080     127705.500\n",
      "28081      76405.000\n",
      "28082      28600.000\n",
      "28083      61298.640\n",
      "28084    2183000.000\n",
      "Name: Annual_Salary_in_EUR, Length: 28085, dtype: float64\n"
     ]
    }
   ],
   "source": [
    "print(clean_reduced_df[\"Annual_Salary_in_EUR\"])"
   ]
  },
  {
   "cell_type": "code",
   "execution_count": 1122,
   "id": "174df6df-e262-48c0-b56e-44345bfce465",
   "metadata": {},
   "outputs": [
    {
     "name": "stdout",
     "output_type": "stream",
     "text": [
      "0\n"
     ]
    }
   ],
   "source": [
    "# Checking if there are missing values\n",
    "print(clean_reduced_df[\"Annual_Salary_in_EUR\"].isnull().sum())"
   ]
  },
  {
   "cell_type": "code",
   "execution_count": 1123,
   "id": "5d02859a-1f08-471c-b0c6-0291227cf372",
   "metadata": {
    "scrolled": true
   },
   "outputs": [
    {
     "name": "stdout",
     "output_type": "stream",
     "text": [
      "                                   Industry  \\\n",
      "0              Education (Higher Education)   \n",
      "1                         Computing or Tech   \n",
      "2             Accounting, Banking & Finance   \n",
      "3                                Nonprofits   \n",
      "4             Accounting, Banking & Finance   \n",
      "...                                     ...   \n",
      "28080         Accounting, Banking & Finance   \n",
      "28081         Education (Primary/Secondary)   \n",
      "28082  Government and Public Administration   \n",
      "28083                     Computing or Tech   \n",
      "28084                       Social networks   \n",
      "\n",
      "                                      Job_title  Annual_salary Currency  \\\n",
      "0            Research and Instruction Librarian        55000.0      USD   \n",
      "1      Change & Internal Communications Manager        54600.0      GBP   \n",
      "2                          Marketing Specialist        34000.0      USD   \n",
      "3                               Program Manager        62000.0      USD   \n",
      "4                            Accounting Manager        60000.0      USD   \n",
      "...                                         ...            ...      ...   \n",
      "28080                      Product Manager Lead       117000.0      USD   \n",
      "28081                         Curriculum Writer        70000.0      USD   \n",
      "28082                          Clerical Officer        28600.0      EUR   \n",
      "28083                Software Engineering Co-Op        56160.0      USD   \n",
      "28084                           Content creator      2000000.0      USD   \n",
      "\n",
      "      Country_of_work Years_of_experience_in_your_field  \\\n",
      "0                U.S.                         5-7 years   \n",
      "1                U.K.                         5-7 years   \n",
      "2                U.S.                       2 - 4 years   \n",
      "3                U.S.                         5-7 years   \n",
      "4                U.S.                         5-7 years   \n",
      "...               ...                               ...   \n",
      "28080            U.S.                     11 - 20 years   \n",
      "28081            U.S.                     21 - 30 years   \n",
      "28082         Ireland                    1 year or less   \n",
      "28083            U.S.                    1 year or less   \n",
      "28084          Taiwan                       2 - 4 years   \n",
      "\n",
      "                       Level_of_education  Average_age Gender_category  \\\n",
      "0                         Master's degree         29.0          Female   \n",
      "1                          College degree         29.0      Non-binary   \n",
      "2                          College degree         29.0          Female   \n",
      "3                          College degree         29.0          Female   \n",
      "4                          College degree         29.0          Female   \n",
      "...                                   ...          ...             ...   \n",
      "28080                      College degree         49.0          Female   \n",
      "28081                     Master's degree         49.0          Female   \n",
      "28082  Professional degree (MD, JD, etc.)         59.0            Male   \n",
      "28083                      College degree         21.0            Male   \n",
      "28084                                 PhD          0.0      Non-binary   \n",
      "\n",
      "       Average_Years_of_experience  Annual_Salary_in_EUR  \n",
      "0                              6.0             60032.500  \n",
      "1                              9.0             45513.468  \n",
      "2                              3.0             37111.000  \n",
      "3                              9.0             67673.000  \n",
      "4                              9.0             65490.000  \n",
      "...                            ...                   ...  \n",
      "28080                         15.0            127705.500  \n",
      "28081                         25.0             76405.000  \n",
      "28082                         25.0             28600.000  \n",
      "28083                          1.0             61298.640  \n",
      "28084                         41.0           2183000.000  \n",
      "\n",
      "[28085 rows x 11 columns]\n"
     ]
    }
   ],
   "source": [
    "print(clean_reduced_df)"
   ]
  },
  {
   "cell_type": "markdown",
   "id": "7c340a7f-913c-4aba-8c75-6aa241fd8479",
   "metadata": {},
   "source": [
    "DUPLICATES"
   ]
  },
  {
   "cell_type": "code",
   "execution_count": 1125,
   "id": "7629e70f-1dee-4db2-96b6-965ba9a1641e",
   "metadata": {},
   "outputs": [],
   "source": [
    "duplicates = clean_reduced_df[clean_reduced_df.duplicated()]"
   ]
  },
  {
   "cell_type": "code",
   "execution_count": 1126,
   "id": "39089019-d820-415a-af8a-157fe93f82c8",
   "metadata": {
    "scrolled": true
   },
   "outputs": [
    {
     "name": "stdout",
     "output_type": "stream",
     "text": [
      "                             Industry                    Job_title  \\\n",
      "379     Education (Primary/Secondary)                      teacher   \n",
      "1321                      Social Work            Crisis Clinician    \n",
      "1769       Law Enforcement & Security            Library Assistant   \n",
      "2288                              Law                    Associate   \n",
      "3049                       Nonprofits          Project Coordinator   \n",
      "...                               ...                          ...   \n",
      "27573  Utilities & Telecommunications  Business operations analyst   \n",
      "27664    Engineering or Manufacturing     Test Automation Engineer   \n",
      "27757                    Art & Design     Motion Graphics Designer   \n",
      "28032                    Art & Design             Digital designer   \n",
      "28076               Computing or Tech                      Student   \n",
      "\n",
      "       Annual_salary Currency Country_of_work  \\\n",
      "379          94000.0      USD            U.S.   \n",
      "1321         51000.0      USD            U.S.   \n",
      "1769         49000.0      USD            U.S.   \n",
      "2288        125000.0      USD            U.S.   \n",
      "3049         50000.0      USD            U.S.   \n",
      "...              ...      ...             ...   \n",
      "27573        62000.0      USD            U.S.   \n",
      "27664       125000.0      USD            U.S.   \n",
      "27757        95000.0      USD            U.S.   \n",
      "28032        60000.0      GBP            U.K.   \n",
      "28076         1000.0      USD            U.S.   \n",
      "\n",
      "      Years_of_experience_in_your_field Level_of_education  Average_age  \\\n",
      "379                       21 - 30 years                PhD         49.0   \n",
      "1321                        2 - 4 years    Master's degree         29.0   \n",
      "1769                        2 - 4 years     College degree         21.0   \n",
      "2288                          5-7 years    Master's degree         29.0   \n",
      "3049                        2 - 4 years                PhD         39.0   \n",
      "...                                 ...                ...          ...   \n",
      "27573                         5-7 years     College degree         29.0   \n",
      "27664                         5-7 years    Master's degree         29.0   \n",
      "27757                         5-7 years     College degree         29.0   \n",
      "28032                      8 - 10 years     College degree         39.0   \n",
      "28076                    1 year or less       Some college         21.0   \n",
      "\n",
      "      Gender_category  Average_Years_of_experience  Annual_Salary_in_EUR  \n",
      "379            Female                         25.0              102601.0  \n",
      "1321           Female                          6.0               55666.5  \n",
      "1769           Female                          3.0               53483.5  \n",
      "2288           Female                          6.0              136437.5  \n",
      "3049           Female                          6.0               54575.0  \n",
      "...               ...                          ...                   ...  \n",
      "27573            Male                          9.0               67673.0  \n",
      "27664            Male                          6.0              136437.5  \n",
      "27757            Male                          6.0              103692.5  \n",
      "28032            Male                         15.0               50014.8  \n",
      "28076            Male                          1.0                1091.5  \n",
      "\n",
      "[213 rows x 11 columns]\n"
     ]
    }
   ],
   "source": [
    "print(duplicates)"
   ]
  },
  {
   "cell_type": "code",
   "execution_count": 1127,
   "id": "48b91ab9-0940-492b-a1cf-ace706bbeb46",
   "metadata": {},
   "outputs": [],
   "source": [
    "# Dropping observations with 0 value, other duplicates seems to be due to same salary, country or age range, etc.\n",
    "# Reference Stack Overflow: https://stackoverflow.com/questions/22649693/drop-rows-with-all-zeros-in-pandas-data-frame\n",
    "clean_reduced_df = clean_reduced_df[~(clean_reduced_df == 0).all(axis=1)]"
   ]
  },
  {
   "cell_type": "code",
   "execution_count": 1128,
   "id": "8e76aa3b-e085-4e43-8cea-2c9cf3fedc85",
   "metadata": {
    "scrolled": true
   },
   "outputs": [
    {
     "name": "stdout",
     "output_type": "stream",
     "text": [
      "                                   Industry  \\\n",
      "0              Education (Higher Education)   \n",
      "1                         Computing or Tech   \n",
      "2             Accounting, Banking & Finance   \n",
      "3                                Nonprofits   \n",
      "4             Accounting, Banking & Finance   \n",
      "...                                     ...   \n",
      "28080         Accounting, Banking & Finance   \n",
      "28081         Education (Primary/Secondary)   \n",
      "28082  Government and Public Administration   \n",
      "28083                     Computing or Tech   \n",
      "28084                       Social networks   \n",
      "\n",
      "                                      Job_title  Annual_salary Currency  \\\n",
      "0            Research and Instruction Librarian        55000.0      USD   \n",
      "1      Change & Internal Communications Manager        54600.0      GBP   \n",
      "2                          Marketing Specialist        34000.0      USD   \n",
      "3                               Program Manager        62000.0      USD   \n",
      "4                            Accounting Manager        60000.0      USD   \n",
      "...                                         ...            ...      ...   \n",
      "28080                      Product Manager Lead       117000.0      USD   \n",
      "28081                         Curriculum Writer        70000.0      USD   \n",
      "28082                          Clerical Officer        28600.0      EUR   \n",
      "28083                Software Engineering Co-Op        56160.0      USD   \n",
      "28084                           Content creator      2000000.0      USD   \n",
      "\n",
      "      Country_of_work Years_of_experience_in_your_field  \\\n",
      "0                U.S.                         5-7 years   \n",
      "1                U.K.                         5-7 years   \n",
      "2                U.S.                       2 - 4 years   \n",
      "3                U.S.                         5-7 years   \n",
      "4                U.S.                         5-7 years   \n",
      "...               ...                               ...   \n",
      "28080            U.S.                     11 - 20 years   \n",
      "28081            U.S.                     21 - 30 years   \n",
      "28082         Ireland                    1 year or less   \n",
      "28083            U.S.                    1 year or less   \n",
      "28084          Taiwan                       2 - 4 years   \n",
      "\n",
      "                       Level_of_education  Average_age Gender_category  \\\n",
      "0                         Master's degree         29.0          Female   \n",
      "1                          College degree         29.0      Non-binary   \n",
      "2                          College degree         29.0          Female   \n",
      "3                          College degree         29.0          Female   \n",
      "4                          College degree         29.0          Female   \n",
      "...                                   ...          ...             ...   \n",
      "28080                      College degree         49.0          Female   \n",
      "28081                     Master's degree         49.0          Female   \n",
      "28082  Professional degree (MD, JD, etc.)         59.0            Male   \n",
      "28083                      College degree         21.0            Male   \n",
      "28084                                 PhD          0.0      Non-binary   \n",
      "\n",
      "       Average_Years_of_experience  Annual_Salary_in_EUR  \n",
      "0                              6.0             60032.500  \n",
      "1                              9.0             45513.468  \n",
      "2                              3.0             37111.000  \n",
      "3                              9.0             67673.000  \n",
      "4                              9.0             65490.000  \n",
      "...                            ...                   ...  \n",
      "28080                         15.0            127705.500  \n",
      "28081                         25.0             76405.000  \n",
      "28082                         25.0             28600.000  \n",
      "28083                          1.0             61298.640  \n",
      "28084                         41.0           2183000.000  \n",
      "\n",
      "[28085 rows x 11 columns]\n"
     ]
    }
   ],
   "source": [
    "print(clean_reduced_df)"
   ]
  },
  {
   "cell_type": "markdown",
   "id": "d20ac972-f18c-40c9-8782-191d4d7db940",
   "metadata": {},
   "source": [
    "OUTLIERS"
   ]
  },
  {
   "cell_type": "code",
   "execution_count": 1130,
   "id": "cb480dee-da4c-4604-800e-d17650814501",
   "metadata": {},
   "outputs": [
    {
     "data": {
      "text/plain": [
       "<Axes: xlabel='Annual_Salary_in_EUR'>"
      ]
     },
     "execution_count": 1130,
     "metadata": {},
     "output_type": "execute_result"
    },
    {
     "data": {
      "image/png": "[encoded data removed]",
      "text/plain": [
       "<Figure size 640x480 with 1 Axes>"
      ]
     },
     "metadata": {},
     "output_type": "display_data"
    }
   ],
   "source": [
    "# Visualising outliers with Box plot\n",
    "sns.boxplot(data=clean_reduced_df, x=\"Annual_Salary_in_EUR\")"
   ]
  },
  {
   "cell_type": "code",
   "execution_count": 1131,
   "id": "30aba523-2019-49ce-9734-3df5baaf4afb",
   "metadata": {},
   "outputs": [],
   "source": [
    "# Calculating the upper and lower limits\n",
    "Q1 = clean_reduced_df[\"Annual_Salary_in_EUR\"].quantile(0.25)\n",
    "Q3 = clean_reduced_df[\"Annual_Salary_in_EUR\"].quantile(0.75)\n",
    "\n",
    "IQR = Q3-Q1\n",
    "lower = Q1-1.5*IQR\n",
    "upper = Q3+1.5*IQR"
   ]
  },
  {
   "cell_type": "code",
   "execution_count": 1132,
   "id": "8bdaad3d-8c3a-4403-b793-3c18aabd2046",
   "metadata": {},
   "outputs": [],
   "source": [
    "# Creating arrays of Boolean values indicating the outlier rows\n",
    "upper_array=np.where(clean_reduced_df[\"Annual_Salary_in_EUR\"]>=upper)[0]\n",
    "lower_array=np.where(clean_reduced_df[\"Annual_Salary_in_EUR\"]<=lower)[0]"
   ]
  },
  {
   "cell_type": "code",
   "execution_count": 1133,
   "id": "346e6477-1951-4d29-be36-58ac5406462a",
   "metadata": {},
   "outputs": [
    {
     "data": {
      "text/plain": [
       "array([   32,   175,   187, ..., 28055, 28061, 28084], dtype=int64)"
      ]
     },
     "execution_count": 1133,
     "metadata": {},
     "output_type": "execute_result"
    }
   ],
   "source": [
    "upper_array"
   ]
  },
  {
   "cell_type": "code",
   "execution_count": 1134,
   "id": "df953274-07ba-4505-9b4e-2abdcab18e16",
   "metadata": {},
   "outputs": [
    {
     "data": {
      "text/plain": [
       "array([], dtype=int64)"
      ]
     },
     "execution_count": 1134,
     "metadata": {},
     "output_type": "execute_result"
    }
   ],
   "source": [
    "lower_array"
   ]
  },
  {
   "cell_type": "code",
   "execution_count": 1135,
   "id": "37058017-727f-4054-9bd0-8d95050c1b00",
   "metadata": {
    "scrolled": true
   },
   "outputs": [
    {
     "data": {
      "text/html": [
       "<div>\n",
       "<style scoped>\n",
       "    .dataframe tbody tr th:only-of-type {\n",
       "        vertical-align: middle;\n",
       "    }\n",
       "\n",
       "    .dataframe tbody tr th {\n",
       "        vertical-align: top;\n",
       "    }\n",
       "\n",
       "    .dataframe thead th {\n",
       "        text-align: right;\n",
       "    }\n",
       "</style>\n",
       "<table border=\"1\" class=\"dataframe\">\n",
       "  <thead>\n",
       "    <tr style=\"text-align: right;\">\n",
       "      <th></th>\n",
       "      <th>Industry</th>\n",
       "      <th>Job_title</th>\n",
       "      <th>Annual_salary</th>\n",
       "      <th>Currency</th>\n",
       "      <th>Country_of_work</th>\n",
       "      <th>Years_of_experience_in_your_field</th>\n",
       "      <th>Level_of_education</th>\n",
       "      <th>Average_age</th>\n",
       "      <th>Gender_category</th>\n",
       "      <th>Average_Years_of_experience</th>\n",
       "      <th>Annual_Salary_in_EUR</th>\n",
       "    </tr>\n",
       "  </thead>\n",
       "  <tbody>\n",
       "    <tr>\n",
       "      <th>0</th>\n",
       "      <td>Education (Higher Education)</td>\n",
       "      <td>Research and Instruction Librarian</td>\n",
       "      <td>55000.0</td>\n",
       "      <td>USD</td>\n",
       "      <td>U.S.</td>\n",
       "      <td>5-7 years</td>\n",
       "      <td>Master's degree</td>\n",
       "      <td>29.0</td>\n",
       "      <td>Female</td>\n",
       "      <td>6.0</td>\n",
       "      <td>60032.500</td>\n",
       "    </tr>\n",
       "    <tr>\n",
       "      <th>1</th>\n",
       "      <td>Computing or Tech</td>\n",
       "      <td>Change &amp; Internal Communications Manager</td>\n",
       "      <td>54600.0</td>\n",
       "      <td>GBP</td>\n",
       "      <td>U.K.</td>\n",
       "      <td>5-7 years</td>\n",
       "      <td>College degree</td>\n",
       "      <td>29.0</td>\n",
       "      <td>Non-binary</td>\n",
       "      <td>9.0</td>\n",
       "      <td>45513.468</td>\n",
       "    </tr>\n",
       "    <tr>\n",
       "      <th>2</th>\n",
       "      <td>Accounting, Banking &amp; Finance</td>\n",
       "      <td>Marketing Specialist</td>\n",
       "      <td>34000.0</td>\n",
       "      <td>USD</td>\n",
       "      <td>U.S.</td>\n",
       "      <td>2 - 4 years</td>\n",
       "      <td>College degree</td>\n",
       "      <td>29.0</td>\n",
       "      <td>Female</td>\n",
       "      <td>3.0</td>\n",
       "      <td>37111.000</td>\n",
       "    </tr>\n",
       "    <tr>\n",
       "      <th>3</th>\n",
       "      <td>Nonprofits</td>\n",
       "      <td>Program Manager</td>\n",
       "      <td>62000.0</td>\n",
       "      <td>USD</td>\n",
       "      <td>U.S.</td>\n",
       "      <td>5-7 years</td>\n",
       "      <td>College degree</td>\n",
       "      <td>29.0</td>\n",
       "      <td>Female</td>\n",
       "      <td>9.0</td>\n",
       "      <td>67673.000</td>\n",
       "    </tr>\n",
       "    <tr>\n",
       "      <th>4</th>\n",
       "      <td>Accounting, Banking &amp; Finance</td>\n",
       "      <td>Accounting Manager</td>\n",
       "      <td>60000.0</td>\n",
       "      <td>USD</td>\n",
       "      <td>U.S.</td>\n",
       "      <td>5-7 years</td>\n",
       "      <td>College degree</td>\n",
       "      <td>29.0</td>\n",
       "      <td>Female</td>\n",
       "      <td>9.0</td>\n",
       "      <td>65490.000</td>\n",
       "    </tr>\n",
       "    <tr>\n",
       "      <th>...</th>\n",
       "      <td>...</td>\n",
       "      <td>...</td>\n",
       "      <td>...</td>\n",
       "      <td>...</td>\n",
       "      <td>...</td>\n",
       "      <td>...</td>\n",
       "      <td>...</td>\n",
       "      <td>...</td>\n",
       "      <td>...</td>\n",
       "      <td>...</td>\n",
       "      <td>...</td>\n",
       "    </tr>\n",
       "    <tr>\n",
       "      <th>28080</th>\n",
       "      <td>Accounting, Banking &amp; Finance</td>\n",
       "      <td>Product Manager Lead</td>\n",
       "      <td>117000.0</td>\n",
       "      <td>USD</td>\n",
       "      <td>U.S.</td>\n",
       "      <td>11 - 20 years</td>\n",
       "      <td>College degree</td>\n",
       "      <td>49.0</td>\n",
       "      <td>Female</td>\n",
       "      <td>15.0</td>\n",
       "      <td>127705.500</td>\n",
       "    </tr>\n",
       "    <tr>\n",
       "      <th>28081</th>\n",
       "      <td>Education (Primary/Secondary)</td>\n",
       "      <td>Curriculum Writer</td>\n",
       "      <td>70000.0</td>\n",
       "      <td>USD</td>\n",
       "      <td>U.S.</td>\n",
       "      <td>21 - 30 years</td>\n",
       "      <td>Master's degree</td>\n",
       "      <td>49.0</td>\n",
       "      <td>Female</td>\n",
       "      <td>25.0</td>\n",
       "      <td>76405.000</td>\n",
       "    </tr>\n",
       "    <tr>\n",
       "      <th>28082</th>\n",
       "      <td>Government and Public Administration</td>\n",
       "      <td>Clerical Officer</td>\n",
       "      <td>28600.0</td>\n",
       "      <td>EUR</td>\n",
       "      <td>Ireland</td>\n",
       "      <td>1 year or less</td>\n",
       "      <td>Professional degree (MD, JD, etc.)</td>\n",
       "      <td>59.0</td>\n",
       "      <td>Male</td>\n",
       "      <td>25.0</td>\n",
       "      <td>28600.000</td>\n",
       "    </tr>\n",
       "    <tr>\n",
       "      <th>28083</th>\n",
       "      <td>Computing or Tech</td>\n",
       "      <td>Software Engineering Co-Op</td>\n",
       "      <td>56160.0</td>\n",
       "      <td>USD</td>\n",
       "      <td>U.S.</td>\n",
       "      <td>1 year or less</td>\n",
       "      <td>College degree</td>\n",
       "      <td>21.0</td>\n",
       "      <td>Male</td>\n",
       "      <td>1.0</td>\n",
       "      <td>61298.640</td>\n",
       "    </tr>\n",
       "    <tr>\n",
       "      <th>28084</th>\n",
       "      <td>Social networks</td>\n",
       "      <td>Content creator</td>\n",
       "      <td>2000000.0</td>\n",
       "      <td>USD</td>\n",
       "      <td>Taiwan</td>\n",
       "      <td>2 - 4 years</td>\n",
       "      <td>PhD</td>\n",
       "      <td>0.0</td>\n",
       "      <td>Non-binary</td>\n",
       "      <td>41.0</td>\n",
       "      <td>2183000.000</td>\n",
       "    </tr>\n",
       "  </tbody>\n",
       "</table>\n",
       "<p>28085 rows × 11 columns</p>\n",
       "</div>"
      ],
      "text/plain": [
       "                                   Industry  \\\n",
       "0              Education (Higher Education)   \n",
       "1                         Computing or Tech   \n",
       "2             Accounting, Banking & Finance   \n",
       "3                                Nonprofits   \n",
       "4             Accounting, Banking & Finance   \n",
       "...                                     ...   \n",
       "28080         Accounting, Banking & Finance   \n",
       "28081         Education (Primary/Secondary)   \n",
       "28082  Government and Public Administration   \n",
       "28083                     Computing or Tech   \n",
       "28084                       Social networks   \n",
       "\n",
       "                                      Job_title  Annual_salary Currency  \\\n",
       "0            Research and Instruction Librarian        55000.0      USD   \n",
       "1      Change & Internal Communications Manager        54600.0      GBP   \n",
       "2                          Marketing Specialist        34000.0      USD   \n",
       "3                               Program Manager        62000.0      USD   \n",
       "4                            Accounting Manager        60000.0      USD   \n",
       "...                                         ...            ...      ...   \n",
       "28080                      Product Manager Lead       117000.0      USD   \n",
       "28081                         Curriculum Writer        70000.0      USD   \n",
       "28082                          Clerical Officer        28600.0      EUR   \n",
       "28083                Software Engineering Co-Op        56160.0      USD   \n",
       "28084                           Content creator      2000000.0      USD   \n",
       "\n",
       "      Country_of_work Years_of_experience_in_your_field  \\\n",
       "0                U.S.                         5-7 years   \n",
       "1                U.K.                         5-7 years   \n",
       "2                U.S.                       2 - 4 years   \n",
       "3                U.S.                         5-7 years   \n",
       "4                U.S.                         5-7 years   \n",
       "...               ...                               ...   \n",
       "28080            U.S.                     11 - 20 years   \n",
       "28081            U.S.                     21 - 30 years   \n",
       "28082         Ireland                    1 year or less   \n",
       "28083            U.S.                    1 year or less   \n",
       "28084          Taiwan                       2 - 4 years   \n",
       "\n",
       "                       Level_of_education  Average_age Gender_category  \\\n",
       "0                         Master's degree         29.0          Female   \n",
       "1                          College degree         29.0      Non-binary   \n",
       "2                          College degree         29.0          Female   \n",
       "3                          College degree         29.0          Female   \n",
       "4                          College degree         29.0          Female   \n",
       "...                                   ...          ...             ...   \n",
       "28080                      College degree         49.0          Female   \n",
       "28081                     Master's degree         49.0          Female   \n",
       "28082  Professional degree (MD, JD, etc.)         59.0            Male   \n",
       "28083                      College degree         21.0            Male   \n",
       "28084                                 PhD          0.0      Non-binary   \n",
       "\n",
       "       Average_Years_of_experience  Annual_Salary_in_EUR  \n",
       "0                              6.0             60032.500  \n",
       "1                              9.0             45513.468  \n",
       "2                              3.0             37111.000  \n",
       "3                              9.0             67673.000  \n",
       "4                              9.0             65490.000  \n",
       "...                            ...                   ...  \n",
       "28080                         15.0            127705.500  \n",
       "28081                         25.0             76405.000  \n",
       "28082                         25.0             28600.000  \n",
       "28083                          1.0             61298.640  \n",
       "28084                         41.0           2183000.000  \n",
       "\n",
       "[28085 rows x 11 columns]"
      ]
     },
     "execution_count": 1135,
     "metadata": {},
     "output_type": "execute_result"
    }
   ],
   "source": [
    "# Dropping the outliers\n",
    "clean_reduced_df.drop(index=upper_array)\n",
    "clean_reduced_df.drop(index=lower_array)"
   ]
  },
  {
   "cell_type": "markdown",
   "id": "8d360802-87eb-40ae-8c68-30be03d94ae0",
   "metadata": {},
   "source": [
    "FEATURE SELECTION"
   ]
  },
  {
   "cell_type": "code",
   "execution_count": 1142,
   "id": "0570726c-436f-4dfe-b5a8-3980f10810f2",
   "metadata": {},
   "outputs": [
    {
     "data": {
      "text/plain": [
       "Industry                             0\n",
       "Job_title                            0\n",
       "Annual_salary                        0\n",
       "Currency                             0\n",
       "Country_of_work                      0\n",
       "Years_of_experience_in_your_field    0\n",
       "Level_of_education                   0\n",
       "Average_age                          0\n",
       "Gender_category                      0\n",
       "Average_Years_of_experience          0\n",
       "Annual_Salary_in_EUR                 0\n",
       "dtype: int64"
      ]
     },
     "execution_count": 1142,
     "metadata": {},
     "output_type": "execute_result"
    }
   ],
   "source": [
    "clean_reduced_df.isnull().sum()"
   ]
  },
  {
   "cell_type": "code",
   "execution_count": 1148,
   "id": "a338c50d-7c68-4eb1-a804-080c3cc2dd57",
   "metadata": {},
   "outputs": [],
   "source": [
    "selected_features = [\n",
    "    \"Average_age\", \"Industry\", \"Job_title\", \"Annual_Salary_in_EUR\",\n",
    "    \"Country_of_work\", \"Average_Years_of_experience\", \"Years_of_experience_in_your_field\",\n",
    "    \"Level_of_education\", \"Gender_category\"\n",
    "]"
   ]
  },
  {
   "cell_type": "code",
   "execution_count": 1152,
   "id": "673808ae-28ac-4cfa-bdd7-9698ee84185d",
   "metadata": {},
   "outputs": [],
   "source": [
    "clean_reduced_df = clean_reduced_df[selected_features]"
   ]
  },
  {
   "cell_type": "code",
   "execution_count": 1154,
   "id": "bba9a8cb-3b29-45f2-98a1-4a65c785445f",
   "metadata": {},
   "outputs": [
    {
     "name": "stdout",
     "output_type": "stream",
     "text": [
      "   Average_age                       Industry  \\\n",
      "0         29.0   Education (Higher Education)   \n",
      "1         29.0              Computing or Tech   \n",
      "2         29.0  Accounting, Banking & Finance   \n",
      "3         29.0                     Nonprofits   \n",
      "4         29.0  Accounting, Banking & Finance   \n",
      "\n",
      "                                  Job_title  Annual_Salary_in_EUR  \\\n",
      "0        Research and Instruction Librarian             60032.500   \n",
      "1  Change & Internal Communications Manager             45513.468   \n",
      "2                      Marketing Specialist             37111.000   \n",
      "3                           Program Manager             67673.000   \n",
      "4                        Accounting Manager             65490.000   \n",
      "\n",
      "  Country_of_work  Average_Years_of_experience  \\\n",
      "0            U.S.                          6.0   \n",
      "1            U.K.                          9.0   \n",
      "2            U.S.                          3.0   \n",
      "3            U.S.                          9.0   \n",
      "4            U.S.                          9.0   \n",
      "\n",
      "  Years_of_experience_in_your_field Level_of_education Gender_category  \n",
      "0                         5-7 years    Master's degree          Female  \n",
      "1                         5-7 years     College degree      Non-binary  \n",
      "2                       2 - 4 years     College degree          Female  \n",
      "3                         5-7 years     College degree          Female  \n",
      "4                         5-7 years     College degree          Female  \n"
     ]
    }
   ],
   "source": [
    "print(clean_reduced_df.head())"
   ]
  },
  {
   "cell_type": "code",
   "execution_count": 1138,
   "id": "82e0549f-741d-4396-9af4-a5474ca54b92",
   "metadata": {},
   "outputs": [],
   "source": [
    "# \n",
    "X = clean_reduced_df.iloc[:, 0:28177]\n",
    "y = clean_reduced_df.iloc[:, -1]"
   ]
  },
  {
   "cell_type": "code",
   "execution_count": 1139,
   "id": "211b3e9f-d648-47a0-8062-ba6b5c45d3bb",
   "metadata": {},
   "outputs": [
    {
     "data": {
      "text/html": [
       "<div>\n",
       "<style scoped>\n",
       "    .dataframe tbody tr th:only-of-type {\n",
       "        vertical-align: middle;\n",
       "    }\n",
       "\n",
       "    .dataframe tbody tr th {\n",
       "        vertical-align: top;\n",
       "    }\n",
       "\n",
       "    .dataframe thead th {\n",
       "        text-align: right;\n",
       "    }\n",
       "</style>\n",
       "<table border=\"1\" class=\"dataframe\">\n",
       "  <thead>\n",
       "    <tr style=\"text-align: right;\">\n",
       "      <th></th>\n",
       "      <th>Industry</th>\n",
       "      <th>Job_title</th>\n",
       "      <th>Annual_salary</th>\n",
       "      <th>Currency</th>\n",
       "      <th>Country_of_work</th>\n",
       "      <th>Years_of_experience_in_your_field</th>\n",
       "      <th>Level_of_education</th>\n",
       "      <th>Average_age</th>\n",
       "      <th>Gender_category</th>\n",
       "      <th>Average_Years_of_experience</th>\n",
       "      <th>Annual_Salary_in_EUR</th>\n",
       "    </tr>\n",
       "  </thead>\n",
       "  <tbody>\n",
       "    <tr>\n",
       "      <th>0</th>\n",
       "      <td>Education (Higher Education)</td>\n",
       "      <td>Research and Instruction Librarian</td>\n",
       "      <td>55000.0</td>\n",
       "      <td>USD</td>\n",
       "      <td>U.S.</td>\n",
       "      <td>5-7 years</td>\n",
       "      <td>Master's degree</td>\n",
       "      <td>29.0</td>\n",
       "      <td>Female</td>\n",
       "      <td>6.0</td>\n",
       "      <td>60032.500</td>\n",
       "    </tr>\n",
       "    <tr>\n",
       "      <th>1</th>\n",
       "      <td>Computing or Tech</td>\n",
       "      <td>Change &amp; Internal Communications Manager</td>\n",
       "      <td>54600.0</td>\n",
       "      <td>GBP</td>\n",
       "      <td>U.K.</td>\n",
       "      <td>5-7 years</td>\n",
       "      <td>College degree</td>\n",
       "      <td>29.0</td>\n",
       "      <td>Non-binary</td>\n",
       "      <td>9.0</td>\n",
       "      <td>45513.468</td>\n",
       "    </tr>\n",
       "    <tr>\n",
       "      <th>2</th>\n",
       "      <td>Accounting, Banking &amp; Finance</td>\n",
       "      <td>Marketing Specialist</td>\n",
       "      <td>34000.0</td>\n",
       "      <td>USD</td>\n",
       "      <td>U.S.</td>\n",
       "      <td>2 - 4 years</td>\n",
       "      <td>College degree</td>\n",
       "      <td>29.0</td>\n",
       "      <td>Female</td>\n",
       "      <td>3.0</td>\n",
       "      <td>37111.000</td>\n",
       "    </tr>\n",
       "    <tr>\n",
       "      <th>3</th>\n",
       "      <td>Nonprofits</td>\n",
       "      <td>Program Manager</td>\n",
       "      <td>62000.0</td>\n",
       "      <td>USD</td>\n",
       "      <td>U.S.</td>\n",
       "      <td>5-7 years</td>\n",
       "      <td>College degree</td>\n",
       "      <td>29.0</td>\n",
       "      <td>Female</td>\n",
       "      <td>9.0</td>\n",
       "      <td>67673.000</td>\n",
       "    </tr>\n",
       "    <tr>\n",
       "      <th>4</th>\n",
       "      <td>Accounting, Banking &amp; Finance</td>\n",
       "      <td>Accounting Manager</td>\n",
       "      <td>60000.0</td>\n",
       "      <td>USD</td>\n",
       "      <td>U.S.</td>\n",
       "      <td>5-7 years</td>\n",
       "      <td>College degree</td>\n",
       "      <td>29.0</td>\n",
       "      <td>Female</td>\n",
       "      <td>9.0</td>\n",
       "      <td>65490.000</td>\n",
       "    </tr>\n",
       "    <tr>\n",
       "      <th>...</th>\n",
       "      <td>...</td>\n",
       "      <td>...</td>\n",
       "      <td>...</td>\n",
       "      <td>...</td>\n",
       "      <td>...</td>\n",
       "      <td>...</td>\n",
       "      <td>...</td>\n",
       "      <td>...</td>\n",
       "      <td>...</td>\n",
       "      <td>...</td>\n",
       "      <td>...</td>\n",
       "    </tr>\n",
       "    <tr>\n",
       "      <th>28080</th>\n",
       "      <td>Accounting, Banking &amp; Finance</td>\n",
       "      <td>Product Manager Lead</td>\n",
       "      <td>117000.0</td>\n",
       "      <td>USD</td>\n",
       "      <td>U.S.</td>\n",
       "      <td>11 - 20 years</td>\n",
       "      <td>College degree</td>\n",
       "      <td>49.0</td>\n",
       "      <td>Female</td>\n",
       "      <td>15.0</td>\n",
       "      <td>127705.500</td>\n",
       "    </tr>\n",
       "    <tr>\n",
       "      <th>28081</th>\n",
       "      <td>Education (Primary/Secondary)</td>\n",
       "      <td>Curriculum Writer</td>\n",
       "      <td>70000.0</td>\n",
       "      <td>USD</td>\n",
       "      <td>U.S.</td>\n",
       "      <td>21 - 30 years</td>\n",
       "      <td>Master's degree</td>\n",
       "      <td>49.0</td>\n",
       "      <td>Female</td>\n",
       "      <td>25.0</td>\n",
       "      <td>76405.000</td>\n",
       "    </tr>\n",
       "    <tr>\n",
       "      <th>28082</th>\n",
       "      <td>Government and Public Administration</td>\n",
       "      <td>Clerical Officer</td>\n",
       "      <td>28600.0</td>\n",
       "      <td>EUR</td>\n",
       "      <td>Ireland</td>\n",
       "      <td>1 year or less</td>\n",
       "      <td>Professional degree (MD, JD, etc.)</td>\n",
       "      <td>59.0</td>\n",
       "      <td>Male</td>\n",
       "      <td>25.0</td>\n",
       "      <td>28600.000</td>\n",
       "    </tr>\n",
       "    <tr>\n",
       "      <th>28083</th>\n",
       "      <td>Computing or Tech</td>\n",
       "      <td>Software Engineering Co-Op</td>\n",
       "      <td>56160.0</td>\n",
       "      <td>USD</td>\n",
       "      <td>U.S.</td>\n",
       "      <td>1 year or less</td>\n",
       "      <td>College degree</td>\n",
       "      <td>21.0</td>\n",
       "      <td>Male</td>\n",
       "      <td>1.0</td>\n",
       "      <td>61298.640</td>\n",
       "    </tr>\n",
       "    <tr>\n",
       "      <th>28084</th>\n",
       "      <td>Social networks</td>\n",
       "      <td>Content creator</td>\n",
       "      <td>2000000.0</td>\n",
       "      <td>USD</td>\n",
       "      <td>Taiwan</td>\n",
       "      <td>2 - 4 years</td>\n",
       "      <td>PhD</td>\n",
       "      <td>0.0</td>\n",
       "      <td>Non-binary</td>\n",
       "      <td>41.0</td>\n",
       "      <td>2183000.000</td>\n",
       "    </tr>\n",
       "  </tbody>\n",
       "</table>\n",
       "<p>28085 rows × 11 columns</p>\n",
       "</div>"
      ],
      "text/plain": [
       "                                   Industry  \\\n",
       "0              Education (Higher Education)   \n",
       "1                         Computing or Tech   \n",
       "2             Accounting, Banking & Finance   \n",
       "3                                Nonprofits   \n",
       "4             Accounting, Banking & Finance   \n",
       "...                                     ...   \n",
       "28080         Accounting, Banking & Finance   \n",
       "28081         Education (Primary/Secondary)   \n",
       "28082  Government and Public Administration   \n",
       "28083                     Computing or Tech   \n",
       "28084                       Social networks   \n",
       "\n",
       "                                      Job_title  Annual_salary Currency  \\\n",
       "0            Research and Instruction Librarian        55000.0      USD   \n",
       "1      Change & Internal Communications Manager        54600.0      GBP   \n",
       "2                          Marketing Specialist        34000.0      USD   \n",
       "3                               Program Manager        62000.0      USD   \n",
       "4                            Accounting Manager        60000.0      USD   \n",
       "...                                         ...            ...      ...   \n",
       "28080                      Product Manager Lead       117000.0      USD   \n",
       "28081                         Curriculum Writer        70000.0      USD   \n",
       "28082                          Clerical Officer        28600.0      EUR   \n",
       "28083                Software Engineering Co-Op        56160.0      USD   \n",
       "28084                           Content creator      2000000.0      USD   \n",
       "\n",
       "      Country_of_work Years_of_experience_in_your_field  \\\n",
       "0                U.S.                         5-7 years   \n",
       "1                U.K.                         5-7 years   \n",
       "2                U.S.                       2 - 4 years   \n",
       "3                U.S.                         5-7 years   \n",
       "4                U.S.                         5-7 years   \n",
       "...               ...                               ...   \n",
       "28080            U.S.                     11 - 20 years   \n",
       "28081            U.S.                     21 - 30 years   \n",
       "28082         Ireland                    1 year or less   \n",
       "28083            U.S.                    1 year or less   \n",
       "28084          Taiwan                       2 - 4 years   \n",
       "\n",
       "                       Level_of_education  Average_age Gender_category  \\\n",
       "0                         Master's degree         29.0          Female   \n",
       "1                          College degree         29.0      Non-binary   \n",
       "2                          College degree         29.0          Female   \n",
       "3                          College degree         29.0          Female   \n",
       "4                          College degree         29.0          Female   \n",
       "...                                   ...          ...             ...   \n",
       "28080                      College degree         49.0          Female   \n",
       "28081                     Master's degree         49.0          Female   \n",
       "28082  Professional degree (MD, JD, etc.)         59.0            Male   \n",
       "28083                      College degree         21.0            Male   \n",
       "28084                                 PhD          0.0      Non-binary   \n",
       "\n",
       "       Average_Years_of_experience  Annual_Salary_in_EUR  \n",
       "0                              6.0             60032.500  \n",
       "1                              9.0             45513.468  \n",
       "2                              3.0             37111.000  \n",
       "3                              9.0             67673.000  \n",
       "4                              9.0             65490.000  \n",
       "...                            ...                   ...  \n",
       "28080                         15.0            127705.500  \n",
       "28081                         25.0             76405.000  \n",
       "28082                         25.0             28600.000  \n",
       "28083                          1.0             61298.640  \n",
       "28084                         41.0           2183000.000  \n",
       "\n",
       "[28085 rows x 11 columns]"
      ]
     },
     "execution_count": 1139,
     "metadata": {},
     "output_type": "execute_result"
    }
   ],
   "source": [
    "X"
   ]
  },
  {
   "cell_type": "code",
   "execution_count": 1140,
   "id": "4d309a6b-867b-48e2-b220-9a9c7630e778",
   "metadata": {},
   "outputs": [],
   "source": [
    "# ValueError: could not convert string to float: '25-34'\n",
    "#bestfeatures = SelectKBest(score_func=chi2, k=10)\n",
    "#fit = bestfeatures.fit(X,y)\n",
    "#dfscores=pd.clean_reduced_df(fit.scores_)\n",
    "#dfcolumns=pd.clean_reduced_df(X.columns)"
   ]
  },
  {
   "cell_type": "code",
   "execution_count": 1156,
   "id": "44636cc9-ef98-4592-945d-4b7e56658e62",
   "metadata": {},
   "outputs": [
    {
     "ename": "ValueError",
     "evalue": "could not convert string to float: 'Education (Higher Education)'",
     "output_type": "error",
     "traceback": [
      "\u001b[1;31m---------------------------------------------------------------------------\u001b[0m",
      "\u001b[1;31mValueError\u001b[0m                                Traceback (most recent call last)",
      "\u001b[1;32m~\\AppData\\Local\\Temp\\ipykernel_64060\\4142384986.py\u001b[0m in \u001b[0;36m?\u001b[1;34m()\u001b[0m\n\u001b[0;32m      1\u001b[0m \u001b[0mbestfeatures\u001b[0m \u001b[1;33m=\u001b[0m \u001b[0mSelectKBest\u001b[0m\u001b[1;33m(\u001b[0m\u001b[0mscore_func\u001b[0m\u001b[1;33m=\u001b[0m\u001b[0mchi2\u001b[0m\u001b[1;33m,\u001b[0m \u001b[0mk\u001b[0m\u001b[1;33m=\u001b[0m\u001b[1;36m10\u001b[0m\u001b[1;33m)\u001b[0m\u001b[1;33m\u001b[0m\u001b[1;33m\u001b[0m\u001b[0m\n\u001b[1;32m----> 2\u001b[1;33m \u001b[0mfit\u001b[0m \u001b[1;33m=\u001b[0m \u001b[0mbestfeatures\u001b[0m\u001b[1;33m.\u001b[0m\u001b[0mfit\u001b[0m\u001b[1;33m(\u001b[0m\u001b[0mX\u001b[0m\u001b[1;33m,\u001b[0m\u001b[0my\u001b[0m\u001b[1;33m)\u001b[0m\u001b[1;33m\u001b[0m\u001b[1;33m\u001b[0m\u001b[0m\n\u001b[0m\u001b[0;32m      3\u001b[0m \u001b[0mdfscores\u001b[0m\u001b[1;33m=\u001b[0m\u001b[0mpd\u001b[0m\u001b[1;33m.\u001b[0m\u001b[0mclean_reduced_df\u001b[0m\u001b[1;33m(\u001b[0m\u001b[0mfit\u001b[0m\u001b[1;33m.\u001b[0m\u001b[0mscores_\u001b[0m\u001b[1;33m)\u001b[0m\u001b[1;33m\u001b[0m\u001b[1;33m\u001b[0m\u001b[0m\n\u001b[0;32m      4\u001b[0m \u001b[0mdfcolumns\u001b[0m\u001b[1;33m=\u001b[0m\u001b[0mpd\u001b[0m\u001b[1;33m.\u001b[0m\u001b[0mclean_reduced_df\u001b[0m\u001b[1;33m(\u001b[0m\u001b[0mX\u001b[0m\u001b[1;33m.\u001b[0m\u001b[0mcolumns\u001b[0m\u001b[1;33m)\u001b[0m\u001b[1;33m\u001b[0m\u001b[1;33m\u001b[0m\u001b[0m\n",
      "\u001b[1;32m~\\anaconda3\\Lib\\site-packages\\sklearn\\base.py\u001b[0m in \u001b[0;36m?\u001b[1;34m(estimator, *args, **kwargs)\u001b[0m\n\u001b[0;32m   1470\u001b[0m                 skip_parameter_validation=(\n\u001b[0;32m   1471\u001b[0m                     \u001b[0mprefer_skip_nested_validation\u001b[0m \u001b[1;32mor\u001b[0m \u001b[0mglobal_skip_validation\u001b[0m\u001b[1;33m\u001b[0m\u001b[1;33m\u001b[0m\u001b[0m\n\u001b[0;32m   1472\u001b[0m                 \u001b[1;33m)\u001b[0m\u001b[1;33m\u001b[0m\u001b[1;33m\u001b[0m\u001b[0m\n\u001b[0;32m   1473\u001b[0m             \u001b[1;33m)\u001b[0m\u001b[1;33m:\u001b[0m\u001b[1;33m\u001b[0m\u001b[1;33m\u001b[0m\u001b[0m\n\u001b[1;32m-> 1474\u001b[1;33m                 \u001b[1;32mreturn\u001b[0m \u001b[0mfit_method\u001b[0m\u001b[1;33m(\u001b[0m\u001b[0mestimator\u001b[0m\u001b[1;33m,\u001b[0m \u001b[1;33m*\u001b[0m\u001b[0margs\u001b[0m\u001b[1;33m,\u001b[0m \u001b[1;33m**\u001b[0m\u001b[0mkwargs\u001b[0m\u001b[1;33m)\u001b[0m\u001b[1;33m\u001b[0m\u001b[1;33m\u001b[0m\u001b[0m\n\u001b[0m",
      "\u001b[1;32m~\\anaconda3\\Lib\\site-packages\\sklearn\\feature_selection\\_univariate_selection.py\u001b[0m in \u001b[0;36m?\u001b[1;34m(self, X, y)\u001b[0m\n\u001b[0;32m    558\u001b[0m         \"\"\"\n\u001b[0;32m    559\u001b[0m         \u001b[1;32mif\u001b[0m \u001b[0my\u001b[0m \u001b[1;32mis\u001b[0m \u001b[1;32mNone\u001b[0m\u001b[1;33m:\u001b[0m\u001b[1;33m\u001b[0m\u001b[1;33m\u001b[0m\u001b[0m\n\u001b[0;32m    560\u001b[0m             \u001b[0mX\u001b[0m \u001b[1;33m=\u001b[0m \u001b[0mself\u001b[0m\u001b[1;33m.\u001b[0m\u001b[0m_validate_data\u001b[0m\u001b[1;33m(\u001b[0m\u001b[0mX\u001b[0m\u001b[1;33m,\u001b[0m \u001b[0maccept_sparse\u001b[0m\u001b[1;33m=\u001b[0m\u001b[1;33m[\u001b[0m\u001b[1;34m\"csr\"\u001b[0m\u001b[1;33m,\u001b[0m \u001b[1;34m\"csc\"\u001b[0m\u001b[1;33m]\u001b[0m\u001b[1;33m)\u001b[0m\u001b[1;33m\u001b[0m\u001b[1;33m\u001b[0m\u001b[0m\n\u001b[0;32m    561\u001b[0m         \u001b[1;32melse\u001b[0m\u001b[1;33m:\u001b[0m\u001b[1;33m\u001b[0m\u001b[1;33m\u001b[0m\u001b[0m\n\u001b[1;32m--> 562\u001b[1;33m             X, y = self._validate_data(\n\u001b[0m\u001b[0;32m    563\u001b[0m                 \u001b[0mX\u001b[0m\u001b[1;33m,\u001b[0m \u001b[0my\u001b[0m\u001b[1;33m,\u001b[0m \u001b[0maccept_sparse\u001b[0m\u001b[1;33m=\u001b[0m\u001b[1;33m[\u001b[0m\u001b[1;34m\"csr\"\u001b[0m\u001b[1;33m,\u001b[0m \u001b[1;34m\"csc\"\u001b[0m\u001b[1;33m]\u001b[0m\u001b[1;33m,\u001b[0m \u001b[0mmulti_output\u001b[0m\u001b[1;33m=\u001b[0m\u001b[1;32mTrue\u001b[0m\u001b[1;33m\u001b[0m\u001b[1;33m\u001b[0m\u001b[0m\n\u001b[0;32m    564\u001b[0m             \u001b[1;33m)\u001b[0m\u001b[1;33m\u001b[0m\u001b[1;33m\u001b[0m\u001b[0m\n\u001b[0;32m    565\u001b[0m \u001b[1;33m\u001b[0m\u001b[0m\n",
      "\u001b[1;32m~\\anaconda3\\Lib\\site-packages\\sklearn\\base.py\u001b[0m in \u001b[0;36m?\u001b[1;34m(self, X, y, reset, validate_separately, cast_to_ndarray, **check_params)\u001b[0m\n\u001b[0;32m    646\u001b[0m                 \u001b[1;32mif\u001b[0m \u001b[1;34m\"estimator\"\u001b[0m \u001b[1;32mnot\u001b[0m \u001b[1;32min\u001b[0m \u001b[0mcheck_y_params\u001b[0m\u001b[1;33m:\u001b[0m\u001b[1;33m\u001b[0m\u001b[1;33m\u001b[0m\u001b[0m\n\u001b[0;32m    647\u001b[0m                     \u001b[0mcheck_y_params\u001b[0m \u001b[1;33m=\u001b[0m \u001b[1;33m{\u001b[0m\u001b[1;33m**\u001b[0m\u001b[0mdefault_check_params\u001b[0m\u001b[1;33m,\u001b[0m \u001b[1;33m**\u001b[0m\u001b[0mcheck_y_params\u001b[0m\u001b[1;33m}\u001b[0m\u001b[1;33m\u001b[0m\u001b[1;33m\u001b[0m\u001b[0m\n\u001b[0;32m    648\u001b[0m                 \u001b[0my\u001b[0m \u001b[1;33m=\u001b[0m \u001b[0mcheck_array\u001b[0m\u001b[1;33m(\u001b[0m\u001b[0my\u001b[0m\u001b[1;33m,\u001b[0m \u001b[0minput_name\u001b[0m\u001b[1;33m=\u001b[0m\u001b[1;34m\"y\"\u001b[0m\u001b[1;33m,\u001b[0m \u001b[1;33m**\u001b[0m\u001b[0mcheck_y_params\u001b[0m\u001b[1;33m)\u001b[0m\u001b[1;33m\u001b[0m\u001b[1;33m\u001b[0m\u001b[0m\n\u001b[0;32m    649\u001b[0m             \u001b[1;32melse\u001b[0m\u001b[1;33m:\u001b[0m\u001b[1;33m\u001b[0m\u001b[1;33m\u001b[0m\u001b[0m\n\u001b[1;32m--> 650\u001b[1;33m                 \u001b[0mX\u001b[0m\u001b[1;33m,\u001b[0m \u001b[0my\u001b[0m \u001b[1;33m=\u001b[0m \u001b[0mcheck_X_y\u001b[0m\u001b[1;33m(\u001b[0m\u001b[0mX\u001b[0m\u001b[1;33m,\u001b[0m \u001b[0my\u001b[0m\u001b[1;33m,\u001b[0m \u001b[1;33m**\u001b[0m\u001b[0mcheck_params\u001b[0m\u001b[1;33m)\u001b[0m\u001b[1;33m\u001b[0m\u001b[1;33m\u001b[0m\u001b[0m\n\u001b[0m\u001b[0;32m    651\u001b[0m             \u001b[0mout\u001b[0m \u001b[1;33m=\u001b[0m \u001b[0mX\u001b[0m\u001b[1;33m,\u001b[0m \u001b[0my\u001b[0m\u001b[1;33m\u001b[0m\u001b[1;33m\u001b[0m\u001b[0m\n\u001b[0;32m    652\u001b[0m \u001b[1;33m\u001b[0m\u001b[0m\n\u001b[0;32m    653\u001b[0m         \u001b[1;32mif\u001b[0m \u001b[1;32mnot\u001b[0m \u001b[0mno_val_X\u001b[0m \u001b[1;32mand\u001b[0m \u001b[0mcheck_params\u001b[0m\u001b[1;33m.\u001b[0m\u001b[0mget\u001b[0m\u001b[1;33m(\u001b[0m\u001b[1;34m\"ensure_2d\"\u001b[0m\u001b[1;33m,\u001b[0m \u001b[1;32mTrue\u001b[0m\u001b[1;33m)\u001b[0m\u001b[1;33m:\u001b[0m\u001b[1;33m\u001b[0m\u001b[1;33m\u001b[0m\u001b[0m\n",
      "\u001b[1;32m~\\anaconda3\\Lib\\site-packages\\sklearn\\utils\\validation.py\u001b[0m in \u001b[0;36m?\u001b[1;34m(X, y, accept_sparse, accept_large_sparse, dtype, order, copy, force_all_finite, ensure_2d, allow_nd, multi_output, ensure_min_samples, ensure_min_features, y_numeric, estimator)\u001b[0m\n\u001b[0;32m   1259\u001b[0m         raise ValueError(\n\u001b[0;32m   1260\u001b[0m             \u001b[1;33mf\"\u001b[0m\u001b[1;33m{\u001b[0m\u001b[0mestimator_name\u001b[0m\u001b[1;33m}\u001b[0m\u001b[1;33m requires y to be passed, but the target y is None\u001b[0m\u001b[1;33m\"\u001b[0m\u001b[1;33m\u001b[0m\u001b[1;33m\u001b[0m\u001b[0m\n\u001b[0;32m   1261\u001b[0m         \u001b[1;33m)\u001b[0m\u001b[1;33m\u001b[0m\u001b[1;33m\u001b[0m\u001b[0m\n\u001b[0;32m   1262\u001b[0m \u001b[1;33m\u001b[0m\u001b[0m\n\u001b[1;32m-> 1263\u001b[1;33m     X = check_array(\n\u001b[0m\u001b[0;32m   1264\u001b[0m         \u001b[0mX\u001b[0m\u001b[1;33m,\u001b[0m\u001b[1;33m\u001b[0m\u001b[1;33m\u001b[0m\u001b[0m\n\u001b[0;32m   1265\u001b[0m         \u001b[0maccept_sparse\u001b[0m\u001b[1;33m=\u001b[0m\u001b[0maccept_sparse\u001b[0m\u001b[1;33m,\u001b[0m\u001b[1;33m\u001b[0m\u001b[1;33m\u001b[0m\u001b[0m\n\u001b[0;32m   1266\u001b[0m         \u001b[0maccept_large_sparse\u001b[0m\u001b[1;33m=\u001b[0m\u001b[0maccept_large_sparse\u001b[0m\u001b[1;33m,\u001b[0m\u001b[1;33m\u001b[0m\u001b[1;33m\u001b[0m\u001b[0m\n",
      "\u001b[1;32m~\\anaconda3\\Lib\\site-packages\\sklearn\\utils\\validation.py\u001b[0m in \u001b[0;36m?\u001b[1;34m(array, accept_sparse, accept_large_sparse, dtype, order, copy, force_all_finite, ensure_2d, allow_nd, ensure_min_samples, ensure_min_features, estimator, input_name)\u001b[0m\n\u001b[0;32m    994\u001b[0m                         \u001b[1;33m)\u001b[0m\u001b[1;33m\u001b[0m\u001b[1;33m\u001b[0m\u001b[0m\n\u001b[0;32m    995\u001b[0m                     \u001b[0marray\u001b[0m \u001b[1;33m=\u001b[0m \u001b[0mxp\u001b[0m\u001b[1;33m.\u001b[0m\u001b[0mastype\u001b[0m\u001b[1;33m(\u001b[0m\u001b[0marray\u001b[0m\u001b[1;33m,\u001b[0m \u001b[0mdtype\u001b[0m\u001b[1;33m,\u001b[0m \u001b[0mcopy\u001b[0m\u001b[1;33m=\u001b[0m\u001b[1;32mFalse\u001b[0m\u001b[1;33m)\u001b[0m\u001b[1;33m\u001b[0m\u001b[1;33m\u001b[0m\u001b[0m\n\u001b[0;32m    996\u001b[0m                 \u001b[1;32melse\u001b[0m\u001b[1;33m:\u001b[0m\u001b[1;33m\u001b[0m\u001b[1;33m\u001b[0m\u001b[0m\n\u001b[0;32m    997\u001b[0m                     \u001b[0marray\u001b[0m \u001b[1;33m=\u001b[0m \u001b[0m_asarray_with_order\u001b[0m\u001b[1;33m(\u001b[0m\u001b[0marray\u001b[0m\u001b[1;33m,\u001b[0m \u001b[0morder\u001b[0m\u001b[1;33m=\u001b[0m\u001b[0morder\u001b[0m\u001b[1;33m,\u001b[0m \u001b[0mdtype\u001b[0m\u001b[1;33m=\u001b[0m\u001b[0mdtype\u001b[0m\u001b[1;33m,\u001b[0m \u001b[0mxp\u001b[0m\u001b[1;33m=\u001b[0m\u001b[0mxp\u001b[0m\u001b[1;33m)\u001b[0m\u001b[1;33m\u001b[0m\u001b[1;33m\u001b[0m\u001b[0m\n\u001b[1;32m--> 998\u001b[1;33m             \u001b[1;32mexcept\u001b[0m \u001b[0mComplexWarning\u001b[0m \u001b[1;32mas\u001b[0m \u001b[0mcomplex_warning\u001b[0m\u001b[1;33m:\u001b[0m\u001b[1;33m\u001b[0m\u001b[1;33m\u001b[0m\u001b[0m\n\u001b[0m\u001b[0;32m    999\u001b[0m                 raise ValueError(\n\u001b[0;32m   1000\u001b[0m                     \u001b[1;34m\"Complex data not supported\\n{}\\n\"\u001b[0m\u001b[1;33m.\u001b[0m\u001b[0mformat\u001b[0m\u001b[1;33m(\u001b[0m\u001b[0marray\u001b[0m\u001b[1;33m)\u001b[0m\u001b[1;33m\u001b[0m\u001b[1;33m\u001b[0m\u001b[0m\n\u001b[0;32m   1001\u001b[0m                 \u001b[1;33m)\u001b[0m \u001b[1;32mfrom\u001b[0m \u001b[0mcomplex_warning\u001b[0m\u001b[1;33m\u001b[0m\u001b[1;33m\u001b[0m\u001b[0m\n",
      "\u001b[1;32m~\\anaconda3\\Lib\\site-packages\\sklearn\\utils\\_array_api.py\u001b[0m in \u001b[0;36m?\u001b[1;34m(array, dtype, order, copy, xp)\u001b[0m\n\u001b[0;32m    517\u001b[0m         \u001b[1;31m# Use NumPy API to support order\u001b[0m\u001b[1;33m\u001b[0m\u001b[1;33m\u001b[0m\u001b[0m\n\u001b[0;32m    518\u001b[0m         \u001b[1;32mif\u001b[0m \u001b[0mcopy\u001b[0m \u001b[1;32mis\u001b[0m \u001b[1;32mTrue\u001b[0m\u001b[1;33m:\u001b[0m\u001b[1;33m\u001b[0m\u001b[1;33m\u001b[0m\u001b[0m\n\u001b[0;32m    519\u001b[0m             \u001b[0marray\u001b[0m \u001b[1;33m=\u001b[0m \u001b[0mnumpy\u001b[0m\u001b[1;33m.\u001b[0m\u001b[0marray\u001b[0m\u001b[1;33m(\u001b[0m\u001b[0marray\u001b[0m\u001b[1;33m,\u001b[0m \u001b[0morder\u001b[0m\u001b[1;33m=\u001b[0m\u001b[0morder\u001b[0m\u001b[1;33m,\u001b[0m \u001b[0mdtype\u001b[0m\u001b[1;33m=\u001b[0m\u001b[0mdtype\u001b[0m\u001b[1;33m)\u001b[0m\u001b[1;33m\u001b[0m\u001b[1;33m\u001b[0m\u001b[0m\n\u001b[0;32m    520\u001b[0m         \u001b[1;32melse\u001b[0m\u001b[1;33m:\u001b[0m\u001b[1;33m\u001b[0m\u001b[1;33m\u001b[0m\u001b[0m\n\u001b[1;32m--> 521\u001b[1;33m             \u001b[0marray\u001b[0m \u001b[1;33m=\u001b[0m \u001b[0mnumpy\u001b[0m\u001b[1;33m.\u001b[0m\u001b[0masarray\u001b[0m\u001b[1;33m(\u001b[0m\u001b[0marray\u001b[0m\u001b[1;33m,\u001b[0m \u001b[0morder\u001b[0m\u001b[1;33m=\u001b[0m\u001b[0morder\u001b[0m\u001b[1;33m,\u001b[0m \u001b[0mdtype\u001b[0m\u001b[1;33m=\u001b[0m\u001b[0mdtype\u001b[0m\u001b[1;33m)\u001b[0m\u001b[1;33m\u001b[0m\u001b[1;33m\u001b[0m\u001b[0m\n\u001b[0m\u001b[0;32m    522\u001b[0m \u001b[1;33m\u001b[0m\u001b[0m\n\u001b[0;32m    523\u001b[0m         \u001b[1;31m# At this point array is a NumPy ndarray. We convert it to an array\u001b[0m\u001b[1;33m\u001b[0m\u001b[1;33m\u001b[0m\u001b[0m\n\u001b[0;32m    524\u001b[0m         \u001b[1;31m# container that is consistent with the input's namespace.\u001b[0m\u001b[1;33m\u001b[0m\u001b[1;33m\u001b[0m\u001b[0m\n",
      "\u001b[1;32m~\\anaconda3\\Lib\\site-packages\\pandas\\core\\generic.py\u001b[0m in \u001b[0;36m?\u001b[1;34m(self, dtype, copy)\u001b[0m\n\u001b[0;32m   2149\u001b[0m     def __array__(\n\u001b[0;32m   2150\u001b[0m         \u001b[0mself\u001b[0m\u001b[1;33m,\u001b[0m \u001b[0mdtype\u001b[0m\u001b[1;33m:\u001b[0m \u001b[0mnpt\u001b[0m\u001b[1;33m.\u001b[0m\u001b[0mDTypeLike\u001b[0m \u001b[1;33m|\u001b[0m \u001b[1;32mNone\u001b[0m \u001b[1;33m=\u001b[0m \u001b[1;32mNone\u001b[0m\u001b[1;33m,\u001b[0m \u001b[0mcopy\u001b[0m\u001b[1;33m:\u001b[0m \u001b[0mbool_t\u001b[0m \u001b[1;33m|\u001b[0m \u001b[1;32mNone\u001b[0m \u001b[1;33m=\u001b[0m \u001b[1;32mNone\u001b[0m\u001b[1;33m\u001b[0m\u001b[1;33m\u001b[0m\u001b[0m\n\u001b[0;32m   2151\u001b[0m     \u001b[1;33m)\u001b[0m \u001b[1;33m->\u001b[0m \u001b[0mnp\u001b[0m\u001b[1;33m.\u001b[0m\u001b[0mndarray\u001b[0m\u001b[1;33m:\u001b[0m\u001b[1;33m\u001b[0m\u001b[1;33m\u001b[0m\u001b[0m\n\u001b[0;32m   2152\u001b[0m         \u001b[0mvalues\u001b[0m \u001b[1;33m=\u001b[0m \u001b[0mself\u001b[0m\u001b[1;33m.\u001b[0m\u001b[0m_values\u001b[0m\u001b[1;33m\u001b[0m\u001b[1;33m\u001b[0m\u001b[0m\n\u001b[1;32m-> 2153\u001b[1;33m         \u001b[0marr\u001b[0m \u001b[1;33m=\u001b[0m \u001b[0mnp\u001b[0m\u001b[1;33m.\u001b[0m\u001b[0masarray\u001b[0m\u001b[1;33m(\u001b[0m\u001b[0mvalues\u001b[0m\u001b[1;33m,\u001b[0m \u001b[0mdtype\u001b[0m\u001b[1;33m=\u001b[0m\u001b[0mdtype\u001b[0m\u001b[1;33m)\u001b[0m\u001b[1;33m\u001b[0m\u001b[1;33m\u001b[0m\u001b[0m\n\u001b[0m\u001b[0;32m   2154\u001b[0m         if (\n\u001b[0;32m   2155\u001b[0m             \u001b[0mastype_is_view\u001b[0m\u001b[1;33m(\u001b[0m\u001b[0mvalues\u001b[0m\u001b[1;33m.\u001b[0m\u001b[0mdtype\u001b[0m\u001b[1;33m,\u001b[0m \u001b[0marr\u001b[0m\u001b[1;33m.\u001b[0m\u001b[0mdtype\u001b[0m\u001b[1;33m)\u001b[0m\u001b[1;33m\u001b[0m\u001b[1;33m\u001b[0m\u001b[0m\n\u001b[0;32m   2156\u001b[0m             \u001b[1;32mand\u001b[0m \u001b[0musing_copy_on_write\u001b[0m\u001b[1;33m(\u001b[0m\u001b[1;33m)\u001b[0m\u001b[1;33m\u001b[0m\u001b[1;33m\u001b[0m\u001b[0m\n",
      "\u001b[1;31mValueError\u001b[0m: could not convert string to float: 'Education (Higher Education)'"
     ]
    }
   ],
   "source": [
    "bestfeatures = SelectKBest(score_func=chi2, k=10)\n",
    "fit = bestfeatures.fit(X,y)\n",
    "dfscores=pd.clean_reduced_df(fit.scores_)\n",
    "dfcolumns=pd.clean_reduced_df(X.columns)"
   ]
  },
  {
   "cell_type": "code",
   "execution_count": null,
   "id": "fa577683-4bf6-4539-8a23-923be5d9b680",
   "metadata": {},
   "outputs": [],
   "source": []
  }
 ],
 "metadata": {
  "kernelspec": {
   "display_name": "Python 3 (ipykernel)",
   "language": "python",
   "name": "python3"
  },
  "language_info": {
   "codemirror_mode": {
    "name": "ipython",
    "version": 3
   },
   "file_extension": ".py",
   "mimetype": "text/x-python",
   "name": "python",
   "nbconvert_exporter": "python",
   "pygments_lexer": "ipython3",
   "version": "3.12.4"
  }
 },
 "nbformat": 4,
 "nbformat_minor": 5
}
