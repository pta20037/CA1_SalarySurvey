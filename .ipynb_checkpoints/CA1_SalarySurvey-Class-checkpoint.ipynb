{
 "cells": [
  {
   "cell_type": "code",
   "execution_count": 1,
   "id": "1fd3c5f6-fa75-412b-9634-43cb6a99b929",
   "metadata": {},
   "outputs": [],
   "source": [
    "import pandas as pd\n",
    "import numpy as np\n",
    "import seaborn as sns\n",
    "import matplotlib.pyplot as plt"
   ]
  },
  {
   "cell_type": "code",
   "execution_count": 2,
   "id": "8023e21c-6f1d-45a9-9f85-38313045f386",
   "metadata": {},
   "outputs": [],
   "source": [
    "df=pd.read_csv('Salary_Survey.csv')"
   ]
  },
  {
   "cell_type": "code",
   "execution_count": 3,
   "id": "dfb3fc63-adaf-4b43-b049-ec37e8f3a413",
   "metadata": {
    "scrolled": true
   },
   "outputs": [
    {
     "data": {
      "text/html": [
       "<div>\n",
       "<style scoped>\n",
       "    .dataframe tbody tr th:only-of-type {\n",
       "        vertical-align: middle;\n",
       "    }\n",
       "\n",
       "    .dataframe tbody tr th {\n",
       "        vertical-align: top;\n",
       "    }\n",
       "\n",
       "    .dataframe thead th {\n",
       "        text-align: right;\n",
       "    }\n",
       "</style>\n",
       "<table border=\"1\" class=\"dataframe\">\n",
       "  <thead>\n",
       "    <tr style=\"text-align: right;\">\n",
       "      <th></th>\n",
       "      <th>Timestamp</th>\n",
       "      <th>How old are you?</th>\n",
       "      <th>What industry do you work in?</th>\n",
       "      <th>Job title</th>\n",
       "      <th>If your job title needs additional context, please clarify here:</th>\n",
       "      <th>What is your annual salary? (You'll indicate the currency in a later question. If you are part-time or hourly, please enter an annualized equivalent -- what you would earn if you worked the job 40 hours a week, 52 weeks a year.)</th>\n",
       "      <th>How much additional monetary compensation do you get, if any (for example, bonuses or overtime in an average year)? Please only include monetary compensation here, not the value of benefits.</th>\n",
       "      <th>Please indicate the currency</th>\n",
       "      <th>If \"Other,\" please indicate the currency here:</th>\n",
       "      <th>If your income needs additional context, please provide it here:</th>\n",
       "      <th>...</th>\n",
       "      <th>How many years of professional work experience do you have overall?</th>\n",
       "      <th>How many years of professional work experience do you have in your field?</th>\n",
       "      <th>What is your highest level of education completed?</th>\n",
       "      <th>What is your gender?</th>\n",
       "      <th>Unnamed: 17</th>\n",
       "      <th>Unnamed: 18</th>\n",
       "      <th>Unnamed: 19</th>\n",
       "      <th>Unnamed: 20</th>\n",
       "      <th>Unnamed: 21</th>\n",
       "      <th>Unnamed: 22</th>\n",
       "    </tr>\n",
       "  </thead>\n",
       "  <tbody>\n",
       "    <tr>\n",
       "      <th>0</th>\n",
       "      <td>4/27/2021 11:02:10</td>\n",
       "      <td>25-34</td>\n",
       "      <td>Education (Higher Education)</td>\n",
       "      <td>Research and Instruction Librarian</td>\n",
       "      <td>NaN</td>\n",
       "      <td>55,000</td>\n",
       "      <td>0.0</td>\n",
       "      <td>USD</td>\n",
       "      <td>NaN</td>\n",
       "      <td>NaN</td>\n",
       "      <td>...</td>\n",
       "      <td>5-7 years</td>\n",
       "      <td>5-7 years</td>\n",
       "      <td>Master's degree</td>\n",
       "      <td>Woman</td>\n",
       "      <td>NaN</td>\n",
       "      <td>NaN</td>\n",
       "      <td>NaN</td>\n",
       "      <td>NaN</td>\n",
       "      <td>NaN</td>\n",
       "      <td>NaN</td>\n",
       "    </tr>\n",
       "    <tr>\n",
       "      <th>1</th>\n",
       "      <td>4/27/2021 11:02:22</td>\n",
       "      <td>25-34</td>\n",
       "      <td>Computing or Tech</td>\n",
       "      <td>Change &amp; Internal Communications Manager</td>\n",
       "      <td>NaN</td>\n",
       "      <td>54,600</td>\n",
       "      <td>4000.0</td>\n",
       "      <td>GBP</td>\n",
       "      <td>NaN</td>\n",
       "      <td>NaN</td>\n",
       "      <td>...</td>\n",
       "      <td>8 - 10 years</td>\n",
       "      <td>5-7 years</td>\n",
       "      <td>College degree</td>\n",
       "      <td>Non-binary</td>\n",
       "      <td>NaN</td>\n",
       "      <td>NaN</td>\n",
       "      <td>NaN</td>\n",
       "      <td>NaN</td>\n",
       "      <td>NaN</td>\n",
       "      <td>NaN</td>\n",
       "    </tr>\n",
       "    <tr>\n",
       "      <th>2</th>\n",
       "      <td>4/27/2021 11:02:38</td>\n",
       "      <td>25-34</td>\n",
       "      <td>Accounting, Banking &amp; Finance</td>\n",
       "      <td>Marketing Specialist</td>\n",
       "      <td>NaN</td>\n",
       "      <td>34,000</td>\n",
       "      <td>NaN</td>\n",
       "      <td>USD</td>\n",
       "      <td>NaN</td>\n",
       "      <td>NaN</td>\n",
       "      <td>...</td>\n",
       "      <td>2 - 4 years</td>\n",
       "      <td>2 - 4 years</td>\n",
       "      <td>College degree</td>\n",
       "      <td>Woman</td>\n",
       "      <td>NaN</td>\n",
       "      <td>NaN</td>\n",
       "      <td>NaN</td>\n",
       "      <td>NaN</td>\n",
       "      <td>NaN</td>\n",
       "      <td>NaN</td>\n",
       "    </tr>\n",
       "    <tr>\n",
       "      <th>3</th>\n",
       "      <td>4/27/2021 11:02:41</td>\n",
       "      <td>25-34</td>\n",
       "      <td>Nonprofits</td>\n",
       "      <td>Program Manager</td>\n",
       "      <td>NaN</td>\n",
       "      <td>62,000</td>\n",
       "      <td>3000.0</td>\n",
       "      <td>USD</td>\n",
       "      <td>NaN</td>\n",
       "      <td>NaN</td>\n",
       "      <td>...</td>\n",
       "      <td>8 - 10 years</td>\n",
       "      <td>5-7 years</td>\n",
       "      <td>College degree</td>\n",
       "      <td>Woman</td>\n",
       "      <td>NaN</td>\n",
       "      <td>NaN</td>\n",
       "      <td>NaN</td>\n",
       "      <td>NaN</td>\n",
       "      <td>NaN</td>\n",
       "      <td>NaN</td>\n",
       "    </tr>\n",
       "    <tr>\n",
       "      <th>4</th>\n",
       "      <td>4/27/2021 11:02:42</td>\n",
       "      <td>25-34</td>\n",
       "      <td>Accounting, Banking &amp; Finance</td>\n",
       "      <td>Accounting Manager</td>\n",
       "      <td>NaN</td>\n",
       "      <td>60,000</td>\n",
       "      <td>7000.0</td>\n",
       "      <td>USD</td>\n",
       "      <td>NaN</td>\n",
       "      <td>NaN</td>\n",
       "      <td>...</td>\n",
       "      <td>8 - 10 years</td>\n",
       "      <td>5-7 years</td>\n",
       "      <td>College degree</td>\n",
       "      <td>Woman</td>\n",
       "      <td>NaN</td>\n",
       "      <td>NaN</td>\n",
       "      <td>NaN</td>\n",
       "      <td>NaN</td>\n",
       "      <td>NaN</td>\n",
       "      <td>NaN</td>\n",
       "    </tr>\n",
       "  </tbody>\n",
       "</table>\n",
       "<p>5 rows × 23 columns</p>\n",
       "</div>"
      ],
      "text/plain": [
       "            Timestamp How old are you?  What industry do you work in?  \\\n",
       "0  4/27/2021 11:02:10            25-34   Education (Higher Education)   \n",
       "1  4/27/2021 11:02:22            25-34              Computing or Tech   \n",
       "2  4/27/2021 11:02:38            25-34  Accounting, Banking & Finance   \n",
       "3  4/27/2021 11:02:41            25-34                     Nonprofits   \n",
       "4  4/27/2021 11:02:42            25-34  Accounting, Banking & Finance   \n",
       "\n",
       "                                  Job title  \\\n",
       "0        Research and Instruction Librarian   \n",
       "1  Change & Internal Communications Manager   \n",
       "2                      Marketing Specialist   \n",
       "3                           Program Manager   \n",
       "4                        Accounting Manager   \n",
       "\n",
       "  If your job title needs additional context, please clarify here:  \\\n",
       "0                                                NaN                 \n",
       "1                                                NaN                 \n",
       "2                                                NaN                 \n",
       "3                                                NaN                 \n",
       "4                                                NaN                 \n",
       "\n",
       "  What is your annual salary? (You'll indicate the currency in a later question. If you are part-time or hourly, please enter an annualized equivalent -- what you would earn if you worked the job 40 hours a week, 52 weeks a year.)  \\\n",
       "0                                             55,000                                                                                                                                                                                     \n",
       "1                                             54,600                                                                                                                                                                                     \n",
       "2                                             34,000                                                                                                                                                                                     \n",
       "3                                             62,000                                                                                                                                                                                     \n",
       "4                                             60,000                                                                                                                                                                                     \n",
       "\n",
       "   How much additional monetary compensation do you get, if any (for example, bonuses or overtime in an average year)? Please only include monetary compensation here, not the value of benefits.  \\\n",
       "0                                                0.0                                                                                                                                                \n",
       "1                                             4000.0                                                                                                                                                \n",
       "2                                                NaN                                                                                                                                                \n",
       "3                                             3000.0                                                                                                                                                \n",
       "4                                             7000.0                                                                                                                                                \n",
       "\n",
       "  Please indicate the currency  \\\n",
       "0                          USD   \n",
       "1                          GBP   \n",
       "2                          USD   \n",
       "3                          USD   \n",
       "4                          USD   \n",
       "\n",
       "  If \"Other,\" please indicate the currency here:   \\\n",
       "0                                             NaN   \n",
       "1                                             NaN   \n",
       "2                                             NaN   \n",
       "3                                             NaN   \n",
       "4                                             NaN   \n",
       "\n",
       "  If your income needs additional context, please provide it here:  ...  \\\n",
       "0                                                NaN                ...   \n",
       "1                                                NaN                ...   \n",
       "2                                                NaN                ...   \n",
       "3                                                NaN                ...   \n",
       "4                                                NaN                ...   \n",
       "\n",
       "  How many years of professional work experience do you have overall?  \\\n",
       "0                                          5-7 years                    \n",
       "1                                       8 - 10 years                    \n",
       "2                                        2 - 4 years                    \n",
       "3                                       8 - 10 years                    \n",
       "4                                       8 - 10 years                    \n",
       "\n",
       "  How many years of professional work experience do you have in your field?  \\\n",
       "0                                          5-7 years                          \n",
       "1                                          5-7 years                          \n",
       "2                                        2 - 4 years                          \n",
       "3                                          5-7 years                          \n",
       "4                                          5-7 years                          \n",
       "\n",
       "  What is your highest level of education completed? What is your gender?  \\\n",
       "0                                    Master's degree                Woman   \n",
       "1                                     College degree           Non-binary   \n",
       "2                                     College degree                Woman   \n",
       "3                                     College degree                Woman   \n",
       "4                                     College degree                Woman   \n",
       "\n",
       "  Unnamed: 17 Unnamed: 18 Unnamed: 19  Unnamed: 20  Unnamed: 21  Unnamed: 22  \n",
       "0         NaN         NaN         NaN          NaN          NaN          NaN  \n",
       "1         NaN         NaN         NaN          NaN          NaN          NaN  \n",
       "2         NaN         NaN         NaN          NaN          NaN          NaN  \n",
       "3         NaN         NaN         NaN          NaN          NaN          NaN  \n",
       "4         NaN         NaN         NaN          NaN          NaN          NaN  \n",
       "\n",
       "[5 rows x 23 columns]"
      ]
     },
     "execution_count": 3,
     "metadata": {},
     "output_type": "execute_result"
    }
   ],
   "source": [
    "# EDA process\n",
    "df.head()"
   ]
  },
  {
   "cell_type": "code",
   "execution_count": 4,
   "id": "ef15156b-be7a-49bb-a563-e222073e3db8",
   "metadata": {
    "scrolled": true
   },
   "outputs": [
    {
     "name": "stdout",
     "output_type": "stream",
     "text": [
      "<class 'pandas.core.frame.DataFrame'>\n",
      "RangeIndex: 28178 entries, 0 to 28177\n",
      "Data columns (total 23 columns):\n",
      " #   Column                                                                                                                                                                                                                                Non-Null Count  Dtype  \n",
      "---  ------                                                                                                                                                                                                                                --------------  -----  \n",
      " 0   Timestamp                                                                                                                                                                                                                             28085 non-null  object \n",
      " 1   How old are you?                                                                                                                                                                                                                      28085 non-null  object \n",
      " 2   What industry do you work in?                                                                                                                                                                                                         28011 non-null  object \n",
      " 3   Job title                                                                                                                                                                                                                             28084 non-null  object \n",
      " 4   If your job title needs additional context, please clarify here:                                                                                                                                                                      7267 non-null   object \n",
      " 5   What is your annual salary? (You'll indicate the currency in a later question. If you are part-time or hourly, please enter an annualized equivalent -- what you would earn if you worked the job 40 hours a week, 52 weeks a year.)  28085 non-null  object \n",
      " 6   How much additional monetary compensation do you get, if any (for example, bonuses or overtime in an average year)? Please only include monetary compensation here, not the value of benefits.                                        20780 non-null  float64\n",
      " 7   Please indicate the currency                                                                                                                                                                                                          28085 non-null  object \n",
      " 8   If \"Other,\" please indicate the currency here:                                                                                                                                                                                        207 non-null    object \n",
      " 9   If your income needs additional context, please provide it here:                                                                                                                                                                      3044 non-null   object \n",
      " 10  What country do you work in?                                                                                                                                                                                                          28085 non-null  object \n",
      " 11  If you're in the U.S., what state do you work in?                                                                                                                                                                                     23059 non-null  object \n",
      " 12  What city do you work in?                                                                                                                                                                                                             28003 non-null  object \n",
      " 13  How many years of professional work experience do you have overall?                                                                                                                                                                   28085 non-null  object \n",
      " 14  How many years of professional work experience do you have in your field?                                                                                                                                                             28085 non-null  object \n",
      " 15  What is your highest level of education completed?                                                                                                                                                                                    27863 non-null  object \n",
      " 16  What is your gender?                                                                                                                                                                                                                  27914 non-null  object \n",
      " 17  Unnamed: 17                                                                                                                                                                                                                           0 non-null      float64\n",
      " 18  Unnamed: 18                                                                                                                                                                                                                           0 non-null      float64\n",
      " 19  Unnamed: 19                                                                                                                                                                                                                           0 non-null      float64\n",
      " 20  Unnamed: 20                                                                                                                                                                                                                           0 non-null      float64\n",
      " 21  Unnamed: 21                                                                                                                                                                                                                           0 non-null      float64\n",
      " 22  Unnamed: 22                                                                                                                                                                                                                           0 non-null      float64\n",
      "dtypes: float64(7), object(16)\n",
      "memory usage: 4.9+ MB\n"
     ]
    }
   ],
   "source": [
    "df.info()"
   ]
  },
  {
   "cell_type": "code",
   "execution_count": 5,
   "id": "915c3f95-5846-4eaa-967e-7a2643c75aca",
   "metadata": {
    "scrolled": true
   },
   "outputs": [
    {
     "data": {
      "text/plain": [
       "Timestamp                                                                                                                                                                                                                                  93\n",
       "How old are you?                                                                                                                                                                                                                           93\n",
       "What industry do you work in?                                                                                                                                                                                                             167\n",
       "Job title                                                                                                                                                                                                                                  94\n",
       "If your job title needs additional context, please clarify here:                                                                                                                                                                        20911\n",
       "What is your annual salary? (You'll indicate the currency in a later question. If you are part-time or hourly, please enter an annualized equivalent -- what you would earn if you worked the job 40 hours a week, 52 weeks a year.)       93\n",
       "How much additional monetary compensation do you get, if any (for example, bonuses or overtime in an average year)? Please only include monetary compensation here, not the value of benefits.                                           7398\n",
       "Please indicate the currency                                                                                                                                                                                                               93\n",
       "If \"Other,\" please indicate the currency here:                                                                                                                                                                                          27971\n",
       "If your income needs additional context, please provide it here:                                                                                                                                                                        25134\n",
       "What country do you work in?                                                                                                                                                                                                               93\n",
       "If you're in the U.S., what state do you work in?                                                                                                                                                                                        5119\n",
       "What city do you work in?                                                                                                                                                                                                                 175\n",
       "How many years of professional work experience do you have overall?                                                                                                                                                                        93\n",
       "How many years of professional work experience do you have in your field?                                                                                                                                                                  93\n",
       "What is your highest level of education completed?                                                                                                                                                                                        315\n",
       "What is your gender?                                                                                                                                                                                                                      264\n",
       "Unnamed: 17                                                                                                                                                                                                                             28178\n",
       "Unnamed: 18                                                                                                                                                                                                                             28178\n",
       "Unnamed: 19                                                                                                                                                                                                                             28178\n",
       "Unnamed: 20                                                                                                                                                                                                                             28178\n",
       "Unnamed: 21                                                                                                                                                                                                                             28178\n",
       "Unnamed: 22                                                                                                                                                                                                                             28178\n",
       "dtype: int64"
      ]
     },
     "execution_count": 5,
     "metadata": {},
     "output_type": "execute_result"
    }
   ],
   "source": [
    "# Count of the missing values\n",
    "df.isnull().sum()"
   ]
  },
  {
   "cell_type": "code",
   "execution_count": 6,
   "id": "05f543d9-7e01-493a-9fde-1fa80b90c732",
   "metadata": {},
   "outputs": [],
   "source": [
    "# I am going to drop variables with no values\n",
    "df=df.drop(columns=['Unnamed: 17', 'Unnamed: 18', 'Unnamed: 19', 'Unnamed: 20', 'Unnamed: 21', 'Unnamed: 22'])"
   ]
  },
  {
   "cell_type": "code",
   "execution_count": 7,
   "id": "fdcb60a3-7a92-4111-a4a4-4987814cf802",
   "metadata": {
    "scrolled": true
   },
   "outputs": [
    {
     "data": {
      "text/html": [
       "<div>\n",
       "<style scoped>\n",
       "    .dataframe tbody tr th:only-of-type {\n",
       "        vertical-align: middle;\n",
       "    }\n",
       "\n",
       "    .dataframe tbody tr th {\n",
       "        vertical-align: top;\n",
       "    }\n",
       "\n",
       "    .dataframe thead th {\n",
       "        text-align: right;\n",
       "    }\n",
       "</style>\n",
       "<table border=\"1\" class=\"dataframe\">\n",
       "  <thead>\n",
       "    <tr style=\"text-align: right;\">\n",
       "      <th></th>\n",
       "      <th>Timestamp</th>\n",
       "      <th>How old are you?</th>\n",
       "      <th>What industry do you work in?</th>\n",
       "      <th>Job title</th>\n",
       "      <th>If your job title needs additional context, please clarify here:</th>\n",
       "      <th>What is your annual salary? (You'll indicate the currency in a later question. If you are part-time or hourly, please enter an annualized equivalent -- what you would earn if you worked the job 40 hours a week, 52 weeks a year.)</th>\n",
       "      <th>How much additional monetary compensation do you get, if any (for example, bonuses or overtime in an average year)? Please only include monetary compensation here, not the value of benefits.</th>\n",
       "      <th>Please indicate the currency</th>\n",
       "      <th>If \"Other,\" please indicate the currency here:</th>\n",
       "      <th>If your income needs additional context, please provide it here:</th>\n",
       "      <th>What country do you work in?</th>\n",
       "      <th>If you're in the U.S., what state do you work in?</th>\n",
       "      <th>What city do you work in?</th>\n",
       "      <th>How many years of professional work experience do you have overall?</th>\n",
       "      <th>How many years of professional work experience do you have in your field?</th>\n",
       "      <th>What is your highest level of education completed?</th>\n",
       "      <th>What is your gender?</th>\n",
       "    </tr>\n",
       "  </thead>\n",
       "  <tbody>\n",
       "    <tr>\n",
       "      <th>0</th>\n",
       "      <td>4/27/2021 11:02:10</td>\n",
       "      <td>25-34</td>\n",
       "      <td>Education (Higher Education)</td>\n",
       "      <td>Research and Instruction Librarian</td>\n",
       "      <td>NaN</td>\n",
       "      <td>55,000</td>\n",
       "      <td>0.0</td>\n",
       "      <td>USD</td>\n",
       "      <td>NaN</td>\n",
       "      <td>NaN</td>\n",
       "      <td>United States</td>\n",
       "      <td>Massachusetts</td>\n",
       "      <td>Boston</td>\n",
       "      <td>5-7 years</td>\n",
       "      <td>5-7 years</td>\n",
       "      <td>Master's degree</td>\n",
       "      <td>Woman</td>\n",
       "    </tr>\n",
       "    <tr>\n",
       "      <th>1</th>\n",
       "      <td>4/27/2021 11:02:22</td>\n",
       "      <td>25-34</td>\n",
       "      <td>Computing or Tech</td>\n",
       "      <td>Change &amp; Internal Communications Manager</td>\n",
       "      <td>NaN</td>\n",
       "      <td>54,600</td>\n",
       "      <td>4000.0</td>\n",
       "      <td>GBP</td>\n",
       "      <td>NaN</td>\n",
       "      <td>NaN</td>\n",
       "      <td>United Kingdom</td>\n",
       "      <td>NaN</td>\n",
       "      <td>Cambridge</td>\n",
       "      <td>8 - 10 years</td>\n",
       "      <td>5-7 years</td>\n",
       "      <td>College degree</td>\n",
       "      <td>Non-binary</td>\n",
       "    </tr>\n",
       "    <tr>\n",
       "      <th>2</th>\n",
       "      <td>4/27/2021 11:02:38</td>\n",
       "      <td>25-34</td>\n",
       "      <td>Accounting, Banking &amp; Finance</td>\n",
       "      <td>Marketing Specialist</td>\n",
       "      <td>NaN</td>\n",
       "      <td>34,000</td>\n",
       "      <td>NaN</td>\n",
       "      <td>USD</td>\n",
       "      <td>NaN</td>\n",
       "      <td>NaN</td>\n",
       "      <td>US</td>\n",
       "      <td>Tennessee</td>\n",
       "      <td>Chattanooga</td>\n",
       "      <td>2 - 4 years</td>\n",
       "      <td>2 - 4 years</td>\n",
       "      <td>College degree</td>\n",
       "      <td>Woman</td>\n",
       "    </tr>\n",
       "    <tr>\n",
       "      <th>3</th>\n",
       "      <td>4/27/2021 11:02:41</td>\n",
       "      <td>25-34</td>\n",
       "      <td>Nonprofits</td>\n",
       "      <td>Program Manager</td>\n",
       "      <td>NaN</td>\n",
       "      <td>62,000</td>\n",
       "      <td>3000.0</td>\n",
       "      <td>USD</td>\n",
       "      <td>NaN</td>\n",
       "      <td>NaN</td>\n",
       "      <td>USA</td>\n",
       "      <td>Wisconsin</td>\n",
       "      <td>Milwaukee</td>\n",
       "      <td>8 - 10 years</td>\n",
       "      <td>5-7 years</td>\n",
       "      <td>College degree</td>\n",
       "      <td>Woman</td>\n",
       "    </tr>\n",
       "    <tr>\n",
       "      <th>4</th>\n",
       "      <td>4/27/2021 11:02:42</td>\n",
       "      <td>25-34</td>\n",
       "      <td>Accounting, Banking &amp; Finance</td>\n",
       "      <td>Accounting Manager</td>\n",
       "      <td>NaN</td>\n",
       "      <td>60,000</td>\n",
       "      <td>7000.0</td>\n",
       "      <td>USD</td>\n",
       "      <td>NaN</td>\n",
       "      <td>NaN</td>\n",
       "      <td>US</td>\n",
       "      <td>South Carolina</td>\n",
       "      <td>Greenville</td>\n",
       "      <td>8 - 10 years</td>\n",
       "      <td>5-7 years</td>\n",
       "      <td>College degree</td>\n",
       "      <td>Woman</td>\n",
       "    </tr>\n",
       "  </tbody>\n",
       "</table>\n",
       "</div>"
      ],
      "text/plain": [
       "            Timestamp How old are you?  What industry do you work in?  \\\n",
       "0  4/27/2021 11:02:10            25-34   Education (Higher Education)   \n",
       "1  4/27/2021 11:02:22            25-34              Computing or Tech   \n",
       "2  4/27/2021 11:02:38            25-34  Accounting, Banking & Finance   \n",
       "3  4/27/2021 11:02:41            25-34                     Nonprofits   \n",
       "4  4/27/2021 11:02:42            25-34  Accounting, Banking & Finance   \n",
       "\n",
       "                                  Job title  \\\n",
       "0        Research and Instruction Librarian   \n",
       "1  Change & Internal Communications Manager   \n",
       "2                      Marketing Specialist   \n",
       "3                           Program Manager   \n",
       "4                        Accounting Manager   \n",
       "\n",
       "  If your job title needs additional context, please clarify here:  \\\n",
       "0                                                NaN                 \n",
       "1                                                NaN                 \n",
       "2                                                NaN                 \n",
       "3                                                NaN                 \n",
       "4                                                NaN                 \n",
       "\n",
       "  What is your annual salary? (You'll indicate the currency in a later question. If you are part-time or hourly, please enter an annualized equivalent -- what you would earn if you worked the job 40 hours a week, 52 weeks a year.)  \\\n",
       "0                                             55,000                                                                                                                                                                                     \n",
       "1                                             54,600                                                                                                                                                                                     \n",
       "2                                             34,000                                                                                                                                                                                     \n",
       "3                                             62,000                                                                                                                                                                                     \n",
       "4                                             60,000                                                                                                                                                                                     \n",
       "\n",
       "   How much additional monetary compensation do you get, if any (for example, bonuses or overtime in an average year)? Please only include monetary compensation here, not the value of benefits.  \\\n",
       "0                                                0.0                                                                                                                                                \n",
       "1                                             4000.0                                                                                                                                                \n",
       "2                                                NaN                                                                                                                                                \n",
       "3                                             3000.0                                                                                                                                                \n",
       "4                                             7000.0                                                                                                                                                \n",
       "\n",
       "  Please indicate the currency  \\\n",
       "0                          USD   \n",
       "1                          GBP   \n",
       "2                          USD   \n",
       "3                          USD   \n",
       "4                          USD   \n",
       "\n",
       "  If \"Other,\" please indicate the currency here:   \\\n",
       "0                                             NaN   \n",
       "1                                             NaN   \n",
       "2                                             NaN   \n",
       "3                                             NaN   \n",
       "4                                             NaN   \n",
       "\n",
       "  If your income needs additional context, please provide it here:  \\\n",
       "0                                                NaN                 \n",
       "1                                                NaN                 \n",
       "2                                                NaN                 \n",
       "3                                                NaN                 \n",
       "4                                                NaN                 \n",
       "\n",
       "  What country do you work in?  \\\n",
       "0                United States   \n",
       "1               United Kingdom   \n",
       "2                           US   \n",
       "3                          USA   \n",
       "4                           US   \n",
       "\n",
       "  If you're in the U.S., what state do you work in? What city do you work in?  \\\n",
       "0                                     Massachusetts                    Boston   \n",
       "1                                               NaN                 Cambridge   \n",
       "2                                         Tennessee               Chattanooga   \n",
       "3                                         Wisconsin                 Milwaukee   \n",
       "4                                    South Carolina                Greenville   \n",
       "\n",
       "  How many years of professional work experience do you have overall?  \\\n",
       "0                                          5-7 years                    \n",
       "1                                       8 - 10 years                    \n",
       "2                                        2 - 4 years                    \n",
       "3                                       8 - 10 years                    \n",
       "4                                       8 - 10 years                    \n",
       "\n",
       "  How many years of professional work experience do you have in your field?  \\\n",
       "0                                          5-7 years                          \n",
       "1                                          5-7 years                          \n",
       "2                                        2 - 4 years                          \n",
       "3                                          5-7 years                          \n",
       "4                                          5-7 years                          \n",
       "\n",
       "  What is your highest level of education completed? What is your gender?  \n",
       "0                                    Master's degree                Woman  \n",
       "1                                     College degree           Non-binary  \n",
       "2                                     College degree                Woman  \n",
       "3                                     College degree                Woman  \n",
       "4                                     College degree                Woman  "
      ]
     },
     "execution_count": 7,
     "metadata": {},
     "output_type": "execute_result"
    }
   ],
   "source": [
    "df.head()"
   ]
  },
  {
   "cell_type": "code",
   "execution_count": 8,
   "id": "1417e860-7a44-48d0-962e-fb735f39acf8",
   "metadata": {},
   "outputs": [],
   "source": [
    "# Simplifying observation names\n",
    "df.columns = ['Timestamp','Age','Type of industry','Job_title','Additional_job_details','Annual_salary','Monetary_compensation','Currency','Other_Currency','Additional_income_details','Country_of_work','U.S._state_of_work','City_of_work','Years_of_experience','Years_of_experience_in_your_field','Level_of_education','Gender']"
   ]
  },
  {
   "cell_type": "code",
   "execution_count": 9,
   "id": "ef91db4e-f27c-46ef-8114-7e978e8e3e35",
   "metadata": {},
   "outputs": [
    {
     "name": "stdout",
     "output_type": "stream",
     "text": [
      "Index(['Timestamp', 'Age', 'Type of industry', 'Job_title',\n",
      "       'Additional_job_details', 'Annual_salary', 'Monetary_compensation',\n",
      "       'Currency', 'Other_Currency', 'Additional_income_details',\n",
      "       'Country_of_work', 'U.S._state_of_work', 'City_of_work',\n",
      "       'Years_of_experience', 'Years_of_experience_in_your_field',\n",
      "       'Level_of_education', 'Gender'],\n",
      "      dtype='object')\n"
     ]
    }
   ],
   "source": [
    "print(df.columns)"
   ]
  },
  {
   "cell_type": "code",
   "execution_count": 10,
   "id": "7eca3d0c-baa4-4664-bc37-6dfc36e61c16",
   "metadata": {
    "scrolled": true
   },
   "outputs": [
    {
     "data": {
      "text/plain": [
       "Timestamp                             object\n",
       "Age                                   object\n",
       "Type of industry                      object\n",
       "Job_title                             object\n",
       "Additional_job_details                object\n",
       "Annual_salary                         object\n",
       "Monetary_compensation                float64\n",
       "Currency                              object\n",
       "Other_Currency                        object\n",
       "Additional_income_details             object\n",
       "Country_of_work                       object\n",
       "U.S._state_of_work                    object\n",
       "City_of_work                          object\n",
       "Years_of_experience                   object\n",
       "Years_of_experience_in_your_field     object\n",
       "Level_of_education                    object\n",
       "Gender                                object\n",
       "dtype: object"
      ]
     },
     "execution_count": 10,
     "metadata": {},
     "output_type": "execute_result"
    }
   ],
   "source": [
    "# Checking data types, float64 should be numerical values\n",
    "df.dtypes"
   ]
  },
  {
   "cell_type": "code",
   "execution_count": 11,
   "id": "cc03ccd0-03f6-478b-a680-cb7f343c3562",
   "metadata": {},
   "outputs": [
    {
     "data": {
      "text/plain": [
       "array(['4/27/2021 11:02:10', '4/27/2021 11:02:22', '4/27/2021 11:02:38',\n",
       "       ..., '10/4/2024 13:05:24', '10/7/2024 5:17:56', nan], dtype=object)"
      ]
     },
     "execution_count": 11,
     "metadata": {},
     "output_type": "execute_result"
    }
   ],
   "source": [
    "df[\"Timestamp\"].unique()"
   ]
  },
  {
   "cell_type": "code",
   "execution_count": 12,
   "id": "b10b5b2b-5bde-48b8-bbf9-9d7183813cdb",
   "metadata": {},
   "outputs": [
    {
     "data": {
      "text/plain": [
       "array(['25-34', '45-54', '35-44', '18-24', '65 or over', '55-64',\n",
       "       'under 18', nan], dtype=object)"
      ]
     },
     "execution_count": 12,
     "metadata": {},
     "output_type": "execute_result"
    }
   ],
   "source": [
    "df[\"Age\"].unique()"
   ]
  },
  {
   "cell_type": "code",
   "execution_count": 13,
   "id": "50b5f225-0cc7-4405-93c1-5bccf765ea32",
   "metadata": {},
   "outputs": [
    {
     "data": {
      "text/plain": [
       "array(['Education (Higher Education)', 'Computing or Tech',\n",
       "       'Accounting, Banking & Finance', ..., 'Student ', 'Wine & Spirits',\n",
       "       'Social networks'], dtype=object)"
      ]
     },
     "execution_count": 13,
     "metadata": {},
     "output_type": "execute_result"
    }
   ],
   "source": [
    "df[\"Type of industry\"].unique()"
   ]
  },
  {
   "cell_type": "code",
   "execution_count": 14,
   "id": "40731e9b-2927-48ad-8c7b-8fabdacee13f",
   "metadata": {},
   "outputs": [
    {
     "data": {
      "text/plain": [
       "array(['Research and Instruction Librarian',\n",
       "       'Change & Internal Communications Manager', 'Marketing Specialist',\n",
       "       ..., 'Curriculum Writer', 'Software Engineering Co-Op',\n",
       "       'Content creator'], dtype=object)"
      ]
     },
     "execution_count": 14,
     "metadata": {},
     "output_type": "execute_result"
    }
   ],
   "source": [
    "df[\"Job_title\"].unique()"
   ]
  },
  {
   "cell_type": "code",
   "execution_count": 15,
   "id": "e73a67d2-434c-4b54-a018-e9173068d7e5",
   "metadata": {},
   "outputs": [
    {
     "data": {
      "text/plain": [
       "array([nan, 'High school, FT', 'Data developer/ETL Developer', ...,\n",
       "       'Retail Pharmacy',\n",
       "       'I am a freelance contract curriculum writer for computer science and STEM companies.',\n",
       "       'I was an Intern'], dtype=object)"
      ]
     },
     "execution_count": 15,
     "metadata": {},
     "output_type": "execute_result"
    }
   ],
   "source": [
    "df[\"Additional_job_details\"].unique()"
   ]
  },
  {
   "cell_type": "code",
   "execution_count": 16,
   "id": "46a7b110-ac36-4e18-b70e-12bfde3395da",
   "metadata": {},
   "outputs": [
    {
     "data": {
      "text/plain": [
       "array(['55,000', '54,600', '34,000', ..., '37741', '53060', nan],\n",
       "      dtype=object)"
      ]
     },
     "execution_count": 16,
     "metadata": {},
     "output_type": "execute_result"
    }
   ],
   "source": [
    "df[\"Annual_salary\"].unique()"
   ]
  },
  {
   "cell_type": "code",
   "execution_count": 17,
   "id": "8790fe7a-a17d-41cf-9332-42cb0abd203c",
   "metadata": {
    "scrolled": true
   },
   "outputs": [
    {
     "data": {
      "text/plain": [
       "array([0.00000e+00, 4.00000e+03,         nan, 3.00000e+03, 7.00000e+03,\n",
       "       2.00000e+03, 1.00000e+04, 5.00000e+02, 5.00000e+03, 1.00000e+03,\n",
       "       1.50000e+04, 1.00000e+02, 5.00000e+04, 6.00000e+03, 2.00000e+04,\n",
       "       1.50000e+03, 2.50000e+03, 4.00000e+04, 2.50000e+04, 8.40000e+03,\n",
       "       3.60000e+03, 1.30000e+04, 8.50000e+03, 6.00000e+04, 8.00000e+03,\n",
       "       3.05000e+02, 1.60830e+04, 1.50000e+02, 3.00000e+04, 9.00000e+03,\n",
       "       7.50000e+03, 1.87500e+04, 1.20000e+04, 1.40000e+03, 5.50000e+04,\n",
       "       1.40000e+04, 1.75500e+04, 2.40000e+03, 1.89000e+05, 3.50000e+03,\n",
       "       5.75000e+03, 2.70000e+03, 1.30000e+05, 3.10000e+04, 2.00000e+02,\n",
       "       8.80000e+03, 1.75000e+05, 2.30000e+03, 1.60000e+04, 3.50000e+04,\n",
       "       3.14050e+04, 8.00000e+04, 7.00000e+04, 2.80000e+04, 3.40000e+04,\n",
       "       1.80000e+04, 1.17000e+04, 8.00000e+02, 4.00000e+02, 9.00000e+02,\n",
       "       1.32180e+04, 6.50000e+03, 7.20000e+02, 1.78500e+04, 8.55000e+03,\n",
       "       5.25000e+03, 1.20000e+03, 2.23000e+05, 1.00000e+05, 5.20000e+03,\n",
       "       3.05650e+04, 7.00000e+00, 1.75000e+03, 8.20000e+03, 1.80000e+03,\n",
       "       1.16000e+04, 5.95000e+03, 3.07500e+04, 7.13000e+03, 2.40550e+04,\n",
       "       6.40000e+03, 6.90000e+04, 4.50000e+03, 1.86000e+04, 7.10000e+03,\n",
       "       7.20000e+03, 2.20000e+03, 7.50000e+04, 7.60000e+04, 1.10000e+04,\n",
       "       1.16250e+04, 3.50000e+02, 3.30000e+03, 7.00000e+02, 6.00000e+00,\n",
       "       8.50000e+04, 2.10000e+04, 2.70000e+04, 8.75000e+03, 4.13630e+04,\n",
       "       4.20000e+03, 3.00000e+02, 5.45300e+03, 1.09200e+04, 1.84800e+03,\n",
       "       2.67500e+03, 2.50000e+05, 1.21000e+04, 3.15000e+03, 1.92000e+04,\n",
       "       1.92000e+03, 1.70000e+03, 1.40000e+05, 1.25000e+04, 2.60000e+03,\n",
       "       2.80000e+03, 6.63000e+04, 1.56000e+04, 4.50000e+02, 2.25000e+04,\n",
       "       1.75000e+04, 1.00000e+01, 5.50000e+03, 1.37000e+05, 1.31500e+03,\n",
       "       1.10000e+05, 4.25000e+05, 2.75000e+04, 1.17500e+04, 4.85000e+03,\n",
       "       2.07000e+03, 4.15000e+04, 1.70000e+04, 1.73320e+04, 2.01600e+04,\n",
       "       2.50000e+02, 8.50000e+05, 3.40000e+03, 1.85000e+04, 6.00000e+02,\n",
       "       1.30000e+03, 8.51100e+03, 6.50000e+04, 7.72500e+03, 2.10000e+03,\n",
       "       4.50000e+04, 9.50000e+03, 1.55000e+03, 3.60000e+04, 6.68200e+03,\n",
       "       1.50000e+01, 2.20000e+04, 1.01500e+04, 2.18000e+04, 3.70000e+03,\n",
       "       7.50000e+02, 1.66290e+04, 2.04000e+04, 1.35000e+04, 1.49210e+04,\n",
       "       2.40000e+04, 9.12000e+03, 1.10000e+03, 5.10000e+04, 7.80000e+03,\n",
       "       4.56000e+03, 1.53000e+04, 2.30000e+04, 9.20000e+04, 7.15000e+03,\n",
       "       1.57230e+04, 2.60000e+04, 2.10000e+02, 9.63000e+03, 4.55000e+05,\n",
       "       3.70000e+04, 1.86000e+03, 5.30000e+04, 4.70000e+03, 2.00000e+05,\n",
       "       3.75200e+03, 2.20000e+05, 2.36000e+04, 3.24500e+03, 1.16800e+04,\n",
       "       7.80000e+04, 1.23250e+04, 6.94700e+03, 6.20000e+03, 1.53390e+04,\n",
       "       1.77520e+04, 1.25000e+03, 2.24800e+04, 4.72500e+03, 1.07750e+04,\n",
       "       2.05000e+04, 1.15000e+05, 1.51700e+03, 5.40000e+03, 5.70000e+04,\n",
       "       1.16500e+04, 2.40750e+04, 9.70000e+03, 7.70000e+03, 4.10500e+03,\n",
       "       4.40000e+03, 4.40000e+01, 9.83000e+03, 2.90000e+03, 2.25000e+05,\n",
       "       3.56000e+03, 7.20000e+04, 9.00000e+04, 1.25000e+05, 4.80000e+03,\n",
       "       1.42500e+04, 1.32000e+04, 1.20000e+05, 3.12000e+02, 2.80000e+05,\n",
       "       8.49000e+03, 1.60000e+03, 3.89000e+03, 1.24420e+04, 3.50000e+05,\n",
       "       4.22810e+04, 3.20000e+04, 1.61560e+04, 5.32000e+04, 1.15000e+04,\n",
       "       2.40000e+02, 2.15000e+04, 2.52500e+04, 8.85000e+03, 1.65000e+04,\n",
       "       6.56200e+03, 2.90000e+05, 3.90000e+05, 4.56000e+04, 9.00000e+00,\n",
       "       1.67650e+04, 1.50000e+05, 8.87500e+04, 3.20000e+03, 1.20000e+01,\n",
       "       3.90000e+04, 5.90000e+04, 3.75000e+03, 1.62000e+03, 1.95000e+04,\n",
       "       1.85000e+03, 5.60000e+04, 3.70370e+04, 9.60000e+03, 8.81200e+03,\n",
       "       1.12000e+05, 1.07000e+05, 8.57700e+03, 9.25000e+03, 2.31400e+03,\n",
       "       2.25000e+03, 4.60000e+04, 2.10350e+04, 8.25000e+03, 2.30000e+05,\n",
       "       2.55000e+04, 1.27000e+04, 4.80000e+04, 4.50000e+05, 2.45000e+04,\n",
       "       1.55600e+03, 3.30000e+04, 3.80000e+04, 1.50660e+04, 8.19000e+03,\n",
       "       1.90000e+04, 1.05000e+04, 4.30000e+03, 6.30000e+02, 2.41500e+05,\n",
       "       9.72000e+03, 1.13000e+04, 1.87500e+03, 6.38000e+04, 8.61000e+02,\n",
       "       4.10000e+02, 5.00000e+05, 1.02000e+04, 8.60000e+03, 5.00000e+01,\n",
       "       9.10000e+03, 1.09000e+05, 7.60000e+03, 4.40000e+04, 1.13300e+03,\n",
       "       2.33300e+03, 8.60000e+04, 4.10000e+04, 1.12000e+04, 5.80000e+03,\n",
       "       3.28000e+03, 7.80000e+02, 5.02700e+04, 2.59200e+04, 9.48900e+03,\n",
       "       1.73250e+04, 1.22000e+05, 1.30350e+04, 9.43200e+03, 2.28000e+04,\n",
       "       7.75000e+03, 3.15000e+04, 1.41380e+04, 1.55000e+04, 2.18000e+05,\n",
       "       1.65000e+05, 3.78400e+03, 1.33200e+04, 6.70000e+03, 1.33000e+04,\n",
       "       8.30000e+03, 1.38000e+04, 2.10480e+04, 7.50000e+01, 3.60000e+02,\n",
       "       2.47570e+04, 5.20000e+04, 3.04700e+04, 1.61000e+04, 2.46480e+04,\n",
       "       9.20000e+03, 4.10000e+03, 3.30000e+05, 1.59000e+04, 9.56600e+03,\n",
       "       6.25000e+03, 1.55760e+04, 9.30000e+02, 3.00000e+05, 4.16600e+03,\n",
       "       1.27500e+05, 1.90000e+03, 4.90000e+03, 1.68000e+04, 1.95050e+04,\n",
       "       3.80000e+03, 4.30000e+04, 1.67000e+02, 3.33000e+03, 9.06600e+03,\n",
       "       1.33000e+03, 1.02786e+05, 9.68300e+03, 9.40000e+03, 6.30000e+03,\n",
       "       2.08000e+03, 1.70000e+05, 1.16000e+05, 3.03680e+04, 2.50000e+01,\n",
       "       1.84520e+04, 5.25500e+03, 1.33000e+05, 9.30000e+03, 3.23750e+04,\n",
       "       9.51900e+03, 1.54000e+03, 1.03000e+04, 1.04000e+05, 1.04740e+04,\n",
       "       9.88800e+03, 1.69000e+04, 5.98200e+03, 4.83630e+04, 5.20000e+02,\n",
       "       5.60000e+03, 4.60000e+03, 2.67000e+04, 1.49000e+03, 3.85000e+03,\n",
       "       1.68750e+04, 6.80000e+03, 1.46000e+04, 1.62000e+05, 2.00000e+00,\n",
       "       4.25000e+03, 6.80000e+04, 7.36000e+04, 5.43000e+02, 1.12549e+05,\n",
       "       1.68960e+04, 1.96000e+04, 1.74450e+04, 3.12500e+04, 6.60000e+03,\n",
       "       7.70000e+04, 2.64000e+03, 1.41000e+04, 5.90000e+03, 2.71750e+04,\n",
       "       8.10000e+03, 7.10400e+03, 2.24000e+03, 1.30000e+01, 1.23000e+04,\n",
       "       3.96000e+05, 2.87600e+03, 8.80000e+04, 5.60230e+04, 8.08800e+03,\n",
       "       4.20000e+04, 4.70000e+04, 1.14000e+04, 2.16750e+04, 9.83400e+03,\n",
       "       1.34000e+04, 1.28000e+05, 1.88000e+03, 1.05600e+04, 2.40000e+05,\n",
       "       3.65000e+04, 3.00900e+03, 6.70000e+04, 9.75000e+03, 5.27500e+03,\n",
       "       1.24000e+04, 3.58000e+04, 1.53040e+04, 5.74000e+03, 3.55000e+03,\n",
       "       1.60000e+05, 5.40000e+02, 1.16880e+04, 5.15000e+05, 1.05000e+05,\n",
       "       8.50000e+02, 7.25000e+04, 1.08000e+04, 2.69000e+03, 1.54250e+04,\n",
       "       1.44000e+04, 9.50000e+04, 9.20000e+02, 1.58000e+05, 3.45000e+05,\n",
       "       1.36000e+05, 9.60000e+04, 2.90000e+04, 1.45000e+04, 6.00000e+05,\n",
       "       1.75000e+02, 1.06400e+04, 2.10000e+05, 7.40000e+04, 1.25530e+04,\n",
       "       2.06000e+03, 1.80000e+05, 9.66000e+03, 2.65000e+05, 1.87000e+05,\n",
       "       3.31250e+04, 5.46000e+03, 6.50000e+02, 1.07500e+06, 1.47500e+04,\n",
       "       1.20000e+08, 4.55000e+03, 3.37500e+03, 1.98100e+03, 2.85000e+04,\n",
       "       1.95440e+04, 5.85000e+03, 3.50000e+01, 9.80000e+04, 9.40700e+03,\n",
       "       3.25000e+03, 9.80000e+03, 6.85000e+03, 1.20000e+06, 8.82000e+04,\n",
       "       5.40000e+04, 1.07000e+04, 1.25000e+02, 5.18800e+03, 4.20000e+05,\n",
       "       9.60000e+02, 1.17700e+04, 3.25000e+04, 4.00000e+05, 7.12500e+03,\n",
       "       2.17500e+04, 1.41010e+04, 1.85000e+05, 2.53800e+03, 3.40500e+03,\n",
       "       7.18300e+03, 1.98000e+04, 2.75000e+03, 1.02100e+04, 4.88800e+04,\n",
       "       1.47000e+04, 2.00000e+01, 3.12000e+03, 9.97500e+03, 1.24800e+03,\n",
       "       4.47000e+04, 6.90000e+03, 2.26500e+03, 7.30000e+03, 2.89500e+04,\n",
       "       5.70000e+03, 6.06800e+03, 6.33880e+04, 3.01300e+03, 4.00000e+01,\n",
       "       2.37500e+04, 8.90000e+03, 9.70000e+02, 4.05000e+04, 6.12000e+03,\n",
       "       7.94500e+03, 2.66140e+04, 3.89050e+04, 7.30000e+04, 1.71870e+04,\n",
       "       1.67000e+04, 2.25500e+04, 8.70000e+03, 2.34000e+03, 1.27500e+04,\n",
       "       3.24000e+04, 1.87200e+04, 7.95000e+03, 1.62390e+04, 1.19900e+04,\n",
       "       7.70000e+02, 1.06000e+05, 4.11300e+03, 6.37500e+03, 7.89800e+03,\n",
       "       2.33640e+04, 4.41520e+04, 9.30000e+04, 4.22000e+04, 8.70000e+04,\n",
       "       4.75000e+03, 1.03020e+04, 9.09100e+03, 3.22100e+03, 7.10000e+04,\n",
       "       3.12000e+04, 3.37590e+04, 5.80000e+04, 1.24000e+05, 8.14100e+03,\n",
       "       1.72500e+04, 1.25400e+04, 1.48750e+04, 1.55000e+05, 1.35000e+05,\n",
       "       1.45000e+05, 6.45000e+04, 2.81900e+03, 8.85800e+03, 4.47500e+03,\n",
       "       1.26000e+04, 2.99000e+05, 1.73000e+04, 9.00000e+05, 8.69600e+03,\n",
       "       3.27000e+03, 1.04000e+04, 2.52000e+03, 3.25000e+02, 1.66000e+05,\n",
       "       6.72500e+03, 1.52500e+05, 8.46100e+04, 2.42000e+04, 8.35000e+03,\n",
       "       2.32010e+04, 1.18500e+05, 3.68400e+03, 1.43800e+03, 1.56240e+04,\n",
       "       2.49000e+02, 1.56000e+05, 2.70000e+05, 3.04000e+04, 1.06000e+04,\n",
       "       3.82300e+04, 1.03820e+04, 1.78000e+05, 1.65000e+03, 1.00000e+00,\n",
       "       3.75000e+02, 3.35000e+03, 1.35000e+03, 6.24000e+04, 8.48480e+04,\n",
       "       2.41800e+04, 1.40640e+04, 6.94800e+03, 2.31825e+05, 3.65000e+05,\n",
       "       3.10000e+03, 7.01500e+03, 2.15000e+03, 1.80000e+02, 1.03500e+04,\n",
       "       2.06300e+04, 8.12500e+03, 1.75950e+04, 9.40000e+02, 9.76000e+02,\n",
       "       3.01000e+03, 5.12840e+04, 3.20000e+05, 3.68200e+03, 8.40000e+02,\n",
       "       1.02000e+05, 1.03000e+05, 1.46250e+04, 1.44200e+04, 1.22000e+04,\n",
       "       1.47000e+05, 1.95000e+05, 5.17500e+03, 1.48000e+05, 2.65200e+04,\n",
       "       3.68000e+03, 2.17000e+04, 1.43500e+03, 8.00000e+05, 2.35000e+04,\n",
       "       2.95000e+04, 8.00000e+01, 2.60000e+05, 4.48000e+04, 3.08000e+04,\n",
       "       8.30000e+05, 1.90000e+05, 2.88000e+05, 3.84000e+03, 2.75000e+05,\n",
       "       8.67000e+03, 2.60000e+01, 1.32000e+03, 1.40000e+06, 3.40000e+05,\n",
       "       5.45000e+03, 4.65000e+03, 2.01000e+05, 2.45500e+05, 7.00000e+05,\n",
       "       2.46000e+04, 6.84000e+02, 3.25000e+05, 9.10000e+04, 2.36800e+04,\n",
       "       5.88000e+05, 2.48370e+04, 2.95500e+04, 6.25000e+04, 3.16870e+04,\n",
       "       4.73800e+04, 5.22000e+03, 8.20000e+04, 2.16000e+02, 4.44000e+04,\n",
       "       2.33000e+03, 2.35000e+03, 8.69000e+03, 3.66000e+04, 1.89000e+04,\n",
       "       4.25000e+04, 6.20000e+04, 6.40000e+04, 1.00000e+06, 1.68500e+04,\n",
       "       1.58700e+04, 1.14300e+04, 1.31000e+04, 2.68000e+03, 9.02000e+03,\n",
       "       1.82000e+05, 4.95000e+03, 6.60000e+04, 8.37500e+04, 2.98310e+04,\n",
       "       4.60000e+05, 4.65370e+04, 1.84500e+04, 4.39500e+03, 2.92000e+03,\n",
       "       3.58800e+04, 9.34000e+02, 3.98000e+05, 5.00090e+04, 2.48550e+04,\n",
       "       6.15000e+03, 1.28000e+04, 9.51000e+03, 2.91000e+05, 7.43400e+03,\n",
       "       1.36000e+04, 3.62500e+04, 8.30000e+04, 1.35200e+04, 7.80000e+05,\n",
       "       1.00500e+04, 1.53310e+04, 8.32000e+03, 3.73970e+04, 1.41000e+05,\n",
       "       1.43000e+04, 2.65000e+04, 4.41100e+03, 5.35000e+03, 5.00900e+03,\n",
       "       3.87000e+05, 2.38500e+04, 6.56620e+04, 6.06100e+03, 1.38000e+05,\n",
       "       8.42000e+04, 2.15000e+05, 1.02900e+04, 1.53500e+04, 7.00000e+01,\n",
       "       3.75000e+04, 2.14800e+04, 7.70600e+03, 9.45000e+02, 7.23400e+03,\n",
       "       7.40000e+03, 7.99600e+03, 2.01500e+03, 6.63000e+03, 9.57000e+03,\n",
       "       3.90000e+02, 1.62500e+04, 1.09000e+04, 8.40000e+04, 2.15100e+03,\n",
       "       3.94200e+04, 4.90000e+04, 8.20000e+02, 1.60000e+02, 4.73000e+04,\n",
       "       7.27700e+03, 8.31600e+03, 1.52000e+05, 9.90000e+03, 2.23340e+04,\n",
       "       1.63000e+04, 7.56800e+03, 1.54000e+04, 9.88000e+03, 1.71600e+04,\n",
       "       1.11500e+04, 1.45775e+05, 9.27000e+03, 4.47200e+04, 3.56200e+03,\n",
       "       4.50800e+05, 2.85000e+03, 4.28500e+03, 1.08150e+04, 3.96000e+04,\n",
       "       4.85560e+04, 3.84800e+04, 2.34000e+04, 1.57500e+04, 2.02500e+04,\n",
       "       2.26000e+05, 1.79600e+05, 3.37500e+04, 1.08400e+03, 7.25000e+03,\n",
       "       6.52000e+03, 1.78000e+04, 2.35700e+03, 4.57700e+03, 1.01000e+04,\n",
       "       1.85400e+04, 5.37500e+04, 1.37300e+03, 8.04000e+05, 3.18000e+03,\n",
       "       6.02800e+03, 5.30000e+03, 6.73000e+03, 6.50000e+01, 1.23500e+04,\n",
       "       1.54400e+04, 9.73300e+03, 4.17500e+03, 5.41600e+03, 1.18000e+04,\n",
       "       7.83000e+03, 7.69500e+03, 6.20000e+01, 1.18000e+05, 1.76000e+04,\n",
       "       1.62120e+04, 2.16450e+04, 1.67200e+03, 5.50000e+02, 1.56000e+03,\n",
       "       5.70200e+03, 8.90000e+04, 1.50000e+06, 6.94200e+03, 2.00000e+06,\n",
       "       1.39500e+04, 3.11500e+03, 5.28000e+03, 5.00000e+00, 1.05670e+04,\n",
       "       1.63800e+03, 2.06000e+05, 6.30000e+04, 1.58400e+03, 6.95500e+03,\n",
       "       4.32000e+04, 3.06400e+04, 1.15200e+05, 6.10000e+03, 7.98200e+03,\n",
       "       5.08000e+02, 2.07000e+05, 3.72000e+04, 1.23500e+05, 7.18450e+04,\n",
       "       6.32500e+03, 6.75000e+02, 7.87500e+03, 4.85000e+04, 1.39000e+04,\n",
       "       5.50000e+01, 2.08000e+04, 9.80000e+02, 9.07500e+03, 1.03200e+04,\n",
       "       2.20000e+01, 3.55530e+04, 2.99000e+02])"
      ]
     },
     "execution_count": 17,
     "metadata": {},
     "output_type": "execute_result"
    }
   ],
   "source": [
    "df[\"Monetary_compensation\"].unique()"
   ]
  },
  {
   "cell_type": "code",
   "execution_count": 18,
   "id": "f6405615-b912-4ad5-8188-b6ff3b5ab09a",
   "metadata": {},
   "outputs": [
    {
     "data": {
      "text/plain": [
       "array(['USD', 'GBP', 'CAD', 'EUR', 'AUD/NZD', 'Other', 'CHF', 'ZAR',\n",
       "       'SEK', 'HKD', 'JPY', nan], dtype=object)"
      ]
     },
     "execution_count": 18,
     "metadata": {},
     "output_type": "execute_result"
    }
   ],
   "source": [
    "df[\"Currency\"].unique()"
   ]
  },
  {
   "cell_type": "code",
   "execution_count": 19,
   "id": "4769c954-601e-4109-b700-b5682fa2998e",
   "metadata": {
    "scrolled": true
   },
   "outputs": [
    {
     "data": {
      "text/plain": [
       "array([nan, 'INR', 'Peso Argentino', '$76,302.34',\n",
       "       'My bonus is based on performance up to 10% of salary',\n",
       "       'I work for an online state university, managing admissions data. Not direct tech support. ',\n",
       "       '0', 'MYR', 'CHF', 'KWD', 'NOK', 'Na ', 'USD', 'BR$', 'SEK',\n",
       "       'Base plus Commission ', 'canadian', 'Dkk', 'EUR', 'COP', 'TTD',\n",
       "       'Indian rupees', 'BRL (R$)', 'Mexican pesos', 'CZK', 'GBP', 'DKK',\n",
       "       'Bdt', 'RSU / equity', 'ZAR', 'Additonal = Bonus plus stock',\n",
       "       'American Dollars', 'Php', 'PLN (Polish zloty)',\n",
       "       'Overtime (about 5 hours a week) and bonus', 'czech crowns',\n",
       "       'Stock ', 'TRY', 'Norwegian kroner (NOK)', 'CNY', 'ILS/NIS',\n",
       "       '55,000', 'AUD & NZD are not the same currency...', 'US Dollar',\n",
       "       'Canadian ', 'AUD', 'BRL', 'NIS (new Israeli shekel)', '-',\n",
       "       'RMB (chinese yuan)', 'Taiwanese dollars',\n",
       "       \"AUD and NZD aren't the same currency, and have absolutely nothing to do with each other :(\",\n",
       "       'NZD', 'Philippine Peso', 'SGD', 'KRW (Korean Won)', 'Czk', 'THB',\n",
       "       'IDR ', 'Sgd', 'Nok', 'ILS (Shekel)',\n",
       "       '6000 in stock grants annually', 'DKK ', 'China RMB',\n",
       "       'AUD Australian ', 'LKR', 'Polish Złoty', 'Philippine peso (PHP)',\n",
       "       'Australian Dollars ', 'PHP',\n",
       "       'Many non-salary benefits - travel, free healthcare for self, very low for family, non-taxable housing allowance ',\n",
       "       'Equity',\n",
       "       'It’s marketed as £22000 but we get paid pro-rats, so no pay for the school holidays.',\n",
       "       'additional compensation is for overtime (i am paid hourly) so it varies. i have included an estimate',\n",
       "       'ARS', 'Argentinian peso (ARS)', 'Israeli Shekels', 'ILS', 'MXN',\n",
       "       'PhP (Philippine Peso)',\n",
       "       'Converted mine into USD for your easyness', 'PLN', 'KRW', 'SAR',\n",
       "       'RM', 'IDR', 'Argentine Peso', 'Philippine Pesos', 'Ils', 'Rs',\n",
       "       'INR (Indian Rupee)', 'NTD', 'Danish Kroner', 'CAD', 'Korean Won ',\n",
       "       'dkk', 'Euro', 'SGD ', 'Mexican Pesos', 'THAI  BAHT',\n",
       "       'Option to get 2x or 1.5x if taking on a weekend day in the summer',\n",
       "       'Thai Baht ', '47000', 'na', 'Canadian', 'N/a',\n",
       "       'up to 12% annual bonus', 'croatian kuna', 'PLN (Zwoty)', '5',\n",
       "       'Rupees', 'Singapore Dollara', 'NGN', 'pkr', 'Zar', '1',\n",
       "       'ekignkfb', 'hhv', 'rice', 'HKD', 'ff'], dtype=object)"
      ]
     },
     "execution_count": 19,
     "metadata": {},
     "output_type": "execute_result"
    }
   ],
   "source": [
    "df[\"Other_Currency\"].unique()"
   ]
  },
  {
   "cell_type": "code",
   "execution_count": 20,
   "id": "4f90f7da-a5bb-4d7d-9499-ea0bcc158776",
   "metadata": {},
   "outputs": [
    {
     "data": {
      "text/plain": [
       "array([nan, 'I work for a Charter School', 'Commission based', ..., 'ff',\n",
       "       '10% of the salary if te goals are met', 'I recieve tips'],\n",
       "      dtype=object)"
      ]
     },
     "execution_count": 20,
     "metadata": {},
     "output_type": "execute_result"
    }
   ],
   "source": [
    "df[\"Additional_income_details\"].unique()"
   ]
  },
  {
   "cell_type": "code",
   "execution_count": 21,
   "id": "740a714d-db12-4666-89d5-d269fbc3c10b",
   "metadata": {
    "scrolled": true
   },
   "outputs": [
    {
     "data": {
      "text/plain": [
       "array(['United States', 'United Kingdom', 'US', 'USA', 'Canada',\n",
       "       'United Kingdom ', 'usa', 'UK', 'Scotland ', 'U.S.',\n",
       "       'United States ', 'The Netherlands', 'Australia ', 'Spain', 'us',\n",
       "       'Usa', 'England', 'finland', 'United States of America', 'France',\n",
       "       'United states', 'Scotland', 'USA ', 'United states ', 'Germany',\n",
       "       'UK ', 'united states', 'Ireland', 'India', 'Australia', 'Uk',\n",
       "       'United States of America ', 'U.S. ', 'canada', 'Canada ', 'U.S>',\n",
       "       'ISA', 'Argentina', 'Great Britain ', 'US ', 'United State',\n",
       "       'U.S.A', 'Denmark', 'U.S.A.', 'America', 'Netherlands',\n",
       "       'netherlands', 'England ', 'united states of america', 'Ireland ',\n",
       "       'Switzerland', 'Netherlands ', 'Bermuda', 'Us',\n",
       "       'The United States', 'United State of America', 'Germany ',\n",
       "       'Malaysia', 'Mexico ', 'United Stated', 'South Africa ', 'Belgium',\n",
       "       'Northern Ireland', 'u.s.', 'South Africa', 'UNITED STATES',\n",
       "       'united States', 'Sweden', 'Hong Kong', 'Kuwait', 'Norway',\n",
       "       'Sri lanka', 'Contracts', 'USA-- Virgin Islands', 'United Statws',\n",
       "       'England/UK', 'U.S',\n",
       "       \"We don't get raises, we get quarterly bonuses, but they periodically asses income in the area you work, so I got a raise because a 3rd party assessment showed I was paid too little for the area we were located\",\n",
       "       'Unites States ', 'Usa ', 'U.S.A. ', 'England, UK.', 'Greece',\n",
       "       'Japan', 'U. S. ', 'Britain ', 'United Sates', 'Japan ', 'Austria',\n",
       "       'Brazil', 'Canada, Ottawa, ontario', 'Global', 'Sweden ',\n",
       "       'United States of American ', 'FRANCE', 'Uniited States',\n",
       "       'United Kingdom (England)',\n",
       "       'Worldwide (based in US but short term trips aroudn the world)',\n",
       "       'CANADA ', 'Canadw', 'Hungary', 'Luxembourg',\n",
       "       'United Sates of America', 'ireland',\n",
       "       'United States (I work from home and my clients are all over the US/Canada/PR',\n",
       "       'Colombia', 'CANADA', 'Unted States', 'germany', 'United Statesp',\n",
       "       'United Stattes', 'United Statea', 'United Kingdom.', 'Mexico',\n",
       "       'New Zealand', 'Trinidad and Tobago', 'Unites States',\n",
       "       'United Statees', 'United kingdom', 'Cayman Islands',\n",
       "       'UNited States', 'Can',\n",
       "       'I am located in Canada but I work for a company in the US',\n",
       "       'United kingdom ', 'Uniyed states', 'Uniyes States',\n",
       "       'United States of Americas', 'U.A.', 'Czech republic', 'Czechia',\n",
       "       'Latvia', 'Finland', 'U. S.', 'Puerto Rico', 'US of A', 'Rwanda',\n",
       "       'United States of america ', 'United Arab Emirates ',\n",
       "       'Bangladesh ', 'Spain ', 'U.K. ', 'Romania', 'U.SA',\n",
       "       'United Kindom', 'United Status', 'New Zealand ',\n",
       "       'Currently finance', ' U.S.', 'Serbia', 'Philippines', 'Russia ',\n",
       "       'Poland', 'UXZ', 'czech republic', 'England, UK', 'Turkey',\n",
       "       'Canda', 'Puerto Rico ', 'Canada and USA', 'Catalonia',\n",
       "       '$2,175.84/year is deducted for benefits', 'uk', 'France ',\n",
       "       'Italy (South)', 'Jersey, Channel islands', 'Uk ', 'China',\n",
       "       'Virginia', 'Afghanistan', 'Israel', 'U.s.', 'Great Britain',\n",
       "       'U.s.a.', 'USS', 'Denmark ', 'Uniteed States',\n",
       "       'New Zealand Aotearoa', 'U.K.', 'Hartford',\n",
       "       'Japan, US Gov position', 'Csnada', 'United Stares', 'New zealand',\n",
       "       'Mainland China', 'I.S.', 'UK (Northern Ireland)',\n",
       "       'UK for U.S. company', ' US', 'Unites states ', 'NZ', 'Us ',\n",
       "       'Hong Kong ', 'Taiwan', 'Canad', 'Unite States', 'australia',\n",
       "       'The US', 'united states ', 'The Netherlands ', 'Cambodia',\n",
       "       'United states of America ', 'Vietnam', 'Remote', 'Singapore',\n",
       "       'South Korea', 'Czech Republic ', 'Thailand', 'Bangladesh',\n",
       "       'Lithuania', 'Eritrea', 'Indonesia', 'Singapore ',\n",
       "       'For the United States government, but posted overseas', 'IS',\n",
       "       'Switzerland ', 'United Kingdomk', 'Italy', ' New Zealand', 'Cuba',\n",
       "       'Slovenia', 'Australi', \"Cote d'Ivoire\", 'united kingdom',\n",
       "       'From Romania, but for an US based company', 'Somalia',\n",
       "       'Wales (United Kingdom)', 'England, Gb', 'Czech Republic',\n",
       "       'UnitedStates', 'Sri Lanka', 'spain', 'Danmark',\n",
       "       'U.K. (northern England)', 'U.K', 'NL', 'the Netherlands',\n",
       "       'Nederland', 'Slovakia', 'United States of america', 'Portugal ',\n",
       "       'England, United Kingdom', 'Sierra Leone', 'Englang',\n",
       "       'United statew', 'UAE', 'Belgium ',\n",
       "       'bonus based on meeting yearly goals set w/ my supervisor',\n",
       "       'International ', 'The Bahamas ', 'Wales',\n",
       "       \"I earn commission on sales. If I meet quota, I'm guaranteed another 16k min. Last year i earned an additional 27k. It's not uncommon for people in my space to earn 100k+ after commission. \",\n",
       "       'Costa Rica', ' United States', 'United Statues', 'Untied States',\n",
       "       'USA (company is based in a US territory, I work remote)', 'Chile',\n",
       "       'denmark', 'UK (England)', 'UK, remote', 'Scotland, UK', 'USAB',\n",
       "       'Unitied States', 'Norway ', 'Qatar', 'United Sttes',\n",
       "       'Remote (philippines)', 'Brazil ', 'Unites kingdom ',\n",
       "       'South africa', 'Portugal', 'united stated',\n",
       "       'United States Of America', 'Nigeria', 'Panamá',\n",
       "       'Northern Ireland ', 'england', 'SWITZERLAND',\n",
       "       'Austria, but I work remotely for a Dutch/British company',\n",
       "       \"I work for an US based company but I'm from Argentina.\",\n",
       "       'I was brought in on this salary to help with the EHR and very quickly was promoted to current position but compensation was not altered. ',\n",
       "       'Uniter Statez', 'U. S ', 'Congo', 'United states of America',\n",
       "       'Uruguay', 'Pakistan', 'Brasil', 'USA tomorrow ', 'United Stateds',\n",
       "       'n/a (remote from wherever I want)', 'singapore',\n",
       "       'US govt employee overseas, country withheld', 'usa ', 'Malaysia ',\n",
       "       'Uganda', 'Malta', 'Saudi Arabia', 'Bulgaria', 'Estonia',\n",
       "       'Morocco', 'new zealand', 'Africa', 'Ecuador', 'Zimbabwe', 'Ghana',\n",
       "       'San Francisco', 'Usat', '🇺🇸 ', 'Luxemburg', 'Unitef Stated', 'UA',\n",
       "       'Wales, UK', 'United Stares ', 'Croatia ',\n",
       "       'England, United Kingdom ', 'United STates', 'USaa', 'uSA',\n",
       "       'South Korea ', 'The netherlands', 'Ukraine ', 'america',\n",
       "       'switzerland', 'United States- Puerto Rico',\n",
       "       'From New Zealand but on projects across APAC', 'Y', 'United y',\n",
       "       'Wales (UK)', 'Isle of Man', 'Northern Ireland, United Kingdom',\n",
       "       'europe', 'California ',\n",
       "       'UK, but for globally fully remote company', 'Australian ',\n",
       "       'México', 'Jamaica', 'uS', 'USD', 'the netherlands',\n",
       "       \"USA, but for foreign gov't\", 'japan', 'Kenya', 'Jordan',\n",
       "       'United Statss', 'ARGENTINA BUT MY ORG IS IN THAILAND',\n",
       "       'United states of america', 'UsA',\n",
       "       'I work for a UAE-based organization, though I am personally in the US.',\n",
       "       'United  States', 'france', 'Aotearoa New Zealand', 'na', 'Policy',\n",
       "       'Cyprus', 'hong konh', 'United States is America', 'Liechtenstein',\n",
       "       'Company in Germany. I work from Pakistan.', 'croatia', 'Canadá',\n",
       "       'ENGLAND', 'United States of American', 'U.S.A ', 'INDIA',\n",
       "       'Bosnia and Herzegovina', 'NIGERIA', 'Poland ', 'pakistan',\n",
       "       'Nigeria ', 'London', 'ss', 'dbfemf', 'ibdia', 'LOUTRELAND',\n",
       "       'philippines', 'ff', 'Myanmar', 'Burma', nan], dtype=object)"
      ]
     },
     "execution_count": 21,
     "metadata": {},
     "output_type": "execute_result"
    }
   ],
   "source": [
    "df[\"Country_of_work\"].unique()"
   ]
  },
  {
   "cell_type": "code",
   "execution_count": 22,
   "id": "d836c990-f40d-466c-9f6b-6bf31149fd2f",
   "metadata": {
    "scrolled": true
   },
   "outputs": [
    {
     "data": {
      "text/plain": [
       "array(['Massachusetts', nan, 'Tennessee', 'Wisconsin', 'South Carolina',\n",
       "       'New Hampshire', 'Arizona', 'Missouri', 'Florida', 'Pennsylvania',\n",
       "       'Michigan', 'Minnesota', 'Illinois', 'California', 'Georgia',\n",
       "       'Ohio', 'District of Columbia', 'Maryland', 'Texas', 'Virginia',\n",
       "       'North Carolina', 'New York', 'New Jersey', 'Rhode Island',\n",
       "       'Colorado', 'Oregon', 'Washington', 'Indiana', 'Iowa', 'Nebraska',\n",
       "       'Oklahoma', 'Maine', 'Connecticut', 'South Dakota',\n",
       "       'West Virginia', 'Idaho', 'Louisiana', 'Montana', 'Kentucky',\n",
       "       'North Dakota', 'Kansas', 'Vermont', 'Arkansas', 'Alabama',\n",
       "       'Nevada', 'Delaware', 'New Mexico', 'Hawaii', 'Utah',\n",
       "       'Mississippi', 'Kentucky, Ohio', 'District of Columbia, Virginia',\n",
       "       'District of Columbia, Maryland', 'Alaska', 'Arizona, Washington',\n",
       "       'Georgia, New York', 'California, Colorado', 'California, Oregon',\n",
       "       'District of Columbia, Maryland, Pennsylvania, Virginia',\n",
       "       'Arizona, California', 'North Carolina, Utah', 'Wyoming',\n",
       "       'Ohio, Wyoming', 'Georgia, Tennessee', 'Massachusetts, Oregon',\n",
       "       'Alabama, Montana', 'Alabama, District of Columbia',\n",
       "       'California, Pennsylvania', 'New Jersey, Pennsylvania',\n",
       "       'Georgia, Washington', 'Alaska, Maryland',\n",
       "       'Michigan, South Carolina', 'Massachusetts, Rhode Island',\n",
       "       'Georgia, Minnesota', 'Colorado, Nevada',\n",
       "       'Maine, Massachusetts, New Hampshire, North Carolina',\n",
       "       'Alabama, Minnesota, Nevada', 'New Jersey, New York',\n",
       "       'Arizona, Utah', 'Alabama, Kansas', 'California, Oklahoma',\n",
       "       'Illinois, Wisconsin', 'Illinois, Kentucky',\n",
       "       'Arizona, California, Nevada, Texas',\n",
       "       'Alaska, Idaho, Oregon, Utah, Washington',\n",
       "       'Massachusetts, Pennsylvania', 'Nevada, Oregon',\n",
       "       'New Jersey, Virginia', 'Montana, Wyoming',\n",
       "       'Colorado, Massachusetts',\n",
       "       'District of Columbia, Maryland, Virginia',\n",
       "       'Massachusetts, Vermont', 'Massachusetts, New Hampshire',\n",
       "       'Arkansas, Iowa, Massachusetts, Ohio, Wyoming', 'New York, Texas',\n",
       "       'California, Montana', 'Iowa, Utah, Vermont', 'Texas, Virginia',\n",
       "       'Utah, Vermont', 'Arkansas, Illinois', 'Georgia, Massachusetts',\n",
       "       'Maryland, Virginia', 'Florida, Georgia, South Carolina',\n",
       "       'Arkansas, Idaho, Kansas, Louisiana, Michigan, Mississippi, Nevada, New York, South Carolina, Tennessee, Washington',\n",
       "       'California, Texas', 'Indiana, Ohio', 'Ohio, Washington',\n",
       "       'Kansas, Missouri', 'Colorado, Illinois',\n",
       "       'Arizona, Hawaii, Illinois, Michigan, Utah, Wyoming',\n",
       "       'California, New Jersey', 'Louisiana, Washington',\n",
       "       'Maryland, New York', 'District of Columbia, Washington',\n",
       "       'Delaware, Pennsylvania', 'Illinois, North Carolina',\n",
       "       'Indiana, Massachusetts', 'Florida, New Hampshire, Wisconsin',\n",
       "       'Pennsylvania, Rhode Island', 'New York, Oregon, Vermont',\n",
       "       'Iowa, Nebraska', 'California, New York', 'Arizona, New York',\n",
       "       'California, District of Columbia, Illinois, Iowa, Maryland, Minnesota',\n",
       "       'Oregon, Washington', 'New York, Virginia',\n",
       "       'Mississippi, Missouri', 'California, Maryland',\n",
       "       'California, Illinois, Massachusetts, North Carolina, South Carolina, Virginia',\n",
       "       'Alabama, California', 'Michigan, Texas, Washington',\n",
       "       'Alabama, Oregon', 'Alabama, Alaska, Arizona',\n",
       "       'Alabama, South Carolina',\n",
       "       'Colorado, Delaware, New Jersey, West Virginia, Wyoming',\n",
       "       'Utah, Wisconsin'], dtype=object)"
      ]
     },
     "execution_count": 22,
     "metadata": {},
     "output_type": "execute_result"
    }
   ],
   "source": [
    "df[\"U.S._state_of_work\"].unique()"
   ]
  },
  {
   "cell_type": "code",
   "execution_count": 23,
   "id": "85e49026-af6a-42f6-8ed0-d1a2e9dd0d95",
   "metadata": {},
   "outputs": [
    {
     "data": {
      "text/plain": [
       "array(['Boston', 'Cambridge', 'Chattanooga', ..., 'Shenzhen',\n",
       "       'Bennettsville', 'Jhonston'], dtype=object)"
      ]
     },
     "execution_count": 23,
     "metadata": {},
     "output_type": "execute_result"
    }
   ],
   "source": [
    "df[\"City_of_work\"].unique()"
   ]
  },
  {
   "cell_type": "code",
   "execution_count": 24,
   "id": "1d5b6a86-13cf-4ed5-8291-e8e508e24d2a",
   "metadata": {},
   "outputs": [
    {
     "data": {
      "text/plain": [
       "array(['5-7 years', '8 - 10 years', '2 - 4 years', '21 - 30 years',\n",
       "       '11 - 20 years', '1 year or less', '41 years or more',\n",
       "       '31 - 40 years', nan], dtype=object)"
      ]
     },
     "execution_count": 24,
     "metadata": {},
     "output_type": "execute_result"
    }
   ],
   "source": [
    "df[\"Years_of_experience\"].unique()"
   ]
  },
  {
   "cell_type": "code",
   "execution_count": 25,
   "id": "1127ad5e-1e5e-4e7d-96b7-a0ba68bcb759",
   "metadata": {},
   "outputs": [
    {
     "data": {
      "text/plain": [
       "array(['5-7 years', '2 - 4 years', '21 - 30 years', '11 - 20 years',\n",
       "       '1 year or less', '8 - 10 years', '31 - 40 years',\n",
       "       '41 years or more', nan], dtype=object)"
      ]
     },
     "execution_count": 25,
     "metadata": {},
     "output_type": "execute_result"
    }
   ],
   "source": [
    "df[\"Years_of_experience_in_your_field\"].unique()"
   ]
  },
  {
   "cell_type": "code",
   "execution_count": 26,
   "id": "a061921d-83a7-4d69-830e-dc267baf717c",
   "metadata": {},
   "outputs": [
    {
     "data": {
      "text/plain": [
       "array([\"Master's degree\", 'College degree', 'PhD', nan, 'Some college',\n",
       "       'High School', 'Professional degree (MD, JD, etc.)'], dtype=object)"
      ]
     },
     "execution_count": 26,
     "metadata": {},
     "output_type": "execute_result"
    }
   ],
   "source": [
    "df[\"Level_of_education\"].unique()"
   ]
  },
  {
   "cell_type": "code",
   "execution_count": 27,
   "id": "cdb3ef97-5de1-41f0-960e-da61d694a224",
   "metadata": {},
   "outputs": [
    {
     "data": {
      "text/plain": [
       "array(['Woman', 'Non-binary', 'Man', nan, 'Other or prefer not to answer',\n",
       "       'Prefer not to answer'], dtype=object)"
      ]
     },
     "execution_count": 27,
     "metadata": {},
     "output_type": "execute_result"
    }
   ],
   "source": [
    "df[\"Gender\"].unique()"
   ]
  },
  {
   "cell_type": "code",
   "execution_count": 55,
   "id": "f2cefab2-1c7b-4514-ad51-a03d6f94b8de",
   "metadata": {},
   "outputs": [],
   "source": [
    "# Creating a list of malformed data and replacing it with Null\n",
    "mvp=[\"...\",\"N/A\",\"Na \",\"-\",\"NA\",\"None\",\"na\",\"N/a\",\"ekignkfb\",\"rice\",\"ff\"]"
   ]
  },
  {
   "cell_type": "code",
   "execution_count": 57,
   "id": "fd8b77f1-9f89-4b4b-ad3a-04d2d0f2f576",
   "metadata": {},
   "outputs": [],
   "source": [
    "df=pd.read_csv(\"Salary_Survey.csv\",na_values=mvp)"
   ]
  },
  {
   "cell_type": "code",
   "execution_count": 59,
   "id": "db3a8896-710e-4487-a16d-3150472e5578",
   "metadata": {
    "scrolled": true
   },
   "outputs": [
    {
     "name": "stdout",
     "output_type": "stream",
     "text": [
      "<class 'pandas.core.frame.DataFrame'>\n",
      "RangeIndex: 28178 entries, 0 to 28177\n",
      "Data columns (total 23 columns):\n",
      " #   Column                                                                                                                                                                                                                                Non-Null Count  Dtype  \n",
      "---  ------                                                                                                                                                                                                                                --------------  -----  \n",
      " 0   Timestamp                                                                                                                                                                                                                             28085 non-null  object \n",
      " 1   How old are you?                                                                                                                                                                                                                      28085 non-null  object \n",
      " 2   What industry do you work in?                                                                                                                                                                                                         28011 non-null  object \n",
      " 3   Job title                                                                                                                                                                                                                             28081 non-null  object \n",
      " 4   If your job title needs additional context, please clarify here:                                                                                                                                                                      7265 non-null   object \n",
      " 5   What is your annual salary? (You'll indicate the currency in a later question. If you are part-time or hourly, please enter an annualized equivalent -- what you would earn if you worked the job 40 hours a week, 52 weeks a year.)  28085 non-null  object \n",
      " 6   How much additional monetary compensation do you get, if any (for example, bonuses or overtime in an average year)? Please only include monetary compensation here, not the value of benefits.                                        20780 non-null  float64\n",
      " 7   Please indicate the currency                                                                                                                                                                                                          28085 non-null  object \n",
      " 8   If \"Other,\" please indicate the currency here:                                                                                                                                                                                        200 non-null    object \n",
      " 9   If your income needs additional context, please provide it here:                                                                                                                                                                      3042 non-null   object \n",
      " 10  What country do you work in?                                                                                                                                                                                                          28083 non-null  object \n",
      " 11  If you're in the U.S., what state do you work in?                                                                                                                                                                                     23059 non-null  object \n",
      " 12  What city do you work in?                                                                                                                                                                                                             27978 non-null  object \n",
      " 13  How many years of professional work experience do you have overall?                                                                                                                                                                   28085 non-null  object \n",
      " 14  How many years of professional work experience do you have in your field?                                                                                                                                                             28085 non-null  object \n",
      " 15  What is your highest level of education completed?                                                                                                                                                                                    27863 non-null  object \n",
      " 16  What is your gender?                                                                                                                                                                                                                  27914 non-null  object \n",
      " 17  Unnamed: 17                                                                                                                                                                                                                           0 non-null      float64\n",
      " 18  Unnamed: 18                                                                                                                                                                                                                           0 non-null      float64\n",
      " 19  Unnamed: 19                                                                                                                                                                                                                           0 non-null      float64\n",
      " 20  Unnamed: 20                                                                                                                                                                                                                           0 non-null      float64\n",
      " 21  Unnamed: 21                                                                                                                                                                                                                           0 non-null      float64\n",
      " 22  Unnamed: 22                                                                                                                                                                                                                           0 non-null      float64\n",
      "dtypes: float64(7), object(16)\n",
      "memory usage: 4.9+ MB\n"
     ]
    }
   ],
   "source": [
    "df.info()"
   ]
  },
  {
   "cell_type": "code",
   "execution_count": 61,
   "id": "4fd8354b-b32d-4bba-ba03-2fdbcabf21b7",
   "metadata": {
    "scrolled": true
   },
   "outputs": [
    {
     "data": {
      "text/plain": [
       "Timestamp                                                                                                                                                                                                                                  93\n",
       "How old are you?                                                                                                                                                                                                                           93\n",
       "What industry do you work in?                                                                                                                                                                                                             167\n",
       "Job title                                                                                                                                                                                                                                  97\n",
       "If your job title needs additional context, please clarify here:                                                                                                                                                                        20913\n",
       "What is your annual salary? (You'll indicate the currency in a later question. If you are part-time or hourly, please enter an annualized equivalent -- what you would earn if you worked the job 40 hours a week, 52 weeks a year.)       93\n",
       "How much additional monetary compensation do you get, if any (for example, bonuses or overtime in an average year)? Please only include monetary compensation here, not the value of benefits.                                           7398\n",
       "Please indicate the currency                                                                                                                                                                                                               93\n",
       "If \"Other,\" please indicate the currency here:                                                                                                                                                                                          27978\n",
       "If your income needs additional context, please provide it here:                                                                                                                                                                        25136\n",
       "What country do you work in?                                                                                                                                                                                                               95\n",
       "If you're in the U.S., what state do you work in?                                                                                                                                                                                        5119\n",
       "What city do you work in?                                                                                                                                                                                                                 200\n",
       "How many years of professional work experience do you have overall?                                                                                                                                                                        93\n",
       "How many years of professional work experience do you have in your field?                                                                                                                                                                  93\n",
       "What is your highest level of education completed?                                                                                                                                                                                        315\n",
       "What is your gender?                                                                                                                                                                                                                      264\n",
       "Unnamed: 17                                                                                                                                                                                                                             28178\n",
       "Unnamed: 18                                                                                                                                                                                                                             28178\n",
       "Unnamed: 19                                                                                                                                                                                                                             28178\n",
       "Unnamed: 20                                                                                                                                                                                                                             28178\n",
       "Unnamed: 21                                                                                                                                                                                                                             28178\n",
       "Unnamed: 22                                                                                                                                                                                                                             28178\n",
       "dtype: int64"
      ]
     },
     "execution_count": 61,
     "metadata": {},
     "output_type": "execute_result"
    }
   ],
   "source": [
    "df.isnull().sum()"
   ]
  },
  {
   "cell_type": "code",
   "execution_count": 63,
   "id": "8b53b0c1-8633-453d-a672-880d25868ba6",
   "metadata": {},
   "outputs": [],
   "source": [
    "# creating a new dataframe so we have missing values to work with\n",
    "new_df=df"
   ]
  },
  {
   "cell_type": "code",
   "execution_count": 67,
   "id": "1f690f3e-d6c7-41fc-8203-a8faffc79e75",
   "metadata": {},
   "outputs": [
    {
     "data": {
      "text/plain": [
       "0           5-7 years\n",
       "1        8 - 10 years\n",
       "2         2 - 4 years\n",
       "3        8 - 10 years\n",
       "4        8 - 10 years\n",
       "             ...     \n",
       "28173             NaN\n",
       "28174             NaN\n",
       "28175             NaN\n",
       "28176             NaN\n",
       "28177             NaN\n",
       "Name: How many years of professional work experience do you have overall?, Length: 28178, dtype: object"
      ]
     },
     "execution_count": 67,
     "metadata": {},
     "output_type": "execute_result"
    }
   ],
   "source": [
    "# I do not understand why old column titles stayed if I changed it?\n",
    "# Flagging missing values\n",
    "new_df[\"How many years of professional work experience do you have overall?\"]"
   ]
  },
  {
   "cell_type": "code",
   "execution_count": 71,
   "id": "fa852146-9cdf-4a25-ab54-083f63dc3f30",
   "metadata": {},
   "outputs": [],
   "source": [
    "no_miss_df=new_df"
   ]
  },
  {
   "cell_type": "code",
   "execution_count": 73,
   "id": "fd46a08c-6e11-4b5e-8f6e-828761dfa3a5",
   "metadata": {},
   "outputs": [],
   "source": [
    "# Replacing missing values with 0\n",
    "no_miss_df[\"How many years of professional work experience do you have overall?\"]=new_df[\"How many years of professional work experience do you have overall?\"].fillna(0)"
   ]
  },
  {
   "cell_type": "code",
   "execution_count": 75,
   "id": "846667d1-da87-4f52-bdbc-02b47c9a6a5d",
   "metadata": {},
   "outputs": [
    {
     "data": {
      "text/plain": [
       "0           5-7 years\n",
       "1        8 - 10 years\n",
       "2         2 - 4 years\n",
       "3        8 - 10 years\n",
       "4        8 - 10 years\n",
       "             ...     \n",
       "28173               0\n",
       "28174               0\n",
       "28175               0\n",
       "28176               0\n",
       "28177               0\n",
       "Name: How many years of professional work experience do you have overall?, Length: 28178, dtype: object"
      ]
     },
     "execution_count": 75,
     "metadata": {},
     "output_type": "execute_result"
    }
   ],
   "source": [
    "no_miss_df[\"How many years of professional work experience do you have overall?\"]"
   ]
  },
  {
   "cell_type": "code",
   "execution_count": 77,
   "id": "2b3e2456-8d1d-4883-bbe2-9bb9adf9bf79",
   "metadata": {},
   "outputs": [
    {
     "data": {
      "text/plain": [
       "0             Woman\n",
       "1        Non-binary\n",
       "2             Woman\n",
       "3             Woman\n",
       "4             Woman\n",
       "            ...    \n",
       "28173           NaN\n",
       "28174           NaN\n",
       "28175           NaN\n",
       "28176           NaN\n",
       "28177           NaN\n",
       "Name: What is your gender?, Length: 28178, dtype: object"
      ]
     },
     "execution_count": 77,
     "metadata": {},
     "output_type": "execute_result"
    }
   ],
   "source": [
    "# looking into categorical data like gender\n",
    "no_miss_df[\"What is your gender?\"]"
   ]
  },
  {
   "cell_type": "code",
   "execution_count": 79,
   "id": "143e14a3-caa3-43a5-b517-076b3cd79dda",
   "metadata": {},
   "outputs": [],
   "source": [
    "# creating new category for nulls\n",
    "no_miss_df[\"What is your gender?\"]=new_df[\"What is your gender?\"].fillna(\"No_Gender\")"
   ]
  },
  {
   "cell_type": "code",
   "execution_count": 85,
   "id": "d0da0d98-36b7-4d93-a0e6-621e99f51ae4",
   "metadata": {},
   "outputs": [
    {
     "data": {
      "text/plain": [
       "array(['Woman', 'Non-binary', 'Man', 'No_Gender',\n",
       "       'Other or prefer not to answer', 'Prefer not to answer'],\n",
       "      dtype=object)"
      ]
     },
     "execution_count": 85,
     "metadata": {},
     "output_type": "execute_result"
    }
   ],
   "source": [
    "no_miss_df[\"What is your gender?\"].unique()"
   ]
  },
  {
   "cell_type": "code",
   "execution_count": 89,
   "id": "f2cad770-306e-40e3-8b3b-b46c7d82ef4a",
   "metadata": {},
   "outputs": [
    {
     "name": "stderr",
     "output_type": "stream",
     "text": [
      "C:\\Users\\tomis\\AppData\\Local\\Temp\\ipykernel_18704\\1863181392.py:2: FutureWarning: Series.fillna with 'method' is deprecated and will raise in a future version. Use obj.ffill() or obj.bfill() instead.\n",
      "  no_miss_df[\"How many years of professional work experience do you have overall?\"]=new_df[\"How many years of professional work experience do you have overall?\"].fillna(method=\"pad\")\n"
     ]
    }
   ],
   "source": [
    "# Forward fill\n",
    "no_miss_df[\"How many years of professional work experience do you have overall?\"]=new_df[\"How many years of professional work experience do you have overall?\"].fillna(method=\"pad\")"
   ]
  },
  {
   "cell_type": "code",
   "execution_count": 91,
   "id": "1bd8c869-0c6b-4822-a6cd-0bf911174654",
   "metadata": {},
   "outputs": [
    {
     "data": {
      "text/plain": [
       "0           5-7 years\n",
       "1        8 - 10 years\n",
       "2         2 - 4 years\n",
       "3        8 - 10 years\n",
       "4        8 - 10 years\n",
       "             ...     \n",
       "28173               0\n",
       "28174               0\n",
       "28175               0\n",
       "28176               0\n",
       "28177               0\n",
       "Name: How many years of professional work experience do you have overall?, Length: 28178, dtype: object"
      ]
     },
     "execution_count": 91,
     "metadata": {},
     "output_type": "execute_result"
    }
   ],
   "source": [
    "no_miss_df[\"How many years of professional work experience do you have overall?\"]"
   ]
  },
  {
   "cell_type": "code",
   "execution_count": 95,
   "id": "20e64178-95e4-481b-b9dd-b6dc5416cae5",
   "metadata": {},
   "outputs": [],
   "source": [
    "# dropping all the missing values\n",
    "no_miss_values=df.dropna(axis=0)"
   ]
  },
  {
   "cell_type": "code",
   "execution_count": 97,
   "id": "4b5a54b7-b075-4662-8f51-1eb916a4dddb",
   "metadata": {
    "scrolled": true
   },
   "outputs": [
    {
     "data": {
      "text/plain": [
       "Timestamp                                                                                                                                                                                                                               0\n",
       "How old are you?                                                                                                                                                                                                                        0\n",
       "What industry do you work in?                                                                                                                                                                                                           0\n",
       "Job title                                                                                                                                                                                                                               0\n",
       "If your job title needs additional context, please clarify here:                                                                                                                                                                        0\n",
       "What is your annual salary? (You'll indicate the currency in a later question. If you are part-time or hourly, please enter an annualized equivalent -- what you would earn if you worked the job 40 hours a week, 52 weeks a year.)    0\n",
       "How much additional monetary compensation do you get, if any (for example, bonuses or overtime in an average year)? Please only include monetary compensation here, not the value of benefits.                                          0\n",
       "Please indicate the currency                                                                                                                                                                                                            0\n",
       "If \"Other,\" please indicate the currency here:                                                                                                                                                                                          0\n",
       "If your income needs additional context, please provide it here:                                                                                                                                                                        0\n",
       "What country do you work in?                                                                                                                                                                                                            0\n",
       "If you're in the U.S., what state do you work in?                                                                                                                                                                                       0\n",
       "What city do you work in?                                                                                                                                                                                                               0\n",
       "How many years of professional work experience do you have overall?                                                                                                                                                                     0\n",
       "How many years of professional work experience do you have in your field?                                                                                                                                                               0\n",
       "What is your highest level of education completed?                                                                                                                                                                                      0\n",
       "What is your gender?                                                                                                                                                                                                                    0\n",
       "Unnamed: 17                                                                                                                                                                                                                             0\n",
       "Unnamed: 18                                                                                                                                                                                                                             0\n",
       "Unnamed: 19                                                                                                                                                                                                                             0\n",
       "Unnamed: 20                                                                                                                                                                                                                             0\n",
       "Unnamed: 21                                                                                                                                                                                                                             0\n",
       "Unnamed: 22                                                                                                                                                                                                                             0\n",
       "dtype: int64"
      ]
     },
     "execution_count": 97,
     "metadata": {},
     "output_type": "execute_result"
    }
   ],
   "source": [
    "no_miss_values.isnull().sum()"
   ]
  },
  {
   "cell_type": "code",
   "execution_count": 101,
   "id": "3aa04029-bc7e-429c-b7f1-e118c0354367",
   "metadata": {},
   "outputs": [
    {
     "data": {
      "text/plain": [
       "0"
      ]
     },
     "execution_count": 101,
     "metadata": {},
     "output_type": "execute_result"
    }
   ],
   "source": [
    "# Checking for duplicates\n",
    "no_miss_values.duplicated().sum()"
   ]
  },
  {
   "cell_type": "code",
   "execution_count": 107,
   "id": "ec0de3b9-4402-4f42-b7e1-9578031873c6",
   "metadata": {},
   "outputs": [
    {
     "data": {
      "text/plain": [
       "<Axes: xlabel='How old are you?'>"
      ]
     },
     "execution_count": 107,
     "metadata": {},
     "output_type": "execute_result"
    },
    {
     "data": {
      "image/png": "[encoded data removed]",
      "text/plain": [
       "<Figure size 640x480 with 1 Axes>"
      ]
     },
     "metadata": {},
     "output_type": "display_data"
    }
   ],
   "source": [
    "# Checking for outliers\n",
    "sns.boxplot(data=no_miss_df,x=\"How old are you?\")"
   ]
  },
  {
   "cell_type": "code",
   "execution_count": 109,
   "id": "22cf7331-5cd5-46d2-bf70-401fbe3b7784",
   "metadata": {},
   "outputs": [],
   "source": [
    "# dealing with outlier\n",
    "Q1 = no_miss_values[\"How old are you?\"].quantile(0.25)\n",
    "Q3 = no_miss_values[\"How old are you?\"].quantile(0.75)\n",
    "IQR = Q3-Q1\n",
    "lower = Q1-1.5*IQR\n",
    "upper = Q3+1.5*IQR"
   ]
  },
  {
   "cell_type": "code",
   "execution_count": 113,
   "id": "43f1e88f-33f3-401e-bbbb-88327cd84bac",
   "metadata": {},
   "outputs": [],
   "source": [
    "# which of the observations are outliers\n",
    "upper_array=np.where(no_miss_values[\"How old are you?\"]>=upper)[0]\n",
    "lower_array=np.where(no_miss_values[\"How old are you?\"]<=lower)[0]"
   ]
  },
  {
   "cell_type": "code",
   "execution_count": 115,
   "id": "96769455-7c1b-4352-9c88-db8d2035a586",
   "metadata": {},
   "outputs": [
    {
     "data": {
      "text/plain": [
       "array([], dtype=int64)"
      ]
     },
     "execution_count": 115,
     "metadata": {},
     "output_type": "execute_result"
    }
   ],
   "source": [
    "# location of each outlier\n",
    "upper_array"
   ]
  },
  {
   "cell_type": "code",
   "execution_count": 117,
   "id": "4b836b9f-a994-4434-a242-58c8eb5119d5",
   "metadata": {},
   "outputs": [
    {
     "data": {
      "text/plain": [
       "array([], dtype=int64)"
      ]
     },
     "execution_count": 117,
     "metadata": {},
     "output_type": "execute_result"
    }
   ],
   "source": [
    "lower_array"
   ]
  },
  {
   "cell_type": "code",
   "execution_count": 121,
   "id": "1bcd8f7f-ae51-4ae2-8b84-47c8985f94d9",
   "metadata": {},
   "outputs": [
    {
     "name": "stderr",
     "output_type": "stream",
     "text": [
      "C:\\Users\\tomis\\AppData\\Local\\Temp\\ipykernel_18704\\3639335223.py:1: SettingWithCopyWarning: \n",
      "A value is trying to be set on a copy of a slice from a DataFrame\n",
      "\n",
      "See the caveats in the documentation: https://pandas.pydata.org/pandas-docs/stable/user_guide/indexing.html#returning-a-view-versus-a-copy\n",
      "  no_miss_values.drop(index=upper_array, inplace=True)\n",
      "C:\\Users\\tomis\\AppData\\Local\\Temp\\ipykernel_18704\\3639335223.py:2: SettingWithCopyWarning: \n",
      "A value is trying to be set on a copy of a slice from a DataFrame\n",
      "\n",
      "See the caveats in the documentation: https://pandas.pydata.org/pandas-docs/stable/user_guide/indexing.html#returning-a-view-versus-a-copy\n",
      "  no_miss_values.drop(index=lower_array, inplace=True)\n"
     ]
    }
   ],
   "source": [
    "no_miss_values.drop(index=upper_array, inplace=True)\n",
    "no_miss_values.drop(index=lower_array, inplace=True)"
   ]
  },
  {
   "cell_type": "code",
   "execution_count": null,
   "id": "4f1e1f37-41e3-4cc8-b656-6481667aa5c5",
   "metadata": {},
   "outputs": [],
   "source": []
  }
 ],
 "metadata": {
  "kernelspec": {
   "display_name": "Python 3 (ipykernel)",
   "language": "python",
   "name": "python3"
  },
  "language_info": {
   "codemirror_mode": {
    "name": "ipython",
    "version": 3
   },
   "file_extension": ".py",
   "mimetype": "text/x-python",
   "name": "python",
   "nbconvert_exporter": "python",
   "pygments_lexer": "ipython3",
   "version": "3.12.4"
  }
 },
 "nbformat": 4,
 "nbformat_minor": 5
}
