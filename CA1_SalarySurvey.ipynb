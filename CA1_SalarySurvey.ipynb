{
 "cells": [
  {
   "cell_type": "code",
   "execution_count": 676,
   "id": "1fd3c5f6-fa75-412b-9634-43cb6a99b929",
   "metadata": {},
   "outputs": [],
   "source": [
    "import pandas as pd\n",
    "import numpy as np\n",
    "import seaborn as sns\n",
    "import matplotlib.pyplot as plt\n",
    "from sklearn.feature_selection import SelectKBest\n",
    "from sklearn.feature_selection import chi2"
   ]
  },
  {
   "cell_type": "code",
   "execution_count": 677,
   "id": "8023e21c-6f1d-45a9-9f85-38313045f386",
   "metadata": {},
   "outputs": [],
   "source": [
    "df=pd.read_csv('Salary_Survey.csv')"
   ]
  },
  {
   "cell_type": "markdown",
   "id": "83fdc673-288d-4162-a35f-5bef0e4fb875",
   "metadata": {},
   "source": [
    "EDA process"
   ]
  },
  {
   "cell_type": "code",
   "execution_count": 679,
   "id": "dfb3fc63-adaf-4b43-b049-ec37e8f3a413",
   "metadata": {
    "scrolled": true
   },
   "outputs": [
    {
     "data": {
      "text/html": [
       "<div>\n",
       "<style scoped>\n",
       "    .dataframe tbody tr th:only-of-type {\n",
       "        vertical-align: middle;\n",
       "    }\n",
       "\n",
       "    .dataframe tbody tr th {\n",
       "        vertical-align: top;\n",
       "    }\n",
       "\n",
       "    .dataframe thead th {\n",
       "        text-align: right;\n",
       "    }\n",
       "</style>\n",
       "<table border=\"1\" class=\"dataframe\">\n",
       "  <thead>\n",
       "    <tr style=\"text-align: right;\">\n",
       "      <th></th>\n",
       "      <th>Timestamp</th>\n",
       "      <th>How old are you?</th>\n",
       "      <th>What industry do you work in?</th>\n",
       "      <th>Job title</th>\n",
       "      <th>If your job title needs additional context, please clarify here:</th>\n",
       "      <th>What is your annual salary? (You'll indicate the currency in a later question. If you are part-time or hourly, please enter an annualized equivalent -- what you would earn if you worked the job 40 hours a week, 52 weeks a year.)</th>\n",
       "      <th>How much additional monetary compensation do you get, if any (for example, bonuses or overtime in an average year)? Please only include monetary compensation here, not the value of benefits.</th>\n",
       "      <th>Please indicate the currency</th>\n",
       "      <th>If \"Other,\" please indicate the currency here:</th>\n",
       "      <th>If your income needs additional context, please provide it here:</th>\n",
       "      <th>...</th>\n",
       "      <th>How many years of professional work experience do you have overall?</th>\n",
       "      <th>How many years of professional work experience do you have in your field?</th>\n",
       "      <th>What is your highest level of education completed?</th>\n",
       "      <th>What is your gender?</th>\n",
       "      <th>Unnamed: 17</th>\n",
       "      <th>Unnamed: 18</th>\n",
       "      <th>Unnamed: 19</th>\n",
       "      <th>Unnamed: 20</th>\n",
       "      <th>Unnamed: 21</th>\n",
       "      <th>Unnamed: 22</th>\n",
       "    </tr>\n",
       "  </thead>\n",
       "  <tbody>\n",
       "    <tr>\n",
       "      <th>0</th>\n",
       "      <td>4/27/2021 11:02:10</td>\n",
       "      <td>25-34</td>\n",
       "      <td>Education (Higher Education)</td>\n",
       "      <td>Research and Instruction Librarian</td>\n",
       "      <td>NaN</td>\n",
       "      <td>55,000</td>\n",
       "      <td>0.0</td>\n",
       "      <td>USD</td>\n",
       "      <td>NaN</td>\n",
       "      <td>NaN</td>\n",
       "      <td>...</td>\n",
       "      <td>5-7 years</td>\n",
       "      <td>5-7 years</td>\n",
       "      <td>Master's degree</td>\n",
       "      <td>Woman</td>\n",
       "      <td>NaN</td>\n",
       "      <td>NaN</td>\n",
       "      <td>NaN</td>\n",
       "      <td>NaN</td>\n",
       "      <td>NaN</td>\n",
       "      <td>NaN</td>\n",
       "    </tr>\n",
       "    <tr>\n",
       "      <th>1</th>\n",
       "      <td>4/27/2021 11:02:22</td>\n",
       "      <td>25-34</td>\n",
       "      <td>Computing or Tech</td>\n",
       "      <td>Change &amp; Internal Communications Manager</td>\n",
       "      <td>NaN</td>\n",
       "      <td>54,600</td>\n",
       "      <td>4000.0</td>\n",
       "      <td>GBP</td>\n",
       "      <td>NaN</td>\n",
       "      <td>NaN</td>\n",
       "      <td>...</td>\n",
       "      <td>8 - 10 years</td>\n",
       "      <td>5-7 years</td>\n",
       "      <td>College degree</td>\n",
       "      <td>Non-binary</td>\n",
       "      <td>NaN</td>\n",
       "      <td>NaN</td>\n",
       "      <td>NaN</td>\n",
       "      <td>NaN</td>\n",
       "      <td>NaN</td>\n",
       "      <td>NaN</td>\n",
       "    </tr>\n",
       "    <tr>\n",
       "      <th>2</th>\n",
       "      <td>4/27/2021 11:02:38</td>\n",
       "      <td>25-34</td>\n",
       "      <td>Accounting, Banking &amp; Finance</td>\n",
       "      <td>Marketing Specialist</td>\n",
       "      <td>NaN</td>\n",
       "      <td>34,000</td>\n",
       "      <td>NaN</td>\n",
       "      <td>USD</td>\n",
       "      <td>NaN</td>\n",
       "      <td>NaN</td>\n",
       "      <td>...</td>\n",
       "      <td>2 - 4 years</td>\n",
       "      <td>2 - 4 years</td>\n",
       "      <td>College degree</td>\n",
       "      <td>Woman</td>\n",
       "      <td>NaN</td>\n",
       "      <td>NaN</td>\n",
       "      <td>NaN</td>\n",
       "      <td>NaN</td>\n",
       "      <td>NaN</td>\n",
       "      <td>NaN</td>\n",
       "    </tr>\n",
       "    <tr>\n",
       "      <th>3</th>\n",
       "      <td>4/27/2021 11:02:41</td>\n",
       "      <td>25-34</td>\n",
       "      <td>Nonprofits</td>\n",
       "      <td>Program Manager</td>\n",
       "      <td>NaN</td>\n",
       "      <td>62,000</td>\n",
       "      <td>3000.0</td>\n",
       "      <td>USD</td>\n",
       "      <td>NaN</td>\n",
       "      <td>NaN</td>\n",
       "      <td>...</td>\n",
       "      <td>8 - 10 years</td>\n",
       "      <td>5-7 years</td>\n",
       "      <td>College degree</td>\n",
       "      <td>Woman</td>\n",
       "      <td>NaN</td>\n",
       "      <td>NaN</td>\n",
       "      <td>NaN</td>\n",
       "      <td>NaN</td>\n",
       "      <td>NaN</td>\n",
       "      <td>NaN</td>\n",
       "    </tr>\n",
       "    <tr>\n",
       "      <th>4</th>\n",
       "      <td>4/27/2021 11:02:42</td>\n",
       "      <td>25-34</td>\n",
       "      <td>Accounting, Banking &amp; Finance</td>\n",
       "      <td>Accounting Manager</td>\n",
       "      <td>NaN</td>\n",
       "      <td>60,000</td>\n",
       "      <td>7000.0</td>\n",
       "      <td>USD</td>\n",
       "      <td>NaN</td>\n",
       "      <td>NaN</td>\n",
       "      <td>...</td>\n",
       "      <td>8 - 10 years</td>\n",
       "      <td>5-7 years</td>\n",
       "      <td>College degree</td>\n",
       "      <td>Woman</td>\n",
       "      <td>NaN</td>\n",
       "      <td>NaN</td>\n",
       "      <td>NaN</td>\n",
       "      <td>NaN</td>\n",
       "      <td>NaN</td>\n",
       "      <td>NaN</td>\n",
       "    </tr>\n",
       "  </tbody>\n",
       "</table>\n",
       "<p>5 rows × 23 columns</p>\n",
       "</div>"
      ],
      "text/plain": [
       "            Timestamp How old are you?  What industry do you work in?  \\\n",
       "0  4/27/2021 11:02:10            25-34   Education (Higher Education)   \n",
       "1  4/27/2021 11:02:22            25-34              Computing or Tech   \n",
       "2  4/27/2021 11:02:38            25-34  Accounting, Banking & Finance   \n",
       "3  4/27/2021 11:02:41            25-34                     Nonprofits   \n",
       "4  4/27/2021 11:02:42            25-34  Accounting, Banking & Finance   \n",
       "\n",
       "                                  Job title  \\\n",
       "0        Research and Instruction Librarian   \n",
       "1  Change & Internal Communications Manager   \n",
       "2                      Marketing Specialist   \n",
       "3                           Program Manager   \n",
       "4                        Accounting Manager   \n",
       "\n",
       "  If your job title needs additional context, please clarify here:  \\\n",
       "0                                                NaN                 \n",
       "1                                                NaN                 \n",
       "2                                                NaN                 \n",
       "3                                                NaN                 \n",
       "4                                                NaN                 \n",
       "\n",
       "  What is your annual salary? (You'll indicate the currency in a later question. If you are part-time or hourly, please enter an annualized equivalent -- what you would earn if you worked the job 40 hours a week, 52 weeks a year.)  \\\n",
       "0                                             55,000                                                                                                                                                                                     \n",
       "1                                             54,600                                                                                                                                                                                     \n",
       "2                                             34,000                                                                                                                                                                                     \n",
       "3                                             62,000                                                                                                                                                                                     \n",
       "4                                             60,000                                                                                                                                                                                     \n",
       "\n",
       "   How much additional monetary compensation do you get, if any (for example, bonuses or overtime in an average year)? Please only include monetary compensation here, not the value of benefits.  \\\n",
       "0                                                0.0                                                                                                                                                \n",
       "1                                             4000.0                                                                                                                                                \n",
       "2                                                NaN                                                                                                                                                \n",
       "3                                             3000.0                                                                                                                                                \n",
       "4                                             7000.0                                                                                                                                                \n",
       "\n",
       "  Please indicate the currency  \\\n",
       "0                          USD   \n",
       "1                          GBP   \n",
       "2                          USD   \n",
       "3                          USD   \n",
       "4                          USD   \n",
       "\n",
       "  If \"Other,\" please indicate the currency here:   \\\n",
       "0                                             NaN   \n",
       "1                                             NaN   \n",
       "2                                             NaN   \n",
       "3                                             NaN   \n",
       "4                                             NaN   \n",
       "\n",
       "  If your income needs additional context, please provide it here:  ...  \\\n",
       "0                                                NaN                ...   \n",
       "1                                                NaN                ...   \n",
       "2                                                NaN                ...   \n",
       "3                                                NaN                ...   \n",
       "4                                                NaN                ...   \n",
       "\n",
       "  How many years of professional work experience do you have overall?  \\\n",
       "0                                          5-7 years                    \n",
       "1                                       8 - 10 years                    \n",
       "2                                        2 - 4 years                    \n",
       "3                                       8 - 10 years                    \n",
       "4                                       8 - 10 years                    \n",
       "\n",
       "  How many years of professional work experience do you have in your field?  \\\n",
       "0                                          5-7 years                          \n",
       "1                                          5-7 years                          \n",
       "2                                        2 - 4 years                          \n",
       "3                                          5-7 years                          \n",
       "4                                          5-7 years                          \n",
       "\n",
       "  What is your highest level of education completed? What is your gender?  \\\n",
       "0                                    Master's degree                Woman   \n",
       "1                                     College degree           Non-binary   \n",
       "2                                     College degree                Woman   \n",
       "3                                     College degree                Woman   \n",
       "4                                     College degree                Woman   \n",
       "\n",
       "  Unnamed: 17 Unnamed: 18 Unnamed: 19  Unnamed: 20  Unnamed: 21  Unnamed: 22  \n",
       "0         NaN         NaN         NaN          NaN          NaN          NaN  \n",
       "1         NaN         NaN         NaN          NaN          NaN          NaN  \n",
       "2         NaN         NaN         NaN          NaN          NaN          NaN  \n",
       "3         NaN         NaN         NaN          NaN          NaN          NaN  \n",
       "4         NaN         NaN         NaN          NaN          NaN          NaN  \n",
       "\n",
       "[5 rows x 23 columns]"
      ]
     },
     "execution_count": 679,
     "metadata": {},
     "output_type": "execute_result"
    }
   ],
   "source": [
    "df.head()"
   ]
  },
  {
   "cell_type": "code",
   "execution_count": 680,
   "id": "221fa65c-104c-41cf-a8a9-72c0ea1736b5",
   "metadata": {
    "scrolled": true
   },
   "outputs": [
    {
     "name": "stdout",
     "output_type": "stream",
     "text": [
      "<class 'pandas.core.frame.DataFrame'>\n",
      "RangeIndex: 28178 entries, 0 to 28177\n",
      "Data columns (total 23 columns):\n",
      " #   Column                                                                                                                                                                                                                                Non-Null Count  Dtype  \n",
      "---  ------                                                                                                                                                                                                                                --------------  -----  \n",
      " 0   Timestamp                                                                                                                                                                                                                             28085 non-null  object \n",
      " 1   How old are you?                                                                                                                                                                                                                      28085 non-null  object \n",
      " 2   What industry do you work in?                                                                                                                                                                                                         28011 non-null  object \n",
      " 3   Job title                                                                                                                                                                                                                             28084 non-null  object \n",
      " 4   If your job title needs additional context, please clarify here:                                                                                                                                                                      7267 non-null   object \n",
      " 5   What is your annual salary? (You'll indicate the currency in a later question. If you are part-time or hourly, please enter an annualized equivalent -- what you would earn if you worked the job 40 hours a week, 52 weeks a year.)  28085 non-null  object \n",
      " 6   How much additional monetary compensation do you get, if any (for example, bonuses or overtime in an average year)? Please only include monetary compensation here, not the value of benefits.                                        20780 non-null  float64\n",
      " 7   Please indicate the currency                                                                                                                                                                                                          28085 non-null  object \n",
      " 8   If \"Other,\" please indicate the currency here:                                                                                                                                                                                        207 non-null    object \n",
      " 9   If your income needs additional context, please provide it here:                                                                                                                                                                      3044 non-null   object \n",
      " 10  What country do you work in?                                                                                                                                                                                                          28085 non-null  object \n",
      " 11  If you're in the U.S., what state do you work in?                                                                                                                                                                                     23059 non-null  object \n",
      " 12  What city do you work in?                                                                                                                                                                                                             28003 non-null  object \n",
      " 13  How many years of professional work experience do you have overall?                                                                                                                                                                   28085 non-null  object \n",
      " 14  How many years of professional work experience do you have in your field?                                                                                                                                                             28085 non-null  object \n",
      " 15  What is your highest level of education completed?                                                                                                                                                                                    27863 non-null  object \n",
      " 16  What is your gender?                                                                                                                                                                                                                  27914 non-null  object \n",
      " 17  Unnamed: 17                                                                                                                                                                                                                           0 non-null      float64\n",
      " 18  Unnamed: 18                                                                                                                                                                                                                           0 non-null      float64\n",
      " 19  Unnamed: 19                                                                                                                                                                                                                           0 non-null      float64\n",
      " 20  Unnamed: 20                                                                                                                                                                                                                           0 non-null      float64\n",
      " 21  Unnamed: 21                                                                                                                                                                                                                           0 non-null      float64\n",
      " 22  Unnamed: 22                                                                                                                                                                                                                           0 non-null      float64\n",
      "dtypes: float64(7), object(16)\n",
      "memory usage: 4.9+ MB\n"
     ]
    }
   ],
   "source": [
    "df.info()"
   ]
  },
  {
   "cell_type": "code",
   "execution_count": 681,
   "id": "4b63d972-3e5c-4709-a7de-36ae2cb7161e",
   "metadata": {},
   "outputs": [],
   "source": [
    "# Dropping the features with no values\n",
    "df=df.drop(columns=['Timestamp', 'Unnamed: 17', 'Unnamed: 18', 'Unnamed: 19', 'Unnamed: 20', 'Unnamed: 21', 'Unnamed: 22'])"
   ]
  },
  {
   "cell_type": "code",
   "execution_count": 682,
   "id": "03dcf8a0-ca77-4429-9ca2-93be51ed0c38",
   "metadata": {},
   "outputs": [],
   "source": [
    "# Dropping oservations with no values\n",
    "df.dropna(axis=0, how='all', inplace=True)"
   ]
  },
  {
   "cell_type": "code",
   "execution_count": 683,
   "id": "0ae91192-d394-495f-a4e4-f05b6426b32b",
   "metadata": {},
   "outputs": [],
   "source": [
    "# Simplifying features names\n",
    "df.columns = ['Age','Industry','Job_title','Additional_job_details','Annual_salary','Monetary_compensation','Currency','Other_Currency','Additional_income_details','Country_of_work','U.S._state_of_work','City_of_work','Years_of_experience','Years_of_experience_in_your_field','Level_of_education','Gender']"
   ]
  },
  {
   "cell_type": "code",
   "execution_count": 684,
   "id": "0f6f95b2-f867-406d-9991-c43c95e79432",
   "metadata": {},
   "outputs": [
    {
     "data": {
      "text/html": [
       "<div>\n",
       "<style scoped>\n",
       "    .dataframe tbody tr th:only-of-type {\n",
       "        vertical-align: middle;\n",
       "    }\n",
       "\n",
       "    .dataframe tbody tr th {\n",
       "        vertical-align: top;\n",
       "    }\n",
       "\n",
       "    .dataframe thead th {\n",
       "        text-align: right;\n",
       "    }\n",
       "</style>\n",
       "<table border=\"1\" class=\"dataframe\">\n",
       "  <thead>\n",
       "    <tr style=\"text-align: right;\">\n",
       "      <th></th>\n",
       "      <th>Age</th>\n",
       "      <th>Industry</th>\n",
       "      <th>Job_title</th>\n",
       "      <th>Additional_job_details</th>\n",
       "      <th>Annual_salary</th>\n",
       "      <th>Monetary_compensation</th>\n",
       "      <th>Currency</th>\n",
       "      <th>Other_Currency</th>\n",
       "      <th>Additional_income_details</th>\n",
       "      <th>Country_of_work</th>\n",
       "      <th>U.S._state_of_work</th>\n",
       "      <th>City_of_work</th>\n",
       "      <th>Years_of_experience</th>\n",
       "      <th>Years_of_experience_in_your_field</th>\n",
       "      <th>Level_of_education</th>\n",
       "      <th>Gender</th>\n",
       "    </tr>\n",
       "  </thead>\n",
       "  <tbody>\n",
       "    <tr>\n",
       "      <th>0</th>\n",
       "      <td>25-34</td>\n",
       "      <td>Education (Higher Education)</td>\n",
       "      <td>Research and Instruction Librarian</td>\n",
       "      <td>NaN</td>\n",
       "      <td>55,000</td>\n",
       "      <td>0.0</td>\n",
       "      <td>USD</td>\n",
       "      <td>NaN</td>\n",
       "      <td>NaN</td>\n",
       "      <td>United States</td>\n",
       "      <td>Massachusetts</td>\n",
       "      <td>Boston</td>\n",
       "      <td>5-7 years</td>\n",
       "      <td>5-7 years</td>\n",
       "      <td>Master's degree</td>\n",
       "      <td>Woman</td>\n",
       "    </tr>\n",
       "    <tr>\n",
       "      <th>1</th>\n",
       "      <td>25-34</td>\n",
       "      <td>Computing or Tech</td>\n",
       "      <td>Change &amp; Internal Communications Manager</td>\n",
       "      <td>NaN</td>\n",
       "      <td>54,600</td>\n",
       "      <td>4000.0</td>\n",
       "      <td>GBP</td>\n",
       "      <td>NaN</td>\n",
       "      <td>NaN</td>\n",
       "      <td>United Kingdom</td>\n",
       "      <td>NaN</td>\n",
       "      <td>Cambridge</td>\n",
       "      <td>8 - 10 years</td>\n",
       "      <td>5-7 years</td>\n",
       "      <td>College degree</td>\n",
       "      <td>Non-binary</td>\n",
       "    </tr>\n",
       "    <tr>\n",
       "      <th>2</th>\n",
       "      <td>25-34</td>\n",
       "      <td>Accounting, Banking &amp; Finance</td>\n",
       "      <td>Marketing Specialist</td>\n",
       "      <td>NaN</td>\n",
       "      <td>34,000</td>\n",
       "      <td>NaN</td>\n",
       "      <td>USD</td>\n",
       "      <td>NaN</td>\n",
       "      <td>NaN</td>\n",
       "      <td>US</td>\n",
       "      <td>Tennessee</td>\n",
       "      <td>Chattanooga</td>\n",
       "      <td>2 - 4 years</td>\n",
       "      <td>2 - 4 years</td>\n",
       "      <td>College degree</td>\n",
       "      <td>Woman</td>\n",
       "    </tr>\n",
       "    <tr>\n",
       "      <th>3</th>\n",
       "      <td>25-34</td>\n",
       "      <td>Nonprofits</td>\n",
       "      <td>Program Manager</td>\n",
       "      <td>NaN</td>\n",
       "      <td>62,000</td>\n",
       "      <td>3000.0</td>\n",
       "      <td>USD</td>\n",
       "      <td>NaN</td>\n",
       "      <td>NaN</td>\n",
       "      <td>USA</td>\n",
       "      <td>Wisconsin</td>\n",
       "      <td>Milwaukee</td>\n",
       "      <td>8 - 10 years</td>\n",
       "      <td>5-7 years</td>\n",
       "      <td>College degree</td>\n",
       "      <td>Woman</td>\n",
       "    </tr>\n",
       "    <tr>\n",
       "      <th>4</th>\n",
       "      <td>25-34</td>\n",
       "      <td>Accounting, Banking &amp; Finance</td>\n",
       "      <td>Accounting Manager</td>\n",
       "      <td>NaN</td>\n",
       "      <td>60,000</td>\n",
       "      <td>7000.0</td>\n",
       "      <td>USD</td>\n",
       "      <td>NaN</td>\n",
       "      <td>NaN</td>\n",
       "      <td>US</td>\n",
       "      <td>South Carolina</td>\n",
       "      <td>Greenville</td>\n",
       "      <td>8 - 10 years</td>\n",
       "      <td>5-7 years</td>\n",
       "      <td>College degree</td>\n",
       "      <td>Woman</td>\n",
       "    </tr>\n",
       "  </tbody>\n",
       "</table>\n",
       "</div>"
      ],
      "text/plain": [
       "     Age                       Industry  \\\n",
       "0  25-34   Education (Higher Education)   \n",
       "1  25-34              Computing or Tech   \n",
       "2  25-34  Accounting, Banking & Finance   \n",
       "3  25-34                     Nonprofits   \n",
       "4  25-34  Accounting, Banking & Finance   \n",
       "\n",
       "                                  Job_title Additional_job_details  \\\n",
       "0        Research and Instruction Librarian                    NaN   \n",
       "1  Change & Internal Communications Manager                    NaN   \n",
       "2                      Marketing Specialist                    NaN   \n",
       "3                           Program Manager                    NaN   \n",
       "4                        Accounting Manager                    NaN   \n",
       "\n",
       "  Annual_salary  Monetary_compensation Currency Other_Currency  \\\n",
       "0        55,000                    0.0      USD            NaN   \n",
       "1        54,600                 4000.0      GBP            NaN   \n",
       "2        34,000                    NaN      USD            NaN   \n",
       "3        62,000                 3000.0      USD            NaN   \n",
       "4        60,000                 7000.0      USD            NaN   \n",
       "\n",
       "  Additional_income_details Country_of_work U.S._state_of_work City_of_work  \\\n",
       "0                       NaN   United States      Massachusetts       Boston   \n",
       "1                       NaN  United Kingdom                NaN    Cambridge   \n",
       "2                       NaN              US          Tennessee  Chattanooga   \n",
       "3                       NaN             USA          Wisconsin    Milwaukee   \n",
       "4                       NaN              US     South Carolina   Greenville   \n",
       "\n",
       "  Years_of_experience Years_of_experience_in_your_field Level_of_education  \\\n",
       "0           5-7 years                         5-7 years    Master's degree   \n",
       "1        8 - 10 years                         5-7 years     College degree   \n",
       "2         2 - 4 years                       2 - 4 years     College degree   \n",
       "3        8 - 10 years                         5-7 years     College degree   \n",
       "4        8 - 10 years                         5-7 years     College degree   \n",
       "\n",
       "       Gender  \n",
       "0       Woman  \n",
       "1  Non-binary  \n",
       "2       Woman  \n",
       "3       Woman  \n",
       "4       Woman  "
      ]
     },
     "execution_count": 684,
     "metadata": {},
     "output_type": "execute_result"
    }
   ],
   "source": [
    "df.head()"
   ]
  },
  {
   "cell_type": "code",
   "execution_count": 685,
   "id": "32c07a0a-f76d-4d75-944f-aebfc854129e",
   "metadata": {},
   "outputs": [],
   "source": [
    "# Dropping features with no relevant data to my final analysis\n",
    "reduced_df = df.drop(columns=['Additional_job_details', 'Monetary_compensation', 'Other_Currency', 'Additional_income_details', 'U.S._state_of_work', 'City_of_work'])"
   ]
  },
  {
   "cell_type": "code",
   "execution_count": 686,
   "id": "915c3f95-5846-4eaa-967e-7a2643c75aca",
   "metadata": {
    "scrolled": true
   },
   "outputs": [
    {
     "data": {
      "text/plain": [
       "Age                                    0\n",
       "Industry                              74\n",
       "Job_title                              1\n",
       "Annual_salary                          0\n",
       "Currency                               0\n",
       "Country_of_work                        0\n",
       "Years_of_experience                    0\n",
       "Years_of_experience_in_your_field      0\n",
       "Level_of_education                   222\n",
       "Gender                               171\n",
       "dtype: int64"
      ]
     },
     "execution_count": 686,
     "metadata": {},
     "output_type": "execute_result"
    }
   ],
   "source": [
    "# Count of the missing values\n",
    "reduced_df.isnull().sum()"
   ]
  },
  {
   "cell_type": "markdown",
   "id": "b13292bd-17e0-4947-b5ed-5ec50e4b2326",
   "metadata": {},
   "source": [
    "CLEANING THE DATA"
   ]
  },
  {
   "cell_type": "code",
   "execution_count": 688,
   "id": "cc03ccd0-03f6-478b-a680-cb7f343c3562",
   "metadata": {},
   "outputs": [
    {
     "data": {
      "text/plain": [
       "Age                                  object\n",
       "Industry                             object\n",
       "Job_title                            object\n",
       "Annual_salary                        object\n",
       "Currency                             object\n",
       "Country_of_work                      object\n",
       "Years_of_experience                  object\n",
       "Years_of_experience_in_your_field    object\n",
       "Level_of_education                   object\n",
       "Gender                               object\n",
       "dtype: object"
      ]
     },
     "execution_count": 688,
     "metadata": {},
     "output_type": "execute_result"
    }
   ],
   "source": [
    "# Checking data types\n",
    "# Object is categorical data and some features in this dataset should be numerical data\n",
    "reduced_df.dtypes"
   ]
  },
  {
   "cell_type": "code",
   "execution_count": 689,
   "id": "478dd991-7c03-4233-ae59-42c55ebfbd0e",
   "metadata": {},
   "outputs": [
    {
     "data": {
      "text/plain": [
       "array(['25-34', '45-54', '35-44', '18-24', '65 or over', '55-64',\n",
       "       'under 18'], dtype=object)"
      ]
     },
     "execution_count": 689,
     "metadata": {},
     "output_type": "execute_result"
    }
   ],
   "source": [
    "# Checking for malformed values in all of the features\n",
    "reduced_df[\"Age\"].unique()"
   ]
  },
  {
   "cell_type": "code",
   "execution_count": 690,
   "id": "c7afd317-b553-4c6b-aa2b-bfd120a4dac1",
   "metadata": {},
   "outputs": [],
   "source": [
    "# Mapping age groups as midpoint numerical values\n",
    "# Reference; Geeksforgeeks, https://www.geeksforgeeks.org/using-dictionary-to-remap-values-in-pandas-dataframe-columns/\n",
    "# Reference: Stack Overflow, https://stackoverflow.com/questions/46432315/pandas-replace-column-values-by-dictionary-keys-if-they-are-in-dictionary-valu\n",
    "age_category_mapping = {\n",
    "    \"under 18\": 17,\n",
    "    \"18-24\": 21,\n",
    "    \"25-34\": 29,\n",
    "    \"35-44\": 39,\n",
    "    \"45-54\": 49,\n",
    "    \"55-64\": 59,\n",
    "    \"65+\": 65\n",
    "}"
   ]
  },
  {
   "cell_type": "code",
   "execution_count": 691,
   "id": "f0e81239-f151-4de2-baaa-1d12ee0c19de",
   "metadata": {},
   "outputs": [],
   "source": [
    "reduced_df[\"Average_age\"] = reduced_df[\"Age\"].map(age_category_mapping)"
   ]
  },
  {
   "cell_type": "code",
   "execution_count": 692,
   "id": "f2a12df5-4be9-4d78-ba3d-1f8271372e43",
   "metadata": {},
   "outputs": [],
   "source": [
    "reduced_df.drop(columns=[\"Age\"], inplace=True)"
   ]
  },
  {
   "cell_type": "code",
   "execution_count": 693,
   "id": "0c6fb57c-bc2d-4756-868b-7b23e6026dbd",
   "metadata": {
    "scrolled": true
   },
   "outputs": [
    {
     "name": "stdout",
     "output_type": "stream",
     "text": [
      "                                   Industry  \\\n",
      "0              Education (Higher Education)   \n",
      "1                         Computing or Tech   \n",
      "2             Accounting, Banking & Finance   \n",
      "3                                Nonprofits   \n",
      "4             Accounting, Banking & Finance   \n",
      "...                                     ...   \n",
      "28080         Accounting, Banking & Finance   \n",
      "28081         Education (Primary/Secondary)   \n",
      "28082  Government and Public Administration   \n",
      "28083                     Computing or Tech   \n",
      "28084                       Social networks   \n",
      "\n",
      "                                      Job_title Annual_salary Currency  \\\n",
      "0            Research and Instruction Librarian        55,000      USD   \n",
      "1      Change & Internal Communications Manager        54,600      GBP   \n",
      "2                          Marketing Specialist        34,000      USD   \n",
      "3                               Program Manager        62,000      USD   \n",
      "4                            Accounting Manager        60,000      USD   \n",
      "...                                         ...           ...      ...   \n",
      "28080                      Product Manager Lead        117000      USD   \n",
      "28081                         Curriculum Writer         70000      USD   \n",
      "28082                          Clerical Officer         28600      EUR   \n",
      "28083                Software Engineering Co-Op         56160      USD   \n",
      "28084                           Content creator       2000000      USD   \n",
      "\n",
      "      Country_of_work Years_of_experience Years_of_experience_in_your_field  \\\n",
      "0       United States           5-7 years                         5-7 years   \n",
      "1      United Kingdom        8 - 10 years                         5-7 years   \n",
      "2                  US         2 - 4 years                       2 - 4 years   \n",
      "3                 USA        8 - 10 years                         5-7 years   \n",
      "4                  US        8 - 10 years                         5-7 years   \n",
      "...               ...                 ...                               ...   \n",
      "28080             USA       11 - 20 years                     11 - 20 years   \n",
      "28081   United States       21 - 30 years                     21 - 30 years   \n",
      "28082         Ireland       21 - 30 years                    1 year or less   \n",
      "28083   United States      1 year or less                    1 year or less   \n",
      "28084          Taiwan    41 years or more                       2 - 4 years   \n",
      "\n",
      "                       Level_of_education      Gender  Average_age  \n",
      "0                         Master's degree       Woman         29.0  \n",
      "1                          College degree  Non-binary         29.0  \n",
      "2                          College degree       Woman         29.0  \n",
      "3                          College degree       Woman         29.0  \n",
      "4                          College degree       Woman         29.0  \n",
      "...                                   ...         ...          ...  \n",
      "28080                      College degree       Woman         49.0  \n",
      "28081                     Master's degree       Woman         49.0  \n",
      "28082  Professional degree (MD, JD, etc.)         Man         59.0  \n",
      "28083                      College degree         Man         21.0  \n",
      "28084                                 PhD  Non-binary          NaN  \n",
      "\n",
      "[28085 rows x 10 columns]\n"
     ]
    }
   ],
   "source": [
    "print(reduced_df)"
   ]
  },
  {
   "cell_type": "code",
   "execution_count": 694,
   "id": "f8d1ce68-0ffb-46d6-9bf2-94ee0359995b",
   "metadata": {},
   "outputs": [
    {
     "data": {
      "text/plain": [
       "Industry                              object\n",
       "Job_title                             object\n",
       "Annual_salary                         object\n",
       "Currency                              object\n",
       "Country_of_work                       object\n",
       "Years_of_experience                   object\n",
       "Years_of_experience_in_your_field     object\n",
       "Level_of_education                    object\n",
       "Gender                                object\n",
       "Average_age                          float64\n",
       "dtype: object"
      ]
     },
     "execution_count": 694,
     "metadata": {},
     "output_type": "execute_result"
    }
   ],
   "source": [
    "reduced_df.dtypes"
   ]
  },
  {
   "cell_type": "code",
   "execution_count": 695,
   "id": "7940fd5f-d121-44d9-9b8c-90a43b5ecc42",
   "metadata": {},
   "outputs": [
    {
     "data": {
      "text/plain": [
       "array(['Woman', 'Non-binary', 'Man', nan, 'Other or prefer not to answer',\n",
       "       'Prefer not to answer'], dtype=object)"
      ]
     },
     "execution_count": 695,
     "metadata": {},
     "output_type": "execute_result"
    }
   ],
   "source": [
    "reduced_df[\"Gender\"].unique()"
   ]
  },
  {
   "cell_type": "code",
   "execution_count": 696,
   "id": "bc8e0713-2a00-4a85-9e17-820eb4138028",
   "metadata": {},
   "outputs": [],
   "source": [
    "# Mapping other important features like Gender to get cleaner data for final analysis\n",
    "gender_category_mapping = {\n",
    "    \"Man\": \"Male\",\n",
    "    \"Woman\": \"Female\",\n",
    "    \"Other or prefer not to answer\": \"Prefer not to answer\",\n",
    "    \"Non-binary\": \"Non-binary\",\n",
    "}"
   ]
  },
  {
   "cell_type": "code",
   "execution_count": 697,
   "id": "bb90f221-61ac-479f-8740-a5aa6b001f82",
   "metadata": {},
   "outputs": [],
   "source": [
    "reduced_df[\"Gender_category\"] = reduced_df[\"Gender\"].map(gender_category_mapping)"
   ]
  },
  {
   "cell_type": "code",
   "execution_count": 698,
   "id": "719c39c0-3e9b-47f4-918c-5fd45ab4f291",
   "metadata": {},
   "outputs": [],
   "source": [
    "reduced_df.drop(columns=[\"Gender\"], inplace=True)"
   ]
  },
  {
   "cell_type": "code",
   "execution_count": 699,
   "id": "a9426a63-5c16-487d-87bf-7bfaf0ac3ced",
   "metadata": {
    "scrolled": true
   },
   "outputs": [
    {
     "name": "stdout",
     "output_type": "stream",
     "text": [
      "                                   Industry  \\\n",
      "0              Education (Higher Education)   \n",
      "1                         Computing or Tech   \n",
      "2             Accounting, Banking & Finance   \n",
      "3                                Nonprofits   \n",
      "4             Accounting, Banking & Finance   \n",
      "...                                     ...   \n",
      "28080         Accounting, Banking & Finance   \n",
      "28081         Education (Primary/Secondary)   \n",
      "28082  Government and Public Administration   \n",
      "28083                     Computing or Tech   \n",
      "28084                       Social networks   \n",
      "\n",
      "                                      Job_title Annual_salary Currency  \\\n",
      "0            Research and Instruction Librarian        55,000      USD   \n",
      "1      Change & Internal Communications Manager        54,600      GBP   \n",
      "2                          Marketing Specialist        34,000      USD   \n",
      "3                               Program Manager        62,000      USD   \n",
      "4                            Accounting Manager        60,000      USD   \n",
      "...                                         ...           ...      ...   \n",
      "28080                      Product Manager Lead        117000      USD   \n",
      "28081                         Curriculum Writer         70000      USD   \n",
      "28082                          Clerical Officer         28600      EUR   \n",
      "28083                Software Engineering Co-Op         56160      USD   \n",
      "28084                           Content creator       2000000      USD   \n",
      "\n",
      "      Country_of_work Years_of_experience Years_of_experience_in_your_field  \\\n",
      "0       United States           5-7 years                         5-7 years   \n",
      "1      United Kingdom        8 - 10 years                         5-7 years   \n",
      "2                  US         2 - 4 years                       2 - 4 years   \n",
      "3                 USA        8 - 10 years                         5-7 years   \n",
      "4                  US        8 - 10 years                         5-7 years   \n",
      "...               ...                 ...                               ...   \n",
      "28080             USA       11 - 20 years                     11 - 20 years   \n",
      "28081   United States       21 - 30 years                     21 - 30 years   \n",
      "28082         Ireland       21 - 30 years                    1 year or less   \n",
      "28083   United States      1 year or less                    1 year or less   \n",
      "28084          Taiwan    41 years or more                       2 - 4 years   \n",
      "\n",
      "                       Level_of_education  Average_age Gender_category  \n",
      "0                         Master's degree         29.0          Female  \n",
      "1                          College degree         29.0      Non-binary  \n",
      "2                          College degree         29.0          Female  \n",
      "3                          College degree         29.0          Female  \n",
      "4                          College degree         29.0          Female  \n",
      "...                                   ...          ...             ...  \n",
      "28080                      College degree         49.0          Female  \n",
      "28081                     Master's degree         49.0          Female  \n",
      "28082  Professional degree (MD, JD, etc.)         59.0            Male  \n",
      "28083                      College degree         21.0            Male  \n",
      "28084                                 PhD          NaN      Non-binary  \n",
      "\n",
      "[28085 rows x 10 columns]\n"
     ]
    }
   ],
   "source": [
    "print(reduced_df)"
   ]
  },
  {
   "cell_type": "code",
   "execution_count": 700,
   "id": "45818a08-06f1-4f56-a6ff-a5ceaf94b987",
   "metadata": {},
   "outputs": [
    {
     "data": {
      "text/plain": [
       "array(['Education (Higher Education)', 'Computing or Tech',\n",
       "       'Accounting, Banking & Finance', ..., 'Student ', 'Wine & Spirits',\n",
       "       'Social networks'], dtype=object)"
      ]
     },
     "execution_count": 700,
     "metadata": {},
     "output_type": "execute_result"
    }
   ],
   "source": [
    "reduced_df[\"Industry\"].unique()"
   ]
  },
  {
   "cell_type": "code",
   "execution_count": 701,
   "id": "c457229c-0ee0-4f94-bb2d-cefeda88b862",
   "metadata": {},
   "outputs": [
    {
     "data": {
      "text/plain": [
       "array(['Research and Instruction Librarian',\n",
       "       'Change & Internal Communications Manager', 'Marketing Specialist',\n",
       "       ..., 'Curriculum Writer', 'Software Engineering Co-Op',\n",
       "       'Content creator'], dtype=object)"
      ]
     },
     "execution_count": 701,
     "metadata": {},
     "output_type": "execute_result"
    }
   ],
   "source": [
    "reduced_df[\"Job_title\"].unique()"
   ]
  },
  {
   "cell_type": "code",
   "execution_count": 702,
   "id": "43ade24a-3fc2-4123-a632-fc9832543051",
   "metadata": {},
   "outputs": [
    {
     "data": {
      "text/plain": [
       "array(['5-7 years', '8 - 10 years', '2 - 4 years', '21 - 30 years',\n",
       "       '11 - 20 years', '1 year or less', '41 years or more',\n",
       "       '31 - 40 years'], dtype=object)"
      ]
     },
     "execution_count": 702,
     "metadata": {},
     "output_type": "execute_result"
    }
   ],
   "source": [
    "reduced_df[\"Years_of_experience\"].unique()"
   ]
  },
  {
   "cell_type": "code",
   "execution_count": 703,
   "id": "0f503355-99a0-45ae-9ca1-05bc2cf6fce7",
   "metadata": {},
   "outputs": [],
   "source": [
    "# Mapping Years_of_experience feature as midpoint values and converting to numerical\n",
    "years_category_mapping = {\n",
    "    \"1 year or less\": \"1\",\n",
    "    \"2 - 4 years\": \"3\",\n",
    "    \"5-7 years\": \"6\",\n",
    "    \"8 - 10 years\": \"9\",\n",
    "    \"11 - 20 years\": \"15\",\n",
    "    \"21 - 30 years\": \"25\",\n",
    "    \"31 - 40 years\": \"35\",\n",
    "    \"41 years or more\": \"41\",\n",
    "}"
   ]
  },
  {
   "cell_type": "code",
   "execution_count": 704,
   "id": "5ed586e9-0c7b-42a1-bffa-a0df06d39310",
   "metadata": {},
   "outputs": [],
   "source": [
    "reduced_df[\"Average_Years_of_experience\"] = reduced_df[\"Years_of_experience\"].map(years_category_mapping)"
   ]
  },
  {
   "cell_type": "code",
   "execution_count": 705,
   "id": "8de357f3-5dc9-47ee-89f8-4f31e5963e27",
   "metadata": {},
   "outputs": [],
   "source": [
    "reduced_df.drop(columns=[\"Years_of_experience\"], inplace=True)"
   ]
  },
  {
   "cell_type": "code",
   "execution_count": 706,
   "id": "fdcf8f30-5b43-4392-9ab5-7c4b8b23f0ca",
   "metadata": {
    "scrolled": true
   },
   "outputs": [
    {
     "name": "stdout",
     "output_type": "stream",
     "text": [
      "                                   Industry  \\\n",
      "0              Education (Higher Education)   \n",
      "1                         Computing or Tech   \n",
      "2             Accounting, Banking & Finance   \n",
      "3                                Nonprofits   \n",
      "4             Accounting, Banking & Finance   \n",
      "...                                     ...   \n",
      "28080         Accounting, Banking & Finance   \n",
      "28081         Education (Primary/Secondary)   \n",
      "28082  Government and Public Administration   \n",
      "28083                     Computing or Tech   \n",
      "28084                       Social networks   \n",
      "\n",
      "                                      Job_title Annual_salary Currency  \\\n",
      "0            Research and Instruction Librarian        55,000      USD   \n",
      "1      Change & Internal Communications Manager        54,600      GBP   \n",
      "2                          Marketing Specialist        34,000      USD   \n",
      "3                               Program Manager        62,000      USD   \n",
      "4                            Accounting Manager        60,000      USD   \n",
      "...                                         ...           ...      ...   \n",
      "28080                      Product Manager Lead        117000      USD   \n",
      "28081                         Curriculum Writer         70000      USD   \n",
      "28082                          Clerical Officer         28600      EUR   \n",
      "28083                Software Engineering Co-Op         56160      USD   \n",
      "28084                           Content creator       2000000      USD   \n",
      "\n",
      "      Country_of_work Years_of_experience_in_your_field  \\\n",
      "0       United States                         5-7 years   \n",
      "1      United Kingdom                         5-7 years   \n",
      "2                  US                       2 - 4 years   \n",
      "3                 USA                         5-7 years   \n",
      "4                  US                         5-7 years   \n",
      "...               ...                               ...   \n",
      "28080             USA                     11 - 20 years   \n",
      "28081   United States                     21 - 30 years   \n",
      "28082         Ireland                    1 year or less   \n",
      "28083   United States                    1 year or less   \n",
      "28084          Taiwan                       2 - 4 years   \n",
      "\n",
      "                       Level_of_education  Average_age Gender_category  \\\n",
      "0                         Master's degree         29.0          Female   \n",
      "1                          College degree         29.0      Non-binary   \n",
      "2                          College degree         29.0          Female   \n",
      "3                          College degree         29.0          Female   \n",
      "4                          College degree         29.0          Female   \n",
      "...                                   ...          ...             ...   \n",
      "28080                      College degree         49.0          Female   \n",
      "28081                     Master's degree         49.0          Female   \n",
      "28082  Professional degree (MD, JD, etc.)         59.0            Male   \n",
      "28083                      College degree         21.0            Male   \n",
      "28084                                 PhD          NaN      Non-binary   \n",
      "\n",
      "      Average_Years_of_experience  \n",
      "0                               6  \n",
      "1                               9  \n",
      "2                               3  \n",
      "3                               9  \n",
      "4                               9  \n",
      "...                           ...  \n",
      "28080                          15  \n",
      "28081                          25  \n",
      "28082                          25  \n",
      "28083                           1  \n",
      "28084                          41  \n",
      "\n",
      "[28085 rows x 10 columns]\n"
     ]
    }
   ],
   "source": [
    "print(reduced_df)"
   ]
  },
  {
   "cell_type": "code",
   "execution_count": 707,
   "id": "24575be0-4275-48b2-b46b-9c54feb75c42",
   "metadata": {},
   "outputs": [
    {
     "data": {
      "text/plain": [
       "Industry                              object\n",
       "Job_title                             object\n",
       "Annual_salary                         object\n",
       "Currency                              object\n",
       "Country_of_work                       object\n",
       "Years_of_experience_in_your_field     object\n",
       "Level_of_education                    object\n",
       "Average_age                          float64\n",
       "Gender_category                       object\n",
       "Average_Years_of_experience           object\n",
       "dtype: object"
      ]
     },
     "execution_count": 707,
     "metadata": {},
     "output_type": "execute_result"
    }
   ],
   "source": [
    "reduced_df.dtypes"
   ]
  },
  {
   "cell_type": "code",
   "execution_count": 708,
   "id": "e592f59f-6ce4-4cc5-a6ef-2f2cbd459f28",
   "metadata": {},
   "outputs": [],
   "source": [
    "# Reference: Stack Overflow https://stackoverflow.com/questions/48094854/pandas-convert-data-type-from-object-to-float\n",
    "# Converting to numerical values\n",
    "reduced_df[\"Average_Years_of_experience\"] = reduced_df[\"Average_Years_of_experience\"].astype(float)"
   ]
  },
  {
   "cell_type": "code",
   "execution_count": 709,
   "id": "b22e34e1-21f1-4bc9-ba03-d0fb3e8321e0",
   "metadata": {},
   "outputs": [
    {
     "data": {
      "text/plain": [
       "Industry                              object\n",
       "Job_title                             object\n",
       "Annual_salary                         object\n",
       "Currency                              object\n",
       "Country_of_work                       object\n",
       "Years_of_experience_in_your_field     object\n",
       "Level_of_education                    object\n",
       "Average_age                          float64\n",
       "Gender_category                       object\n",
       "Average_Years_of_experience          float64\n",
       "dtype: object"
      ]
     },
     "execution_count": 709,
     "metadata": {},
     "output_type": "execute_result"
    }
   ],
   "source": [
    "reduced_df.dtypes"
   ]
  },
  {
   "cell_type": "code",
   "execution_count": 710,
   "id": "90c80d3c-d916-4091-8f93-2e53e0b6afc8",
   "metadata": {},
   "outputs": [
    {
     "data": {
      "text/plain": [
       "array([\"Master's degree\", 'College degree', 'PhD', nan, 'Some college',\n",
       "       'High School', 'Professional degree (MD, JD, etc.)'], dtype=object)"
      ]
     },
     "execution_count": 710,
     "metadata": {},
     "output_type": "execute_result"
    }
   ],
   "source": [
    "reduced_df[\"Level_of_education\"].unique()"
   ]
  },
  {
   "cell_type": "code",
   "execution_count": 711,
   "id": "0d2ff69d-e7c8-4a80-a65f-1f638c07529f",
   "metadata": {
    "scrolled": true
   },
   "outputs": [
    {
     "data": {
      "text/plain": [
       "array(['United States', 'United Kingdom', 'US', 'USA', 'Canada',\n",
       "       'United Kingdom ', 'usa', 'UK', 'Scotland ', 'U.S.',\n",
       "       'United States ', 'The Netherlands', 'Australia ', 'Spain', 'us',\n",
       "       'Usa', 'England', 'finland', 'United States of America', 'France',\n",
       "       'United states', 'Scotland', 'USA ', 'United states ', 'Germany',\n",
       "       'UK ', 'united states', 'Ireland', 'India', 'Australia', 'Uk',\n",
       "       'United States of America ', 'U.S. ', 'canada', 'Canada ', 'U.S>',\n",
       "       'ISA', 'Argentina', 'Great Britain ', 'US ', 'United State',\n",
       "       'U.S.A', 'Denmark', 'U.S.A.', 'America', 'Netherlands',\n",
       "       'netherlands', 'England ', 'united states of america', 'Ireland ',\n",
       "       'Switzerland', 'Netherlands ', 'Bermuda', 'Us',\n",
       "       'The United States', 'United State of America', 'Germany ',\n",
       "       'Malaysia', 'Mexico ', 'United Stated', 'South Africa ', 'Belgium',\n",
       "       'Northern Ireland', 'u.s.', 'South Africa', 'UNITED STATES',\n",
       "       'united States', 'Sweden', 'Hong Kong', 'Kuwait', 'Norway',\n",
       "       'Sri lanka', 'Contracts', 'USA-- Virgin Islands', 'United Statws',\n",
       "       'England/UK', 'U.S',\n",
       "       \"We don't get raises, we get quarterly bonuses, but they periodically asses income in the area you work, so I got a raise because a 3rd party assessment showed I was paid too little for the area we were located\",\n",
       "       'Unites States ', 'Usa ', 'U.S.A. ', 'England, UK.', 'Greece',\n",
       "       'Japan', 'U. S. ', 'Britain ', 'United Sates', 'Japan ', 'Austria',\n",
       "       'Brazil', 'Canada, Ottawa, ontario', 'Global', 'Sweden ',\n",
       "       'United States of American ', 'FRANCE', 'Uniited States',\n",
       "       'United Kingdom (England)',\n",
       "       'Worldwide (based in US but short term trips aroudn the world)',\n",
       "       'CANADA ', 'Canadw', 'Hungary', 'Luxembourg',\n",
       "       'United Sates of America', 'ireland',\n",
       "       'United States (I work from home and my clients are all over the US/Canada/PR',\n",
       "       'Colombia', 'CANADA', 'Unted States', 'germany', 'United Statesp',\n",
       "       'United Stattes', 'United Statea', 'United Kingdom.', 'Mexico',\n",
       "       'New Zealand', 'Trinidad and Tobago', 'Unites States',\n",
       "       'United Statees', 'United kingdom', 'Cayman Islands',\n",
       "       'UNited States', 'Can',\n",
       "       'I am located in Canada but I work for a company in the US',\n",
       "       'United kingdom ', 'Uniyed states', 'Uniyes States',\n",
       "       'United States of Americas', 'U.A.', 'Czech republic', 'Czechia',\n",
       "       'Latvia', 'Finland', 'U. S.', 'Puerto Rico', 'US of A', 'Rwanda',\n",
       "       'United States of america ', 'United Arab Emirates ',\n",
       "       'Bangladesh ', 'Spain ', 'U.K. ', 'Romania', 'U.SA',\n",
       "       'United Kindom', 'United Status', 'New Zealand ',\n",
       "       'Currently finance', ' U.S.', 'Serbia', 'Philippines', 'Russia ',\n",
       "       'Poland', 'UXZ', 'czech republic', 'England, UK', 'Turkey',\n",
       "       'Canda', 'Puerto Rico ', 'Canada and USA', 'Catalonia',\n",
       "       '$2,175.84/year is deducted for benefits', 'uk', 'France ',\n",
       "       'Italy (South)', 'Jersey, Channel islands', 'Uk ', 'China',\n",
       "       'Virginia', 'Afghanistan', 'Israel', 'U.s.', 'Great Britain',\n",
       "       'U.s.a.', 'USS', 'Denmark ', 'Uniteed States',\n",
       "       'New Zealand Aotearoa', 'U.K.', 'Hartford',\n",
       "       'Japan, US Gov position', 'Csnada', 'United Stares', 'New zealand',\n",
       "       'Mainland China', 'I.S.', 'UK (Northern Ireland)',\n",
       "       'UK for U.S. company', ' US', 'Unites states ', 'NZ', 'Us ',\n",
       "       'Hong Kong ', 'Taiwan', 'Canad', 'Unite States', 'australia',\n",
       "       'The US', 'united states ', 'The Netherlands ', 'Cambodia',\n",
       "       'United states of America ', 'Vietnam', 'Remote', 'Singapore',\n",
       "       'South Korea', 'Czech Republic ', 'Thailand', 'Bangladesh',\n",
       "       'Lithuania', 'Eritrea', 'Indonesia', 'Singapore ',\n",
       "       'For the United States government, but posted overseas', 'IS',\n",
       "       'Switzerland ', 'United Kingdomk', 'Italy', ' New Zealand', 'Cuba',\n",
       "       'Slovenia', 'Australi', \"Cote d'Ivoire\", 'united kingdom',\n",
       "       'From Romania, but for an US based company', 'Somalia',\n",
       "       'Wales (United Kingdom)', 'England, Gb', 'Czech Republic',\n",
       "       'UnitedStates', 'Sri Lanka', 'spain', 'Danmark',\n",
       "       'U.K. (northern England)', 'U.K', 'NL', 'the Netherlands',\n",
       "       'Nederland', 'Slovakia', 'United States of america', 'Portugal ',\n",
       "       'England, United Kingdom', 'Sierra Leone', 'Englang',\n",
       "       'United statew', 'UAE', 'Belgium ',\n",
       "       'bonus based on meeting yearly goals set w/ my supervisor',\n",
       "       'International ', 'The Bahamas ', 'Wales',\n",
       "       \"I earn commission on sales. If I meet quota, I'm guaranteed another 16k min. Last year i earned an additional 27k. It's not uncommon for people in my space to earn 100k+ after commission. \",\n",
       "       'Costa Rica', ' United States', 'United Statues', 'Untied States',\n",
       "       'USA (company is based in a US territory, I work remote)', 'Chile',\n",
       "       'denmark', 'UK (England)', 'UK, remote', 'Scotland, UK', 'USAB',\n",
       "       'Unitied States', 'Norway ', 'Qatar', 'United Sttes',\n",
       "       'Remote (philippines)', 'Brazil ', 'Unites kingdom ',\n",
       "       'South africa', 'Portugal', 'united stated',\n",
       "       'United States Of America', 'Nigeria', 'Panamá',\n",
       "       'Northern Ireland ', 'england', 'SWITZERLAND',\n",
       "       'Austria, but I work remotely for a Dutch/British company',\n",
       "       \"I work for an US based company but I'm from Argentina.\",\n",
       "       'I was brought in on this salary to help with the EHR and very quickly was promoted to current position but compensation was not altered. ',\n",
       "       'Uniter Statez', 'U. S ', 'Congo', 'United states of America',\n",
       "       'Uruguay', 'Pakistan', 'Brasil', 'USA tomorrow ', 'United Stateds',\n",
       "       'n/a (remote from wherever I want)', 'singapore',\n",
       "       'US govt employee overseas, country withheld', 'usa ', 'Malaysia ',\n",
       "       'Uganda', 'Malta', 'Saudi Arabia', 'Bulgaria', 'Estonia',\n",
       "       'Morocco', 'new zealand', 'Africa', 'Ecuador', 'Zimbabwe', 'Ghana',\n",
       "       'San Francisco', 'Usat', '🇺🇸 ', 'Luxemburg', 'Unitef Stated', 'UA',\n",
       "       'Wales, UK', 'United Stares ', 'Croatia ',\n",
       "       'England, United Kingdom ', 'United STates', 'USaa', 'uSA',\n",
       "       'South Korea ', 'The netherlands', 'Ukraine ', 'america',\n",
       "       'switzerland', 'United States- Puerto Rico',\n",
       "       'From New Zealand but on projects across APAC', 'Y', 'United y',\n",
       "       'Wales (UK)', 'Isle of Man', 'Northern Ireland, United Kingdom',\n",
       "       'europe', 'California ',\n",
       "       'UK, but for globally fully remote company', 'Australian ',\n",
       "       'México', 'Jamaica', 'uS', 'USD', 'the netherlands',\n",
       "       \"USA, but for foreign gov't\", 'japan', 'Kenya', 'Jordan',\n",
       "       'United Statss', 'ARGENTINA BUT MY ORG IS IN THAILAND',\n",
       "       'United states of america', 'UsA',\n",
       "       'I work for a UAE-based organization, though I am personally in the US.',\n",
       "       'United  States', 'france', 'Aotearoa New Zealand', 'na', 'Policy',\n",
       "       'Cyprus', 'hong konh', 'United States is America', 'Liechtenstein',\n",
       "       'Company in Germany. I work from Pakistan.', 'croatia', 'Canadá',\n",
       "       'ENGLAND', 'United States of American', 'U.S.A ', 'INDIA',\n",
       "       'Bosnia and Herzegovina', 'NIGERIA', 'Poland ', 'pakistan',\n",
       "       'Nigeria ', 'London', 'ss', 'dbfemf', 'ibdia', 'LOUTRELAND',\n",
       "       'philippines', 'ff', 'Myanmar', 'Burma'], dtype=object)"
      ]
     },
     "execution_count": 711,
     "metadata": {},
     "output_type": "execute_result"
    }
   ],
   "source": [
    "reduced_df[\"Country_of_work\"].unique()"
   ]
  },
  {
   "cell_type": "code",
   "execution_count": 712,
   "id": "a8b85ece-a7e6-4a38-84b9-e474f8dd8383",
   "metadata": {},
   "outputs": [],
   "source": [
    "# Creating a malformed data and typos list and replacing it with coutry names or acronyms to get cleaner data in feauture Country_of_work\n",
    "mvp_us=[\"USA\", \"United States\", \"usa\", \"us\", \"US\", \"US \", \"United States \", \"USA \", \"united states\", \"U.S>\", \"U.S. \",\"United States of America \",\"United State\",\"U.S.A\",\"America\",\"united states of america\",\"Us\",\"The United States\",\"U.S.A.\",'United Stated','United State of America','u.s.','UNITED STATES','united States','USA-- Virgin Islands','United Statws','U.S','Unites States ','Usa ','U.S.A. ','U. S. ','United Sates','United States of American ','Uniited States','Worldwide (based in US but short term trips aroudn the world)','United Sates of America','United States (I work from home and my clients are all over the US/Canada/PR','Unted States','United Statesp','United Stattes','United Statea','Unites States','United Statees','Uniyes States','UNited States','I am located in Canada but I work for a company in the US','Uniyed states','Uniyes States','United States of Americas','U. S.','United States of America','Usa','United states ','United states','US of A','United States of america ','U.SA','United Status',' U.S.','Puerto Rico ','Canada and USA','Virginia','U.s.','U.s.a.','USS','Uniteed States','Japan, US Gov position','United Stares','Us ','Unite States','The US','united states ','United states of America ','UnitedStates','UK for U.S. company','For the United States government, but posted overseas',' United States', 'United Statues', 'Untied States',\n",
    "       'USA (company is based in a US territory, I work remote)','united stated',\n",
    "       'United States Of America','USAB', 'Unitied States',\"I work for an US based company but I'm from Argentina.\",'Uniter Statez', 'U. S ','United Sttes','Unitef Stated','United states of America','San Francisco', 'Usat', '🇺🇸 ','United States of america','From Romania, but for an US based company','USA tomorrow ',\n",
    "       'United Stateds','United states of america', 'UsA','United States of American', 'U.S.A ','USaa', 'uSA','US govt employee overseas, country withheld', 'usa ','uS','United Stares ','United STates','america','California ','United States is America','United States- Puerto Rico','United Statss','United  States','ISA',' US',\n",
    "       'Unites states ','United statew',]\n",
    "clean_reduced_df=reduced_df.replace(mvp_us, \"U.S.\")\n",
    "# Specifying the column for which I want to change USD so it does not affect Currency feature\n",
    "clean_reduced_df[\"Country_of_work\"] = clean_reduced_df[\"Country_of_work\"].replace(\"USD\", \"U.S.\")"
   ]
  },
  {
   "cell_type": "code",
   "execution_count": 713,
   "id": "c243e660-68d5-420c-9b0c-c6fbde6c752f",
   "metadata": {},
   "outputs": [],
   "source": [
    "mvp_uk=['United Kingdom','United Kingdom ', 'UK', 'Scotland ','England','Scotland','UK ','Uk','Great Britain ','England ','Northern Ireland','England/UK','England, UK.','Britain ','United Kingdom (England)','United Kingdom.','United kingdom','United kingdom ','U.K. ','England, UK','uk','Jersey, Channel islands', 'Uk ','Great Britain','Hartford','UK (Northern Ireland)','United Kindom','Wales (United Kingdom)', 'England, Gb','Wales','Northern Ireland ', 'england','U.K. (northern England)', 'U.K','UK (England)', 'UK, remote',\n",
    "       'Scotland, UK','Unites kingdom ','United Kingdomk','united kingdom','Austria, but I work remotely for a Dutch/British company','Wales, UK','England, United Kingdom','Englang','England, United Kingdom ','United y',\n",
    "       'Wales (UK)', 'Isle of Man', 'Northern Ireland, United Kingdom','ENGLAND','London',]\n",
    "clean_reduced_df=clean_reduced_df.replace(mvp_uk, \"U.K.\")"
   ]
  },
  {
   "cell_type": "code",
   "execution_count": 714,
   "id": "9a008271-eff6-4129-9675-8531f72a6d12",
   "metadata": {},
   "outputs": [],
   "source": [
    "mvp_ca=['canada', 'Canada ','Canada, Ottawa, ontario','Can','CANADA ', 'Canadw','CANADA','Canda','Csnada','Canad','Canadá',]\n",
    "clean_reduced_df=clean_reduced_df.replace(mvp_ca, \"Canada\")"
   ]
  },
  {
   "cell_type": "code",
   "execution_count": 715,
   "id": "9a464d97-d828-4cdc-8d72-87256e9b1543",
   "metadata": {},
   "outputs": [],
   "source": [
    "mvp_nz=['New Zealand ','New Zealand Aotearoa', 'New zealand','NZ',' New Zealand','new zealand','Aotearoa New Zealand','New Zealand',]\n",
    "clean_reduced_df=clean_reduced_df.replace(mvp_nz, \"New_Zealand\")  "
   ]
  },
  {
   "cell_type": "code",
   "execution_count": 716,
   "id": "b4fff846-2054-4390-b2ce-38d3754caab3",
   "metadata": {},
   "outputs": [],
   "source": [
    "mvp_aus=['Australia ','Australia','australia','Australi','Australian ',]\n",
    "clean_reduced_df=clean_reduced_df.replace(mvp_aus, \"Australia\")"
   ]
  },
  {
   "cell_type": "code",
   "execution_count": 717,
   "id": "384df8bd-da76-424c-9cc1-d5a7d5eb0c4e",
   "metadata": {},
   "outputs": [],
   "source": [
    "mvp_nl=['The Netherlands','netherlands','Netherlands ','The Netherlands ','NL','the Netherlands', 'Nederland','The netherlands','the netherlands',]\n",
    "clean_reduced_df=clean_reduced_df.replace(mvp_nl, \"Netherlands\")"
   ]
  },
  {
   "cell_type": "code",
   "execution_count": 718,
   "id": "17e2c7ed-ec9c-4fb8-a0d5-b51dfca678f5",
   "metadata": {},
   "outputs": [],
   "source": [
    "mvp_esp=['Spain','Spain ','Catalonia','spain',]\n",
    "clean_reduced_df=clean_reduced_df.replace(mvp_esp, \"Spain\")"
   ]
  },
  {
   "cell_type": "code",
   "execution_count": 719,
   "id": "50f8fe26-d0e2-4b97-a9a3-6754eaebefa2",
   "metadata": {},
   "outputs": [],
   "source": [
    "mvp_ie=['Ireland','Ireland ','ireland',]\n",
    "clean_reduced_df=clean_reduced_df.replace(mvp_ie, \"Ireland\")"
   ]
  },
  {
   "cell_type": "code",
   "execution_count": 720,
   "id": "39d4648b-b2db-441c-94d6-aebc70ca54e3",
   "metadata": {},
   "outputs": [],
   "source": [
    "# Creating Other for non defined countries\n",
    "mvp_other=['Contracts',\"We don't get raises, we get quarterly bonuses, but they periodically asses income in the area you work, so I got a raise because a 3rd party assessment showed I was paid too little for the area we were located\",'Global','Currently finance','UXZ','$2,175.84/year is deducted for benefits','IS','Remote','I.S.','bonus based on meeting yearly goals set w/ my supervisor',\n",
    "       'International ',\"I earn commission on sales. If I meet quota, I'm guaranteed another 16k min. Last year i earned an additional 27k. It's not uncommon for people in my space to earn 100k+ after commission. \",'Remote (philippines)','I was brought in on this salary to help with the EHR and very quickly was promoted to current position but compensation was not altered. ','n/a (remote from wherever I want)','From New Zealand but on projects across APAC', 'Y', 'europe',\n",
    "       'UK, but for globally fully remote company',\"USA, but for foreign gov't\",'Policy','ss', 'dbfemf','LOUTRELAND','ff','Other','Africa',]\n",
    "clean_reduced_df=clean_reduced_df.replace(mvp_other, \"Other\")"
   ]
  },
  {
   "cell_type": "code",
   "execution_count": 721,
   "id": "c6e93907-3f15-46a1-9ab1-a529fa195439",
   "metadata": {},
   "outputs": [],
   "source": [
    "mvp_ger=['Germany','Germany ','germany','Company in Germany. I work from Pakistan.',]\n",
    "clean_reduced_df=clean_reduced_df.replace(mvp_ger, \"Germany\")"
   ]
  },
  {
   "cell_type": "code",
   "execution_count": 722,
   "id": "b1779e67-1d06-46ba-9407-5ad2e62c5fc5",
   "metadata": {},
   "outputs": [],
   "source": [
    "mvp_jpn=['Japan', 'Japan ','japan',]\n",
    "clean_reduced_df=clean_reduced_df.replace(mvp_jpn, \"Japan\")"
   ]
  },
  {
   "cell_type": "code",
   "execution_count": 723,
   "id": "46c012a6-3ee1-4e3f-b14d-7efdb150f56e",
   "metadata": {},
   "outputs": [],
   "source": [
    "mvp_ch=['Switzerland','SWITZERLAND','Switzerland ','switzerland',]\n",
    "clean_reduced_df=clean_reduced_df.replace(mvp_ch, \"Switzerland\")"
   ]
  },
  {
   "cell_type": "code",
   "execution_count": 724,
   "id": "8d1136a8-d0a9-4181-b717-3ac3c4d1b681",
   "metadata": {},
   "outputs": [],
   "source": [
    "mvp_ind=['India','INDIA','ibdia',]\n",
    "clean_reduced_df=clean_reduced_df.replace(mvp_ind, \"India\")"
   ]
  },
  {
   "cell_type": "code",
   "execution_count": 725,
   "id": "63830c46-cfa7-447c-997e-500c7ea6057b",
   "metadata": {},
   "outputs": [],
   "source": [
    "mvp_fr=['France','FRANCE','France ','france',]\n",
    "clean_reduced_df=clean_reduced_df.replace(mvp_fr, \"France\")"
   ]
  },
  {
   "cell_type": "code",
   "execution_count": 726,
   "id": "94549ae8-99b9-4614-bdd3-4372e9c4fbc1",
   "metadata": {},
   "outputs": [],
   "source": [
    "mvp_den=['Denmark','Denmark ','Danmark','denmark','Denmark ',]\n",
    "clean_reduced_df=clean_reduced_df.replace(mvp_den, \"Denmark\")"
   ]
  },
  {
   "cell_type": "code",
   "execution_count": 727,
   "id": "5f4e785c-0513-48b4-bf9d-a2d972e4c782",
   "metadata": {},
   "outputs": [],
   "source": [
    "mvp_rsa=['South Africa ','South Africa','South africa',]\n",
    "clean_reduced_df=clean_reduced_df.replace(mvp_rsa, \"South Africa\")"
   ]
  },
  {
   "cell_type": "code",
   "execution_count": 728,
   "id": "6e72f1bb-fca2-49d4-90d4-080cca0c9649",
   "metadata": {},
   "outputs": [],
   "source": [
    "mvp_uae=['United Arab Emirates ','I work for a UAE-based organization, though I am personally in the US.',]\n",
    "clean_reduced_df=clean_reduced_df.replace(mvp_uae, \"UAE\")   "
   ]
  },
  {
   "cell_type": "code",
   "execution_count": 729,
   "id": "c57ce11f-7896-4537-bbb3-8f74c8bc37d2",
   "metadata": {},
   "outputs": [],
   "source": [
    "mvp_mm=['Myanmar', 'Burma',]\n",
    "clean_reduced_df=clean_reduced_df.replace(mvp_mm, \"Myanmar\") "
   ]
  },
  {
   "cell_type": "code",
   "execution_count": 730,
   "id": "ca15bac7-bac1-47b1-8de2-f17c738091e7",
   "metadata": {},
   "outputs": [],
   "source": [
    "mvp_hkg=['Hong Kong','Hong Kong ','hong konh',]\n",
    "clean_reduced_df=clean_reduced_df.replace(mvp_hkg, \"Hong Kong\")"
   ]
  },
  {
   "cell_type": "code",
   "execution_count": 731,
   "id": "3c0243ee-aadf-4bf8-8f89-23d97447ae5c",
   "metadata": {},
   "outputs": [],
   "source": [
    "mvp_chn=['China','Mainland China',]\n",
    "clean_reduced_df=clean_reduced_df.replace(mvp_chn, \"China\") "
   ]
  },
  {
   "cell_type": "code",
   "execution_count": 732,
   "id": "ee48e693-63a9-46de-a231-0e7c57c636ad",
   "metadata": {},
   "outputs": [],
   "source": [
    "mvp_cz=['Czech republic','Czechia','czech republic','Czech Republic ','Czech Republic',]\n",
    "clean_reduced_df=clean_reduced_df.replace(mvp_cz, \"Czech Republic\") "
   ]
  },
  {
   "cell_type": "code",
   "execution_count": 733,
   "id": "8573049e-152b-46aa-9cbf-d3258ca891fa",
   "metadata": {},
   "outputs": [],
   "source": [
    "mvp_ua=['U.A.','UA','Ukraine ',]\n",
    "clean_reduced_df=clean_reduced_df.replace(mvp_ua, \"Ukraine\")"
   ]
  },
  {
   "cell_type": "code",
   "execution_count": 734,
   "id": "788cfa8c-c669-43af-a198-c39d6ff0db19",
   "metadata": {},
   "outputs": [],
   "source": [
    "mvp_cro=['Croatia ','croatia',]\n",
    "clean_reduced_df=clean_reduced_df.replace(mvp_cro, \"Croatia\")"
   ]
  },
  {
   "cell_type": "code",
   "execution_count": 735,
   "id": "3aab05de-3a3b-44c6-ace5-ca30c5aa1554",
   "metadata": {},
   "outputs": [],
   "source": [
    "mvp_sg=['Singapore','Singapore ','singapore',]\n",
    "clean_reduced_df=clean_reduced_df.replace(mvp_sg, \"Singapore\")"
   ]
  },
  {
   "cell_type": "code",
   "execution_count": 736,
   "id": "2a0b805a-cf02-4e2c-aa36-5ad1ce78414c",
   "metadata": {},
   "outputs": [],
   "source": [
    "mvp_th=['Thailand','ARGENTINA BUT MY ORG IS IN THAILAND',]\n",
    "clean_reduced_df=clean_reduced_df.replace(mvp_th, \"Thailand\")"
   ]
  },
  {
   "cell_type": "code",
   "execution_count": 737,
   "id": "0dd0497c-8e6c-414c-a23c-a3057b7fe6e9",
   "metadata": {},
   "outputs": [],
   "source": [
    "mvp_se=['Sweden','Sweden ',]\n",
    "clean_reduced_df=clean_reduced_df.replace(mvp_se, \"Sweden\")"
   ]
  },
  {
   "cell_type": "code",
   "execution_count": 738,
   "id": "d44a88e1-c7a3-4222-bb0d-39dd859a81e7",
   "metadata": {},
   "outputs": [],
   "source": [
    "mvp_mx=['Mexico ','Mexico','México',]\n",
    "clean_reduced_df=clean_reduced_df.replace(mvp_mx, \"Mexico\")"
   ]
  },
  {
   "cell_type": "code",
   "execution_count": 739,
   "id": "d4ed1927-a65a-47a6-84e3-916e59d45513",
   "metadata": {},
   "outputs": [],
   "source": [
    "mvp_bra=['Brazil','Brazil ','Brasil',]\n",
    "clean_reduced_df=clean_reduced_df.replace(mvp_bra, \"Brazil\")"
   ]
  },
  {
   "cell_type": "code",
   "execution_count": 740,
   "id": "8662634e-ec1f-4d70-8de2-d8414b522f84",
   "metadata": {},
   "outputs": [],
   "source": [
    "mvp_lux=['Luxembourg','Luxemburg',]\n",
    "clean_reduced_df=clean_reduced_df.replace(mvp_lux, \"Luxemburg\")"
   ]
  },
  {
   "cell_type": "code",
   "execution_count": 741,
   "id": "cb2259af-4e8e-4cd9-814b-94cc7b249434",
   "metadata": {},
   "outputs": [],
   "source": [
    "mvp_lk=['Sri lanka','Sri Lanka',]\n",
    "clean_reduced_df=clean_reduced_df.replace(mvp_lk, \"Sri Lanka\")"
   ]
  },
  {
   "cell_type": "code",
   "execution_count": 742,
   "id": "e81ca6f5-fbde-44f1-ad00-b4d2cbda9fac",
   "metadata": {},
   "outputs": [],
   "source": [
    "mvp_fi=['Finland','finland',]\n",
    "clean_reduced_df=clean_reduced_df.replace(mvp_fi, \"Finland\")"
   ]
  },
  {
   "cell_type": "code",
   "execution_count": 743,
   "id": "caac3182-b237-4772-928f-96d57c3ac23e",
   "metadata": {},
   "outputs": [],
   "source": [
    "mvp_ita=['Italy (South)','Italy',]\n",
    "clean_reduced_df=clean_reduced_df.replace(mvp_ita, \"Italy\")"
   ]
  },
  {
   "cell_type": "code",
   "execution_count": 744,
   "id": "422fad1a-fef8-4299-8bb2-896f01b52138",
   "metadata": {},
   "outputs": [],
   "source": [
    "mvp_pak=['Pakistan','pakistan',]\n",
    "clean_reduced_df=clean_reduced_df.replace(mvp_pak, \"Pakistan\")"
   ]
  },
  {
   "cell_type": "code",
   "execution_count": 745,
   "id": "0cac477c-489b-4e1c-a2f0-a6529368bf41",
   "metadata": {},
   "outputs": [],
   "source": [
    "mvp_kr=['South Korea','South Korea ',]\n",
    "clean_reduced_df=clean_reduced_df.replace(mvp_kr, \"South Korea\")"
   ]
  },
  {
   "cell_type": "code",
   "execution_count": 746,
   "id": "50db4547-dfcc-4b1f-8e1b-75e7e835d441",
   "metadata": {},
   "outputs": [],
   "source": [
    "mvp_bd=['Bangladesh ','Bangladesh',]\n",
    "clean_reduced_df=clean_reduced_df.replace(mvp_bd, \"Bangladesh\")"
   ]
  },
  {
   "cell_type": "code",
   "execution_count": 747,
   "id": "d29a6035-8bfe-4cf8-8301-a656fdb76de3",
   "metadata": {},
   "outputs": [],
   "source": [
    "mvp_ph=['philippines',]\n",
    "clean_reduced_df=clean_reduced_df.replace(mvp_ph, \"Philippines\")"
   ]
  },
  {
   "cell_type": "code",
   "execution_count": 748,
   "id": "bcccb08d-d93a-44fc-a115-d4ac2e7d5f0b",
   "metadata": {},
   "outputs": [],
   "source": [
    "mvp_civ=[\"Cote d'Ivoire\",]\n",
    "clean_reduced_df=clean_reduced_df.replace(mvp_civ, \"Ivory Coast\")"
   ]
  },
  {
   "cell_type": "code",
   "execution_count": 749,
   "id": "da9cc897-b0a7-4062-acff-659008dab687",
   "metadata": {},
   "outputs": [],
   "source": [
    "mvp_bel=['Belgium ',]\n",
    "clean_reduced_df=clean_reduced_df.replace(mvp_bel, \"Belgium\")"
   ]
  },
  {
   "cell_type": "code",
   "execution_count": 750,
   "id": "5981c997-eda5-42ee-b579-4eb6075bb73a",
   "metadata": {},
   "outputs": [],
   "source": [
    "mvp_bhs=['The Bahamas ',]\n",
    "clean_reduced_df=clean_reduced_df.replace(mvp_bhs, \"The Bahamas\")"
   ]
  },
  {
   "cell_type": "code",
   "execution_count": 751,
   "id": "5579f58f-ebd6-4fa0-8e17-24d9a4f63dae",
   "metadata": {},
   "outputs": [],
   "source": [
    "mvp_no=['Norway ',]\n",
    "clean_reduced_df=clean_reduced_df.replace(mvp_no, \"Norway\")"
   ]
  },
  {
   "cell_type": "code",
   "execution_count": 752,
   "id": "ff32c35f-b0ac-4ce8-9d0f-96f0ddcdda54",
   "metadata": {},
   "outputs": [],
   "source": [
    "mvp_my=['Malaysia ',]\n",
    "clean_reduced_df=clean_reduced_df.replace(mvp_my, \"Malaysia\")"
   ]
  },
  {
   "cell_type": "code",
   "execution_count": 753,
   "id": "637c2e2b-6ff6-462b-b981-444ed4053169",
   "metadata": {},
   "outputs": [],
   "source": [
    "mvp_ru=['Russia ',]\n",
    "clean_reduced_df=clean_reduced_df.replace(mvp_ru, \"Russia\")"
   ]
  },
  {
   "cell_type": "code",
   "execution_count": 754,
   "id": "9ed3f83a-85d8-4352-84ca-4958be59e30c",
   "metadata": {},
   "outputs": [],
   "source": [
    "mvp_pt=['Portugal ',]\n",
    "clean_reduced_df=clean_reduced_df.replace(mvp_pt, \"Portugal\")"
   ]
  },
  {
   "cell_type": "code",
   "execution_count": 755,
   "id": "e7ffc2d4-2e6e-4712-8104-c670bf43879a",
   "metadata": {},
   "outputs": [],
   "source": [
    "mvp_pl=['Poland ',]\n",
    "clean_reduced_df=clean_reduced_df.replace(mvp_pl, \"Poland\")"
   ]
  },
  {
   "cell_type": "code",
   "execution_count": 756,
   "id": "0855fd13-a809-4806-b9f3-615ad4f7ec4e",
   "metadata": {},
   "outputs": [],
   "source": [
    "mvp_pa=['Panamá',]\n",
    "clean_reduced_df=clean_reduced_df.replace(mvp_pa, \"Panama\")"
   ]
  },
  {
   "cell_type": "code",
   "execution_count": 757,
   "id": "01cfa07e",
   "metadata": {},
   "outputs": [],
   "source": [
    "mvp_ng=['NIGERIA', 'Nigeria ',]\n",
    "clean_reduced_df=clean_reduced_df.replace(mvp_ng, \"Nigeria\")"
   ]
  },
  {
   "cell_type": "code",
   "execution_count": 758,
   "id": "76b89dc3-6abb-4888-bbe4-e0d72ba3a8b8",
   "metadata": {
    "scrolled": true
   },
   "outputs": [
    {
     "data": {
      "text/html": [
       "<div>\n",
       "<style scoped>\n",
       "    .dataframe tbody tr th:only-of-type {\n",
       "        vertical-align: middle;\n",
       "    }\n",
       "\n",
       "    .dataframe tbody tr th {\n",
       "        vertical-align: top;\n",
       "    }\n",
       "\n",
       "    .dataframe thead th {\n",
       "        text-align: right;\n",
       "    }\n",
       "</style>\n",
       "<table border=\"1\" class=\"dataframe\">\n",
       "  <thead>\n",
       "    <tr style=\"text-align: right;\">\n",
       "      <th></th>\n",
       "      <th>Industry</th>\n",
       "      <th>Job_title</th>\n",
       "      <th>Annual_salary</th>\n",
       "      <th>Currency</th>\n",
       "      <th>Country_of_work</th>\n",
       "      <th>Years_of_experience_in_your_field</th>\n",
       "      <th>Level_of_education</th>\n",
       "      <th>Average_age</th>\n",
       "      <th>Gender_category</th>\n",
       "      <th>Average_Years_of_experience</th>\n",
       "    </tr>\n",
       "  </thead>\n",
       "  <tbody>\n",
       "    <tr>\n",
       "      <th>0</th>\n",
       "      <td>Education (Higher Education)</td>\n",
       "      <td>Research and Instruction Librarian</td>\n",
       "      <td>55,000</td>\n",
       "      <td>USD</td>\n",
       "      <td>U.S.</td>\n",
       "      <td>5-7 years</td>\n",
       "      <td>Master's degree</td>\n",
       "      <td>29.0</td>\n",
       "      <td>Female</td>\n",
       "      <td>6.0</td>\n",
       "    </tr>\n",
       "    <tr>\n",
       "      <th>1</th>\n",
       "      <td>Computing or Tech</td>\n",
       "      <td>Change &amp; Internal Communications Manager</td>\n",
       "      <td>54,600</td>\n",
       "      <td>GBP</td>\n",
       "      <td>U.K.</td>\n",
       "      <td>5-7 years</td>\n",
       "      <td>College degree</td>\n",
       "      <td>29.0</td>\n",
       "      <td>Non-binary</td>\n",
       "      <td>9.0</td>\n",
       "    </tr>\n",
       "    <tr>\n",
       "      <th>2</th>\n",
       "      <td>Accounting, Banking &amp; Finance</td>\n",
       "      <td>Marketing Specialist</td>\n",
       "      <td>34,000</td>\n",
       "      <td>USD</td>\n",
       "      <td>U.S.</td>\n",
       "      <td>2 - 4 years</td>\n",
       "      <td>College degree</td>\n",
       "      <td>29.0</td>\n",
       "      <td>Female</td>\n",
       "      <td>3.0</td>\n",
       "    </tr>\n",
       "    <tr>\n",
       "      <th>3</th>\n",
       "      <td>Nonprofits</td>\n",
       "      <td>Program Manager</td>\n",
       "      <td>62,000</td>\n",
       "      <td>USD</td>\n",
       "      <td>U.S.</td>\n",
       "      <td>5-7 years</td>\n",
       "      <td>College degree</td>\n",
       "      <td>29.0</td>\n",
       "      <td>Female</td>\n",
       "      <td>9.0</td>\n",
       "    </tr>\n",
       "    <tr>\n",
       "      <th>4</th>\n",
       "      <td>Accounting, Banking &amp; Finance</td>\n",
       "      <td>Accounting Manager</td>\n",
       "      <td>60,000</td>\n",
       "      <td>USD</td>\n",
       "      <td>U.S.</td>\n",
       "      <td>5-7 years</td>\n",
       "      <td>College degree</td>\n",
       "      <td>29.0</td>\n",
       "      <td>Female</td>\n",
       "      <td>9.0</td>\n",
       "    </tr>\n",
       "  </tbody>\n",
       "</table>\n",
       "</div>"
      ],
      "text/plain": [
       "                        Industry                                 Job_title  \\\n",
       "0   Education (Higher Education)        Research and Instruction Librarian   \n",
       "1              Computing or Tech  Change & Internal Communications Manager   \n",
       "2  Accounting, Banking & Finance                      Marketing Specialist   \n",
       "3                     Nonprofits                           Program Manager   \n",
       "4  Accounting, Banking & Finance                        Accounting Manager   \n",
       "\n",
       "  Annual_salary Currency Country_of_work Years_of_experience_in_your_field  \\\n",
       "0        55,000      USD            U.S.                         5-7 years   \n",
       "1        54,600      GBP            U.K.                         5-7 years   \n",
       "2        34,000      USD            U.S.                       2 - 4 years   \n",
       "3        62,000      USD            U.S.                         5-7 years   \n",
       "4        60,000      USD            U.S.                         5-7 years   \n",
       "\n",
       "  Level_of_education  Average_age Gender_category  Average_Years_of_experience  \n",
       "0    Master's degree         29.0          Female                          6.0  \n",
       "1     College degree         29.0      Non-binary                          9.0  \n",
       "2     College degree         29.0          Female                          3.0  \n",
       "3     College degree         29.0          Female                          9.0  \n",
       "4     College degree         29.0          Female                          9.0  "
      ]
     },
     "execution_count": 758,
     "metadata": {},
     "output_type": "execute_result"
    }
   ],
   "source": [
    "# Cleaning Annual_salary feature\n",
    "clean_reduced_df.head()"
   ]
  },
  {
   "cell_type": "code",
   "execution_count": 759,
   "id": "084a32c3-0127-46f3-a277-9f169ccb2d9a",
   "metadata": {},
   "outputs": [
    {
     "data": {
      "text/plain": [
       "array(['55,000', '54,600', '34,000', ..., '7000', '37741', '53060'],\n",
       "      dtype=object)"
      ]
     },
     "execution_count": 759,
     "metadata": {},
     "output_type": "execute_result"
    }
   ],
   "source": [
    "clean_reduced_df[\"Annual_salary\"].unique()"
   ]
  },
  {
   "cell_type": "code",
   "execution_count": 760,
   "id": "44c71cb4-96b2-4c40-8a79-5dfc03e85c85",
   "metadata": {},
   "outputs": [],
   "source": [
    "# Removing commas from the features and converting to numeric values just for the Annual_salary feature\n",
    "clean_reduced_df[\"Annual_salary\"] = clean_reduced_df[\"Annual_salary\"].replace({',': ''}, regex=True)"
   ]
  },
  {
   "cell_type": "code",
   "execution_count": 761,
   "id": "a972dce9-af93-459f-935e-331cd3d6de4e",
   "metadata": {},
   "outputs": [
    {
     "data": {
      "text/plain": [
       "Industry                              object\n",
       "Job_title                             object\n",
       "Annual_salary                         object\n",
       "Currency                              object\n",
       "Country_of_work                       object\n",
       "Years_of_experience_in_your_field     object\n",
       "Level_of_education                    object\n",
       "Average_age                          float64\n",
       "Gender_category                       object\n",
       "Average_Years_of_experience          float64\n",
       "dtype: object"
      ]
     },
     "execution_count": 761,
     "metadata": {},
     "output_type": "execute_result"
    }
   ],
   "source": [
    "# Checking what data type is Annual Salary feature now\n",
    "clean_reduced_df.dtypes"
   ]
  },
  {
   "cell_type": "code",
   "execution_count": 762,
   "id": "9d053479-8048-4754-892c-d7861f3cdcd3",
   "metadata": {
    "scrolled": true
   },
   "outputs": [
    {
     "data": {
      "text/html": [
       "<div>\n",
       "<style scoped>\n",
       "    .dataframe tbody tr th:only-of-type {\n",
       "        vertical-align: middle;\n",
       "    }\n",
       "\n",
       "    .dataframe tbody tr th {\n",
       "        vertical-align: top;\n",
       "    }\n",
       "\n",
       "    .dataframe thead th {\n",
       "        text-align: right;\n",
       "    }\n",
       "</style>\n",
       "<table border=\"1\" class=\"dataframe\">\n",
       "  <thead>\n",
       "    <tr style=\"text-align: right;\">\n",
       "      <th></th>\n",
       "      <th>Industry</th>\n",
       "      <th>Job_title</th>\n",
       "      <th>Annual_salary</th>\n",
       "      <th>Currency</th>\n",
       "      <th>Country_of_work</th>\n",
       "      <th>Years_of_experience_in_your_field</th>\n",
       "      <th>Level_of_education</th>\n",
       "      <th>Average_age</th>\n",
       "      <th>Gender_category</th>\n",
       "      <th>Average_Years_of_experience</th>\n",
       "    </tr>\n",
       "  </thead>\n",
       "  <tbody>\n",
       "    <tr>\n",
       "      <th>0</th>\n",
       "      <td>Education (Higher Education)</td>\n",
       "      <td>Research and Instruction Librarian</td>\n",
       "      <td>55000</td>\n",
       "      <td>USD</td>\n",
       "      <td>U.S.</td>\n",
       "      <td>5-7 years</td>\n",
       "      <td>Master's degree</td>\n",
       "      <td>29.0</td>\n",
       "      <td>Female</td>\n",
       "      <td>6.0</td>\n",
       "    </tr>\n",
       "    <tr>\n",
       "      <th>1</th>\n",
       "      <td>Computing or Tech</td>\n",
       "      <td>Change &amp; Internal Communications Manager</td>\n",
       "      <td>54600</td>\n",
       "      <td>GBP</td>\n",
       "      <td>U.K.</td>\n",
       "      <td>5-7 years</td>\n",
       "      <td>College degree</td>\n",
       "      <td>29.0</td>\n",
       "      <td>Non-binary</td>\n",
       "      <td>9.0</td>\n",
       "    </tr>\n",
       "    <tr>\n",
       "      <th>2</th>\n",
       "      <td>Accounting, Banking &amp; Finance</td>\n",
       "      <td>Marketing Specialist</td>\n",
       "      <td>34000</td>\n",
       "      <td>USD</td>\n",
       "      <td>U.S.</td>\n",
       "      <td>2 - 4 years</td>\n",
       "      <td>College degree</td>\n",
       "      <td>29.0</td>\n",
       "      <td>Female</td>\n",
       "      <td>3.0</td>\n",
       "    </tr>\n",
       "    <tr>\n",
       "      <th>3</th>\n",
       "      <td>Nonprofits</td>\n",
       "      <td>Program Manager</td>\n",
       "      <td>62000</td>\n",
       "      <td>USD</td>\n",
       "      <td>U.S.</td>\n",
       "      <td>5-7 years</td>\n",
       "      <td>College degree</td>\n",
       "      <td>29.0</td>\n",
       "      <td>Female</td>\n",
       "      <td>9.0</td>\n",
       "    </tr>\n",
       "    <tr>\n",
       "      <th>4</th>\n",
       "      <td>Accounting, Banking &amp; Finance</td>\n",
       "      <td>Accounting Manager</td>\n",
       "      <td>60000</td>\n",
       "      <td>USD</td>\n",
       "      <td>U.S.</td>\n",
       "      <td>5-7 years</td>\n",
       "      <td>College degree</td>\n",
       "      <td>29.0</td>\n",
       "      <td>Female</td>\n",
       "      <td>9.0</td>\n",
       "    </tr>\n",
       "  </tbody>\n",
       "</table>\n",
       "</div>"
      ],
      "text/plain": [
       "                        Industry                                 Job_title  \\\n",
       "0   Education (Higher Education)        Research and Instruction Librarian   \n",
       "1              Computing or Tech  Change & Internal Communications Manager   \n",
       "2  Accounting, Banking & Finance                      Marketing Specialist   \n",
       "3                     Nonprofits                           Program Manager   \n",
       "4  Accounting, Banking & Finance                        Accounting Manager   \n",
       "\n",
       "  Annual_salary Currency Country_of_work Years_of_experience_in_your_field  \\\n",
       "0         55000      USD            U.S.                         5-7 years   \n",
       "1         54600      GBP            U.K.                         5-7 years   \n",
       "2         34000      USD            U.S.                       2 - 4 years   \n",
       "3         62000      USD            U.S.                         5-7 years   \n",
       "4         60000      USD            U.S.                         5-7 years   \n",
       "\n",
       "  Level_of_education  Average_age Gender_category  Average_Years_of_experience  \n",
       "0    Master's degree         29.0          Female                          6.0  \n",
       "1     College degree         29.0      Non-binary                          9.0  \n",
       "2     College degree         29.0          Female                          3.0  \n",
       "3     College degree         29.0          Female                          9.0  \n",
       "4     College degree         29.0          Female                          9.0  "
      ]
     },
     "execution_count": 762,
     "metadata": {},
     "output_type": "execute_result"
    }
   ],
   "source": [
    "clean_reduced_df.head()"
   ]
  },
  {
   "cell_type": "code",
   "execution_count": 763,
   "id": "5a67eeb0-2c5d-42a0-883d-2e3e83e0070f",
   "metadata": {},
   "outputs": [],
   "source": [
    "# Replacing all of the blanks (nan) with zero values\n",
    "clean_reduced_df = clean_reduced_df.fillna(0)"
   ]
  },
  {
   "cell_type": "code",
   "execution_count": 764,
   "id": "ec99c9ea-e65f-4941-bdbc-b7f1f6d3a31d",
   "metadata": {},
   "outputs": [],
   "source": [
    "# Converting Annual Salary feature into numerical\n",
    "# Reference: Stack Overflow https://stackoverflow.com/questions/48094854/pandas-convert-data-type-from-object-to-float\n",
    "clean_reduced_df[\"Annual_salary\"] = clean_reduced_df[\"Annual_salary\"].astype(float)"
   ]
  },
  {
   "cell_type": "code",
   "execution_count": 765,
   "id": "ac6fc884-fd07-4068-bb8c-f4e741b94342",
   "metadata": {},
   "outputs": [
    {
     "data": {
      "text/plain": [
       "Industry                              object\n",
       "Job_title                             object\n",
       "Annual_salary                        float64\n",
       "Currency                              object\n",
       "Country_of_work                       object\n",
       "Years_of_experience_in_your_field     object\n",
       "Level_of_education                    object\n",
       "Average_age                          float64\n",
       "Gender_category                       object\n",
       "Average_Years_of_experience          float64\n",
       "dtype: object"
      ]
     },
     "execution_count": 765,
     "metadata": {},
     "output_type": "execute_result"
    }
   ],
   "source": [
    "# Checking if the data type has changed from object to float64 in the Annual Salary feature\n",
    "clean_reduced_df.dtypes"
   ]
  },
  {
   "cell_type": "code",
   "execution_count": 766,
   "id": "10bef0d6-33af-4561-b45d-003e59a2b194",
   "metadata": {},
   "outputs": [],
   "source": [
    "# Creating a new dictionary for Currency feature\n",
    "rename_map = {'AUD/NZD':'AUD',\n",
    "              '0':'Other',}"
   ]
  },
  {
   "cell_type": "code",
   "execution_count": 767,
   "id": "df18405e-c9b0-4cd8-9f0d-7bc2b708c552",
   "metadata": {},
   "outputs": [],
   "source": [
    "# Reference: Stack Overflow, https://stackoverflow.com/questions/46432315/pandas-replace-column-values-by-dictionary-keys-if-they-are-in-dictionary-valu\n",
    "clean_reduced_df[\"Currency\"] = clean_reduced_df[\"Currency\"].replace(rename_map)"
   ]
  },
  {
   "cell_type": "code",
   "execution_count": 768,
   "id": "48f3e3b3-f179-44a9-a4a5-d1b420f598a3",
   "metadata": {
    "scrolled": true
   },
   "outputs": [
    {
     "name": "stdout",
     "output_type": "stream",
     "text": [
      "0        USD\n",
      "1        GBP\n",
      "2        USD\n",
      "3        USD\n",
      "4        USD\n",
      "        ... \n",
      "28080    USD\n",
      "28081    USD\n",
      "28082    EUR\n",
      "28083    USD\n",
      "28084    USD\n",
      "Name: Currency, Length: 28085, dtype: object\n"
     ]
    }
   ],
   "source": [
    "print(clean_reduced_df[\"Currency\"])"
   ]
  },
  {
   "cell_type": "code",
   "execution_count": 769,
   "id": "4d15f313-566d-4828-b519-78875a0f4c91",
   "metadata": {},
   "outputs": [],
   "source": [
    "# Converting all of the currencies into EUR, using Central Bank of Irelands daily FX rates, latest available date is 25 October 2024\n",
    "# Reference Central Bank of Ireland https://www.centralbank.ie/statistics/interest-rates-exchange-rates/exchange-rates\n",
    "# Converting to one currency as common practice in finances to analyse discrepancies\n",
    "exchange_rates = {\n",
    "    \"USD\": 1.0915,  # 1 USD = 1.0915 EUR\n",
    "    \"GBP\": 0.83358,  # 1 GBP = 0.83358 EUR\n",
    "    \"EUR\": 1.0,   # EUR is already in EUR\n",
    "    \"JPY\": 164.45, # 1 JPY = 164.45 EUR\n",
    "    \"CAD\": 1.4989, # 1 CAD = 1.4989 EUR\n",
    "    \"AUD\": 1.6311, # 1 AUD = 1.6311 EUR\n",
    "    \"Other\": 1.0, # No need to convert\n",
    "    \"ZAR\": 19.0627, # 1 ZAR = 19.0627 EUR\n",
    "    \"SEK\": 11.4475, # 1 SEK = 11.4475 EUR\n",
    "    \"HKD\": 8.4110 # 1 HKD = 8.4110 EUR\n",
    "}"
   ]
  },
  {
   "cell_type": "code",
   "execution_count": 770,
   "id": "085df164-75ab-43b2-b17c-c5357f9238c7",
   "metadata": {},
   "outputs": [],
   "source": [
    "# Referencing Practical Business Phyton; https://pbpython.com/currency-cleanup.html by Chris Moffitt 3rd of November 2019\n",
    "clean_reduced_df[\"Annual_salary_in_EUR\"] = clean_reduced_df.apply(lambda row: row[\"Annual_salary\"] * exchange_rates.get(row[\"Currency\"], 1), axis=1)"
   ]
  },
  {
   "cell_type": "code",
   "execution_count": 771,
   "id": "783596c4-e884-43ed-a867-1dc14a266fb2",
   "metadata": {},
   "outputs": [
    {
     "name": "stdout",
     "output_type": "stream",
     "text": [
      "0          60032.500\n",
      "1          45513.468\n",
      "2          37111.000\n",
      "3          67673.000\n",
      "4          65490.000\n",
      "            ...     \n",
      "28080     127705.500\n",
      "28081      76405.000\n",
      "28082      28600.000\n",
      "28083      61298.640\n",
      "28084    2183000.000\n",
      "Name: Annual_salary_in_EUR, Length: 28085, dtype: float64\n"
     ]
    }
   ],
   "source": [
    "print(clean_reduced_df[\"Annual_salary_in_EUR\"])"
   ]
  },
  {
   "cell_type": "code",
   "execution_count": 772,
   "id": "0afc11b9-af5e-4220-b40d-5d9bd3f94c03",
   "metadata": {},
   "outputs": [
    {
     "name": "stdout",
     "output_type": "stream",
     "text": [
      "0\n"
     ]
    }
   ],
   "source": [
    "# Checking if there are missing values\n",
    "print(clean_reduced_df[\"Annual_salary_in_EUR\"].isnull().sum())"
   ]
  },
  {
   "cell_type": "code",
   "execution_count": 773,
   "id": "ce7e5e3e-5199-48dc-84e6-fa962ad15e2b",
   "metadata": {
    "scrolled": true
   },
   "outputs": [
    {
     "name": "stdout",
     "output_type": "stream",
     "text": [
      "                                   Industry  \\\n",
      "0              Education (Higher Education)   \n",
      "1                         Computing or Tech   \n",
      "2             Accounting, Banking & Finance   \n",
      "3                                Nonprofits   \n",
      "4             Accounting, Banking & Finance   \n",
      "...                                     ...   \n",
      "28080         Accounting, Banking & Finance   \n",
      "28081         Education (Primary/Secondary)   \n",
      "28082  Government and Public Administration   \n",
      "28083                     Computing or Tech   \n",
      "28084                       Social networks   \n",
      "\n",
      "                                      Job_title  Annual_salary Currency  \\\n",
      "0            Research and Instruction Librarian        55000.0      USD   \n",
      "1      Change & Internal Communications Manager        54600.0      GBP   \n",
      "2                          Marketing Specialist        34000.0      USD   \n",
      "3                               Program Manager        62000.0      USD   \n",
      "4                            Accounting Manager        60000.0      USD   \n",
      "...                                         ...            ...      ...   \n",
      "28080                      Product Manager Lead       117000.0      USD   \n",
      "28081                         Curriculum Writer        70000.0      USD   \n",
      "28082                          Clerical Officer        28600.0      EUR   \n",
      "28083                Software Engineering Co-Op        56160.0      USD   \n",
      "28084                           Content creator      2000000.0      USD   \n",
      "\n",
      "      Country_of_work Years_of_experience_in_your_field  \\\n",
      "0                U.S.                         5-7 years   \n",
      "1                U.K.                         5-7 years   \n",
      "2                U.S.                       2 - 4 years   \n",
      "3                U.S.                         5-7 years   \n",
      "4                U.S.                         5-7 years   \n",
      "...               ...                               ...   \n",
      "28080            U.S.                     11 - 20 years   \n",
      "28081            U.S.                     21 - 30 years   \n",
      "28082         Ireland                    1 year or less   \n",
      "28083            U.S.                    1 year or less   \n",
      "28084          Taiwan                       2 - 4 years   \n",
      "\n",
      "                       Level_of_education  Average_age Gender_category  \\\n",
      "0                         Master's degree         29.0          Female   \n",
      "1                          College degree         29.0      Non-binary   \n",
      "2                          College degree         29.0          Female   \n",
      "3                          College degree         29.0          Female   \n",
      "4                          College degree         29.0          Female   \n",
      "...                                   ...          ...             ...   \n",
      "28080                      College degree         49.0          Female   \n",
      "28081                     Master's degree         49.0          Female   \n",
      "28082  Professional degree (MD, JD, etc.)         59.0            Male   \n",
      "28083                      College degree         21.0            Male   \n",
      "28084                                 PhD          0.0      Non-binary   \n",
      "\n",
      "       Average_Years_of_experience  Annual_salary_in_EUR  \n",
      "0                              6.0             60032.500  \n",
      "1                              9.0             45513.468  \n",
      "2                              3.0             37111.000  \n",
      "3                              9.0             67673.000  \n",
      "4                              9.0             65490.000  \n",
      "...                            ...                   ...  \n",
      "28080                         15.0            127705.500  \n",
      "28081                         25.0             76405.000  \n",
      "28082                         25.0             28600.000  \n",
      "28083                          1.0             61298.640  \n",
      "28084                         41.0           2183000.000  \n",
      "\n",
      "[28085 rows x 11 columns]\n"
     ]
    }
   ],
   "source": [
    "print(clean_reduced_df)"
   ]
  },
  {
   "cell_type": "markdown",
   "id": "7c340a7f-913c-4aba-8c75-6aa241fd8479",
   "metadata": {},
   "source": [
    "DUPLICATES"
   ]
  },
  {
   "cell_type": "code",
   "execution_count": 775,
   "id": "97f71ca3-6134-418d-baec-37521ed61655",
   "metadata": {},
   "outputs": [
    {
     "data": {
      "text/plain": [
       "0        False\n",
       "1        False\n",
       "2        False\n",
       "3        False\n",
       "4        False\n",
       "         ...  \n",
       "28080    False\n",
       "28081    False\n",
       "28082    False\n",
       "28083    False\n",
       "28084    False\n",
       "Length: 28085, dtype: bool"
      ]
     },
     "execution_count": 775,
     "metadata": {},
     "output_type": "execute_result"
    }
   ],
   "source": [
    "clean_reduced_df.duplicated()"
   ]
  },
  {
   "cell_type": "code",
   "execution_count": 776,
   "id": "5d9fa968-bfb8-4bc5-96b7-e4f83ecb5cdd",
   "metadata": {},
   "outputs": [
    {
     "data": {
      "text/plain": [
       "213"
      ]
     },
     "execution_count": 776,
     "metadata": {},
     "output_type": "execute_result"
    }
   ],
   "source": [
    "clean_reduced_df.duplicated().sum()"
   ]
  },
  {
   "cell_type": "code",
   "execution_count": 777,
   "id": "5a10bda1-a983-4b71-9c6e-957b36ef4cbc",
   "metadata": {},
   "outputs": [
    {
     "data": {
      "text/plain": [
       "23452"
      ]
     },
     "execution_count": 777,
     "metadata": {},
     "output_type": "execute_result"
    }
   ],
   "source": [
    "# Duplicated values which is normal in for a database of this size and queries in survey\n",
    "clean_reduced_df.duplicated(\"Annual_salary_in_EUR\").sum()"
   ]
  },
  {
   "cell_type": "markdown",
   "id": "d20ac972-f18c-40c9-8782-191d4d7db940",
   "metadata": {},
   "source": [
    "OUTLIERS"
   ]
  },
  {
   "cell_type": "code",
   "execution_count": 935,
   "id": "fa577683-4bf6-4539-8a23-923be5d9b680",
   "metadata": {},
   "outputs": [
    {
     "data": {
      "text/plain": [
       "<Axes: xlabel='Annual_salary_in_EUR'>"
      ]
     },
     "execution_count": 935,
     "metadata": {},
     "output_type": "execute_result"
    },
    {
     "data": {
      "image/png": "[encoded data removed]",
      "text/plain": [
       "<Figure size 640x480 with 1 Axes>"
      ]
     },
     "metadata": {},
     "output_type": "display_data"
    }
   ],
   "source": [
    "# Visualising outliers with Box plot\n",
    "sns.boxplot(data=clean_reduced_df, x=\"Annual_salary_in_EUR\")"
   ]
  },
  {
   "cell_type": "code",
   "execution_count": 780,
   "id": "460816be-34c6-4389-b5f7-3f984501eebc",
   "metadata": {},
   "outputs": [],
   "source": [
    "# Identifying outliers in Annual_salary_EUR Using the Interquartile Range (IQR) method\n",
    "Q1 = clean_reduced_df[\"Annual_salary_in_EUR\"].quantile(0.25)\n",
    "Q3 = clean_reduced_df[\"Annual_salary_in_EUR\"].quantile(0.75)\n",
    "\n",
    "IQR = Q3-Q1\n",
    "\n",
    "lower = Q1-1.5*IQR\n",
    "upper = Q3+1.5*IQR"
   ]
  },
  {
   "cell_type": "code",
   "execution_count": 781,
   "id": "a72585e8-dfa6-4153-8d56-405a8305914b",
   "metadata": {},
   "outputs": [],
   "source": [
    "# Creating arrays of Boolean values indicating the outlier rows\n",
    "upper_array=np.where(clean_reduced_df[\"Annual_salary_in_EUR\"]>=upper)[0]\n",
    "lower_array=np.where(clean_reduced_df[\"Annual_salary_in_EUR\"]<=lower)[0]  "
   ]
  },
  {
   "cell_type": "code",
   "execution_count": 782,
   "id": "051dfd64-ec56-4d61-8aec-18550e3f18b0",
   "metadata": {},
   "outputs": [
    {
     "data": {
      "text/plain": [
       "array([   32,   175,   187, ..., 28055, 28061, 28084], dtype=int64)"
      ]
     },
     "execution_count": 782,
     "metadata": {},
     "output_type": "execute_result"
    }
   ],
   "source": [
    "upper_array"
   ]
  },
  {
   "cell_type": "code",
   "execution_count": 783,
   "id": "1deccfff-def7-42ae-a0ac-88267aa14a6a",
   "metadata": {},
   "outputs": [
    {
     "data": {
      "text/plain": [
       "array([], dtype=int64)"
      ]
     },
     "execution_count": 783,
     "metadata": {},
     "output_type": "execute_result"
    }
   ],
   "source": [
    "lower_array"
   ]
  },
  {
   "cell_type": "code",
   "execution_count": 784,
   "id": "c269b2c4-8c34-4f91-865f-50e085c1fc73",
   "metadata": {},
   "outputs": [],
   "source": [
    "# Not removing the outliers because I am not sure if they are to be removed, based on the type of jobs these could be annual salaries"
   ]
  },
  {
   "cell_type": "markdown",
   "id": "3e4df1ca-b984-4ccd-83b9-80392d74db5b",
   "metadata": {},
   "source": [
    "FEATURE SELECTION"
   ]
  },
  {
   "cell_type": "code",
   "execution_count": 786,
   "id": "3278f655-44a6-4637-a8c9-6ecce2f570a4",
   "metadata": {},
   "outputs": [
    {
     "name": "stdout",
     "output_type": "stream",
     "text": [
      "<class 'pandas.core.frame.DataFrame'>\n",
      "Index: 28085 entries, 0 to 28084\n",
      "Data columns (total 11 columns):\n",
      " #   Column                             Non-Null Count  Dtype  \n",
      "---  ------                             --------------  -----  \n",
      " 0   Industry                           28085 non-null  object \n",
      " 1   Job_title                          28085 non-null  object \n",
      " 2   Annual_salary                      28085 non-null  float64\n",
      " 3   Currency                           28085 non-null  object \n",
      " 4   Country_of_work                    28085 non-null  object \n",
      " 5   Years_of_experience_in_your_field  28085 non-null  object \n",
      " 6   Level_of_education                 28085 non-null  object \n",
      " 7   Average_age                        28085 non-null  float64\n",
      " 8   Gender_category                    28085 non-null  object \n",
      " 9   Average_Years_of_experience        28085 non-null  float64\n",
      " 10  Annual_salary_in_EUR               28085 non-null  float64\n",
      "dtypes: float64(4), object(7)\n",
      "memory usage: 2.6+ MB\n"
     ]
    }
   ],
   "source": [
    "clean_reduced_df.info()"
   ]
  },
  {
   "cell_type": "code",
   "execution_count": 787,
   "id": "417c580d-5829-4f92-87f1-0deaece07bc0",
   "metadata": {},
   "outputs": [],
   "source": [
    "# Creating a new dataframe beacuse chi2 works only with categorical data\n",
    "numerical_df=clean_reduced_df[[\"Annual_salary\",\"Average_age\",\"Average_Years_of_experience\",\"Annual_salary_in_EUR\"]].copy()"
   ]
  },
  {
   "cell_type": "code",
   "execution_count": 788,
   "id": "98b323d6-8238-45f3-9f42-38f83e49b02b",
   "metadata": {},
   "outputs": [
    {
     "name": "stdout",
     "output_type": "stream",
     "text": [
      "<class 'pandas.core.frame.DataFrame'>\n",
      "Index: 28085 entries, 0 to 28084\n",
      "Data columns (total 4 columns):\n",
      " #   Column                       Non-Null Count  Dtype  \n",
      "---  ------                       --------------  -----  \n",
      " 0   Annual_salary                28085 non-null  float64\n",
      " 1   Average_age                  28085 non-null  float64\n",
      " 2   Average_Years_of_experience  28085 non-null  float64\n",
      " 3   Annual_salary_in_EUR         28085 non-null  float64\n",
      "dtypes: float64(4)\n",
      "memory usage: 1.1 MB\n"
     ]
    }
   ],
   "source": [
    "numerical_df.info()"
   ]
  },
  {
   "cell_type": "code",
   "execution_count": 789,
   "id": "b0baf837-a0f0-4db4-a7e6-f5160eb15356",
   "metadata": {},
   "outputs": [
    {
     "data": {
      "text/html": [
       "<div>\n",
       "<style scoped>\n",
       "    .dataframe tbody tr th:only-of-type {\n",
       "        vertical-align: middle;\n",
       "    }\n",
       "\n",
       "    .dataframe tbody tr th {\n",
       "        vertical-align: top;\n",
       "    }\n",
       "\n",
       "    .dataframe thead th {\n",
       "        text-align: right;\n",
       "    }\n",
       "</style>\n",
       "<table border=\"1\" class=\"dataframe\">\n",
       "  <thead>\n",
       "    <tr style=\"text-align: right;\">\n",
       "      <th></th>\n",
       "      <th>Annual_salary</th>\n",
       "      <th>Average_age</th>\n",
       "      <th>Average_Years_of_experience</th>\n",
       "      <th>Annual_salary_in_EUR</th>\n",
       "    </tr>\n",
       "  </thead>\n",
       "  <tbody>\n",
       "    <tr>\n",
       "      <th>0</th>\n",
       "      <td>55000.0</td>\n",
       "      <td>29.0</td>\n",
       "      <td>6.0</td>\n",
       "      <td>60032.500</td>\n",
       "    </tr>\n",
       "    <tr>\n",
       "      <th>1</th>\n",
       "      <td>54600.0</td>\n",
       "      <td>29.0</td>\n",
       "      <td>9.0</td>\n",
       "      <td>45513.468</td>\n",
       "    </tr>\n",
       "    <tr>\n",
       "      <th>2</th>\n",
       "      <td>34000.0</td>\n",
       "      <td>29.0</td>\n",
       "      <td>3.0</td>\n",
       "      <td>37111.000</td>\n",
       "    </tr>\n",
       "    <tr>\n",
       "      <th>3</th>\n",
       "      <td>62000.0</td>\n",
       "      <td>29.0</td>\n",
       "      <td>9.0</td>\n",
       "      <td>67673.000</td>\n",
       "    </tr>\n",
       "    <tr>\n",
       "      <th>4</th>\n",
       "      <td>60000.0</td>\n",
       "      <td>29.0</td>\n",
       "      <td>9.0</td>\n",
       "      <td>65490.000</td>\n",
       "    </tr>\n",
       "  </tbody>\n",
       "</table>\n",
       "</div>"
      ],
      "text/plain": [
       "   Annual_salary  Average_age  Average_Years_of_experience  \\\n",
       "0        55000.0         29.0                          6.0   \n",
       "1        54600.0         29.0                          9.0   \n",
       "2        34000.0         29.0                          3.0   \n",
       "3        62000.0         29.0                          9.0   \n",
       "4        60000.0         29.0                          9.0   \n",
       "\n",
       "   Annual_salary_in_EUR  \n",
       "0             60032.500  \n",
       "1             45513.468  \n",
       "2             37111.000  \n",
       "3             67673.000  \n",
       "4             65490.000  "
      ]
     },
     "execution_count": 789,
     "metadata": {},
     "output_type": "execute_result"
    }
   ],
   "source": [
    "numerical_df.head()"
   ]
  },
  {
   "cell_type": "code",
   "execution_count": 790,
   "id": "becba34b-317b-4af7-a028-ebdd1dd5f3f8",
   "metadata": {},
   "outputs": [],
   "source": [
    "# Reference: Stack Overflow: https://stackoverflow.com/questions/64671316/convert-numerical-data-to-categorical-in-python\n",
    "numerical_df['Salary_Binned'] = pd.cut(numerical_df['Annual_salary'],\n",
    "                                        bins=[0, 35000, 55000, 65000, 2000000], \n",
    "                                        labels=[\"Low\", \"Medium\", \"High\", \"Very High\"],\n",
    "                                        right=True)"
   ]
  },
  {
   "cell_type": "code",
   "execution_count": 791,
   "id": "05708757-915b-41e2-861a-2a161771398c",
   "metadata": {},
   "outputs": [],
   "source": [
    "# Binning the 'Average_Years_of_experience' into categories\n",
    "numerical_df['Experience_Binned'] = pd.cut(numerical_df['Average_Years_of_experience'],\n",
    "                                           bins=[0, 3, 6, 41], \n",
    "                                           labels=[\"Low\", \"Medium\", \"High\"],\n",
    "                                           right=True)"
   ]
  },
  {
   "cell_type": "code",
   "execution_count": 792,
   "id": "9084d9fb-bcfe-4789-be56-8dae42dee5ec",
   "metadata": {
    "scrolled": true
   },
   "outputs": [
    {
     "name": "stdout",
     "output_type": "stream",
     "text": [
      "       Annual_salary  Average_age  Average_Years_of_experience  \\\n",
      "0            55000.0         29.0                          6.0   \n",
      "1            54600.0         29.0                          9.0   \n",
      "2            34000.0         29.0                          3.0   \n",
      "3            62000.0         29.0                          9.0   \n",
      "4            60000.0         29.0                          9.0   \n",
      "...              ...          ...                          ...   \n",
      "28080       117000.0         49.0                         15.0   \n",
      "28081        70000.0         49.0                         25.0   \n",
      "28082        28600.0         59.0                         25.0   \n",
      "28083        56160.0         21.0                          1.0   \n",
      "28084      2000000.0          0.0                         41.0   \n",
      "\n",
      "       Annual_salary_in_EUR Salary_Binned Experience_Binned  \n",
      "0                 60032.500        Medium            Medium  \n",
      "1                 45513.468        Medium              High  \n",
      "2                 37111.000           Low               Low  \n",
      "3                 67673.000          High              High  \n",
      "4                 65490.000          High              High  \n",
      "...                     ...           ...               ...  \n",
      "28080            127705.500     Very High              High  \n",
      "28081             76405.000     Very High              High  \n",
      "28082             28600.000           Low              High  \n",
      "28083             61298.640          High               Low  \n",
      "28084           2183000.000     Very High              High  \n",
      "\n",
      "[28085 rows x 6 columns]\n"
     ]
    }
   ],
   "source": [
    "print(numerical_df)"
   ]
  },
  {
   "cell_type": "code",
   "execution_count": 793,
   "id": "5e9d0d8e-0c97-40d1-b1a7-d86f986fb544",
   "metadata": {},
   "outputs": [
    {
     "name": "stdout",
     "output_type": "stream",
     "text": [
      "Annual_salary                   0\n",
      "Average_age                     0\n",
      "Average_Years_of_experience     0\n",
      "Annual_salary_in_EUR            0\n",
      "Salary_Binned                  60\n",
      "Experience_Binned               0\n",
      "dtype: int64\n"
     ]
    }
   ],
   "source": [
    "print(numerical_df.isna().sum())"
   ]
  },
  {
   "cell_type": "code",
   "execution_count": 794,
   "id": "4f494197-8756-45cf-8445-34807c0d83c6",
   "metadata": {},
   "outputs": [],
   "source": [
    "# Selecting all of the observations and features\n",
    "X = numerical_df.iloc[ : ,0:3]\n",
    "y = numerical_df.iloc[ : ,-1]"
   ]
  },
  {
   "cell_type": "code",
   "execution_count": 795,
   "id": "c1ad102b-b88c-4f09-ab24-421b7faf3b16",
   "metadata": {},
   "outputs": [],
   "source": [
    "# Using chi2 statistical test for non-negative features to select top 3 best features\n",
    "bestfeatures = SelectKBest(score_func=chi2, k=3)\n",
    "fit = bestfeatures.fit(X,y)\n",
    "numerical_dfscores=pd.DataFrame(fit.scores_)\n",
    "numerical_dfcolumns=pd.DataFrame(X.columns)"
   ]
  },
  {
   "cell_type": "code",
   "execution_count": 796,
   "id": "f18ae4cb-f16d-4e40-844b-0299b0215042",
   "metadata": {},
   "outputs": [
    {
     "name": "stdout",
     "output_type": "stream",
     "text": [
      "                         Specs         Score\n",
      "0                Annual_salary  2.205346e+10\n",
      "2  Average_Years_of_experience  6.459227e+04\n",
      "1                  Average_age  1.621351e+04\n"
     ]
    }
   ],
   "source": [
    "featureScores=pd.concat([numerical_dfcolumns,numerical_dfscores],axis=1)\n",
    "featureScores.columns=[\"Specs\",\"Score\"] # Naming the dataframe columns\n",
    "print(featureScores.nlargest(3,\"Score\")) # print 3 best features"
   ]
  },
  {
   "cell_type": "code",
   "execution_count": 797,
   "id": "0533301b-5e48-4d43-8b67-dcfeccbfc544",
   "metadata": {},
   "outputs": [],
   "source": [
    "from sklearn.ensemble import ExtraTreesClassifier\n",
    "import matplotlib.pyplot as plt"
   ]
  },
  {
   "cell_type": "code",
   "execution_count": 798,
   "id": "aa53c038-53c2-40fc-84fe-a4c9bdeffbc8",
   "metadata": {},
   "outputs": [
    {
     "name": "stdout",
     "output_type": "stream",
     "text": [
      "[0.00143239 0.11630963 0.88225798]\n"
     ]
    }
   ],
   "source": [
    "model=ExtraTreesClassifier()\n",
    "model.fit(X,y)\n",
    "print(model.feature_importances_)"
   ]
  },
  {
   "cell_type": "code",
   "execution_count": 799,
   "id": "fa45f401-f481-4502-aff8-a021f0ace745",
   "metadata": {},
   "outputs": [
    {
     "data": {
      "image/png": "[encoded data removed]",
      "text/plain": [
       "<Figure size 640x480 with 1 Axes>"
      ]
     },
     "metadata": {},
     "output_type": "display_data"
    }
   ],
   "source": [
    "feat_importances=pd.Series(model.feature_importances_,index=X.columns)\n",
    "color = ['purple']\n",
    "feat_importances.nlargest(10).plot(kind='barh', color=color)\n",
    "plt.show()"
   ]
  },
  {
   "cell_type": "markdown",
   "id": "89476056-3fee-4939-8edc-a2006111783d",
   "metadata": {},
   "source": [
    "DATA VISUALIZATION"
   ]
  },
  {
   "cell_type": "code",
   "execution_count": 801,
   "id": "b17bc176-9459-44f5-96e2-350aaf047dab",
   "metadata": {},
   "outputs": [],
   "source": [
    "# Preparation of data visualization for the Poster"
   ]
  },
  {
   "cell_type": "code",
   "execution_count": 802,
   "id": "0ead3076-f4b8-4ec0-8eb9-9ab11caf7b18",
   "metadata": {},
   "outputs": [
    {
     "data": {
      "image/png": "[encoded data removed]",
      "text/plain": [
       "<Figure size 600x400 with 1 Axes>"
      ]
     },
     "metadata": {},
     "output_type": "display_data"
    }
   ],
   "source": [
    "# Creating a pie chart with gender counts using matplotlib\n",
    "# Reference: Geeks for geeks: https://www.geeksforgeeks.org/plot-a-pie-chart-in-python-using-matplotlib/ 04 October 2024\n",
    "# Reference: Python Tutorials: https://pythonspot.com/matplotlib-pie-chart/ 2023 Pythonspot\n",
    "gender_counts = clean_reduced_df['Gender_category'].value_counts()\n",
    "\n",
    "# Define colors for each gender category\n",
    "colors = ['pink', 'purple', 'lightcoral', 'maroon']\n",
    "\n",
    "# Plotting the pie chart\n",
    "plt.figure(figsize=(6, 4))\n",
    "plt.pie(gender_counts, labels=gender_counts.index,colors=colors, shadow=True, autopct='%1.1f%%', startangle=140)\n",
    "plt.title('Gender Distribution in Survey')\n",
    "plt.show()"
   ]
  },
  {
   "cell_type": "code",
   "execution_count": 803,
   "id": "3737dbaa-c77d-460a-872b-81e96c593bd0",
   "metadata": {},
   "outputs": [],
   "source": [
    "# Visualizing Top 5 highest salaries and occupations and comparing it with years of experience\n",
    "# Reference: Geeks for geeks: https://www.geeksforgeeks.org/get-n-largest-values-from-a-particular-column-in-pandas-dataframe/ 18 Dec 2018\n",
    "top_5_salaries = clean_reduced_df.nlargest(5, 'Annual_salary_in_EUR')"
   ]
  },
  {
   "cell_type": "code",
   "execution_count": 804,
   "id": "d101b904-27e7-4e56-9b46-61fda29f3cf8",
   "metadata": {
    "scrolled": true
   },
   "outputs": [
    {
     "name": "stdout",
     "output_type": "stream",
     "text": [
      "                            Industry                   Job_title  \\\n",
      "28055  Accounting, Banking & Finance  Investment Banking Analyst   \n",
      "24443                  Entertainment                 Voice Actor   \n",
      "10654                         Retail          Compliance Manager   \n",
      "18027              Computing or Tech          Backend system dev   \n",
      "25001              Computing or Tech            Managing Partner   \n",
      "\n",
      "       Annual_salary Currency Country_of_work  \\\n",
      "28055   6.000070e+09      CAD          Canada   \n",
      "24443   2.080000e+07      JPY           Japan   \n",
      "10654   1.150000e+07      JPY           Japan   \n",
      "18027   8.800000e+06      JPY           Japan   \n",
      "25001   8.640000e+06      JPY           Japan   \n",
      "\n",
      "      Years_of_experience_in_your_field                  Level_of_education  \\\n",
      "28055                    1 year or less                      College degree   \n",
      "24443                      8 - 10 years                      College degree   \n",
      "10654                      8 - 10 years  Professional degree (MD, JD, etc.)   \n",
      "18027                         5-7 years                                 PhD   \n",
      "25001                     21 - 30 years                      College degree   \n",
      "\n",
      "       Average_age Gender_category  Average_Years_of_experience  \\\n",
      "28055         21.0          Female                          3.0   \n",
      "24443         29.0            Male                         15.0   \n",
      "10654         29.0          Female                          9.0   \n",
      "18027         29.0            Male                          6.0   \n",
      "25001         49.0            Male                         25.0   \n",
      "\n",
      "       Annual_salary_in_EUR  \n",
      "28055          8.993505e+09  \n",
      "24443          3.420560e+09  \n",
      "10654          1.891175e+09  \n",
      "18027          1.447160e+09  \n",
      "25001          1.420848e+09  \n"
     ]
    }
   ],
   "source": [
    "print(top_5_salaries)"
   ]
  },
  {
   "cell_type": "code",
   "execution_count": 805,
   "id": "d6334bc7-7f2e-43dd-ae40-1f8a086bb682",
   "metadata": {},
   "outputs": [
    {
     "data": {
      "image/png": "[encoded data removed]",
      "text/plain": [
       "<Figure size 1000x600 with 2 Axes>"
      ]
     },
     "metadata": {},
     "output_type": "display_data"
    }
   ],
   "source": [
    "# Data Visualization of Top 5 annual highest earning salaries, based on occupation and compared with years of experience using matplotlib\n",
    "# Reference; Geeks for geeks; https://www.geeksforgeeks.org/bar-plot-in-matplotlib/ 12 August 2024\n",
    "# https://www.geeksforgeeks.org/matplotlib-pyplot-legend-in-python/ 01 August 2024\n",
    "# Stack overflow: https://stackoverflow.com/questions/19125722/adding-a-matplotlib-legend#comment83694442_19125863 20 January 2018\n",
    "\n",
    "# Categorising top 5 highest earning occupations, average experience years and annual salary in euros\n",
    "categories = ['Investment Banking Analyst', 'Voice Actor', 'Compliance Manager', 'Backend system dev', 'Managing Partner']\n",
    "average_experience_years = [3.0, 15.0, 9.0, 6.0, 25.0]  # in years\n",
    "annual_salary = [8.993505e+09, 3.420560e+09, 1.891175e+09, 1.447160e+09, 1.447160e+09]  # in euros\n",
    "\n",
    "# Creating a figure and axis\n",
    "fig, ax1 = plt.subplots(figsize=(10, 6))\n",
    "\n",
    "# Creating bar plots for average experience years\n",
    "bar_width = 0.4\n",
    "x = np.arange(len(categories))\n",
    "ax1.bar(x - bar_width/2, average_experience_years, width=bar_width, label='Average Experience (Years)', color='purple')\n",
    "\n",
    "# Creating a secondary axis for annual salary in EUR\n",
    "ax2 = ax1.twinx()\n",
    "ax2.bar(x + bar_width/2, annual_salary, width=bar_width, label='Annual Salary (€)', color='pink')\n",
    "\n",
    "# Adding titles and labels\n",
    "ax1.set_xlabel('Job Categories')\n",
    "ax1.set_ylabel('Average Experience (Years)', color='black')\n",
    "ax2.set_ylabel('Annual Salary (EUR)', color='black')\n",
    "ax1.set_title('Average Experience and Annual Salary by Job Category')\n",
    "ax1.set_xticks(x)\n",
    "ax1.set_xticklabels(categories)\n",
    "\n",
    "# Add legends\n",
    "ax1.legend(loc='upper left')\n",
    "ax2.legend(loc='upper right')\n",
    "\n",
    "plt.tight_layout()\n",
    "plt.show()"
   ]
  },
  {
   "cell_type": "code",
   "execution_count": null,
   "id": "e77c374d-3e20-49b4-8791-2d362315fe14",
   "metadata": {},
   "outputs": [],
   "source": []
  }
 ],
 "metadata": {
  "kernelspec": {
   "display_name": "Python 3 (ipykernel)",
   "language": "python",
   "name": "python3"
  },
  "language_info": {
   "codemirror_mode": {
    "name": "ipython",
    "version": 3
   },
   "file_extension": ".py",
   "mimetype": "text/x-python",
   "name": "python",
   "nbconvert_exporter": "python",
   "pygments_lexer": "ipython3",
   "version": "3.12.4"
  }
 },
 "nbformat": 4,
 "nbformat_minor": 5
}
