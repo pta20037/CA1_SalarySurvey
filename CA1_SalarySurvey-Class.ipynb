{
 "cells": [
  {
   "cell_type": "code",
   "execution_count": 860,
   "id": "1fd3c5f6-fa75-412b-9634-43cb6a99b929",
   "metadata": {},
   "outputs": [],
   "source": [
    "import pandas as pd\n",
    "import numpy as np\n",
    "import seaborn as sns\n",
    "import matplotlib.pyplot as plt"
   ]
  },
  {
   "cell_type": "code",
   "execution_count": 861,
   "id": "8023e21c-6f1d-45a9-9f85-38313045f386",
   "metadata": {},
   "outputs": [],
   "source": [
    "df=pd.read_csv('Salary_Survey.csv')"
   ]
  },
  {
   "cell_type": "markdown",
   "id": "6f9ca450-67eb-4b79-9bc1-d17c4d257509",
   "metadata": {},
   "source": [
    "EDA process"
   ]
  },
  {
   "cell_type": "code",
   "execution_count": 863,
   "id": "dfb3fc63-adaf-4b43-b049-ec37e8f3a413",
   "metadata": {
    "scrolled": true
   },
   "outputs": [
    {
     "data": {
      "text/html": [
       "<div>\n",
       "<style scoped>\n",
       "    .dataframe tbody tr th:only-of-type {\n",
       "        vertical-align: middle;\n",
       "    }\n",
       "\n",
       "    .dataframe tbody tr th {\n",
       "        vertical-align: top;\n",
       "    }\n",
       "\n",
       "    .dataframe thead th {\n",
       "        text-align: right;\n",
       "    }\n",
       "</style>\n",
       "<table border=\"1\" class=\"dataframe\">\n",
       "  <thead>\n",
       "    <tr style=\"text-align: right;\">\n",
       "      <th></th>\n",
       "      <th>Timestamp</th>\n",
       "      <th>How old are you?</th>\n",
       "      <th>What industry do you work in?</th>\n",
       "      <th>Job title</th>\n",
       "      <th>If your job title needs additional context, please clarify here:</th>\n",
       "      <th>What is your annual salary? (You'll indicate the currency in a later question. If you are part-time or hourly, please enter an annualized equivalent -- what you would earn if you worked the job 40 hours a week, 52 weeks a year.)</th>\n",
       "      <th>How much additional monetary compensation do you get, if any (for example, bonuses or overtime in an average year)? Please only include monetary compensation here, not the value of benefits.</th>\n",
       "      <th>Please indicate the currency</th>\n",
       "      <th>If \"Other,\" please indicate the currency here:</th>\n",
       "      <th>If your income needs additional context, please provide it here:</th>\n",
       "      <th>...</th>\n",
       "      <th>How many years of professional work experience do you have overall?</th>\n",
       "      <th>How many years of professional work experience do you have in your field?</th>\n",
       "      <th>What is your highest level of education completed?</th>\n",
       "      <th>What is your gender?</th>\n",
       "      <th>Unnamed: 17</th>\n",
       "      <th>Unnamed: 18</th>\n",
       "      <th>Unnamed: 19</th>\n",
       "      <th>Unnamed: 20</th>\n",
       "      <th>Unnamed: 21</th>\n",
       "      <th>Unnamed: 22</th>\n",
       "    </tr>\n",
       "  </thead>\n",
       "  <tbody>\n",
       "    <tr>\n",
       "      <th>0</th>\n",
       "      <td>4/27/2021 11:02:10</td>\n",
       "      <td>25-34</td>\n",
       "      <td>Education (Higher Education)</td>\n",
       "      <td>Research and Instruction Librarian</td>\n",
       "      <td>NaN</td>\n",
       "      <td>55,000</td>\n",
       "      <td>0.0</td>\n",
       "      <td>USD</td>\n",
       "      <td>NaN</td>\n",
       "      <td>NaN</td>\n",
       "      <td>...</td>\n",
       "      <td>5-7 years</td>\n",
       "      <td>5-7 years</td>\n",
       "      <td>Master's degree</td>\n",
       "      <td>Woman</td>\n",
       "      <td>NaN</td>\n",
       "      <td>NaN</td>\n",
       "      <td>NaN</td>\n",
       "      <td>NaN</td>\n",
       "      <td>NaN</td>\n",
       "      <td>NaN</td>\n",
       "    </tr>\n",
       "    <tr>\n",
       "      <th>1</th>\n",
       "      <td>4/27/2021 11:02:22</td>\n",
       "      <td>25-34</td>\n",
       "      <td>Computing or Tech</td>\n",
       "      <td>Change &amp; Internal Communications Manager</td>\n",
       "      <td>NaN</td>\n",
       "      <td>54,600</td>\n",
       "      <td>4000.0</td>\n",
       "      <td>GBP</td>\n",
       "      <td>NaN</td>\n",
       "      <td>NaN</td>\n",
       "      <td>...</td>\n",
       "      <td>8 - 10 years</td>\n",
       "      <td>5-7 years</td>\n",
       "      <td>College degree</td>\n",
       "      <td>Non-binary</td>\n",
       "      <td>NaN</td>\n",
       "      <td>NaN</td>\n",
       "      <td>NaN</td>\n",
       "      <td>NaN</td>\n",
       "      <td>NaN</td>\n",
       "      <td>NaN</td>\n",
       "    </tr>\n",
       "    <tr>\n",
       "      <th>2</th>\n",
       "      <td>4/27/2021 11:02:38</td>\n",
       "      <td>25-34</td>\n",
       "      <td>Accounting, Banking &amp; Finance</td>\n",
       "      <td>Marketing Specialist</td>\n",
       "      <td>NaN</td>\n",
       "      <td>34,000</td>\n",
       "      <td>NaN</td>\n",
       "      <td>USD</td>\n",
       "      <td>NaN</td>\n",
       "      <td>NaN</td>\n",
       "      <td>...</td>\n",
       "      <td>2 - 4 years</td>\n",
       "      <td>2 - 4 years</td>\n",
       "      <td>College degree</td>\n",
       "      <td>Woman</td>\n",
       "      <td>NaN</td>\n",
       "      <td>NaN</td>\n",
       "      <td>NaN</td>\n",
       "      <td>NaN</td>\n",
       "      <td>NaN</td>\n",
       "      <td>NaN</td>\n",
       "    </tr>\n",
       "    <tr>\n",
       "      <th>3</th>\n",
       "      <td>4/27/2021 11:02:41</td>\n",
       "      <td>25-34</td>\n",
       "      <td>Nonprofits</td>\n",
       "      <td>Program Manager</td>\n",
       "      <td>NaN</td>\n",
       "      <td>62,000</td>\n",
       "      <td>3000.0</td>\n",
       "      <td>USD</td>\n",
       "      <td>NaN</td>\n",
       "      <td>NaN</td>\n",
       "      <td>...</td>\n",
       "      <td>8 - 10 years</td>\n",
       "      <td>5-7 years</td>\n",
       "      <td>College degree</td>\n",
       "      <td>Woman</td>\n",
       "      <td>NaN</td>\n",
       "      <td>NaN</td>\n",
       "      <td>NaN</td>\n",
       "      <td>NaN</td>\n",
       "      <td>NaN</td>\n",
       "      <td>NaN</td>\n",
       "    </tr>\n",
       "    <tr>\n",
       "      <th>4</th>\n",
       "      <td>4/27/2021 11:02:42</td>\n",
       "      <td>25-34</td>\n",
       "      <td>Accounting, Banking &amp; Finance</td>\n",
       "      <td>Accounting Manager</td>\n",
       "      <td>NaN</td>\n",
       "      <td>60,000</td>\n",
       "      <td>7000.0</td>\n",
       "      <td>USD</td>\n",
       "      <td>NaN</td>\n",
       "      <td>NaN</td>\n",
       "      <td>...</td>\n",
       "      <td>8 - 10 years</td>\n",
       "      <td>5-7 years</td>\n",
       "      <td>College degree</td>\n",
       "      <td>Woman</td>\n",
       "      <td>NaN</td>\n",
       "      <td>NaN</td>\n",
       "      <td>NaN</td>\n",
       "      <td>NaN</td>\n",
       "      <td>NaN</td>\n",
       "      <td>NaN</td>\n",
       "    </tr>\n",
       "  </tbody>\n",
       "</table>\n",
       "<p>5 rows × 23 columns</p>\n",
       "</div>"
      ],
      "text/plain": [
       "            Timestamp How old are you?  What industry do you work in?  \\\n",
       "0  4/27/2021 11:02:10            25-34   Education (Higher Education)   \n",
       "1  4/27/2021 11:02:22            25-34              Computing or Tech   \n",
       "2  4/27/2021 11:02:38            25-34  Accounting, Banking & Finance   \n",
       "3  4/27/2021 11:02:41            25-34                     Nonprofits   \n",
       "4  4/27/2021 11:02:42            25-34  Accounting, Banking & Finance   \n",
       "\n",
       "                                  Job title  \\\n",
       "0        Research and Instruction Librarian   \n",
       "1  Change & Internal Communications Manager   \n",
       "2                      Marketing Specialist   \n",
       "3                           Program Manager   \n",
       "4                        Accounting Manager   \n",
       "\n",
       "  If your job title needs additional context, please clarify here:  \\\n",
       "0                                                NaN                 \n",
       "1                                                NaN                 \n",
       "2                                                NaN                 \n",
       "3                                                NaN                 \n",
       "4                                                NaN                 \n",
       "\n",
       "  What is your annual salary? (You'll indicate the currency in a later question. If you are part-time or hourly, please enter an annualized equivalent -- what you would earn if you worked the job 40 hours a week, 52 weeks a year.)  \\\n",
       "0                                             55,000                                                                                                                                                                                     \n",
       "1                                             54,600                                                                                                                                                                                     \n",
       "2                                             34,000                                                                                                                                                                                     \n",
       "3                                             62,000                                                                                                                                                                                     \n",
       "4                                             60,000                                                                                                                                                                                     \n",
       "\n",
       "   How much additional monetary compensation do you get, if any (for example, bonuses or overtime in an average year)? Please only include monetary compensation here, not the value of benefits.  \\\n",
       "0                                                0.0                                                                                                                                                \n",
       "1                                             4000.0                                                                                                                                                \n",
       "2                                                NaN                                                                                                                                                \n",
       "3                                             3000.0                                                                                                                                                \n",
       "4                                             7000.0                                                                                                                                                \n",
       "\n",
       "  Please indicate the currency  \\\n",
       "0                          USD   \n",
       "1                          GBP   \n",
       "2                          USD   \n",
       "3                          USD   \n",
       "4                          USD   \n",
       "\n",
       "  If \"Other,\" please indicate the currency here:   \\\n",
       "0                                             NaN   \n",
       "1                                             NaN   \n",
       "2                                             NaN   \n",
       "3                                             NaN   \n",
       "4                                             NaN   \n",
       "\n",
       "  If your income needs additional context, please provide it here:  ...  \\\n",
       "0                                                NaN                ...   \n",
       "1                                                NaN                ...   \n",
       "2                                                NaN                ...   \n",
       "3                                                NaN                ...   \n",
       "4                                                NaN                ...   \n",
       "\n",
       "  How many years of professional work experience do you have overall?  \\\n",
       "0                                          5-7 years                    \n",
       "1                                       8 - 10 years                    \n",
       "2                                        2 - 4 years                    \n",
       "3                                       8 - 10 years                    \n",
       "4                                       8 - 10 years                    \n",
       "\n",
       "  How many years of professional work experience do you have in your field?  \\\n",
       "0                                          5-7 years                          \n",
       "1                                          5-7 years                          \n",
       "2                                        2 - 4 years                          \n",
       "3                                          5-7 years                          \n",
       "4                                          5-7 years                          \n",
       "\n",
       "  What is your highest level of education completed? What is your gender?  \\\n",
       "0                                    Master's degree                Woman   \n",
       "1                                     College degree           Non-binary   \n",
       "2                                     College degree                Woman   \n",
       "3                                     College degree                Woman   \n",
       "4                                     College degree                Woman   \n",
       "\n",
       "  Unnamed: 17 Unnamed: 18 Unnamed: 19  Unnamed: 20  Unnamed: 21  Unnamed: 22  \n",
       "0         NaN         NaN         NaN          NaN          NaN          NaN  \n",
       "1         NaN         NaN         NaN          NaN          NaN          NaN  \n",
       "2         NaN         NaN         NaN          NaN          NaN          NaN  \n",
       "3         NaN         NaN         NaN          NaN          NaN          NaN  \n",
       "4         NaN         NaN         NaN          NaN          NaN          NaN  \n",
       "\n",
       "[5 rows x 23 columns]"
      ]
     },
     "execution_count": 863,
     "metadata": {},
     "output_type": "execute_result"
    }
   ],
   "source": [
    "df.head()"
   ]
  },
  {
   "cell_type": "code",
   "execution_count": 864,
   "id": "05f543d9-7e01-493a-9fde-1fa80b90c732",
   "metadata": {},
   "outputs": [],
   "source": [
    "# I am going to drop variables with no values\n",
    "df=df.drop(columns=['Timestamp', 'Unnamed: 17', 'Unnamed: 18', 'Unnamed: 19', 'Unnamed: 20', 'Unnamed: 21', 'Unnamed: 22'])"
   ]
  },
  {
   "cell_type": "code",
   "execution_count": 865,
   "id": "1417e860-7a44-48d0-962e-fb735f39acf8",
   "metadata": {},
   "outputs": [],
   "source": [
    "# Simplifying observation names\n",
    "df.columns = ['Age','Industry','Job_title','Additional_job_details','Annual_salary','Monetary_compensation','Currency','Other_Currency','Additional_income_details','Country_of_work','U.S._state_of_work','City_of_work','Years_of_experience','Years_of_experience_in_your_field','Level_of_education','Gender']"
   ]
  },
  {
   "cell_type": "code",
   "execution_count": 866,
   "id": "da64bd57-d38b-4340-9ac3-cf243cdb2ac1",
   "metadata": {},
   "outputs": [
    {
     "data": {
      "text/html": [
       "<div>\n",
       "<style scoped>\n",
       "    .dataframe tbody tr th:only-of-type {\n",
       "        vertical-align: middle;\n",
       "    }\n",
       "\n",
       "    .dataframe tbody tr th {\n",
       "        vertical-align: top;\n",
       "    }\n",
       "\n",
       "    .dataframe thead th {\n",
       "        text-align: right;\n",
       "    }\n",
       "</style>\n",
       "<table border=\"1\" class=\"dataframe\">\n",
       "  <thead>\n",
       "    <tr style=\"text-align: right;\">\n",
       "      <th></th>\n",
       "      <th>Age</th>\n",
       "      <th>Industry</th>\n",
       "      <th>Job_title</th>\n",
       "      <th>Additional_job_details</th>\n",
       "      <th>Annual_salary</th>\n",
       "      <th>Monetary_compensation</th>\n",
       "      <th>Currency</th>\n",
       "      <th>Other_Currency</th>\n",
       "      <th>Additional_income_details</th>\n",
       "      <th>Country_of_work</th>\n",
       "      <th>U.S._state_of_work</th>\n",
       "      <th>City_of_work</th>\n",
       "      <th>Years_of_experience</th>\n",
       "      <th>Years_of_experience_in_your_field</th>\n",
       "      <th>Level_of_education</th>\n",
       "      <th>Gender</th>\n",
       "    </tr>\n",
       "  </thead>\n",
       "  <tbody>\n",
       "    <tr>\n",
       "      <th>0</th>\n",
       "      <td>25-34</td>\n",
       "      <td>Education (Higher Education)</td>\n",
       "      <td>Research and Instruction Librarian</td>\n",
       "      <td>NaN</td>\n",
       "      <td>55,000</td>\n",
       "      <td>0.0</td>\n",
       "      <td>USD</td>\n",
       "      <td>NaN</td>\n",
       "      <td>NaN</td>\n",
       "      <td>United States</td>\n",
       "      <td>Massachusetts</td>\n",
       "      <td>Boston</td>\n",
       "      <td>5-7 years</td>\n",
       "      <td>5-7 years</td>\n",
       "      <td>Master's degree</td>\n",
       "      <td>Woman</td>\n",
       "    </tr>\n",
       "    <tr>\n",
       "      <th>1</th>\n",
       "      <td>25-34</td>\n",
       "      <td>Computing or Tech</td>\n",
       "      <td>Change &amp; Internal Communications Manager</td>\n",
       "      <td>NaN</td>\n",
       "      <td>54,600</td>\n",
       "      <td>4000.0</td>\n",
       "      <td>GBP</td>\n",
       "      <td>NaN</td>\n",
       "      <td>NaN</td>\n",
       "      <td>United Kingdom</td>\n",
       "      <td>NaN</td>\n",
       "      <td>Cambridge</td>\n",
       "      <td>8 - 10 years</td>\n",
       "      <td>5-7 years</td>\n",
       "      <td>College degree</td>\n",
       "      <td>Non-binary</td>\n",
       "    </tr>\n",
       "    <tr>\n",
       "      <th>2</th>\n",
       "      <td>25-34</td>\n",
       "      <td>Accounting, Banking &amp; Finance</td>\n",
       "      <td>Marketing Specialist</td>\n",
       "      <td>NaN</td>\n",
       "      <td>34,000</td>\n",
       "      <td>NaN</td>\n",
       "      <td>USD</td>\n",
       "      <td>NaN</td>\n",
       "      <td>NaN</td>\n",
       "      <td>US</td>\n",
       "      <td>Tennessee</td>\n",
       "      <td>Chattanooga</td>\n",
       "      <td>2 - 4 years</td>\n",
       "      <td>2 - 4 years</td>\n",
       "      <td>College degree</td>\n",
       "      <td>Woman</td>\n",
       "    </tr>\n",
       "    <tr>\n",
       "      <th>3</th>\n",
       "      <td>25-34</td>\n",
       "      <td>Nonprofits</td>\n",
       "      <td>Program Manager</td>\n",
       "      <td>NaN</td>\n",
       "      <td>62,000</td>\n",
       "      <td>3000.0</td>\n",
       "      <td>USD</td>\n",
       "      <td>NaN</td>\n",
       "      <td>NaN</td>\n",
       "      <td>USA</td>\n",
       "      <td>Wisconsin</td>\n",
       "      <td>Milwaukee</td>\n",
       "      <td>8 - 10 years</td>\n",
       "      <td>5-7 years</td>\n",
       "      <td>College degree</td>\n",
       "      <td>Woman</td>\n",
       "    </tr>\n",
       "    <tr>\n",
       "      <th>4</th>\n",
       "      <td>25-34</td>\n",
       "      <td>Accounting, Banking &amp; Finance</td>\n",
       "      <td>Accounting Manager</td>\n",
       "      <td>NaN</td>\n",
       "      <td>60,000</td>\n",
       "      <td>7000.0</td>\n",
       "      <td>USD</td>\n",
       "      <td>NaN</td>\n",
       "      <td>NaN</td>\n",
       "      <td>US</td>\n",
       "      <td>South Carolina</td>\n",
       "      <td>Greenville</td>\n",
       "      <td>8 - 10 years</td>\n",
       "      <td>5-7 years</td>\n",
       "      <td>College degree</td>\n",
       "      <td>Woman</td>\n",
       "    </tr>\n",
       "  </tbody>\n",
       "</table>\n",
       "</div>"
      ],
      "text/plain": [
       "     Age                       Industry  \\\n",
       "0  25-34   Education (Higher Education)   \n",
       "1  25-34              Computing or Tech   \n",
       "2  25-34  Accounting, Banking & Finance   \n",
       "3  25-34                     Nonprofits   \n",
       "4  25-34  Accounting, Banking & Finance   \n",
       "\n",
       "                                  Job_title Additional_job_details  \\\n",
       "0        Research and Instruction Librarian                    NaN   \n",
       "1  Change & Internal Communications Manager                    NaN   \n",
       "2                      Marketing Specialist                    NaN   \n",
       "3                           Program Manager                    NaN   \n",
       "4                        Accounting Manager                    NaN   \n",
       "\n",
       "  Annual_salary  Monetary_compensation Currency Other_Currency  \\\n",
       "0        55,000                    0.0      USD            NaN   \n",
       "1        54,600                 4000.0      GBP            NaN   \n",
       "2        34,000                    NaN      USD            NaN   \n",
       "3        62,000                 3000.0      USD            NaN   \n",
       "4        60,000                 7000.0      USD            NaN   \n",
       "\n",
       "  Additional_income_details Country_of_work U.S._state_of_work City_of_work  \\\n",
       "0                       NaN   United States      Massachusetts       Boston   \n",
       "1                       NaN  United Kingdom                NaN    Cambridge   \n",
       "2                       NaN              US          Tennessee  Chattanooga   \n",
       "3                       NaN             USA          Wisconsin    Milwaukee   \n",
       "4                       NaN              US     South Carolina   Greenville   \n",
       "\n",
       "  Years_of_experience Years_of_experience_in_your_field Level_of_education  \\\n",
       "0           5-7 years                         5-7 years    Master's degree   \n",
       "1        8 - 10 years                         5-7 years     College degree   \n",
       "2         2 - 4 years                       2 - 4 years     College degree   \n",
       "3        8 - 10 years                         5-7 years     College degree   \n",
       "4        8 - 10 years                         5-7 years     College degree   \n",
       "\n",
       "       Gender  \n",
       "0       Woman  \n",
       "1  Non-binary  \n",
       "2       Woman  \n",
       "3       Woman  \n",
       "4       Woman  "
      ]
     },
     "execution_count": 866,
     "metadata": {},
     "output_type": "execute_result"
    }
   ],
   "source": [
    "df.head()"
   ]
  },
  {
   "cell_type": "code",
   "execution_count": 867,
   "id": "ef15156b-be7a-49bb-a563-e222073e3db8",
   "metadata": {
    "scrolled": true
   },
   "outputs": [
    {
     "name": "stdout",
     "output_type": "stream",
     "text": [
      "<class 'pandas.core.frame.DataFrame'>\n",
      "RangeIndex: 28178 entries, 0 to 28177\n",
      "Data columns (total 16 columns):\n",
      " #   Column                             Non-Null Count  Dtype  \n",
      "---  ------                             --------------  -----  \n",
      " 0   Age                                28085 non-null  object \n",
      " 1   Industry                           28011 non-null  object \n",
      " 2   Job_title                          28084 non-null  object \n",
      " 3   Additional_job_details             7267 non-null   object \n",
      " 4   Annual_salary                      28085 non-null  object \n",
      " 5   Monetary_compensation              20780 non-null  float64\n",
      " 6   Currency                           28085 non-null  object \n",
      " 7   Other_Currency                     207 non-null    object \n",
      " 8   Additional_income_details          3044 non-null   object \n",
      " 9   Country_of_work                    28085 non-null  object \n",
      " 10  U.S._state_of_work                 23059 non-null  object \n",
      " 11  City_of_work                       28003 non-null  object \n",
      " 12  Years_of_experience                28085 non-null  object \n",
      " 13  Years_of_experience_in_your_field  28085 non-null  object \n",
      " 14  Level_of_education                 27863 non-null  object \n",
      " 15  Gender                             27914 non-null  object \n",
      "dtypes: float64(1), object(15)\n",
      "memory usage: 3.4+ MB\n"
     ]
    }
   ],
   "source": [
    "df.info()"
   ]
  },
  {
   "cell_type": "code",
   "execution_count": 868,
   "id": "956ac27c-202b-4f74-9270-81d0039b0adc",
   "metadata": {},
   "outputs": [],
   "source": [
    "reduced_df = df.drop(columns=['Additional_job_details', 'Monetary_compensation', 'Other_Currency', 'Additional_income_details', 'U.S._state_of_work', 'City_of_work'])"
   ]
  },
  {
   "cell_type": "code",
   "execution_count": 869,
   "id": "5543aa76-d2ee-4de3-9054-1a38188ced25",
   "metadata": {},
   "outputs": [
    {
     "data": {
      "text/html": [
       "<div>\n",
       "<style scoped>\n",
       "    .dataframe tbody tr th:only-of-type {\n",
       "        vertical-align: middle;\n",
       "    }\n",
       "\n",
       "    .dataframe tbody tr th {\n",
       "        vertical-align: top;\n",
       "    }\n",
       "\n",
       "    .dataframe thead th {\n",
       "        text-align: right;\n",
       "    }\n",
       "</style>\n",
       "<table border=\"1\" class=\"dataframe\">\n",
       "  <thead>\n",
       "    <tr style=\"text-align: right;\">\n",
       "      <th></th>\n",
       "      <th>Age</th>\n",
       "      <th>Industry</th>\n",
       "      <th>Job_title</th>\n",
       "      <th>Annual_salary</th>\n",
       "      <th>Currency</th>\n",
       "      <th>Country_of_work</th>\n",
       "      <th>Years_of_experience</th>\n",
       "      <th>Years_of_experience_in_your_field</th>\n",
       "      <th>Level_of_education</th>\n",
       "      <th>Gender</th>\n",
       "    </tr>\n",
       "  </thead>\n",
       "  <tbody>\n",
       "    <tr>\n",
       "      <th>0</th>\n",
       "      <td>25-34</td>\n",
       "      <td>Education (Higher Education)</td>\n",
       "      <td>Research and Instruction Librarian</td>\n",
       "      <td>55,000</td>\n",
       "      <td>USD</td>\n",
       "      <td>United States</td>\n",
       "      <td>5-7 years</td>\n",
       "      <td>5-7 years</td>\n",
       "      <td>Master's degree</td>\n",
       "      <td>Woman</td>\n",
       "    </tr>\n",
       "    <tr>\n",
       "      <th>1</th>\n",
       "      <td>25-34</td>\n",
       "      <td>Computing or Tech</td>\n",
       "      <td>Change &amp; Internal Communications Manager</td>\n",
       "      <td>54,600</td>\n",
       "      <td>GBP</td>\n",
       "      <td>United Kingdom</td>\n",
       "      <td>8 - 10 years</td>\n",
       "      <td>5-7 years</td>\n",
       "      <td>College degree</td>\n",
       "      <td>Non-binary</td>\n",
       "    </tr>\n",
       "    <tr>\n",
       "      <th>2</th>\n",
       "      <td>25-34</td>\n",
       "      <td>Accounting, Banking &amp; Finance</td>\n",
       "      <td>Marketing Specialist</td>\n",
       "      <td>34,000</td>\n",
       "      <td>USD</td>\n",
       "      <td>US</td>\n",
       "      <td>2 - 4 years</td>\n",
       "      <td>2 - 4 years</td>\n",
       "      <td>College degree</td>\n",
       "      <td>Woman</td>\n",
       "    </tr>\n",
       "    <tr>\n",
       "      <th>3</th>\n",
       "      <td>25-34</td>\n",
       "      <td>Nonprofits</td>\n",
       "      <td>Program Manager</td>\n",
       "      <td>62,000</td>\n",
       "      <td>USD</td>\n",
       "      <td>USA</td>\n",
       "      <td>8 - 10 years</td>\n",
       "      <td>5-7 years</td>\n",
       "      <td>College degree</td>\n",
       "      <td>Woman</td>\n",
       "    </tr>\n",
       "    <tr>\n",
       "      <th>4</th>\n",
       "      <td>25-34</td>\n",
       "      <td>Accounting, Banking &amp; Finance</td>\n",
       "      <td>Accounting Manager</td>\n",
       "      <td>60,000</td>\n",
       "      <td>USD</td>\n",
       "      <td>US</td>\n",
       "      <td>8 - 10 years</td>\n",
       "      <td>5-7 years</td>\n",
       "      <td>College degree</td>\n",
       "      <td>Woman</td>\n",
       "    </tr>\n",
       "  </tbody>\n",
       "</table>\n",
       "</div>"
      ],
      "text/plain": [
       "     Age                       Industry  \\\n",
       "0  25-34   Education (Higher Education)   \n",
       "1  25-34              Computing or Tech   \n",
       "2  25-34  Accounting, Banking & Finance   \n",
       "3  25-34                     Nonprofits   \n",
       "4  25-34  Accounting, Banking & Finance   \n",
       "\n",
       "                                  Job_title Annual_salary Currency  \\\n",
       "0        Research and Instruction Librarian        55,000      USD   \n",
       "1  Change & Internal Communications Manager        54,600      GBP   \n",
       "2                      Marketing Specialist        34,000      USD   \n",
       "3                           Program Manager        62,000      USD   \n",
       "4                        Accounting Manager        60,000      USD   \n",
       "\n",
       "  Country_of_work Years_of_experience Years_of_experience_in_your_field  \\\n",
       "0   United States           5-7 years                         5-7 years   \n",
       "1  United Kingdom        8 - 10 years                         5-7 years   \n",
       "2              US         2 - 4 years                       2 - 4 years   \n",
       "3             USA        8 - 10 years                         5-7 years   \n",
       "4              US        8 - 10 years                         5-7 years   \n",
       "\n",
       "  Level_of_education      Gender  \n",
       "0    Master's degree       Woman  \n",
       "1     College degree  Non-binary  \n",
       "2     College degree       Woman  \n",
       "3     College degree       Woman  \n",
       "4     College degree       Woman  "
      ]
     },
     "execution_count": 869,
     "metadata": {},
     "output_type": "execute_result"
    }
   ],
   "source": [
    "reduced_df.head()"
   ]
  },
  {
   "cell_type": "code",
   "execution_count": 870,
   "id": "5045ca14-43d4-4849-b2ad-e9cc933e99f4",
   "metadata": {},
   "outputs": [
    {
     "name": "stdout",
     "output_type": "stream",
     "text": [
      "<class 'pandas.core.frame.DataFrame'>\n",
      "RangeIndex: 28178 entries, 0 to 28177\n",
      "Data columns (total 10 columns):\n",
      " #   Column                             Non-Null Count  Dtype \n",
      "---  ------                             --------------  ----- \n",
      " 0   Age                                28085 non-null  object\n",
      " 1   Industry                           28011 non-null  object\n",
      " 2   Job_title                          28084 non-null  object\n",
      " 3   Annual_salary                      28085 non-null  object\n",
      " 4   Currency                           28085 non-null  object\n",
      " 5   Country_of_work                    28085 non-null  object\n",
      " 6   Years_of_experience                28085 non-null  object\n",
      " 7   Years_of_experience_in_your_field  28085 non-null  object\n",
      " 8   Level_of_education                 27863 non-null  object\n",
      " 9   Gender                             27914 non-null  object\n",
      "dtypes: object(10)\n",
      "memory usage: 2.1+ MB\n"
     ]
    }
   ],
   "source": [
    "reduced_df.info()"
   ]
  },
  {
   "cell_type": "code",
   "execution_count": 871,
   "id": "915c3f95-5846-4eaa-967e-7a2643c75aca",
   "metadata": {
    "scrolled": true
   },
   "outputs": [
    {
     "data": {
      "text/plain": [
       "Age                                   93\n",
       "Industry                             167\n",
       "Job_title                             94\n",
       "Annual_salary                         93\n",
       "Currency                              93\n",
       "Country_of_work                       93\n",
       "Years_of_experience                   93\n",
       "Years_of_experience_in_your_field     93\n",
       "Level_of_education                   315\n",
       "Gender                               264\n",
       "dtype: int64"
      ]
     },
     "execution_count": 871,
     "metadata": {},
     "output_type": "execute_result"
    }
   ],
   "source": [
    "# Count of the missing values\n",
    "reduced_df.isnull().sum()"
   ]
  },
  {
   "cell_type": "code",
   "execution_count": 872,
   "id": "7eca3d0c-baa4-4664-bc37-6dfc36e61c16",
   "metadata": {
    "scrolled": true
   },
   "outputs": [
    {
     "data": {
      "text/plain": [
       "Age                                  object\n",
       "Industry                             object\n",
       "Job_title                            object\n",
       "Annual_salary                        object\n",
       "Currency                             object\n",
       "Country_of_work                      object\n",
       "Years_of_experience                  object\n",
       "Years_of_experience_in_your_field    object\n",
       "Level_of_education                   object\n",
       "Gender                               object\n",
       "dtype: object"
      ]
     },
     "execution_count": 872,
     "metadata": {},
     "output_type": "execute_result"
    }
   ],
   "source": [
    "# Checking data types\n",
    "reduced_df.dtypes"
   ]
  },
  {
   "cell_type": "code",
   "execution_count": 873,
   "id": "b10b5b2b-5bde-48b8-bbf9-9d7183813cdb",
   "metadata": {},
   "outputs": [
    {
     "data": {
      "text/plain": [
       "array(['25-34', '45-54', '35-44', '18-24', '65 or over', '55-64',\n",
       "       'under 18', nan], dtype=object)"
      ]
     },
     "execution_count": 873,
     "metadata": {},
     "output_type": "execute_result"
    }
   ],
   "source": [
    "reduced_df[\"Age\"].unique()"
   ]
  },
  {
   "cell_type": "code",
   "execution_count": 874,
   "id": "16714d4b-440b-4606-9626-13c2465b84d4",
   "metadata": {},
   "outputs": [
    {
     "data": {
      "text/html": [
       "<div>\n",
       "<style scoped>\n",
       "    .dataframe tbody tr th:only-of-type {\n",
       "        vertical-align: middle;\n",
       "    }\n",
       "\n",
       "    .dataframe tbody tr th {\n",
       "        vertical-align: top;\n",
       "    }\n",
       "\n",
       "    .dataframe thead th {\n",
       "        text-align: right;\n",
       "    }\n",
       "</style>\n",
       "<table border=\"1\" class=\"dataframe\">\n",
       "  <thead>\n",
       "    <tr style=\"text-align: right;\">\n",
       "      <th></th>\n",
       "      <th>Industry</th>\n",
       "      <th>Job_title</th>\n",
       "      <th>Annual_salary</th>\n",
       "      <th>Currency</th>\n",
       "      <th>Country_of_work</th>\n",
       "      <th>Years_of_experience</th>\n",
       "      <th>Years_of_experience_in_your_field</th>\n",
       "      <th>Level_of_education</th>\n",
       "      <th>Gender</th>\n",
       "    </tr>\n",
       "    <tr>\n",
       "      <th>Age</th>\n",
       "      <th></th>\n",
       "      <th></th>\n",
       "      <th></th>\n",
       "      <th></th>\n",
       "      <th></th>\n",
       "      <th></th>\n",
       "      <th></th>\n",
       "      <th></th>\n",
       "      <th></th>\n",
       "    </tr>\n",
       "  </thead>\n",
       "  <tbody>\n",
       "    <tr>\n",
       "      <th>18-24</th>\n",
       "      <td>111</td>\n",
       "      <td>957</td>\n",
       "      <td>514</td>\n",
       "      <td>8</td>\n",
       "      <td>82</td>\n",
       "      <td>8</td>\n",
       "      <td>7</td>\n",
       "      <td>6</td>\n",
       "      <td>4</td>\n",
       "    </tr>\n",
       "    <tr>\n",
       "      <th>25-34</th>\n",
       "      <td>631</td>\n",
       "      <td>7159</td>\n",
       "      <td>2469</td>\n",
       "      <td>11</td>\n",
       "      <td>249</td>\n",
       "      <td>8</td>\n",
       "      <td>8</td>\n",
       "      <td>6</td>\n",
       "      <td>4</td>\n",
       "    </tr>\n",
       "    <tr>\n",
       "      <th>35-44</th>\n",
       "      <td>505</td>\n",
       "      <td>6076</td>\n",
       "      <td>2042</td>\n",
       "      <td>11</td>\n",
       "      <td>206</td>\n",
       "      <td>8</td>\n",
       "      <td>8</td>\n",
       "      <td>6</td>\n",
       "      <td>5</td>\n",
       "    </tr>\n",
       "    <tr>\n",
       "      <th>45-54</th>\n",
       "      <td>218</td>\n",
       "      <td>2317</td>\n",
       "      <td>914</td>\n",
       "      <td>10</td>\n",
       "      <td>113</td>\n",
       "      <td>7</td>\n",
       "      <td>7</td>\n",
       "      <td>6</td>\n",
       "      <td>4</td>\n",
       "    </tr>\n",
       "    <tr>\n",
       "      <th>55-64</th>\n",
       "      <td>108</td>\n",
       "      <td>793</td>\n",
       "      <td>480</td>\n",
       "      <td>8</td>\n",
       "      <td>50</td>\n",
       "      <td>8</td>\n",
       "      <td>8</td>\n",
       "      <td>6</td>\n",
       "      <td>4</td>\n",
       "    </tr>\n",
       "    <tr>\n",
       "      <th>65 or over</th>\n",
       "      <td>30</td>\n",
       "      <td>89</td>\n",
       "      <td>75</td>\n",
       "      <td>5</td>\n",
       "      <td>19</td>\n",
       "      <td>6</td>\n",
       "      <td>7</td>\n",
       "      <td>6</td>\n",
       "      <td>4</td>\n",
       "    </tr>\n",
       "    <tr>\n",
       "      <th>under 18</th>\n",
       "      <td>7</td>\n",
       "      <td>14</td>\n",
       "      <td>14</td>\n",
       "      <td>2</td>\n",
       "      <td>7</td>\n",
       "      <td>6</td>\n",
       "      <td>4</td>\n",
       "      <td>4</td>\n",
       "      <td>3</td>\n",
       "    </tr>\n",
       "  </tbody>\n",
       "</table>\n",
       "</div>"
      ],
      "text/plain": [
       "            Industry  Job_title  Annual_salary  Currency  Country_of_work  \\\n",
       "Age                                                                         \n",
       "18-24            111        957            514         8               82   \n",
       "25-34            631       7159           2469        11              249   \n",
       "35-44            505       6076           2042        11              206   \n",
       "45-54            218       2317            914        10              113   \n",
       "55-64            108        793            480         8               50   \n",
       "65 or over        30         89             75         5               19   \n",
       "under 18           7         14             14         2                7   \n",
       "\n",
       "            Years_of_experience  Years_of_experience_in_your_field  \\\n",
       "Age                                                                  \n",
       "18-24                         8                                  7   \n",
       "25-34                         8                                  8   \n",
       "35-44                         8                                  8   \n",
       "45-54                         7                                  7   \n",
       "55-64                         8                                  8   \n",
       "65 or over                    6                                  7   \n",
       "under 18                      6                                  4   \n",
       "\n",
       "            Level_of_education  Gender  \n",
       "Age                                     \n",
       "18-24                        6       4  \n",
       "25-34                        6       4  \n",
       "35-44                        6       5  \n",
       "45-54                        6       4  \n",
       "55-64                        6       4  \n",
       "65 or over                   6       4  \n",
       "under 18                     4       3  "
      ]
     },
     "execution_count": 874,
     "metadata": {},
     "output_type": "execute_result"
    }
   ],
   "source": [
    "reduced_df.groupby('Age').nunique().head(10)"
   ]
  },
  {
   "cell_type": "code",
   "execution_count": 875,
   "id": "206fcae4-625d-4dad-83fe-86df07bd69b7",
   "metadata": {},
   "outputs": [
    {
     "data": {
      "text/plain": [
       "array(['Woman', 'Non-binary', 'Man', nan, 'Other or prefer not to answer',\n",
       "       'Prefer not to answer'], dtype=object)"
      ]
     },
     "execution_count": 875,
     "metadata": {},
     "output_type": "execute_result"
    }
   ],
   "source": [
    "reduced_df[\"Gender\"].unique()"
   ]
  },
  {
   "cell_type": "code",
   "execution_count": 876,
   "id": "3a8aa81e-4017-4bf7-899d-dcee64f05c78",
   "metadata": {},
   "outputs": [
    {
     "data": {
      "text/html": [
       "<div>\n",
       "<style scoped>\n",
       "    .dataframe tbody tr th:only-of-type {\n",
       "        vertical-align: middle;\n",
       "    }\n",
       "\n",
       "    .dataframe tbody tr th {\n",
       "        vertical-align: top;\n",
       "    }\n",
       "\n",
       "    .dataframe thead th {\n",
       "        text-align: right;\n",
       "    }\n",
       "</style>\n",
       "<table border=\"1\" class=\"dataframe\">\n",
       "  <thead>\n",
       "    <tr style=\"text-align: right;\">\n",
       "      <th></th>\n",
       "      <th>Age</th>\n",
       "      <th>Industry</th>\n",
       "      <th>Job_title</th>\n",
       "      <th>Annual_salary</th>\n",
       "      <th>Currency</th>\n",
       "      <th>Country_of_work</th>\n",
       "      <th>Years_of_experience</th>\n",
       "      <th>Years_of_experience_in_your_field</th>\n",
       "      <th>Level_of_education</th>\n",
       "    </tr>\n",
       "    <tr>\n",
       "      <th>Gender</th>\n",
       "      <th></th>\n",
       "      <th></th>\n",
       "      <th></th>\n",
       "      <th></th>\n",
       "      <th></th>\n",
       "      <th></th>\n",
       "      <th></th>\n",
       "      <th></th>\n",
       "      <th></th>\n",
       "    </tr>\n",
       "  </thead>\n",
       "  <tbody>\n",
       "    <tr>\n",
       "      <th>Man</th>\n",
       "      <td>7</td>\n",
       "      <td>257</td>\n",
       "      <td>3347</td>\n",
       "      <td>1317</td>\n",
       "      <td>10</td>\n",
       "      <td>177</td>\n",
       "      <td>8</td>\n",
       "      <td>8</td>\n",
       "      <td>6</td>\n",
       "    </tr>\n",
       "    <tr>\n",
       "      <th>Non-binary</th>\n",
       "      <td>7</td>\n",
       "      <td>89</td>\n",
       "      <td>629</td>\n",
       "      <td>398</td>\n",
       "      <td>9</td>\n",
       "      <td>51</td>\n",
       "      <td>8</td>\n",
       "      <td>6</td>\n",
       "      <td>6</td>\n",
       "    </tr>\n",
       "    <tr>\n",
       "      <th>Other or prefer not to answer</th>\n",
       "      <td>6</td>\n",
       "      <td>39</td>\n",
       "      <td>272</td>\n",
       "      <td>201</td>\n",
       "      <td>8</td>\n",
       "      <td>42</td>\n",
       "      <td>8</td>\n",
       "      <td>8</td>\n",
       "      <td>6</td>\n",
       "    </tr>\n",
       "    <tr>\n",
       "      <th>Prefer not to answer</th>\n",
       "      <td>1</td>\n",
       "      <td>1</td>\n",
       "      <td>1</td>\n",
       "      <td>1</td>\n",
       "      <td>1</td>\n",
       "      <td>1</td>\n",
       "      <td>1</td>\n",
       "      <td>1</td>\n",
       "      <td>1</td>\n",
       "    </tr>\n",
       "    <tr>\n",
       "      <th>Woman</th>\n",
       "      <td>7</td>\n",
       "      <td>1038</td>\n",
       "      <td>11555</td>\n",
       "      <td>3581</td>\n",
       "      <td>11</td>\n",
       "      <td>314</td>\n",
       "      <td>8</td>\n",
       "      <td>8</td>\n",
       "      <td>6</td>\n",
       "    </tr>\n",
       "  </tbody>\n",
       "</table>\n",
       "</div>"
      ],
      "text/plain": [
       "                               Age  Industry  Job_title  Annual_salary  \\\n",
       "Gender                                                                   \n",
       "Man                              7       257       3347           1317   \n",
       "Non-binary                       7        89        629            398   \n",
       "Other or prefer not to answer    6        39        272            201   \n",
       "Prefer not to answer             1         1          1              1   \n",
       "Woman                            7      1038      11555           3581   \n",
       "\n",
       "                               Currency  Country_of_work  Years_of_experience  \\\n",
       "Gender                                                                          \n",
       "Man                                  10              177                    8   \n",
       "Non-binary                            9               51                    8   \n",
       "Other or prefer not to answer         8               42                    8   \n",
       "Prefer not to answer                  1                1                    1   \n",
       "Woman                                11              314                    8   \n",
       "\n",
       "                               Years_of_experience_in_your_field  \\\n",
       "Gender                                                             \n",
       "Man                                                            8   \n",
       "Non-binary                                                     6   \n",
       "Other or prefer not to answer                                  8   \n",
       "Prefer not to answer                                           1   \n",
       "Woman                                                          8   \n",
       "\n",
       "                               Level_of_education  \n",
       "Gender                                             \n",
       "Man                                             6  \n",
       "Non-binary                                      6  \n",
       "Other or prefer not to answer                   6  \n",
       "Prefer not to answer                            1  \n",
       "Woman                                           6  "
      ]
     },
     "execution_count": 876,
     "metadata": {},
     "output_type": "execute_result"
    }
   ],
   "source": [
    "reduced_df.groupby('Gender').nunique().head(10)"
   ]
  },
  {
   "cell_type": "code",
   "execution_count": null,
   "id": "a01edf28-a21d-42f8-8ee9-3d19d347276f",
   "metadata": {},
   "outputs": [],
   "source": []
  },
  {
   "cell_type": "code",
   "execution_count": 877,
   "id": "50b5f225-0cc7-4405-93c1-5bccf765ea32",
   "metadata": {},
   "outputs": [
    {
     "data": {
      "text/plain": [
       "array(['Education (Higher Education)', 'Computing or Tech',\n",
       "       'Accounting, Banking & Finance', ..., 'Student ', 'Wine & Spirits',\n",
       "       'Social networks'], dtype=object)"
      ]
     },
     "execution_count": 877,
     "metadata": {},
     "output_type": "execute_result"
    }
   ],
   "source": [
    "reduced_df[\"Industry\"].unique()"
   ]
  },
  {
   "cell_type": "code",
   "execution_count": 878,
   "id": "40731e9b-2927-48ad-8c7b-8fabdacee13f",
   "metadata": {},
   "outputs": [
    {
     "data": {
      "text/plain": [
       "array(['Research and Instruction Librarian',\n",
       "       'Change & Internal Communications Manager', 'Marketing Specialist',\n",
       "       ..., 'Curriculum Writer', 'Software Engineering Co-Op',\n",
       "       'Content creator'], dtype=object)"
      ]
     },
     "execution_count": 878,
     "metadata": {},
     "output_type": "execute_result"
    }
   ],
   "source": [
    "reduced_df[\"Job_title\"].unique()"
   ]
  },
  {
   "cell_type": "code",
   "execution_count": 879,
   "id": "46a7b110-ac36-4e18-b70e-12bfde3395da",
   "metadata": {},
   "outputs": [
    {
     "data": {
      "text/plain": [
       "array(['55,000', '54,600', '34,000', ..., '37741', '53060', nan],\n",
       "      dtype=object)"
      ]
     },
     "execution_count": 879,
     "metadata": {},
     "output_type": "execute_result"
    }
   ],
   "source": [
    "reduced_df[\"Annual_salary\"].unique()"
   ]
  },
  {
   "cell_type": "code",
   "execution_count": 880,
   "id": "f6405615-b912-4ad5-8188-b6ff3b5ab09a",
   "metadata": {},
   "outputs": [
    {
     "data": {
      "text/plain": [
       "array(['USD', 'GBP', 'CAD', 'EUR', 'AUD/NZD', 'Other', 'CHF', 'ZAR',\n",
       "       'SEK', 'HKD', 'JPY', nan], dtype=object)"
      ]
     },
     "execution_count": 880,
     "metadata": {},
     "output_type": "execute_result"
    }
   ],
   "source": [
    "reduced_df[\"Currency\"].unique()"
   ]
  },
  {
   "cell_type": "code",
   "execution_count": 881,
   "id": "740a714d-db12-4666-89d5-d269fbc3c10b",
   "metadata": {
    "scrolled": true
   },
   "outputs": [
    {
     "data": {
      "text/plain": [
       "array(['United States', 'United Kingdom', 'US', 'USA', 'Canada',\n",
       "       'United Kingdom ', 'usa', 'UK', 'Scotland ', 'U.S.',\n",
       "       'United States ', 'The Netherlands', 'Australia ', 'Spain', 'us',\n",
       "       'Usa', 'England', 'finland', 'United States of America', 'France',\n",
       "       'United states', 'Scotland', 'USA ', 'United states ', 'Germany',\n",
       "       'UK ', 'united states', 'Ireland', 'India', 'Australia', 'Uk',\n",
       "       'United States of America ', 'U.S. ', 'canada', 'Canada ', 'U.S>',\n",
       "       'ISA', 'Argentina', 'Great Britain ', 'US ', 'United State',\n",
       "       'U.S.A', 'Denmark', 'U.S.A.', 'America', 'Netherlands',\n",
       "       'netherlands', 'England ', 'united states of america', 'Ireland ',\n",
       "       'Switzerland', 'Netherlands ', 'Bermuda', 'Us',\n",
       "       'The United States', 'United State of America', 'Germany ',\n",
       "       'Malaysia', 'Mexico ', 'United Stated', 'South Africa ', 'Belgium',\n",
       "       'Northern Ireland', 'u.s.', 'South Africa', 'UNITED STATES',\n",
       "       'united States', 'Sweden', 'Hong Kong', 'Kuwait', 'Norway',\n",
       "       'Sri lanka', 'Contracts', 'USA-- Virgin Islands', 'United Statws',\n",
       "       'England/UK', 'U.S',\n",
       "       \"We don't get raises, we get quarterly bonuses, but they periodically asses income in the area you work, so I got a raise because a 3rd party assessment showed I was paid too little for the area we were located\",\n",
       "       'Unites States ', 'Usa ', 'U.S.A. ', 'England, UK.', 'Greece',\n",
       "       'Japan', 'U. S. ', 'Britain ', 'United Sates', 'Japan ', 'Austria',\n",
       "       'Brazil', 'Canada, Ottawa, ontario', 'Global', 'Sweden ',\n",
       "       'United States of American ', 'FRANCE', 'Uniited States',\n",
       "       'United Kingdom (England)',\n",
       "       'Worldwide (based in US but short term trips aroudn the world)',\n",
       "       'CANADA ', 'Canadw', 'Hungary', 'Luxembourg',\n",
       "       'United Sates of America', 'ireland',\n",
       "       'United States (I work from home and my clients are all over the US/Canada/PR',\n",
       "       'Colombia', 'CANADA', 'Unted States', 'germany', 'United Statesp',\n",
       "       'United Stattes', 'United Statea', 'United Kingdom.', 'Mexico',\n",
       "       'New Zealand', 'Trinidad and Tobago', 'Unites States',\n",
       "       'United Statees', 'United kingdom', 'Cayman Islands',\n",
       "       'UNited States', 'Can',\n",
       "       'I am located in Canada but I work for a company in the US',\n",
       "       'United kingdom ', 'Uniyed states', 'Uniyes States',\n",
       "       'United States of Americas', 'U.A.', 'Czech republic', 'Czechia',\n",
       "       'Latvia', 'Finland', 'U. S.', 'Puerto Rico', 'US of A', 'Rwanda',\n",
       "       'United States of america ', 'United Arab Emirates ',\n",
       "       'Bangladesh ', 'Spain ', 'U.K. ', 'Romania', 'U.SA',\n",
       "       'United Kindom', 'United Status', 'New Zealand ',\n",
       "       'Currently finance', ' U.S.', 'Serbia', 'Philippines', 'Russia ',\n",
       "       'Poland', 'UXZ', 'czech republic', 'England, UK', 'Turkey',\n",
       "       'Canda', 'Puerto Rico ', 'Canada and USA', 'Catalonia',\n",
       "       '$2,175.84/year is deducted for benefits', 'uk', 'France ',\n",
       "       'Italy (South)', 'Jersey, Channel islands', 'Uk ', 'China',\n",
       "       'Virginia', 'Afghanistan', 'Israel', 'U.s.', 'Great Britain',\n",
       "       'U.s.a.', 'USS', 'Denmark ', 'Uniteed States',\n",
       "       'New Zealand Aotearoa', 'U.K.', 'Hartford',\n",
       "       'Japan, US Gov position', 'Csnada', 'United Stares', 'New zealand',\n",
       "       'Mainland China', 'I.S.', 'UK (Northern Ireland)',\n",
       "       'UK for U.S. company', ' US', 'Unites states ', 'NZ', 'Us ',\n",
       "       'Hong Kong ', 'Taiwan', 'Canad', 'Unite States', 'australia',\n",
       "       'The US', 'united states ', 'The Netherlands ', 'Cambodia',\n",
       "       'United states of America ', 'Vietnam', 'Remote', 'Singapore',\n",
       "       'South Korea', 'Czech Republic ', 'Thailand', 'Bangladesh',\n",
       "       'Lithuania', 'Eritrea', 'Indonesia', 'Singapore ',\n",
       "       'For the United States government, but posted overseas', 'IS',\n",
       "       'Switzerland ', 'United Kingdomk', 'Italy', ' New Zealand', 'Cuba',\n",
       "       'Slovenia', 'Australi', \"Cote d'Ivoire\", 'united kingdom',\n",
       "       'From Romania, but for an US based company', 'Somalia',\n",
       "       'Wales (United Kingdom)', 'England, Gb', 'Czech Republic',\n",
       "       'UnitedStates', 'Sri Lanka', 'spain', 'Danmark',\n",
       "       'U.K. (northern England)', 'U.K', 'NL', 'the Netherlands',\n",
       "       'Nederland', 'Slovakia', 'United States of america', 'Portugal ',\n",
       "       'England, United Kingdom', 'Sierra Leone', 'Englang',\n",
       "       'United statew', 'UAE', 'Belgium ',\n",
       "       'bonus based on meeting yearly goals set w/ my supervisor',\n",
       "       'International ', 'The Bahamas ', 'Wales',\n",
       "       \"I earn commission on sales. If I meet quota, I'm guaranteed another 16k min. Last year i earned an additional 27k. It's not uncommon for people in my space to earn 100k+ after commission. \",\n",
       "       'Costa Rica', ' United States', 'United Statues', 'Untied States',\n",
       "       'USA (company is based in a US territory, I work remote)', 'Chile',\n",
       "       'denmark', 'UK (England)', 'UK, remote', 'Scotland, UK', 'USAB',\n",
       "       'Unitied States', 'Norway ', 'Qatar', 'United Sttes',\n",
       "       'Remote (philippines)', 'Brazil ', 'Unites kingdom ',\n",
       "       'South africa', 'Portugal', 'united stated',\n",
       "       'United States Of America', 'Nigeria', 'Panamá',\n",
       "       'Northern Ireland ', 'england', 'SWITZERLAND',\n",
       "       'Austria, but I work remotely for a Dutch/British company',\n",
       "       \"I work for an US based company but I'm from Argentina.\",\n",
       "       'I was brought in on this salary to help with the EHR and very quickly was promoted to current position but compensation was not altered. ',\n",
       "       'Uniter Statez', 'U. S ', 'Congo', 'United states of America',\n",
       "       'Uruguay', 'Pakistan', 'Brasil', 'USA tomorrow ', 'United Stateds',\n",
       "       'n/a (remote from wherever I want)', 'singapore',\n",
       "       'US govt employee overseas, country withheld', 'usa ', 'Malaysia ',\n",
       "       'Uganda', 'Malta', 'Saudi Arabia', 'Bulgaria', 'Estonia',\n",
       "       'Morocco', 'new zealand', 'Africa', 'Ecuador', 'Zimbabwe', 'Ghana',\n",
       "       'San Francisco', 'Usat', '🇺🇸 ', 'Luxemburg', 'Unitef Stated', 'UA',\n",
       "       'Wales, UK', 'United Stares ', 'Croatia ',\n",
       "       'England, United Kingdom ', 'United STates', 'USaa', 'uSA',\n",
       "       'South Korea ', 'The netherlands', 'Ukraine ', 'america',\n",
       "       'switzerland', 'United States- Puerto Rico',\n",
       "       'From New Zealand but on projects across APAC', 'Y', 'United y',\n",
       "       'Wales (UK)', 'Isle of Man', 'Northern Ireland, United Kingdom',\n",
       "       'europe', 'California ',\n",
       "       'UK, but for globally fully remote company', 'Australian ',\n",
       "       'México', 'Jamaica', 'uS', 'USD', 'the netherlands',\n",
       "       \"USA, but for foreign gov't\", 'japan', 'Kenya', 'Jordan',\n",
       "       'United Statss', 'ARGENTINA BUT MY ORG IS IN THAILAND',\n",
       "       'United states of america', 'UsA',\n",
       "       'I work for a UAE-based organization, though I am personally in the US.',\n",
       "       'United  States', 'france', 'Aotearoa New Zealand', 'na', 'Policy',\n",
       "       'Cyprus', 'hong konh', 'United States is America', 'Liechtenstein',\n",
       "       'Company in Germany. I work from Pakistan.', 'croatia', 'Canadá',\n",
       "       'ENGLAND', 'United States of American', 'U.S.A ', 'INDIA',\n",
       "       'Bosnia and Herzegovina', 'NIGERIA', 'Poland ', 'pakistan',\n",
       "       'Nigeria ', 'London', 'ss', 'dbfemf', 'ibdia', 'LOUTRELAND',\n",
       "       'philippines', 'ff', 'Myanmar', 'Burma', nan], dtype=object)"
      ]
     },
     "execution_count": 881,
     "metadata": {},
     "output_type": "execute_result"
    }
   ],
   "source": [
    "reduced_df[\"Country_of_work\"].unique()"
   ]
  },
  {
   "cell_type": "code",
   "execution_count": 882,
   "id": "73571a76-4c8e-4b41-ae73-d0a3db0964df",
   "metadata": {},
   "outputs": [],
   "source": [
    "# Replacing typos and malformed values to get cleaner data\n",
    "# Using dictionary to replace typos\n",
    "# typo_corrections = {'US':'U.S.',\n",
    "#                     'USA':'U.S.',\n",
    "#                     'United States':'U.S.',\n",
    "#                     'usa':'U.S.',\n",
    "#                     'US ':'U.S.',\n",
    "#                     'United States ':'U.S.',\n",
    "#                     'USA ':'U.S.',\n",
    "#                     'united states':'U.S.',\n",
    "                    \n",
    "                    \n",
    "                    \n",
    "                    \n",
    "                    \n",
    "                    \n",
    "# reduced_df[\"Country_of_work\"]=reduced_df[\"Country_of_work\"].replace(typo_corrections)\n",
    "# reduced_df[\"Country_of_work\"].unique()"
   ]
  },
  {
   "cell_type": "code",
   "execution_count": 883,
   "id": "1d5b6a86-13cf-4ed5-8291-e8e508e24d2a",
   "metadata": {},
   "outputs": [
    {
     "data": {
      "text/plain": [
       "array(['5-7 years', '8 - 10 years', '2 - 4 years', '21 - 30 years',\n",
       "       '11 - 20 years', '1 year or less', '41 years or more',\n",
       "       '31 - 40 years', nan], dtype=object)"
      ]
     },
     "execution_count": 883,
     "metadata": {},
     "output_type": "execute_result"
    }
   ],
   "source": [
    "reduced_df[\"Years_of_experience\"].unique()"
   ]
  },
  {
   "cell_type": "code",
   "execution_count": 884,
   "id": "1127ad5e-1e5e-4e7d-96b7-a0ba68bcb759",
   "metadata": {},
   "outputs": [
    {
     "data": {
      "text/plain": [
       "array(['5-7 years', '2 - 4 years', '21 - 30 years', '11 - 20 years',\n",
       "       '1 year or less', '8 - 10 years', '31 - 40 years',\n",
       "       '41 years or more', nan], dtype=object)"
      ]
     },
     "execution_count": 884,
     "metadata": {},
     "output_type": "execute_result"
    }
   ],
   "source": [
    "reduced_df[\"Years_of_experience_in_your_field\"].unique()"
   ]
  },
  {
   "cell_type": "code",
   "execution_count": 885,
   "id": "a061921d-83a7-4d69-830e-dc267baf717c",
   "metadata": {},
   "outputs": [
    {
     "data": {
      "text/plain": [
       "array([\"Master's degree\", 'College degree', 'PhD', nan, 'Some college',\n",
       "       'High School', 'Professional degree (MD, JD, etc.)'], dtype=object)"
      ]
     },
     "execution_count": 885,
     "metadata": {},
     "output_type": "execute_result"
    }
   ],
   "source": [
    "reduced_df[\"Level_of_education\"].unique()"
   ]
  },
  {
   "cell_type": "code",
   "execution_count": 886,
   "id": "cdb3ef97-5de1-41f0-960e-da61d694a224",
   "metadata": {},
   "outputs": [
    {
     "data": {
      "text/plain": [
       "array(['Woman', 'Non-binary', 'Man', nan, 'Other or prefer not to answer',\n",
       "       'Prefer not to answer'], dtype=object)"
      ]
     },
     "execution_count": 886,
     "metadata": {},
     "output_type": "execute_result"
    }
   ],
   "source": [
    "reduced_df[\"Gender\"].unique()"
   ]
  },
  {
   "cell_type": "code",
   "execution_count": 887,
   "id": "f2cefab2-1c7b-4514-ad51-a03d6f94b8de",
   "metadata": {},
   "outputs": [],
   "source": [
    "# Creating a list of malformed data and replacing it with Null\n",
    "# mvp=[\"...\",\"N/A\",\"Na \",\"-\",\"NA\",\"None\",\"na\",\"N/a\",\"ekignkfb\",\"rice\",\"ff\"]\n",
    "mvp=[\"Woman\"]\n",
    "clean_reduced_df=reduced_df.replace(mvp, \"Female\")"
   ]
  },
  {
   "cell_type": "code",
   "execution_count": 888,
   "id": "19329fbd-e94d-4c55-a081-a10c24047573",
   "metadata": {},
   "outputs": [
    {
     "data": {
      "text/plain": [
       "array(['Female', 'Non-binary', 'Man', nan,\n",
       "       'Other or prefer not to answer', 'Prefer not to answer'],\n",
       "      dtype=object)"
      ]
     },
     "execution_count": 888,
     "metadata": {},
     "output_type": "execute_result"
    }
   ],
   "source": [
    "clean_reduced_df[\"Gender\"].unique()"
   ]
  },
  {
   "cell_type": "code",
   "execution_count": 889,
   "id": "e37779a0-9a37-43a7-aff3-5070231f348d",
   "metadata": {},
   "outputs": [],
   "source": [
    "# Creating a malformed data and typos list and replacing it with coutry names to get cleaner data in this observation\n",
    "mvp_us=[\"USA\", \"United States\", \"usa\", \"us\", \"US\", \"US \", \"United States \", \"USA \", \"united states\", \"U.S>\", \"U.S. \",\"United States of America \",\"United State\",\"U.S.A\",\"America\",\"united states of america\",\"Us\",\"The United States\",\"U.S.A.\",'United Stated','United State of America','u.s.','UNITED STATES','united States','USA-- Virgin Islands','United Statws','U.S','Unites States ','Usa ','U.S.A. ','U. S. ','United Sates','United States of American ','Uniited States','Worldwide (based in US but short term trips aroudn the world)','United Sates of America','United States (I work from home and my clients are all over the US/Canada/PR','Unted States','United Statesp','United Stattes','United Statea','Unites States','United Statees','Uniyes States','UNited States','I am located in Canada but I work for a company in the US','Uniyed states','Uniyes States','United States of Americas','U. S.','United States of America','Usa','United states ','United states','US of A','United States of america ','U.SA','United Status',' U.S.','Puerto Rico ','Canada and USA','Virginia','U.s.','U.s.a.','USS','Uniteed States','Japan, US Gov position','United Stares','Us ','Unite States','The US','united states ','United states of America ','UnitedStates','UK for U.S. company','For the United States government, but posted overseas',' United States', 'United Statues', 'Untied States',\n",
    "       'USA (company is based in a US territory, I work remote)','united stated',\n",
    "       'United States Of America','USAB', 'Unitied States',\"I work for an US based company but I'm from Argentina.\",'Uniter Statez', 'U. S ','United Sttes','Unitef Stated','United states of America','San Francisco', 'Usat', '🇺🇸 ','United States of america','From Romania, but for an US based company','USA tomorrow ',\n",
    "       'United Stateds','United states of america', 'UsA','United States of American', 'U.S.A ','USaa', 'uSA','US govt employee overseas, country withheld', 'usa ','uS', 'USD','United Stares ','United STates','america','California ','United States is America','United States- Puerto Rico','United Statss','United  States','ISA',' US',\n",
    "       'Unites states ','United statew',]\n",
    "clean_reduced_df=reduced_df.replace(mvp_us, \"U.S.\")"
   ]
  },
  {
   "cell_type": "code",
   "execution_count": 890,
   "id": "575a4b6d-20a7-421d-843a-9756ff26ae54",
   "metadata": {},
   "outputs": [],
   "source": [
    "mvp_uk=['United Kingdom','United Kingdom ', 'UK', 'Scotland ','England','Scotland','UK ','Uk','Great Britain ','England ','Northern Ireland','England/UK','England, UK.','Britain ','United Kingdom (England)','United Kingdom.','United kingdom','United kingdom ','U.K. ','England, UK','uk','Jersey, Channel islands', 'Uk ','Great Britain','Hartford','UK (Northern Ireland)','United Kindom','Wales (United Kingdom)', 'England, Gb','Wales','Northern Ireland ', 'england','U.K. (northern England)', 'U.K','UK (England)', 'UK, remote',\n",
    "       'Scotland, UK','Unites kingdom ','United Kingdomk','united kingdom','Austria, but I work remotely for a Dutch/British company','Wales, UK','England, United Kingdom','Englang','England, United Kingdom ','United y',\n",
    "       'Wales (UK)', 'Isle of Man', 'Northern Ireland, United Kingdom','ENGLAND','London',]\n",
    "clean_reduced_df=clean_reduced_df.replace(mvp_uk, \"U.K.\")"
   ]
  },
  {
   "cell_type": "code",
   "execution_count": 891,
   "id": "a974a79d-f962-4441-90ac-f6b1f9a9c8ee",
   "metadata": {},
   "outputs": [],
   "source": [
    "mvp_ca=['canada', 'Canada ','Canada, Ottawa, ontario','Can','CANADA ', 'Canadw','CANADA','Canda','Csnada','Canad','Canadá',]\n",
    "clean_reduced_df=clean_reduced_df.replace(mvp_ca, \"Canada\")"
   ]
  },
  {
   "cell_type": "code",
   "execution_count": 892,
   "id": "881878d4-e47a-4dbe-b85b-113276d34de3",
   "metadata": {},
   "outputs": [],
   "source": [
    "mvp_nz=['New Zealand ','New Zealand Aotearoa', 'New zealand','NZ',' New Zealand','new zealand','Aotearoa New Zealand','New Zealand',]\n",
    "clean_reduced_df=clean_reduced_df.replace(mvp_nz, \"New_Zealand\")   "
   ]
  },
  {
   "cell_type": "code",
   "execution_count": 893,
   "id": "ab8684bb-b562-44e7-8b4a-35ba6d3f5bfb",
   "metadata": {},
   "outputs": [],
   "source": [
    "mvp_aus=['Australia ','Australia','australia','Australi','Australian ',]\n",
    "clean_reduced_df=clean_reduced_df.replace(mvp_aus, \"Australia\")"
   ]
  },
  {
   "cell_type": "code",
   "execution_count": 894,
   "id": "6b0fd496-92d3-466c-9fc3-6a174da93e8b",
   "metadata": {},
   "outputs": [],
   "source": [
    "mvp_nl=['The Netherlands','netherlands','Netherlands ','The Netherlands ','NL','the Netherlands', 'Nederland','The netherlands','the netherlands',]\n",
    "clean_reduced_df=clean_reduced_df.replace(mvp_nl, \"Netherlands\")"
   ]
  },
  {
   "cell_type": "code",
   "execution_count": 895,
   "id": "5da689f3",
   "metadata": {},
   "outputs": [],
   "source": [
    "mvp_esp=['Spain','Spain ','Catalonia','spain',]\n",
    "clean_reduced_df=clean_reduced_df.replace(mvp_esp, \"Spain\")"
   ]
  },
  {
   "cell_type": "code",
   "execution_count": 896,
   "id": "53fdfd0b",
   "metadata": {},
   "outputs": [],
   "source": [
    "mvp_ie=['Ireland','Ireland ','ireland',]\n",
    "clean_reduced_df=clean_reduced_df.replace(mvp_ie, \"Ireland\")"
   ]
  },
  {
   "cell_type": "code",
   "execution_count": 897,
   "id": "e556982b",
   "metadata": {},
   "outputs": [],
   "source": [
    "# Creating Other for non defined countries\n",
    "mvp_other=['Contracts',\"We don't get raises, we get quarterly bonuses, but they periodically asses income in the area you work, so I got a raise because a 3rd party assessment showed I was paid too little for the area we were located\",'Global','Currently finance','UXZ','$2,175.84/year is deducted for benefits','IS','Remote','I.S.','bonus based on meeting yearly goals set w/ my supervisor',\n",
    "       'International ',\"I earn commission on sales. If I meet quota, I'm guaranteed another 16k min. Last year i earned an additional 27k. It's not uncommon for people in my space to earn 100k+ after commission. \",'Remote (philippines)','I was brought in on this salary to help with the EHR and very quickly was promoted to current position but compensation was not altered. ','n/a (remote from wherever I want)','From New Zealand but on projects across APAC', 'Y', 'europe',\n",
    "       'UK, but for globally fully remote company',\"USA, but for foreign gov't\",'Policy','ss', 'dbfemf','LOUTRELAND','ff','Other','Africa',]\n",
    "clean_reduced_df=clean_reduced_df.replace(mvp_other, \"Other\")"
   ]
  },
  {
   "cell_type": "code",
   "execution_count": 898,
   "id": "56beafe6-8ca7-46ce-b890-cd045f3558cc",
   "metadata": {},
   "outputs": [],
   "source": [
    "mvp_ger=['Germany','Germany ','germany','Company in Germany. I work from Pakistan.',]\n",
    "clean_reduced_df=clean_reduced_df.replace(mvp_ger, \"Germany\")"
   ]
  },
  {
   "cell_type": "code",
   "execution_count": 899,
   "id": "b16e8cf0",
   "metadata": {},
   "outputs": [],
   "source": [
    "mvp_jpn=['Japan', 'Japan ','japan',]\n",
    "clean_reduced_df=clean_reduced_df.replace(mvp_jpn, \"Japan\")"
   ]
  },
  {
   "cell_type": "code",
   "execution_count": 900,
   "id": "b40c949b",
   "metadata": {},
   "outputs": [],
   "source": [
    "mvp_ch=['Switzerland',]\n",
    "clean_reduced_df=clean_reduced_df.replace(mvp_ch, \"Switzerland\")"
   ]
  },
  {
   "cell_type": "code",
   "execution_count": 901,
   "id": "b4e8579a",
   "metadata": {},
   "outputs": [],
   "source": [
    "mvp_ind=['India','INDIA','ibdia',]\n",
    "clean_reduced_df=clean_reduced_df.replace(mvp_ind, \"India\")"
   ]
  },
  {
   "cell_type": "code",
   "execution_count": 902,
   "id": "312373d6",
   "metadata": {},
   "outputs": [],
   "source": [
    "mvp_fr=['France','FRANCE','France ','france',]\n",
    "clean_reduced_df=clean_reduced_df.replace(mvp_fr, \"France\")"
   ]
  },
  {
   "cell_type": "code",
   "execution_count": 903,
   "id": "9e5be3eb",
   "metadata": {},
   "outputs": [],
   "source": [
    "mvp_den=['Denmark','Denmark ','Danmark','denmark','Denmark ',]\n",
    "clean_reduced_df=clean_reduced_df.replace(mvp_den, \"Denmark\")"
   ]
  },
  {
   "cell_type": "code",
   "execution_count": 904,
   "id": "5be9db77",
   "metadata": {},
   "outputs": [],
   "source": [
    "mvp_rsa=['South Africa ','South Africa','South africa',]\n",
    "clean_reduced_df=clean_reduced_df.replace(mvp_rsa, \"South Africa\")"
   ]
  },
  {
   "cell_type": "code",
   "execution_count": 905,
   "id": "b4bd18d9-02fd-4f1c-a46e-7b9ec88cb688",
   "metadata": {},
   "outputs": [],
   "source": [
    "mvp_uae=['United Arab Emirates ','I work for a UAE-based organization, though I am personally in the US.',]\n",
    "clean_reduced_df=clean_reduced_df.replace(mvp_uae, \"UAE\")   "
   ]
  },
  {
   "cell_type": "code",
   "execution_count": 906,
   "id": "36eb5f93",
   "metadata": {},
   "outputs": [],
   "source": [
    "mvp_mm=['Myanmar', 'Burma',]\n",
    "clean_reduced_df=clean_reduced_df.replace(mvp_mm, \"Myanmar\")   "
   ]
  },
  {
   "cell_type": "code",
   "execution_count": 907,
   "id": "3492fb18",
   "metadata": {},
   "outputs": [],
   "source": [
    "mvp_hkg=['Hong Kong','Hong Kong ','hong konh',]\n",
    "clean_reduced_df=clean_reduced_df.replace(mvp_hkg, \"Hong Kong\")   "
   ]
  },
  {
   "cell_type": "code",
   "execution_count": 908,
   "id": "783ff9c3",
   "metadata": {},
   "outputs": [],
   "source": [
    "mvp_chn=['China','Mainland China',]\n",
    "clean_reduced_df=clean_reduced_df.replace(mvp_chn, \"China\")   "
   ]
  },
  {
   "cell_type": "code",
   "execution_count": 909,
   "id": "0e036852",
   "metadata": {},
   "outputs": [],
   "source": [
    "mvp_cz=['Czech republic','Czechia','czech republic','Czech Republic ','Czech Republic',]\n",
    "clean_reduced_df=clean_reduced_df.replace(mvp_cz, \"Czech Republic\")   "
   ]
  },
  {
   "cell_type": "code",
   "execution_count": 910,
   "id": "bbdba707-1ea8-45b3-a530-b7f621a9c69f",
   "metadata": {},
   "outputs": [],
   "source": [
    "mvp_ua=['U.A.','UA','Ukraine ',]\n",
    "clean_reduced_df=clean_reduced_df.replace(mvp_ua, \"Ukraine\")"
   ]
  },
  {
   "cell_type": "code",
   "execution_count": 911,
   "id": "7c801860-c5e7-48e1-ab37-3dac1bfc6ec5",
   "metadata": {},
   "outputs": [],
   "source": [
    "mvp_cro=['Croatia ','croatia',]\n",
    "clean_reduced_df=clean_reduced_df.replace(mvp_cro, \"Croatia\")"
   ]
  },
  {
   "cell_type": "code",
   "execution_count": 912,
   "id": "bb0b4bfc-607a-4247-a614-b7c55e6b2b71",
   "metadata": {},
   "outputs": [],
   "source": [
    "mvp_sg=['Singapore','Singapore ','singapore',]\n",
    "clean_reduced_df=clean_reduced_df.replace(mvp_sg, \"Singapore\")"
   ]
  },
  {
   "cell_type": "code",
   "execution_count": 913,
   "id": "53cc22fa",
   "metadata": {},
   "outputs": [],
   "source": [
    "mvp_th=['Thailand','ARGENTINA BUT MY ORG IS IN THAILAND',]\n",
    "clean_reduced_df=clean_reduced_df.replace(mvp_th, \"Thailand\")"
   ]
  },
  {
   "cell_type": "code",
   "execution_count": 914,
   "id": "ca67207f",
   "metadata": {},
   "outputs": [],
   "source": [
    "mvp_se=['Sweden','Sweden ',]\n",
    "clean_reduced_df=clean_reduced_df.replace(mvp_se, \"Sweden\")"
   ]
  },
  {
   "cell_type": "code",
   "execution_count": 915,
   "id": "0a28be3f",
   "metadata": {},
   "outputs": [],
   "source": [
    "mvp_mx=['Mexico ','Mexico','México',]\n",
    "clean_reduced_df=clean_reduced_df.replace(mvp_mx, \"Mexico\")"
   ]
  },
  {
   "cell_type": "code",
   "execution_count": 916,
   "id": "09689a38",
   "metadata": {},
   "outputs": [],
   "source": [
    "mvp_bra=['Brazil','Brazil ','Brasil',]\n",
    "clean_reduced_df=clean_reduced_df.replace(mvp_bra, \"Brazil\")"
   ]
  },
  {
   "cell_type": "code",
   "execution_count": 917,
   "id": "e9f031b8",
   "metadata": {},
   "outputs": [],
   "source": [
    "mvp_lux=['Luxembourg','Luxemburg',]\n",
    "clean_reduced_df=clean_reduced_df.replace(mvp_lux, \"Luxemburg\")"
   ]
  },
  {
   "cell_type": "code",
   "execution_count": 918,
   "id": "3e0747c3",
   "metadata": {},
   "outputs": [],
   "source": [
    "mvp_lk=['Sri lanka','Sri Lanka',]\n",
    "clean_reduced_df=clean_reduced_df.replace(mvp_lk, \"Sri Lanka\")"
   ]
  },
  {
   "cell_type": "code",
   "execution_count": 919,
   "id": "419c63c9",
   "metadata": {},
   "outputs": [],
   "source": [
    "mvp_fi=['Finland',]\n",
    "clean_reduced_df=clean_reduced_df.replace(mvp_fi, \"Finland\")"
   ]
  },
  {
   "cell_type": "code",
   "execution_count": 920,
   "id": "d296e3ac",
   "metadata": {},
   "outputs": [],
   "source": [
    "mvp_ita=['Italy (South)','Italy',]\n",
    "clean_reduced_df=clean_reduced_df.replace(mvp_ita, \"Italy\")"
   ]
  },
  {
   "cell_type": "code",
   "execution_count": 921,
   "id": "a2a232d1",
   "metadata": {},
   "outputs": [],
   "source": [
    "mvp_pak=['Pakistan','pakistan',]\n",
    "clean_reduced_df=clean_reduced_df.replace(mvp_pak, \"Pakistan\")"
   ]
  },
  {
   "cell_type": "code",
   "execution_count": 922,
   "id": "97d2c575",
   "metadata": {},
   "outputs": [],
   "source": [
    "mvp_kr=['South Korea','South Korea ',]\n",
    "clean_reduced_df=clean_reduced_df.replace(mvp_kr, \"South Korea\")"
   ]
  },
  {
   "cell_type": "code",
   "execution_count": 923,
   "id": "1792a603",
   "metadata": {},
   "outputs": [],
   "source": [
    "mvp_bd=['Bangladesh ','Bangladesh',]\n",
    "clean_reduced_df=clean_reduced_df.replace(mvp_bd, \"Bangladesh\")"
   ]
  },
  {
   "cell_type": "code",
   "execution_count": 924,
   "id": "ceb6f370",
   "metadata": {},
   "outputs": [],
   "source": [
    "mvp_ph=['philippines',]\n",
    "clean_reduced_df=clean_reduced_df.replace(mvp_ph, \"Philippines\")"
   ]
  },
  {
   "cell_type": "code",
   "execution_count": 925,
   "id": "7ffc962a",
   "metadata": {},
   "outputs": [],
   "source": [
    "mvp_civ=[\"Cote d'Ivoire\",]\n",
    "clean_reduced_df=clean_reduced_df.replace(mvp_civ, \"Ivory Coast\")"
   ]
  },
  {
   "cell_type": "code",
   "execution_count": 926,
   "id": "6582fdb6",
   "metadata": {},
   "outputs": [],
   "source": [
    "mvp_bel=['Belgium ',]\n",
    "clean_reduced_df=clean_reduced_df.replace(mvp_bel, \"Belgium\")"
   ]
  },
  {
   "cell_type": "code",
   "execution_count": 927,
   "id": "c449e94a",
   "metadata": {},
   "outputs": [],
   "source": [
    "mvp_bhs=['The Bahamas ',]\n",
    "clean_reduced_df=clean_reduced_df.replace(mvp_bhs, \"The Bahamas\")"
   ]
  },
  {
   "cell_type": "code",
   "execution_count": 928,
   "id": "bb229247",
   "metadata": {},
   "outputs": [],
   "source": [
    "mvp_no=['Norway ',]\n",
    "clean_reduced_df=clean_reduced_df.replace(mvp_no, \"Norway\")"
   ]
  },
  {
   "cell_type": "code",
   "execution_count": 929,
   "id": "da2a4741-269e-4007-9e14-dd51f58861d5",
   "metadata": {},
   "outputs": [],
   "source": [
    "mvp_my=['Malaysia ',]\n",
    "clean_reduced_df=clean_reduced_df.replace(mvp_my, \"Malaysia\")"
   ]
  },
  {
   "cell_type": "code",
   "execution_count": 930,
   "id": "09e3e11c-5032-4e3a-9f3c-d363816e6afe",
   "metadata": {},
   "outputs": [],
   "source": [
    "mvp_ru=['Russia ',]\n",
    "clean_reduced_df=clean_reduced_df.replace(mvp_ru, \"Russia\")"
   ]
  },
  {
   "cell_type": "code",
   "execution_count": 931,
   "id": "cc285b12",
   "metadata": {},
   "outputs": [],
   "source": [
    "mvp_pt=['Portugal ',]\n",
    "clean_reduced_df=clean_reduced_df.replace(mvp_pt, \"Portugal\")"
   ]
  },
  {
   "cell_type": "code",
   "execution_count": 932,
   "id": "5c200c84",
   "metadata": {},
   "outputs": [],
   "source": [
    "mvp_pl=['Poland ',]\n",
    "clean_reduced_df=clean_reduced_df.replace(mvp_pl, \"Poland\")"
   ]
  },
  {
   "cell_type": "code",
   "execution_count": 933,
   "id": "aebd75e9",
   "metadata": {},
   "outputs": [],
   "source": [
    "mvp_pa=['Panamá',]\n",
    "clean_reduced_df=clean_reduced_df.replace(mvp_pa, \"Panama\")"
   ]
  },
  {
   "cell_type": "code",
   "execution_count": 934,
   "id": "8c659fe6-7e52-4646-bfba-699a23a513ac",
   "metadata": {},
   "outputs": [
    {
     "data": {
      "text/plain": [
       "array(['U.S.', 'U.K.', 'Canada', 'Netherlands', 'Australia', 'Spain',\n",
       "       'finland', 'France', 'Germany', 'Ireland', 'India', 'Argentina',\n",
       "       'Denmark', 'Switzerland', 'Bermuda', 'Malaysia', 'Mexico',\n",
       "       'South Africa', 'Belgium', 'Sweden', 'Hong Kong', 'Kuwait',\n",
       "       'Norway', 'Sri Lanka', 'Other', 'Greece', 'Japan', 'Austria',\n",
       "       'Brazil', 'Hungary', 'Luxemburg', 'Colombia', 'New_Zealand',\n",
       "       'Trinidad and Tobago', 'Cayman Islands', 'Ukraine',\n",
       "       'Czech Republic', 'Latvia', 'Finland', 'Puerto Rico', 'Rwanda',\n",
       "       'UAE', 'Bangladesh', 'Romania', 'Serbia', 'Philippines', 'Russia',\n",
       "       'Poland', 'Turkey', 'Italy', 'China', 'Afghanistan', 'Israel',\n",
       "       'Taiwan', 'Cambodia', 'Vietnam', 'Singapore', 'South Korea',\n",
       "       'Thailand', 'Lithuania', 'Eritrea', 'Indonesia', 'Switzerland ',\n",
       "       'Cuba', 'Slovenia', 'Ivory Coast', 'Somalia', 'Slovakia',\n",
       "       'Portugal', 'Sierra Leone', 'The Bahamas', 'Costa Rica', 'Chile',\n",
       "       'Qatar', 'Nigeria', 'Panama', 'SWITZERLAND', 'Congo', 'Uruguay',\n",
       "       'Pakistan', 'Uganda', 'Malta', 'Saudi Arabia', 'Bulgaria',\n",
       "       'Estonia', 'Morocco', 'Ecuador', 'Zimbabwe', 'Ghana', 'Croatia',\n",
       "       'switzerland', 'Jamaica', 'Kenya', 'Jordan', 'na', 'Cyprus',\n",
       "       'Liechtenstein', 'Bosnia and Herzegovina', 'NIGERIA', 'Nigeria ',\n",
       "       'Myanmar', nan], dtype=object)"
      ]
     },
     "execution_count": 934,
     "metadata": {},
     "output_type": "execute_result"
    }
   ],
   "source": [
    "clean_reduced_df[\"Country_of_work\"].unique()"
   ]
  },
  {
   "cell_type": "code",
   "execution_count": 935,
   "id": "1f37a812-0c6d-4eaa-8891-e1f42613eadd",
   "metadata": {},
   "outputs": [
    {
     "data": {
      "text/plain": [
       "array(['Woman', 'Non-binary', 'Man', nan, 'Other or prefer not to answer',\n",
       "       'Prefer not to answer'], dtype=object)"
      ]
     },
     "execution_count": 935,
     "metadata": {},
     "output_type": "execute_result"
    }
   ],
   "source": [
    "clean_reduced_df[\"Gender\"].unique()"
   ]
  },
  {
   "cell_type": "code",
   "execution_count": 936,
   "id": "2525d486-64ba-4f11-a1d2-5553c3de9956",
   "metadata": {},
   "outputs": [],
   "source": [
    "mvp_male=['Man']\n",
    "clean_reduced_df=clean_reduced_df.replace(mvp_male, \"Male\")\n",
    "mvp_female=['Woman',]\n",
    "clean_reduced_df=clean_reduced_df.replace(mvp_female, \"Female\")\n",
    "mvp_other=['Other or prefer not to answer','Prefer not to answer']\n",
    "clean_reduced_df=clean_reduced_df.replace(mvp_other, \"Other or prefer not to answer\")\n",
    "mvp_non_binary=['Non-binary']\n",
    "clean_reduced_df=clean_reduced_df.replace(mvp_non_binary, \"Non-binary\")"
   ]
  },
  {
   "cell_type": "code",
   "execution_count": 937,
   "id": "da860a74-d2a3-4c47-8d2f-4b1b0d818267",
   "metadata": {},
   "outputs": [
    {
     "data": {
      "text/plain": [
       "array(['Female', 'Non-binary', 'Male', nan,\n",
       "       'Other or prefer not to answer'], dtype=object)"
      ]
     },
     "execution_count": 937,
     "metadata": {},
     "output_type": "execute_result"
    }
   ],
   "source": [
    "clean_reduced_df[\"Gender\"].unique()"
   ]
  },
  {
   "cell_type": "code",
   "execution_count": 938,
   "id": "4ea093e7-63a1-4fbb-9fea-986f953fd16c",
   "metadata": {},
   "outputs": [],
   "source": [
    "# Creating a list of malformed data and replacing it with Null\n",
    "mvp=[\"...\",\"N/A\",\"Na \",\"-\",\"NA\",\"None\",\"na\",\"N/a\",\"ekignkfb\",\"rice\",\"ff\",\"nan\"]\n",
    "clean_reduced_df=clean_reduced_df.replace(mvp, \"nan\")"
   ]
  },
  {
   "cell_type": "code",
   "execution_count": 939,
   "id": "de7fd57e-de96-442d-824f-4615d5640739",
   "metadata": {},
   "outputs": [
    {
     "data": {
      "text/plain": [
       "array(['Education (Higher Education)', 'Computing or Tech',\n",
       "       'Accounting, Banking & Finance', ..., 'Student ', 'Wine & Spirits',\n",
       "       'Social networks'], dtype=object)"
      ]
     },
     "execution_count": 939,
     "metadata": {},
     "output_type": "execute_result"
    }
   ],
   "source": [
    "clean_reduced_df[\"Industry\"].unique()"
   ]
  },
  {
   "cell_type": "code",
   "execution_count": 940,
   "id": "b3ecb8b5-abc2-4903-95a7-d4fd98f12000",
   "metadata": {},
   "outputs": [
    {
     "data": {
      "text/plain": [
       "array(['Female', 'Non-binary', 'Male', nan,\n",
       "       'Other or prefer not to answer'], dtype=object)"
      ]
     },
     "execution_count": 940,
     "metadata": {},
     "output_type": "execute_result"
    }
   ],
   "source": [
    "clean_reduced_df[\"Gender\"].unique()"
   ]
  },
  {
   "cell_type": "code",
   "execution_count": 1079,
   "id": "0605343c-24de-479c-a7ae-0b6a580c39f8",
   "metadata": {},
   "outputs": [],
   "source": [
    "mvp_salary=[\"11 - 20 years\"]\n",
    "clean_reduced_df=clean_reduced_df.replace(mvp_salary, \"0\")"
   ]
  },
  {
   "cell_type": "code",
   "execution_count": 1081,
   "id": "08043c5e-58a4-4bf5-9424-b05de7489382",
   "metadata": {},
   "outputs": [
    {
     "data": {
      "text/plain": [
       "array([       nan, 5.8000e+01, 3.5000e+01, ..., 7.0000e+03, 3.7741e+04,\n",
       "       5.3060e+04])"
      ]
     },
     "execution_count": 1081,
     "metadata": {},
     "output_type": "execute_result"
    }
   ],
   "source": [
    "clean_reduced_df[\"Annual_salary\"].unique()"
   ]
  },
  {
   "cell_type": "code",
   "execution_count": 1083,
   "id": "34e5e66d-7dde-426a-95d8-fa6a0091a803",
   "metadata": {},
   "outputs": [],
   "source": [
    "# removing commas from the observation and converting to numeric values just from the Salary observation\n",
    "clean_reduced_df[\"Annual_salary\"] = clean_reduced_df[\"Annual_salary\"].replace(\",\", \"\")"
   ]
  },
  {
   "cell_type": "code",
   "execution_count": 1085,
   "id": "9af12edc-7864-4275-8971-b120083a14c3",
   "metadata": {},
   "outputs": [
    {
     "data": {
      "text/plain": [
       "dtype('float64')"
      ]
     },
     "execution_count": 1085,
     "metadata": {},
     "output_type": "execute_result"
    }
   ],
   "source": [
    "clean_reduced_df[\"Annual_salary\"].dtypes"
   ]
  },
  {
   "cell_type": "code",
   "execution_count": 1087,
   "id": "65d22f53-e30c-4d01-9b35-f6f77135d505",
   "metadata": {},
   "outputs": [
    {
     "data": {
      "text/html": [
       "<div>\n",
       "<style scoped>\n",
       "    .dataframe tbody tr th:only-of-type {\n",
       "        vertical-align: middle;\n",
       "    }\n",
       "\n",
       "    .dataframe tbody tr th {\n",
       "        vertical-align: top;\n",
       "    }\n",
       "\n",
       "    .dataframe thead th {\n",
       "        text-align: right;\n",
       "    }\n",
       "</style>\n",
       "<table border=\"1\" class=\"dataframe\">\n",
       "  <thead>\n",
       "    <tr style=\"text-align: right;\">\n",
       "      <th></th>\n",
       "      <th>Age</th>\n",
       "      <th>Industry</th>\n",
       "      <th>Job_title</th>\n",
       "      <th>Annual_salary</th>\n",
       "      <th>Currency</th>\n",
       "      <th>Country_of_work</th>\n",
       "      <th>Years_of_experience</th>\n",
       "      <th>Years_of_experience_in_your_field</th>\n",
       "      <th>Level_of_education</th>\n",
       "      <th>Gender</th>\n",
       "    </tr>\n",
       "  </thead>\n",
       "  <tbody>\n",
       "    <tr>\n",
       "      <th>0</th>\n",
       "      <td>25-34</td>\n",
       "      <td>Education (Higher Education)</td>\n",
       "      <td>Research and Instruction Librarian</td>\n",
       "      <td>NaN</td>\n",
       "      <td>U.S.</td>\n",
       "      <td>U.S.</td>\n",
       "      <td>5-7 years</td>\n",
       "      <td>5-7 years</td>\n",
       "      <td>Master's degree</td>\n",
       "      <td>Female</td>\n",
       "    </tr>\n",
       "    <tr>\n",
       "      <th>1</th>\n",
       "      <td>25-34</td>\n",
       "      <td>Computing or Tech</td>\n",
       "      <td>Change &amp; Internal Communications Manager</td>\n",
       "      <td>NaN</td>\n",
       "      <td>GBP</td>\n",
       "      <td>U.K.</td>\n",
       "      <td>8 - 10 years</td>\n",
       "      <td>5-7 years</td>\n",
       "      <td>College degree</td>\n",
       "      <td>Non-binary</td>\n",
       "    </tr>\n",
       "    <tr>\n",
       "      <th>2</th>\n",
       "      <td>25-34</td>\n",
       "      <td>Accounting, Banking &amp; Finance</td>\n",
       "      <td>Marketing Specialist</td>\n",
       "      <td>NaN</td>\n",
       "      <td>U.S.</td>\n",
       "      <td>U.S.</td>\n",
       "      <td>2 - 4 years</td>\n",
       "      <td>2 - 4 years</td>\n",
       "      <td>College degree</td>\n",
       "      <td>Female</td>\n",
       "    </tr>\n",
       "    <tr>\n",
       "      <th>3</th>\n",
       "      <td>25-34</td>\n",
       "      <td>Nonprofits</td>\n",
       "      <td>Program Manager</td>\n",
       "      <td>NaN</td>\n",
       "      <td>U.S.</td>\n",
       "      <td>U.S.</td>\n",
       "      <td>8 - 10 years</td>\n",
       "      <td>5-7 years</td>\n",
       "      <td>College degree</td>\n",
       "      <td>Female</td>\n",
       "    </tr>\n",
       "    <tr>\n",
       "      <th>4</th>\n",
       "      <td>25-34</td>\n",
       "      <td>Accounting, Banking &amp; Finance</td>\n",
       "      <td>Accounting Manager</td>\n",
       "      <td>NaN</td>\n",
       "      <td>U.S.</td>\n",
       "      <td>U.S.</td>\n",
       "      <td>8 - 10 years</td>\n",
       "      <td>5-7 years</td>\n",
       "      <td>College degree</td>\n",
       "      <td>Female</td>\n",
       "    </tr>\n",
       "  </tbody>\n",
       "</table>\n",
       "</div>"
      ],
      "text/plain": [
       "     Age                       Industry  \\\n",
       "0  25-34   Education (Higher Education)   \n",
       "1  25-34              Computing or Tech   \n",
       "2  25-34  Accounting, Banking & Finance   \n",
       "3  25-34                     Nonprofits   \n",
       "4  25-34  Accounting, Banking & Finance   \n",
       "\n",
       "                                  Job_title  Annual_salary Currency  \\\n",
       "0        Research and Instruction Librarian            NaN     U.S.   \n",
       "1  Change & Internal Communications Manager            NaN      GBP   \n",
       "2                      Marketing Specialist            NaN     U.S.   \n",
       "3                           Program Manager            NaN     U.S.   \n",
       "4                        Accounting Manager            NaN     U.S.   \n",
       "\n",
       "  Country_of_work Years_of_experience Years_of_experience_in_your_field  \\\n",
       "0            U.S.           5-7 years                         5-7 years   \n",
       "1            U.K.        8 - 10 years                         5-7 years   \n",
       "2            U.S.         2 - 4 years                       2 - 4 years   \n",
       "3            U.S.        8 - 10 years                         5-7 years   \n",
       "4            U.S.        8 - 10 years                         5-7 years   \n",
       "\n",
       "  Level_of_education      Gender  \n",
       "0    Master's degree      Female  \n",
       "1     College degree  Non-binary  \n",
       "2     College degree      Female  \n",
       "3     College degree      Female  \n",
       "4     College degree      Female  "
      ]
     },
     "execution_count": 1087,
     "metadata": {},
     "output_type": "execute_result"
    }
   ],
   "source": [
    "clean_reduced_df.head()"
   ]
  },
  {
   "cell_type": "code",
   "execution_count": 1089,
   "id": "1e14ffd3-f8bf-4ad0-a610-ca3ba772ec6c",
   "metadata": {},
   "outputs": [
    {
     "data": {
      "text/plain": [
       "array(['U.S.', 'GBP', 'CAD', 'EUR', 'AUD/NZD', 'Other', 'CHF', 'ZAR',\n",
       "       'SEK', 'HKD', 'JPY', nan], dtype=object)"
      ]
     },
     "execution_count": 1089,
     "metadata": {},
     "output_type": "execute_result"
    }
   ],
   "source": [
    "clean_reduced_df[\"Currency\"].unique()"
   ]
  },
  {
   "cell_type": "code",
   "execution_count": 941,
   "id": "c9788e1e-1c72-446f-8e7a-4a20b96d7bcb",
   "metadata": {},
   "outputs": [],
   "source": [
    "no_nas_df = clean_reduced_df.fillna(0)"
   ]
  },
  {
   "cell_type": "code",
   "execution_count": 942,
   "id": "5a655d7a-d727-4cd8-919d-a6885467b90d",
   "metadata": {},
   "outputs": [
    {
     "data": {
      "text/html": [
       "<div>\n",
       "<style scoped>\n",
       "    .dataframe tbody tr th:only-of-type {\n",
       "        vertical-align: middle;\n",
       "    }\n",
       "\n",
       "    .dataframe tbody tr th {\n",
       "        vertical-align: top;\n",
       "    }\n",
       "\n",
       "    .dataframe thead th {\n",
       "        text-align: right;\n",
       "    }\n",
       "</style>\n",
       "<table border=\"1\" class=\"dataframe\">\n",
       "  <thead>\n",
       "    <tr style=\"text-align: right;\">\n",
       "      <th></th>\n",
       "      <th>Age</th>\n",
       "      <th>Industry</th>\n",
       "      <th>Job_title</th>\n",
       "      <th>Annual_salary</th>\n",
       "      <th>Currency</th>\n",
       "      <th>Country_of_work</th>\n",
       "      <th>Years_of_experience</th>\n",
       "      <th>Years_of_experience_in_your_field</th>\n",
       "      <th>Level_of_education</th>\n",
       "      <th>Gender</th>\n",
       "    </tr>\n",
       "  </thead>\n",
       "  <tbody>\n",
       "    <tr>\n",
       "      <th>0</th>\n",
       "      <td>25-34</td>\n",
       "      <td>Education (Higher Education)</td>\n",
       "      <td>Research and Instruction Librarian</td>\n",
       "      <td>55,000</td>\n",
       "      <td>U.S.</td>\n",
       "      <td>U.S.</td>\n",
       "      <td>5-7 years</td>\n",
       "      <td>5-7 years</td>\n",
       "      <td>Master's degree</td>\n",
       "      <td>Female</td>\n",
       "    </tr>\n",
       "    <tr>\n",
       "      <th>1</th>\n",
       "      <td>25-34</td>\n",
       "      <td>Computing or Tech</td>\n",
       "      <td>Change &amp; Internal Communications Manager</td>\n",
       "      <td>54,600</td>\n",
       "      <td>GBP</td>\n",
       "      <td>U.K.</td>\n",
       "      <td>8 - 10 years</td>\n",
       "      <td>5-7 years</td>\n",
       "      <td>College degree</td>\n",
       "      <td>Non-binary</td>\n",
       "    </tr>\n",
       "    <tr>\n",
       "      <th>2</th>\n",
       "      <td>25-34</td>\n",
       "      <td>Accounting, Banking &amp; Finance</td>\n",
       "      <td>Marketing Specialist</td>\n",
       "      <td>34,000</td>\n",
       "      <td>U.S.</td>\n",
       "      <td>U.S.</td>\n",
       "      <td>2 - 4 years</td>\n",
       "      <td>2 - 4 years</td>\n",
       "      <td>College degree</td>\n",
       "      <td>Female</td>\n",
       "    </tr>\n",
       "    <tr>\n",
       "      <th>3</th>\n",
       "      <td>25-34</td>\n",
       "      <td>Nonprofits</td>\n",
       "      <td>Program Manager</td>\n",
       "      <td>62,000</td>\n",
       "      <td>U.S.</td>\n",
       "      <td>U.S.</td>\n",
       "      <td>8 - 10 years</td>\n",
       "      <td>5-7 years</td>\n",
       "      <td>College degree</td>\n",
       "      <td>Female</td>\n",
       "    </tr>\n",
       "    <tr>\n",
       "      <th>4</th>\n",
       "      <td>25-34</td>\n",
       "      <td>Accounting, Banking &amp; Finance</td>\n",
       "      <td>Accounting Manager</td>\n",
       "      <td>60,000</td>\n",
       "      <td>U.S.</td>\n",
       "      <td>U.S.</td>\n",
       "      <td>8 - 10 years</td>\n",
       "      <td>5-7 years</td>\n",
       "      <td>College degree</td>\n",
       "      <td>Female</td>\n",
       "    </tr>\n",
       "  </tbody>\n",
       "</table>\n",
       "</div>"
      ],
      "text/plain": [
       "     Age                       Industry  \\\n",
       "0  25-34   Education (Higher Education)   \n",
       "1  25-34              Computing or Tech   \n",
       "2  25-34  Accounting, Banking & Finance   \n",
       "3  25-34                     Nonprofits   \n",
       "4  25-34  Accounting, Banking & Finance   \n",
       "\n",
       "                                  Job_title Annual_salary Currency  \\\n",
       "0        Research and Instruction Librarian        55,000     U.S.   \n",
       "1  Change & Internal Communications Manager        54,600      GBP   \n",
       "2                      Marketing Specialist        34,000     U.S.   \n",
       "3                           Program Manager        62,000     U.S.   \n",
       "4                        Accounting Manager        60,000     U.S.   \n",
       "\n",
       "  Country_of_work Years_of_experience Years_of_experience_in_your_field  \\\n",
       "0            U.S.           5-7 years                         5-7 years   \n",
       "1            U.K.        8 - 10 years                         5-7 years   \n",
       "2            U.S.         2 - 4 years                       2 - 4 years   \n",
       "3            U.S.        8 - 10 years                         5-7 years   \n",
       "4            U.S.        8 - 10 years                         5-7 years   \n",
       "\n",
       "  Level_of_education      Gender  \n",
       "0    Master's degree      Female  \n",
       "1     College degree  Non-binary  \n",
       "2     College degree      Female  \n",
       "3     College degree      Female  \n",
       "4     College degree      Female  "
      ]
     },
     "execution_count": 942,
     "metadata": {},
     "output_type": "execute_result"
    }
   ],
   "source": [
    "no_nas_df.head()"
   ]
  },
  {
   "cell_type": "code",
   "execution_count": 943,
   "id": "37176652-6e99-491c-9152-5d83b03251e7",
   "metadata": {},
   "outputs": [
    {
     "data": {
      "text/plain": [
       "Age                                  object\n",
       "Industry                             object\n",
       "Job_title                            object\n",
       "Annual_salary                        object\n",
       "Currency                             object\n",
       "Country_of_work                      object\n",
       "Years_of_experience                  object\n",
       "Years_of_experience_in_your_field    object\n",
       "Level_of_education                   object\n",
       "Gender                               object\n",
       "dtype: object"
      ]
     },
     "execution_count": 943,
     "metadata": {},
     "output_type": "execute_result"
    }
   ],
   "source": [
    "no_nas_df.dtypes"
   ]
  },
  {
   "cell_type": "code",
   "execution_count": 944,
   "id": "0c960e57-ffac-4bc7-924d-c32eab065af3",
   "metadata": {},
   "outputs": [],
   "source": [
    "# FIRST YOU HAVE TO GET RID OF COMMAS"
   ]
  },
  {
   "cell_type": "code",
   "execution_count": 945,
   "id": "57766cf4-b094-4181-91fc-393f80c89880",
   "metadata": {},
   "outputs": [],
   "source": [
    "# no_nas_df[\"Annual_salary\"].astype(str).astype(float)"
   ]
  },
  {
   "cell_type": "code",
   "execution_count": 946,
   "id": "5e7b6a0f-55df-4d0f-b4d2-0725ccba6a3c",
   "metadata": {},
   "outputs": [
    {
     "data": {
      "text/plain": [
       "Age                                  object\n",
       "Industry                             object\n",
       "Job_title                            object\n",
       "Annual_salary                        object\n",
       "Currency                             object\n",
       "Country_of_work                      object\n",
       "Years_of_experience                  object\n",
       "Years_of_experience_in_your_field    object\n",
       "Level_of_education                   object\n",
       "Gender                               object\n",
       "dtype: object"
      ]
     },
     "execution_count": 946,
     "metadata": {},
     "output_type": "execute_result"
    }
   ],
   "source": [
    "no_nas_df.dtypes"
   ]
  },
  {
   "cell_type": "code",
   "execution_count": 1049,
   "id": "fef90e8d-9eec-44a6-a51f-bdaa5c2db4ad",
   "metadata": {},
   "outputs": [],
   "source": [
    "# Changing the observation to numerical, errors='coerce' changes non numeric values to nan\n",
    "#clean_reduced_df[\"Annual_salary\"] = pd.to_numeric(clean_reduced_df[\"Annual_salary\"], errors='coerce')"
   ]
  },
  {
   "cell_type": "code",
   "execution_count": 1051,
   "id": "ecaadfec-2191-45d7-aed5-08bfe37ea397",
   "metadata": {},
   "outputs": [],
   "source": [
    "# clean_reduced_df[\"Annual_salary\"].dtypes"
   ]
  },
  {
   "cell_type": "code",
   "execution_count": 1053,
   "id": "6c088fdf-0ab5-4f77-a77f-6e09342f804c",
   "metadata": {},
   "outputs": [
    {
     "data": {
      "text/plain": [
       "dtype('float64')"
      ]
     },
     "execution_count": 1053,
     "metadata": {},
     "output_type": "execute_result"
    }
   ],
   "source": [
    "clean_reduced_df[\"Annual_salary\"].dtypes"
   ]
  },
  {
   "cell_type": "code",
   "execution_count": 1065,
   "id": "642ea128-57dc-4e21-b0ac-db6e80546233",
   "metadata": {},
   "outputs": [],
   "source": [
    "# removing commas from the observation and converting to numeric values just from the Salary observation\n",
    "clean_reduced_df[\"Annual_salary\"] = clean_reduced_df[\"Annual_salary\"].replace(\",\", \"\")"
   ]
  },
  {
   "cell_type": "code",
   "execution_count": 1057,
   "id": "1393c168-92d4-4bca-b4ef-62f8111fc98a",
   "metadata": {},
   "outputs": [
    {
     "data": {
      "text/plain": [
       "dtype('float64')"
      ]
     },
     "execution_count": 1057,
     "metadata": {},
     "output_type": "execute_result"
    }
   ],
   "source": [
    "clean_reduced_df[\"Annual_salary\"].dtypes"
   ]
  },
  {
   "cell_type": "code",
   "execution_count": 1061,
   "id": "780df58a-1210-48da-be95-62f048a7e4a9",
   "metadata": {},
   "outputs": [
    {
     "data": {
      "text/html": [
       "<div>\n",
       "<style scoped>\n",
       "    .dataframe tbody tr th:only-of-type {\n",
       "        vertical-align: middle;\n",
       "    }\n",
       "\n",
       "    .dataframe tbody tr th {\n",
       "        vertical-align: top;\n",
       "    }\n",
       "\n",
       "    .dataframe thead th {\n",
       "        text-align: right;\n",
       "    }\n",
       "</style>\n",
       "<table border=\"1\" class=\"dataframe\">\n",
       "  <thead>\n",
       "    <tr style=\"text-align: right;\">\n",
       "      <th></th>\n",
       "      <th>Age</th>\n",
       "      <th>Industry</th>\n",
       "      <th>Job_title</th>\n",
       "      <th>Annual_salary</th>\n",
       "      <th>Currency</th>\n",
       "      <th>Country_of_work</th>\n",
       "      <th>Years_of_experience</th>\n",
       "      <th>Years_of_experience_in_your_field</th>\n",
       "      <th>Level_of_education</th>\n",
       "      <th>Gender</th>\n",
       "    </tr>\n",
       "  </thead>\n",
       "  <tbody>\n",
       "    <tr>\n",
       "      <th>0</th>\n",
       "      <td>25-34</td>\n",
       "      <td>Education (Higher Education)</td>\n",
       "      <td>Research and Instruction Librarian</td>\n",
       "      <td>55,000</td>\n",
       "      <td>U.S.</td>\n",
       "      <td>U.S.</td>\n",
       "      <td>5-7 years</td>\n",
       "      <td>5-7 years</td>\n",
       "      <td>Master's degree</td>\n",
       "      <td>Female</td>\n",
       "    </tr>\n",
       "    <tr>\n",
       "      <th>1</th>\n",
       "      <td>25-34</td>\n",
       "      <td>Computing or Tech</td>\n",
       "      <td>Change &amp; Internal Communications Manager</td>\n",
       "      <td>54,600</td>\n",
       "      <td>GBP</td>\n",
       "      <td>U.K.</td>\n",
       "      <td>8 - 10 years</td>\n",
       "      <td>5-7 years</td>\n",
       "      <td>College degree</td>\n",
       "      <td>Non-binary</td>\n",
       "    </tr>\n",
       "    <tr>\n",
       "      <th>2</th>\n",
       "      <td>25-34</td>\n",
       "      <td>Accounting, Banking &amp; Finance</td>\n",
       "      <td>Marketing Specialist</td>\n",
       "      <td>34,000</td>\n",
       "      <td>U.S.</td>\n",
       "      <td>U.S.</td>\n",
       "      <td>2 - 4 years</td>\n",
       "      <td>2 - 4 years</td>\n",
       "      <td>College degree</td>\n",
       "      <td>Female</td>\n",
       "    </tr>\n",
       "    <tr>\n",
       "      <th>3</th>\n",
       "      <td>25-34</td>\n",
       "      <td>Nonprofits</td>\n",
       "      <td>Program Manager</td>\n",
       "      <td>62,000</td>\n",
       "      <td>U.S.</td>\n",
       "      <td>U.S.</td>\n",
       "      <td>8 - 10 years</td>\n",
       "      <td>5-7 years</td>\n",
       "      <td>College degree</td>\n",
       "      <td>Female</td>\n",
       "    </tr>\n",
       "    <tr>\n",
       "      <th>4</th>\n",
       "      <td>25-34</td>\n",
       "      <td>Accounting, Banking &amp; Finance</td>\n",
       "      <td>Accounting Manager</td>\n",
       "      <td>60,000</td>\n",
       "      <td>U.S.</td>\n",
       "      <td>U.S.</td>\n",
       "      <td>8 - 10 years</td>\n",
       "      <td>5-7 years</td>\n",
       "      <td>College degree</td>\n",
       "      <td>Female</td>\n",
       "    </tr>\n",
       "  </tbody>\n",
       "</table>\n",
       "</div>"
      ],
      "text/plain": [
       "     Age                       Industry  \\\n",
       "0  25-34   Education (Higher Education)   \n",
       "1  25-34              Computing or Tech   \n",
       "2  25-34  Accounting, Banking & Finance   \n",
       "3  25-34                     Nonprofits   \n",
       "4  25-34  Accounting, Banking & Finance   \n",
       "\n",
       "                                  Job_title Annual_salary Currency  \\\n",
       "0        Research and Instruction Librarian        55,000     U.S.   \n",
       "1  Change & Internal Communications Manager        54,600      GBP   \n",
       "2                      Marketing Specialist        34,000     U.S.   \n",
       "3                           Program Manager        62,000     U.S.   \n",
       "4                        Accounting Manager        60,000     U.S.   \n",
       "\n",
       "  Country_of_work Years_of_experience Years_of_experience_in_your_field  \\\n",
       "0            U.S.           5-7 years                         5-7 years   \n",
       "1            U.K.        8 - 10 years                         5-7 years   \n",
       "2            U.S.         2 - 4 years                       2 - 4 years   \n",
       "3            U.S.        8 - 10 years                         5-7 years   \n",
       "4            U.S.        8 - 10 years                         5-7 years   \n",
       "\n",
       "  Level_of_education      Gender  \n",
       "0    Master's degree      Female  \n",
       "1     College degree  Non-binary  \n",
       "2     College degree      Female  \n",
       "3     College degree      Female  \n",
       "4     College degree      Female  "
      ]
     },
     "execution_count": 1061,
     "metadata": {},
     "output_type": "execute_result"
    }
   ],
   "source": [
    "no_nas_df.head()"
   ]
  },
  {
   "cell_type": "code",
   "execution_count": null,
   "id": "8b9924b4-52f5-45f5-949b-ceeaf57e8bd3",
   "metadata": {},
   "outputs": [],
   "source": []
  }
 ],
 "metadata": {
  "kernelspec": {
   "display_name": "Python 3 (ipykernel)",
   "language": "python",
   "name": "python3"
  },
  "language_info": {
   "codemirror_mode": {
    "name": "ipython",
    "version": 3
   },
   "file_extension": ".py",
   "mimetype": "text/x-python",
   "name": "python",
   "nbconvert_exporter": "python",
   "pygments_lexer": "ipython3",
   "version": "3.12.4"
  }
 },
 "nbformat": 4,
 "nbformat_minor": 5
}
